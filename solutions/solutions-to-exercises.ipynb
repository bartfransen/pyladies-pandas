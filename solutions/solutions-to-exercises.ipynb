{
 "cells": [
  {
   "cell_type": "markdown",
   "metadata": {},
   "source": [
    "# Solutions to Exercises\n",
    "\n",
    "For each exercise, the solutions below show one possible way of solving it, but you might have used a different approach, and that's great! There is almost always more than one way to solve any particular problem in Python.\n",
    "\n",
    "**Note**: Since this notebook is in the `solutions` sub-folder, the file paths are slightly different than the lessons notebooks which are in the main project folder&mdash;here we have `'../data/some_file.csv'` instead of `'data/some_file.csv'`.\n",
    "\n",
    "## Initial Setup"
   ]
  },
  {
   "cell_type": "code",
   "execution_count": 1,
   "metadata": {},
   "outputs": [],
   "source": [
    "import pandas as pd\n",
    "\n",
    "%matplotlib inline"
   ]
  },
  {
   "cell_type": "markdown",
   "metadata": {
    "slideshow": {
     "slide_type": "slide"
    }
   },
   "source": [
    "---\n",
    "# Exercise 1.1 \n",
    "\n",
    "Let's explore `'data/weather_airports_24hr_snapshot.csv'`, which contains a 24 hour snapshot of Environment Canada weather measurements at major airport stations around Canada.\n",
    "\n",
    "a) Read the CSV file into a new DataFrame `weather_all` and display the first 10 rows."
   ]
  },
  {
   "cell_type": "code",
   "execution_count": 2,
   "metadata": {},
   "outputs": [
    {
     "data": {
      "text/html": [
       "<div>\n",
       "<style scoped>\n",
       "    .dataframe tbody tr th:only-of-type {\n",
       "        vertical-align: middle;\n",
       "    }\n",
       "\n",
       "    .dataframe tbody tr th {\n",
       "        vertical-align: top;\n",
       "    }\n",
       "\n",
       "    .dataframe thead th {\n",
       "        text-align: right;\n",
       "    }\n",
       "</style>\n",
       "<table border=\"1\" class=\"dataframe\">\n",
       "  <thead>\n",
       "    <tr style=\"text-align: right;\">\n",
       "      <th></th>\n",
       "      <th>Datetime (Local Standard)</th>\n",
       "      <th>Station ID</th>\n",
       "      <th>Station Name</th>\n",
       "      <th>Timezone</th>\n",
       "      <th>Datetime (UTC)</th>\n",
       "      <th>Temp (deg C)</th>\n",
       "      <th>Dew Point Temp (deg C)</th>\n",
       "      <th>Rel Hum (%)</th>\n",
       "      <th>Wind Dir (deg)</th>\n",
       "      <th>Wind Spd (km/h)</th>\n",
       "      <th>Visibility (km)</th>\n",
       "      <th>Pressure (kPa)</th>\n",
       "      <th>Hmdx</th>\n",
       "      <th>Wind Chill</th>\n",
       "      <th>Conditions</th>\n",
       "    </tr>\n",
       "  </thead>\n",
       "  <tbody>\n",
       "    <tr>\n",
       "      <th>0</th>\n",
       "      <td>2018-05-21 17:00:00</td>\n",
       "      <td>YYC</td>\n",
       "      <td>CALGARY</td>\n",
       "      <td>MST</td>\n",
       "      <td>2018-05-22 00:00:00</td>\n",
       "      <td>23.0</td>\n",
       "      <td>2.3</td>\n",
       "      <td>25.0</td>\n",
       "      <td>100.0</td>\n",
       "      <td>13.0</td>\n",
       "      <td>48.3</td>\n",
       "      <td>88.74</td>\n",
       "      <td>NaN</td>\n",
       "      <td>NaN</td>\n",
       "      <td>Mainly Clear</td>\n",
       "    </tr>\n",
       "    <tr>\n",
       "      <th>1</th>\n",
       "      <td>2018-05-21 18:00:00</td>\n",
       "      <td>YYC</td>\n",
       "      <td>CALGARY</td>\n",
       "      <td>MST</td>\n",
       "      <td>2018-05-22 01:00:00</td>\n",
       "      <td>22.7</td>\n",
       "      <td>3.2</td>\n",
       "      <td>27.0</td>\n",
       "      <td>100.0</td>\n",
       "      <td>10.0</td>\n",
       "      <td>48.3</td>\n",
       "      <td>88.75</td>\n",
       "      <td>NaN</td>\n",
       "      <td>NaN</td>\n",
       "      <td>Mainly Clear</td>\n",
       "    </tr>\n",
       "    <tr>\n",
       "      <th>2</th>\n",
       "      <td>2018-05-21 19:00:00</td>\n",
       "      <td>YYC</td>\n",
       "      <td>CALGARY</td>\n",
       "      <td>MST</td>\n",
       "      <td>2018-05-22 02:00:00</td>\n",
       "      <td>19.5</td>\n",
       "      <td>5.2</td>\n",
       "      <td>39.0</td>\n",
       "      <td>80.0</td>\n",
       "      <td>10.0</td>\n",
       "      <td>64.4</td>\n",
       "      <td>88.76</td>\n",
       "      <td>NaN</td>\n",
       "      <td>NaN</td>\n",
       "      <td>Mainly Clear</td>\n",
       "    </tr>\n",
       "    <tr>\n",
       "      <th>3</th>\n",
       "      <td>2018-05-21 20:00:00</td>\n",
       "      <td>YYC</td>\n",
       "      <td>CALGARY</td>\n",
       "      <td>MST</td>\n",
       "      <td>2018-05-22 03:00:00</td>\n",
       "      <td>18.6</td>\n",
       "      <td>4.8</td>\n",
       "      <td>40.0</td>\n",
       "      <td>70.0</td>\n",
       "      <td>12.0</td>\n",
       "      <td>48.3</td>\n",
       "      <td>88.80</td>\n",
       "      <td>NaN</td>\n",
       "      <td>NaN</td>\n",
       "      <td>Mainly Clear</td>\n",
       "    </tr>\n",
       "    <tr>\n",
       "      <th>4</th>\n",
       "      <td>2018-05-21 21:00:00</td>\n",
       "      <td>YYC</td>\n",
       "      <td>CALGARY</td>\n",
       "      <td>MST</td>\n",
       "      <td>2018-05-22 04:00:00</td>\n",
       "      <td>18.4</td>\n",
       "      <td>4.1</td>\n",
       "      <td>39.0</td>\n",
       "      <td>150.0</td>\n",
       "      <td>16.0</td>\n",
       "      <td>48.3</td>\n",
       "      <td>88.86</td>\n",
       "      <td>NaN</td>\n",
       "      <td>NaN</td>\n",
       "      <td>Mainly Clear</td>\n",
       "    </tr>\n",
       "    <tr>\n",
       "      <th>5</th>\n",
       "      <td>2018-05-21 22:00:00</td>\n",
       "      <td>YYC</td>\n",
       "      <td>CALGARY</td>\n",
       "      <td>MST</td>\n",
       "      <td>2018-05-22 05:00:00</td>\n",
       "      <td>15.9</td>\n",
       "      <td>4.2</td>\n",
       "      <td>45.0</td>\n",
       "      <td>90.0</td>\n",
       "      <td>11.0</td>\n",
       "      <td>24.1</td>\n",
       "      <td>88.90</td>\n",
       "      <td>NaN</td>\n",
       "      <td>NaN</td>\n",
       "      <td>Mainly Clear</td>\n",
       "    </tr>\n",
       "    <tr>\n",
       "      <th>6</th>\n",
       "      <td>2018-05-21 23:00:00</td>\n",
       "      <td>YYC</td>\n",
       "      <td>CALGARY</td>\n",
       "      <td>MST</td>\n",
       "      <td>2018-05-22 06:00:00</td>\n",
       "      <td>16.3</td>\n",
       "      <td>4.0</td>\n",
       "      <td>44.0</td>\n",
       "      <td>40.0</td>\n",
       "      <td>5.0</td>\n",
       "      <td>24.1</td>\n",
       "      <td>88.93</td>\n",
       "      <td>NaN</td>\n",
       "      <td>NaN</td>\n",
       "      <td>Clear</td>\n",
       "    </tr>\n",
       "    <tr>\n",
       "      <th>7</th>\n",
       "      <td>2018-05-22 00:00:00</td>\n",
       "      <td>YYC</td>\n",
       "      <td>CALGARY</td>\n",
       "      <td>MST</td>\n",
       "      <td>2018-05-22 07:00:00</td>\n",
       "      <td>13.6</td>\n",
       "      <td>4.9</td>\n",
       "      <td>55.0</td>\n",
       "      <td>340.0</td>\n",
       "      <td>7.0</td>\n",
       "      <td>24.1</td>\n",
       "      <td>88.96</td>\n",
       "      <td>NaN</td>\n",
       "      <td>NaN</td>\n",
       "      <td>Clear</td>\n",
       "    </tr>\n",
       "    <tr>\n",
       "      <th>8</th>\n",
       "      <td>2018-05-22 01:00:00</td>\n",
       "      <td>YYC</td>\n",
       "      <td>CALGARY</td>\n",
       "      <td>MST</td>\n",
       "      <td>2018-05-22 08:00:00</td>\n",
       "      <td>14.8</td>\n",
       "      <td>4.7</td>\n",
       "      <td>50.0</td>\n",
       "      <td>300.0</td>\n",
       "      <td>3.0</td>\n",
       "      <td>24.1</td>\n",
       "      <td>88.99</td>\n",
       "      <td>NaN</td>\n",
       "      <td>NaN</td>\n",
       "      <td>Clear</td>\n",
       "    </tr>\n",
       "    <tr>\n",
       "      <th>9</th>\n",
       "      <td>2018-05-22 02:00:00</td>\n",
       "      <td>YYC</td>\n",
       "      <td>CALGARY</td>\n",
       "      <td>MST</td>\n",
       "      <td>2018-05-22 09:00:00</td>\n",
       "      <td>11.4</td>\n",
       "      <td>5.1</td>\n",
       "      <td>65.0</td>\n",
       "      <td>30.0</td>\n",
       "      <td>7.0</td>\n",
       "      <td>24.1</td>\n",
       "      <td>89.01</td>\n",
       "      <td>NaN</td>\n",
       "      <td>NaN</td>\n",
       "      <td>Mostly Cloudy</td>\n",
       "    </tr>\n",
       "  </tbody>\n",
       "</table>\n",
       "</div>"
      ],
      "text/plain": [
       "  Datetime (Local Standard) Station ID Station Name Timezone  \\\n",
       "0       2018-05-21 17:00:00        YYC      CALGARY      MST   \n",
       "1       2018-05-21 18:00:00        YYC      CALGARY      MST   \n",
       "2       2018-05-21 19:00:00        YYC      CALGARY      MST   \n",
       "3       2018-05-21 20:00:00        YYC      CALGARY      MST   \n",
       "4       2018-05-21 21:00:00        YYC      CALGARY      MST   \n",
       "5       2018-05-21 22:00:00        YYC      CALGARY      MST   \n",
       "6       2018-05-21 23:00:00        YYC      CALGARY      MST   \n",
       "7       2018-05-22 00:00:00        YYC      CALGARY      MST   \n",
       "8       2018-05-22 01:00:00        YYC      CALGARY      MST   \n",
       "9       2018-05-22 02:00:00        YYC      CALGARY      MST   \n",
       "\n",
       "        Datetime (UTC)  Temp (deg C)  Dew Point Temp (deg C)  Rel Hum (%)  \\\n",
       "0  2018-05-22 00:00:00          23.0                     2.3         25.0   \n",
       "1  2018-05-22 01:00:00          22.7                     3.2         27.0   \n",
       "2  2018-05-22 02:00:00          19.5                     5.2         39.0   \n",
       "3  2018-05-22 03:00:00          18.6                     4.8         40.0   \n",
       "4  2018-05-22 04:00:00          18.4                     4.1         39.0   \n",
       "5  2018-05-22 05:00:00          15.9                     4.2         45.0   \n",
       "6  2018-05-22 06:00:00          16.3                     4.0         44.0   \n",
       "7  2018-05-22 07:00:00          13.6                     4.9         55.0   \n",
       "8  2018-05-22 08:00:00          14.8                     4.7         50.0   \n",
       "9  2018-05-22 09:00:00          11.4                     5.1         65.0   \n",
       "\n",
       "   Wind Dir (deg)  Wind Spd (km/h)  Visibility (km)  Pressure (kPa)  Hmdx  \\\n",
       "0           100.0             13.0             48.3           88.74   NaN   \n",
       "1           100.0             10.0             48.3           88.75   NaN   \n",
       "2            80.0             10.0             64.4           88.76   NaN   \n",
       "3            70.0             12.0             48.3           88.80   NaN   \n",
       "4           150.0             16.0             48.3           88.86   NaN   \n",
       "5            90.0             11.0             24.1           88.90   NaN   \n",
       "6            40.0              5.0             24.1           88.93   NaN   \n",
       "7           340.0              7.0             24.1           88.96   NaN   \n",
       "8           300.0              3.0             24.1           88.99   NaN   \n",
       "9            30.0              7.0             24.1           89.01   NaN   \n",
       "\n",
       "   Wind Chill     Conditions  \n",
       "0         NaN   Mainly Clear  \n",
       "1         NaN   Mainly Clear  \n",
       "2         NaN   Mainly Clear  \n",
       "3         NaN   Mainly Clear  \n",
       "4         NaN   Mainly Clear  \n",
       "5         NaN   Mainly Clear  \n",
       "6         NaN          Clear  \n",
       "7         NaN          Clear  \n",
       "8         NaN          Clear  \n",
       "9         NaN  Mostly Cloudy  "
      ]
     },
     "execution_count": 2,
     "metadata": {},
     "output_type": "execute_result"
    }
   ],
   "source": [
    "weather_all = pd.read_csv('../data/weather_airports_24hr_snapshot.csv')\n",
    "weather_all.head(10)"
   ]
  },
  {
   "cell_type": "markdown",
   "metadata": {
    "slideshow": {
     "slide_type": "slide"
    }
   },
   "source": [
    "b) How many rows and columns does `weather_all` have?"
   ]
  },
  {
   "cell_type": "code",
   "execution_count": 3,
   "metadata": {},
   "outputs": [
    {
     "data": {
      "text/plain": [
       "(480, 15)"
      ]
     },
     "execution_count": 3,
     "metadata": {},
     "output_type": "execute_result"
    }
   ],
   "source": [
    "weather_all.shape"
   ]
  },
  {
   "cell_type": "markdown",
   "metadata": {},
   "source": [
    "- 480 rows and 15 columns"
   ]
  },
  {
   "cell_type": "markdown",
   "metadata": {
    "slideshow": {
     "slide_type": "slide"
    }
   },
   "source": [
    "c) Display the names and data types of each column."
   ]
  },
  {
   "cell_type": "code",
   "execution_count": 4,
   "metadata": {},
   "outputs": [
    {
     "data": {
      "text/plain": [
       "Datetime (Local Standard)     object\n",
       "Station ID                    object\n",
       "Station Name                  object\n",
       "Timezone                      object\n",
       "Datetime (UTC)                object\n",
       "Temp (deg C)                 float64\n",
       "Dew Point Temp (deg C)       float64\n",
       "Rel Hum (%)                  float64\n",
       "Wind Dir (deg)               float64\n",
       "Wind Spd (km/h)              float64\n",
       "Visibility (km)              float64\n",
       "Pressure (kPa)               float64\n",
       "Hmdx                         float64\n",
       "Wind Chill                   float64\n",
       "Conditions                    object\n",
       "dtype: object"
      ]
     },
     "execution_count": 4,
     "metadata": {},
     "output_type": "execute_result"
    }
   ],
   "source": [
    "weather_all.dtypes"
   ]
  },
  {
   "cell_type": "markdown",
   "metadata": {
    "slideshow": {
     "slide_type": "slide"
    }
   },
   "source": [
    "---\n",
    "# Exercise 1.2\n",
    "\n",
    "If you haven't already, read the file `'data/weather_airports_24hr_snapshot.csv'` into a new DataFrame `weather_all`.\n",
    "\n",
    "a) What are the warmest and coldest temperatures in this data?"
   ]
  },
  {
   "cell_type": "code",
   "execution_count": 5,
   "metadata": {},
   "outputs": [
    {
     "data": {
      "text/plain": [
       "28.6"
      ]
     },
     "execution_count": 5,
     "metadata": {},
     "output_type": "execute_result"
    }
   ],
   "source": [
    "# Warmest temperature\n",
    "weather_all['Temp (deg C)'].max()"
   ]
  },
  {
   "cell_type": "code",
   "execution_count": 6,
   "metadata": {},
   "outputs": [
    {
     "data": {
      "text/plain": [
       "-7.1"
      ]
     },
     "execution_count": 6,
     "metadata": {},
     "output_type": "execute_result"
    }
   ],
   "source": [
    "# Coldest temperature\n",
    "weather_all['Temp (deg C)'].min()"
   ]
  },
  {
   "cell_type": "code",
   "execution_count": 7,
   "metadata": {},
   "outputs": [
    {
     "data": {
      "text/plain": [
       "count    479.000000\n",
       "mean      13.863048\n",
       "std        7.902422\n",
       "min       -7.100000\n",
       "25%        8.800000\n",
       "50%       14.600000\n",
       "75%       19.050000\n",
       "max       28.600000\n",
       "Name: Temp (deg C), dtype: float64"
      ]
     },
     "execution_count": 7,
     "metadata": {},
     "output_type": "execute_result"
    }
   ],
   "source": [
    "# Or we can use describe to display both min and max at once (plus some extra stuff)\n",
    "weather_all['Temp (deg C)'].describe()"
   ]
  },
  {
   "cell_type": "markdown",
   "metadata": {
    "slideshow": {
     "slide_type": "slide"
    }
   },
   "source": [
    "b) How many unique station names are in this data? Display a list of the unique names."
   ]
  },
  {
   "cell_type": "code",
   "execution_count": 8,
   "metadata": {},
   "outputs": [
    {
     "data": {
      "text/plain": [
       "20"
      ]
     },
     "execution_count": 8,
     "metadata": {},
     "output_type": "execute_result"
    }
   ],
   "source": [
    "# Number of unique station names\n",
    "weather_all['Station Name'].nunique()"
   ]
  },
  {
   "cell_type": "code",
   "execution_count": 9,
   "metadata": {},
   "outputs": [
    {
     "data": {
      "text/plain": [
       "array(['CALGARY', 'CHARLOTTETOWN', 'EDMONTON', 'FREDERICTON', 'HALIFAX',\n",
       "       'IQALUIT', 'MONTREAL', 'OTTAWA', 'PRINCE GEORGE', 'QUEBEC',\n",
       "       'REGINA', 'SASKATOON', \"ST. JOHN'S\", 'THUNDER BAY', 'TORONTO',\n",
       "       'VANCOUVER', 'VICTORIA', 'WHITEHORSE', 'WINNIPEG', 'YELLOWKNIFE'],\n",
       "      dtype=object)"
      ]
     },
     "execution_count": 9,
     "metadata": {},
     "output_type": "execute_result"
    }
   ],
   "source": [
    "# The unique station names are:\n",
    "weather_all['Station Name'].unique()"
   ]
  },
  {
   "cell_type": "markdown",
   "metadata": {
    "slideshow": {
     "slide_type": "slide"
    }
   },
   "source": [
    "c) What is the most common weather category in the `'Conditions'` column? How many unique categories are there?"
   ]
  },
  {
   "cell_type": "code",
   "execution_count": 10,
   "metadata": {},
   "outputs": [
    {
     "data": {
      "text/plain": [
       "Mostly Cloudy                 147\n",
       "Mainly Clear                  109\n",
       "Clear                          81\n",
       "Rain                           61\n",
       "Cloudy                         39\n",
       "Snow                           14\n",
       "Rain Showers                   10\n",
       "Fog                             8\n",
       "Drizzle,Fog                     3\n",
       "Rain,Fog                        3\n",
       "Snow,Blowing Snow               2\n",
       "Thunderstorms,Rain Showers      2\n",
       "Name: Conditions, dtype: int64"
      ]
     },
     "execution_count": 10,
     "metadata": {},
     "output_type": "execute_result"
    }
   ],
   "source": [
    "# Use value_counts to display the counts for each category\n",
    "weather_all['Conditions'].value_counts()"
   ]
  },
  {
   "cell_type": "markdown",
   "metadata": {},
   "source": [
    "- The most common weather category is \"Mostly Cloudy\""
   ]
  },
  {
   "cell_type": "code",
   "execution_count": 11,
   "metadata": {},
   "outputs": [
    {
     "data": {
      "text/plain": [
       "12"
      ]
     },
     "execution_count": 11,
     "metadata": {},
     "output_type": "execute_result"
    }
   ],
   "source": [
    "# Number of unique categories\n",
    "weather_all['Conditions'].nunique()"
   ]
  },
  {
   "cell_type": "markdown",
   "metadata": {
    "slideshow": {
     "slide_type": "slide"
    }
   },
   "source": [
    "d) Add a column with the wind speed in miles per hour (multiply the wind speed in km/h by 0.62137). Save the data from columns `'Station Name'`, `'Datetime (Local Standard)'`, `'Wind Spd (km/h)'`, and your new column of wind speed in miles per hour, to a CSV file."
   ]
  },
  {
   "cell_type": "code",
   "execution_count": 12,
   "metadata": {},
   "outputs": [
    {
     "data": {
      "text/html": [
       "<div>\n",
       "<style scoped>\n",
       "    .dataframe tbody tr th:only-of-type {\n",
       "        vertical-align: middle;\n",
       "    }\n",
       "\n",
       "    .dataframe tbody tr th {\n",
       "        vertical-align: top;\n",
       "    }\n",
       "\n",
       "    .dataframe thead th {\n",
       "        text-align: right;\n",
       "    }\n",
       "</style>\n",
       "<table border=\"1\" class=\"dataframe\">\n",
       "  <thead>\n",
       "    <tr style=\"text-align: right;\">\n",
       "      <th></th>\n",
       "      <th>Datetime (Local Standard)</th>\n",
       "      <th>Station ID</th>\n",
       "      <th>Station Name</th>\n",
       "      <th>Timezone</th>\n",
       "      <th>Datetime (UTC)</th>\n",
       "      <th>Temp (deg C)</th>\n",
       "      <th>Dew Point Temp (deg C)</th>\n",
       "      <th>Rel Hum (%)</th>\n",
       "      <th>Wind Dir (deg)</th>\n",
       "      <th>Wind Spd (km/h)</th>\n",
       "      <th>Visibility (km)</th>\n",
       "      <th>Pressure (kPa)</th>\n",
       "      <th>Hmdx</th>\n",
       "      <th>Wind Chill</th>\n",
       "      <th>Conditions</th>\n",
       "      <th>Wind Spd (mph)</th>\n",
       "    </tr>\n",
       "  </thead>\n",
       "  <tbody>\n",
       "    <tr>\n",
       "      <th>0</th>\n",
       "      <td>2018-05-21 17:00:00</td>\n",
       "      <td>YYC</td>\n",
       "      <td>CALGARY</td>\n",
       "      <td>MST</td>\n",
       "      <td>2018-05-22 00:00:00</td>\n",
       "      <td>23.0</td>\n",
       "      <td>2.3</td>\n",
       "      <td>25.0</td>\n",
       "      <td>100.0</td>\n",
       "      <td>13.0</td>\n",
       "      <td>48.3</td>\n",
       "      <td>88.74</td>\n",
       "      <td>NaN</td>\n",
       "      <td>NaN</td>\n",
       "      <td>Mainly Clear</td>\n",
       "      <td>8.07781</td>\n",
       "    </tr>\n",
       "    <tr>\n",
       "      <th>1</th>\n",
       "      <td>2018-05-21 18:00:00</td>\n",
       "      <td>YYC</td>\n",
       "      <td>CALGARY</td>\n",
       "      <td>MST</td>\n",
       "      <td>2018-05-22 01:00:00</td>\n",
       "      <td>22.7</td>\n",
       "      <td>3.2</td>\n",
       "      <td>27.0</td>\n",
       "      <td>100.0</td>\n",
       "      <td>10.0</td>\n",
       "      <td>48.3</td>\n",
       "      <td>88.75</td>\n",
       "      <td>NaN</td>\n",
       "      <td>NaN</td>\n",
       "      <td>Mainly Clear</td>\n",
       "      <td>6.21370</td>\n",
       "    </tr>\n",
       "    <tr>\n",
       "      <th>2</th>\n",
       "      <td>2018-05-21 19:00:00</td>\n",
       "      <td>YYC</td>\n",
       "      <td>CALGARY</td>\n",
       "      <td>MST</td>\n",
       "      <td>2018-05-22 02:00:00</td>\n",
       "      <td>19.5</td>\n",
       "      <td>5.2</td>\n",
       "      <td>39.0</td>\n",
       "      <td>80.0</td>\n",
       "      <td>10.0</td>\n",
       "      <td>64.4</td>\n",
       "      <td>88.76</td>\n",
       "      <td>NaN</td>\n",
       "      <td>NaN</td>\n",
       "      <td>Mainly Clear</td>\n",
       "      <td>6.21370</td>\n",
       "    </tr>\n",
       "    <tr>\n",
       "      <th>3</th>\n",
       "      <td>2018-05-21 20:00:00</td>\n",
       "      <td>YYC</td>\n",
       "      <td>CALGARY</td>\n",
       "      <td>MST</td>\n",
       "      <td>2018-05-22 03:00:00</td>\n",
       "      <td>18.6</td>\n",
       "      <td>4.8</td>\n",
       "      <td>40.0</td>\n",
       "      <td>70.0</td>\n",
       "      <td>12.0</td>\n",
       "      <td>48.3</td>\n",
       "      <td>88.80</td>\n",
       "      <td>NaN</td>\n",
       "      <td>NaN</td>\n",
       "      <td>Mainly Clear</td>\n",
       "      <td>7.45644</td>\n",
       "    </tr>\n",
       "    <tr>\n",
       "      <th>4</th>\n",
       "      <td>2018-05-21 21:00:00</td>\n",
       "      <td>YYC</td>\n",
       "      <td>CALGARY</td>\n",
       "      <td>MST</td>\n",
       "      <td>2018-05-22 04:00:00</td>\n",
       "      <td>18.4</td>\n",
       "      <td>4.1</td>\n",
       "      <td>39.0</td>\n",
       "      <td>150.0</td>\n",
       "      <td>16.0</td>\n",
       "      <td>48.3</td>\n",
       "      <td>88.86</td>\n",
       "      <td>NaN</td>\n",
       "      <td>NaN</td>\n",
       "      <td>Mainly Clear</td>\n",
       "      <td>9.94192</td>\n",
       "    </tr>\n",
       "  </tbody>\n",
       "</table>\n",
       "</div>"
      ],
      "text/plain": [
       "  Datetime (Local Standard) Station ID Station Name Timezone  \\\n",
       "0       2018-05-21 17:00:00        YYC      CALGARY      MST   \n",
       "1       2018-05-21 18:00:00        YYC      CALGARY      MST   \n",
       "2       2018-05-21 19:00:00        YYC      CALGARY      MST   \n",
       "3       2018-05-21 20:00:00        YYC      CALGARY      MST   \n",
       "4       2018-05-21 21:00:00        YYC      CALGARY      MST   \n",
       "\n",
       "        Datetime (UTC)  Temp (deg C)  Dew Point Temp (deg C)  Rel Hum (%)  \\\n",
       "0  2018-05-22 00:00:00          23.0                     2.3         25.0   \n",
       "1  2018-05-22 01:00:00          22.7                     3.2         27.0   \n",
       "2  2018-05-22 02:00:00          19.5                     5.2         39.0   \n",
       "3  2018-05-22 03:00:00          18.6                     4.8         40.0   \n",
       "4  2018-05-22 04:00:00          18.4                     4.1         39.0   \n",
       "\n",
       "   Wind Dir (deg)  Wind Spd (km/h)  Visibility (km)  Pressure (kPa)  Hmdx  \\\n",
       "0           100.0             13.0             48.3           88.74   NaN   \n",
       "1           100.0             10.0             48.3           88.75   NaN   \n",
       "2            80.0             10.0             64.4           88.76   NaN   \n",
       "3            70.0             12.0             48.3           88.80   NaN   \n",
       "4           150.0             16.0             48.3           88.86   NaN   \n",
       "\n",
       "   Wind Chill    Conditions  Wind Spd (mph)  \n",
       "0         NaN  Mainly Clear         8.07781  \n",
       "1         NaN  Mainly Clear         6.21370  \n",
       "2         NaN  Mainly Clear         6.21370  \n",
       "3         NaN  Mainly Clear         7.45644  \n",
       "4         NaN  Mainly Clear         9.94192  "
      ]
     },
     "execution_count": 12,
     "metadata": {},
     "output_type": "execute_result"
    }
   ],
   "source": [
    "# Add the new column\n",
    "weather_all['Wind Spd (mph)'] = 0.62137 * weather_all['Wind Spd (km/h)']\n",
    "weather_all.head()"
   ]
  },
  {
   "cell_type": "code",
   "execution_count": 13,
   "metadata": {},
   "outputs": [
    {
     "data": {
      "text/html": [
       "<div>\n",
       "<style scoped>\n",
       "    .dataframe tbody tr th:only-of-type {\n",
       "        vertical-align: middle;\n",
       "    }\n",
       "\n",
       "    .dataframe tbody tr th {\n",
       "        vertical-align: top;\n",
       "    }\n",
       "\n",
       "    .dataframe thead th {\n",
       "        text-align: right;\n",
       "    }\n",
       "</style>\n",
       "<table border=\"1\" class=\"dataframe\">\n",
       "  <thead>\n",
       "    <tr style=\"text-align: right;\">\n",
       "      <th></th>\n",
       "      <th>Station Name</th>\n",
       "      <th>Datetime (Local Standard)</th>\n",
       "      <th>Wind Spd (km/h)</th>\n",
       "      <th>Wind Spd (mph)</th>\n",
       "    </tr>\n",
       "  </thead>\n",
       "  <tbody>\n",
       "    <tr>\n",
       "      <th>0</th>\n",
       "      <td>CALGARY</td>\n",
       "      <td>2018-05-21 17:00:00</td>\n",
       "      <td>13.0</td>\n",
       "      <td>8.07781</td>\n",
       "    </tr>\n",
       "    <tr>\n",
       "      <th>1</th>\n",
       "      <td>CALGARY</td>\n",
       "      <td>2018-05-21 18:00:00</td>\n",
       "      <td>10.0</td>\n",
       "      <td>6.21370</td>\n",
       "    </tr>\n",
       "    <tr>\n",
       "      <th>2</th>\n",
       "      <td>CALGARY</td>\n",
       "      <td>2018-05-21 19:00:00</td>\n",
       "      <td>10.0</td>\n",
       "      <td>6.21370</td>\n",
       "    </tr>\n",
       "    <tr>\n",
       "      <th>3</th>\n",
       "      <td>CALGARY</td>\n",
       "      <td>2018-05-21 20:00:00</td>\n",
       "      <td>12.0</td>\n",
       "      <td>7.45644</td>\n",
       "    </tr>\n",
       "    <tr>\n",
       "      <th>4</th>\n",
       "      <td>CALGARY</td>\n",
       "      <td>2018-05-21 21:00:00</td>\n",
       "      <td>16.0</td>\n",
       "      <td>9.94192</td>\n",
       "    </tr>\n",
       "  </tbody>\n",
       "</table>\n",
       "</div>"
      ],
      "text/plain": [
       "  Station Name Datetime (Local Standard)  Wind Spd (km/h)  Wind Spd (mph)\n",
       "0      CALGARY       2018-05-21 17:00:00             13.0         8.07781\n",
       "1      CALGARY       2018-05-21 18:00:00             10.0         6.21370\n",
       "2      CALGARY       2018-05-21 19:00:00             10.0         6.21370\n",
       "3      CALGARY       2018-05-21 20:00:00             12.0         7.45644\n",
       "4      CALGARY       2018-05-21 21:00:00             16.0         9.94192"
      ]
     },
     "execution_count": 13,
     "metadata": {},
     "output_type": "execute_result"
    }
   ],
   "source": [
    "# Specify columns to include\n",
    "columns = ['Station Name', \n",
    "           'Datetime (Local Standard)', \n",
    "           'Wind Spd (km/h)', \n",
    "           'Wind Spd (mph)']\n",
    "\n",
    "# Extract the subset of columns\n",
    "winds = weather_all[columns]\n",
    "winds.head()"
   ]
  },
  {
   "cell_type": "code",
   "execution_count": 14,
   "metadata": {},
   "outputs": [],
   "source": [
    "# Save to CSV file \n",
    "# (Since this notebook is in the \"solutions\" sub-folder, the file path \n",
    "#  to the data folder is modified accordingly)\n",
    "winds.to_csv('../data/winds_YVR.csv', index=False)"
   ]
  },
  {
   "cell_type": "markdown",
   "metadata": {
    "slideshow": {
     "slide_type": "-"
    }
   },
   "source": [
    "##### Bonus exercises\n",
    "\n",
    "Create a variable `conditions` corresponding to the `'Conditions'` column of `weather_all`. We'll use this variable in each of the following exercises.\n",
    "\n",
    "e) What type of object is returned by `conditions.value_counts()`? Can you think of a method that could be applied to this output so that it returns only the counts for the top `n` values? How about the bottom `n` values?\n",
    "- Display only the counts for the 5 most common weather categories in `conditions`\n",
    "- Display only the counts for the 5 least common weather categories in `conditions`"
   ]
  },
  {
   "cell_type": "code",
   "execution_count": 15,
   "metadata": {},
   "outputs": [
    {
     "data": {
      "text/plain": [
       "pandas.core.series.Series"
      ]
     },
     "execution_count": 15,
     "metadata": {},
     "output_type": "execute_result"
    }
   ],
   "source": [
    "conditions = weather_all['Conditions']\n",
    "counts = conditions.value_counts()\n",
    "type(counts)"
   ]
  },
  {
   "cell_type": "markdown",
   "metadata": {},
   "source": [
    "- The output of `value_counts` is a `pandas` Series, so we can use the `head` and `tail` methods for the top `n` and bottom `n` values."
   ]
  },
  {
   "cell_type": "code",
   "execution_count": 16,
   "metadata": {},
   "outputs": [
    {
     "data": {
      "text/plain": [
       "Mostly Cloudy    147\n",
       "Mainly Clear     109\n",
       "Clear             81\n",
       "Rain              61\n",
       "Cloudy            39\n",
       "Name: Conditions, dtype: int64"
      ]
     },
     "execution_count": 16,
     "metadata": {},
     "output_type": "execute_result"
    }
   ],
   "source": [
    "# Top 5\n",
    "counts.head()"
   ]
  },
  {
   "cell_type": "code",
   "execution_count": 17,
   "metadata": {},
   "outputs": [
    {
     "data": {
      "text/plain": [
       "Fog                           8\n",
       "Drizzle,Fog                   3\n",
       "Rain,Fog                      3\n",
       "Snow,Blowing Snow             2\n",
       "Thunderstorms,Rain Showers    2\n",
       "Name: Conditions, dtype: int64"
      ]
     },
     "execution_count": 17,
     "metadata": {},
     "output_type": "execute_result"
    }
   ],
   "source": [
    "# Bottom 5\n",
    "counts.tail()"
   ]
  },
  {
   "cell_type": "markdown",
   "metadata": {
    "slideshow": {
     "slide_type": "-"
    }
   },
   "source": [
    "f) Use `conditions.value_counts?` to check out the documentation for the `value_counts` method. Experiment with the `normalize`, `sort` and `dropna` keyword arguments. How does the output change when you change these arguments?"
   ]
  },
  {
   "cell_type": "code",
   "execution_count": 18,
   "metadata": {},
   "outputs": [
    {
     "data": {
      "text/plain": [
       "\u001b[1;31mSignature:\u001b[0m \u001b[0mconditions\u001b[0m\u001b[1;33m.\u001b[0m\u001b[0mvalue_counts\u001b[0m\u001b[1;33m(\u001b[0m\u001b[0mnormalize\u001b[0m\u001b[1;33m=\u001b[0m\u001b[1;32mFalse\u001b[0m\u001b[1;33m,\u001b[0m \u001b[0msort\u001b[0m\u001b[1;33m=\u001b[0m\u001b[1;32mTrue\u001b[0m\u001b[1;33m,\u001b[0m \u001b[0mascending\u001b[0m\u001b[1;33m=\u001b[0m\u001b[1;32mFalse\u001b[0m\u001b[1;33m,\u001b[0m \u001b[0mbins\u001b[0m\u001b[1;33m=\u001b[0m\u001b[1;32mNone\u001b[0m\u001b[1;33m,\u001b[0m \u001b[0mdropna\u001b[0m\u001b[1;33m=\u001b[0m\u001b[1;32mTrue\u001b[0m\u001b[1;33m)\u001b[0m\u001b[1;33m\u001b[0m\u001b[0m\n",
       "\u001b[1;31mDocstring:\u001b[0m\n",
       "Returns object containing counts of unique values.\n",
       "\n",
       "The resulting object will be in descending order so that the\n",
       "first element is the most frequently-occurring element.\n",
       "Excludes NA values by default.\n",
       "\n",
       "Parameters\n",
       "----------\n",
       "normalize : boolean, default False\n",
       "    If True then the object returned will contain the relative\n",
       "    frequencies of the unique values.\n",
       "sort : boolean, default True\n",
       "    Sort by values\n",
       "ascending : boolean, default False\n",
       "    Sort in ascending order\n",
       "bins : integer, optional\n",
       "    Rather than count values, group them into half-open bins,\n",
       "    a convenience for pd.cut, only works with numeric data\n",
       "dropna : boolean, default True\n",
       "    Don't include counts of NaN.\n",
       "\n",
       "Returns\n",
       "-------\n",
       "counts : Series\n",
       "\u001b[1;31mFile:\u001b[0m      c:\\users\\jenfl\\anaconda3\\lib\\site-packages\\pandas\\core\\base.py\n",
       "\u001b[1;31mType:\u001b[0m      method\n"
      ]
     },
     "metadata": {},
     "output_type": "display_data"
    }
   ],
   "source": [
    "conditions.value_counts?"
   ]
  },
  {
   "cell_type": "code",
   "execution_count": 19,
   "metadata": {},
   "outputs": [
    {
     "data": {
      "text/plain": [
       "Mostly Cloudy                 0.306889\n",
       "Mainly Clear                  0.227557\n",
       "Clear                         0.169102\n",
       "Rain                          0.127349\n",
       "Cloudy                        0.081420\n",
       "Snow                          0.029228\n",
       "Rain Showers                  0.020877\n",
       "Fog                           0.016701\n",
       "Drizzle,Fog                   0.006263\n",
       "Rain,Fog                      0.006263\n",
       "Snow,Blowing Snow             0.004175\n",
       "Thunderstorms,Rain Showers    0.004175\n",
       "Name: Conditions, dtype: float64"
      ]
     },
     "execution_count": 19,
     "metadata": {},
     "output_type": "execute_result"
    }
   ],
   "source": [
    "# normalize=True\n",
    "conditions.value_counts(normalize=True)"
   ]
  },
  {
   "cell_type": "markdown",
   "metadata": {},
   "source": [
    "- The `normalize=True` option returns the counts expressed as a fraction of the total"
   ]
  },
  {
   "cell_type": "code",
   "execution_count": 20,
   "metadata": {},
   "outputs": [
    {
     "data": {
      "text/plain": [
       "Rain,Fog                        3\n",
       "Fog                             8\n",
       "Clear                          81\n",
       "Mainly Clear                  109\n",
       "Rain Showers                   10\n",
       "Mostly Cloudy                 147\n",
       "Thunderstorms,Rain Showers      2\n",
       "Snow,Blowing Snow               2\n",
       "Rain                           61\n",
       "Cloudy                         39\n",
       "Snow                           14\n",
       "Drizzle,Fog                     3\n",
       "Name: Conditions, dtype: int64"
      ]
     },
     "execution_count": 20,
     "metadata": {},
     "output_type": "execute_result"
    }
   ],
   "source": [
    "# sort=False\n",
    "conditions.value_counts(sort=False)"
   ]
  },
  {
   "cell_type": "markdown",
   "metadata": {},
   "source": [
    "- The `sort=False` option returns unsorted counts"
   ]
  },
  {
   "cell_type": "code",
   "execution_count": 21,
   "metadata": {},
   "outputs": [
    {
     "data": {
      "text/plain": [
       "Mostly Cloudy                 147\n",
       "Mainly Clear                  109\n",
       "Clear                          81\n",
       "Rain                           61\n",
       "Cloudy                         39\n",
       "Snow                           14\n",
       "Rain Showers                   10\n",
       "Fog                             8\n",
       "Drizzle,Fog                     3\n",
       "Rain,Fog                        3\n",
       "Snow,Blowing Snow               2\n",
       "Thunderstorms,Rain Showers      2\n",
       "NaN                             1\n",
       "Name: Conditions, dtype: int64"
      ]
     },
     "execution_count": 21,
     "metadata": {},
     "output_type": "execute_result"
    }
   ],
   "source": [
    "# dropna=False\n",
    "conditions.value_counts(dropna=False)"
   ]
  },
  {
   "cell_type": "markdown",
   "metadata": {},
   "source": [
    "- The `dropna=False` option includes missing values (`NaN`) &mdash; we can see that there is one missing value in the `conditions` Series."
   ]
  },
  {
   "cell_type": "markdown",
   "metadata": {
    "slideshow": {
     "slide_type": "-"
    }
   },
   "source": [
    "g) `pandas` Series have a few *accessors*, which are attributes that [act like an interface to additional methods](https://realpython.com/python-pandas-tricks/#3-take-advantage-of-accessor-methods). With a Series of text data, like `conditions`, the `str` accessor allows you to apply string methods such as `upper`, `lower`, `strip`, `replace`, etc. to all the items in the Series.\n",
    "\n",
    "- Check out some of the documentation with `conditions.str?` and `conditions.str.upper?`. \n",
    "- Create a new Series with the weather categories converted to upper case.\n",
    "- Create a new Series with any instance of the string `'Snow'` in a weather category replaced with the string `'SNOW!!!'`.\n",
    "- For both of these new Series, use `value_counts` or `unique` methods to verify that the output is what you were expecting."
   ]
  },
  {
   "cell_type": "code",
   "execution_count": 22,
   "metadata": {},
   "outputs": [
    {
     "data": {
      "text/plain": [
       "\u001b[1;31mType:\u001b[0m        StringMethods\n",
       "\u001b[1;31mString form:\u001b[0m <pandas.core.strings.StringMethods object at 0x000001D91963D208>\n",
       "\u001b[1;31mFile:\u001b[0m        c:\\users\\jenfl\\anaconda3\\lib\\site-packages\\pandas\\core\\strings.py\n",
       "\u001b[1;31mDocstring:\u001b[0m  \n",
       "Vectorized string functions for Series and Index. NAs stay NA unless\n",
       "handled otherwise by a particular method. Patterned after Python's string\n",
       "methods, with some inspiration from R's stringr package.\n",
       "\n",
       "Examples\n",
       "--------\n",
       ">>> s.str.split('_')\n",
       ">>> s.str.replace('_', '')\n"
      ]
     },
     "metadata": {},
     "output_type": "display_data"
    }
   ],
   "source": [
    "# Display documentation\n",
    "conditions.str?"
   ]
  },
  {
   "cell_type": "code",
   "execution_count": 23,
   "metadata": {},
   "outputs": [
    {
     "data": {
      "text/plain": [
       "\u001b[1;31mSignature:\u001b[0m \u001b[0mconditions\u001b[0m\u001b[1;33m.\u001b[0m\u001b[0mstr\u001b[0m\u001b[1;33m.\u001b[0m\u001b[0mupper\u001b[0m\u001b[1;33m(\u001b[0m\u001b[1;33m)\u001b[0m\u001b[1;33m\u001b[0m\u001b[0m\n",
       "\u001b[1;31mDocstring:\u001b[0m\n",
       "Convert strings in the Series/Index to uppercase.\n",
       "Equivalent to :meth:`str.upper`.\n",
       "\n",
       "Returns\n",
       "-------\n",
       "converted : Series/Index of objects\n",
       "\u001b[1;31mFile:\u001b[0m      c:\\users\\jenfl\\anaconda3\\lib\\site-packages\\pandas\\core\\strings.py\n",
       "\u001b[1;31mType:\u001b[0m      method\n"
      ]
     },
     "metadata": {},
     "output_type": "display_data"
    }
   ],
   "source": [
    "# Display documentation\n",
    "conditions.str.upper?"
   ]
  },
  {
   "cell_type": "code",
   "execution_count": 24,
   "metadata": {},
   "outputs": [
    {
     "data": {
      "text/plain": [
       "0    MAINLY CLEAR\n",
       "1    MAINLY CLEAR\n",
       "2    MAINLY CLEAR\n",
       "3    MAINLY CLEAR\n",
       "4    MAINLY CLEAR\n",
       "Name: Conditions, dtype: object"
      ]
     },
     "execution_count": 24,
     "metadata": {},
     "output_type": "execute_result"
    }
   ],
   "source": [
    "# Weather categories converted to upper case\n",
    "conditions_upper = conditions.str.upper()\n",
    "conditions_upper.head()"
   ]
  },
  {
   "cell_type": "code",
   "execution_count": 25,
   "metadata": {},
   "outputs": [
    {
     "data": {
      "text/plain": [
       "MOSTLY CLOUDY                 147\n",
       "MAINLY CLEAR                  109\n",
       "CLEAR                          81\n",
       "RAIN                           61\n",
       "CLOUDY                         39\n",
       "SNOW                           14\n",
       "RAIN SHOWERS                   10\n",
       "FOG                             8\n",
       "DRIZZLE,FOG                     3\n",
       "RAIN,FOG                        3\n",
       "THUNDERSTORMS,RAIN SHOWERS      2\n",
       "SNOW,BLOWING SNOW               2\n",
       "Name: Conditions, dtype: int64"
      ]
     },
     "execution_count": 25,
     "metadata": {},
     "output_type": "execute_result"
    }
   ],
   "source": [
    "# Check the transformed data with value_counts\n",
    "conditions_upper.value_counts()"
   ]
  },
  {
   "cell_type": "markdown",
   "metadata": {},
   "source": [
    "- As expected, all the weather categories have been converted to upper case, and the counts match up with the counts for the original data in `weather_all['Conditions']`."
   ]
  },
  {
   "cell_type": "code",
   "execution_count": 26,
   "metadata": {},
   "outputs": [
    {
     "data": {
      "text/plain": [
       "0    Mainly Clear\n",
       "1    Mainly Clear\n",
       "2    Mainly Clear\n",
       "3    Mainly Clear\n",
       "4    Mainly Clear\n",
       "Name: Conditions, dtype: object"
      ]
     },
     "execution_count": 26,
     "metadata": {},
     "output_type": "execute_result"
    }
   ],
   "source": [
    "# Weather categories with \"Snow\" replaced by \"SNOW!!!\"\n",
    "conditions_exciting = conditions.str.replace('Snow', 'SNOW!!!')\n",
    "conditions_exciting.head()"
   ]
  },
  {
   "cell_type": "code",
   "execution_count": 27,
   "metadata": {},
   "outputs": [
    {
     "data": {
      "text/plain": [
       "Mostly Cloudy                 147\n",
       "Mainly Clear                  109\n",
       "Clear                          81\n",
       "Rain                           61\n",
       "Cloudy                         39\n",
       "SNOW!!!                        14\n",
       "Rain Showers                   10\n",
       "Fog                             8\n",
       "Drizzle,Fog                     3\n",
       "Rain,Fog                        3\n",
       "Thunderstorms,Rain Showers      2\n",
       "SNOW!!!,Blowing SNOW!!!         2\n",
       "Name: Conditions, dtype: int64"
      ]
     },
     "execution_count": 27,
     "metadata": {},
     "output_type": "execute_result"
    }
   ],
   "source": [
    "# Check the transformed data with value_counts\n",
    "conditions_exciting.value_counts()"
   ]
  },
  {
   "cell_type": "markdown",
   "metadata": {},
   "source": [
    "- As expected, the \"Snow\" category has been transformed to \"SNOW!!!\" and the \"Snow,Blowing Snow\" category has been transformed to \"SNOW!!!,BlowingSNOW!!!\", and the counts match up with the counts for the original data in `weather_all['Conditions']`."
   ]
  },
  {
   "cell_type": "markdown",
   "metadata": {
    "slideshow": {
     "slide_type": "slide"
    }
   },
   "source": [
    "---\n",
    "# Exercise 2.1\n",
    "\n",
    "a) Create a new DataFrame which contains only the rows of `weather_all` where the station name is `'SASKATOON'`"
   ]
  },
  {
   "cell_type": "code",
   "execution_count": 28,
   "metadata": {},
   "outputs": [
    {
     "data": {
      "text/html": [
       "<div>\n",
       "<style scoped>\n",
       "    .dataframe tbody tr th:only-of-type {\n",
       "        vertical-align: middle;\n",
       "    }\n",
       "\n",
       "    .dataframe tbody tr th {\n",
       "        vertical-align: top;\n",
       "    }\n",
       "\n",
       "    .dataframe thead th {\n",
       "        text-align: right;\n",
       "    }\n",
       "</style>\n",
       "<table border=\"1\" class=\"dataframe\">\n",
       "  <thead>\n",
       "    <tr style=\"text-align: right;\">\n",
       "      <th></th>\n",
       "      <th>Datetime (Local Standard)</th>\n",
       "      <th>Station ID</th>\n",
       "      <th>Station Name</th>\n",
       "      <th>Timezone</th>\n",
       "      <th>Datetime (UTC)</th>\n",
       "      <th>Temp (deg C)</th>\n",
       "      <th>Dew Point Temp (deg C)</th>\n",
       "      <th>Rel Hum (%)</th>\n",
       "      <th>Wind Dir (deg)</th>\n",
       "      <th>Wind Spd (km/h)</th>\n",
       "      <th>Visibility (km)</th>\n",
       "      <th>Pressure (kPa)</th>\n",
       "      <th>Hmdx</th>\n",
       "      <th>Wind Chill</th>\n",
       "      <th>Conditions</th>\n",
       "      <th>Wind Spd (mph)</th>\n",
       "    </tr>\n",
       "  </thead>\n",
       "  <tbody>\n",
       "    <tr>\n",
       "      <th>264</th>\n",
       "      <td>2018-05-21 18:00:00</td>\n",
       "      <td>YXE</td>\n",
       "      <td>SASKATOON</td>\n",
       "      <td>CST</td>\n",
       "      <td>2018-05-22 00:00:00</td>\n",
       "      <td>28.6</td>\n",
       "      <td>4.9</td>\n",
       "      <td>22.0</td>\n",
       "      <td>310.0</td>\n",
       "      <td>26.0</td>\n",
       "      <td>24.1</td>\n",
       "      <td>94.79</td>\n",
       "      <td>28.0</td>\n",
       "      <td>NaN</td>\n",
       "      <td>Mostly Cloudy</td>\n",
       "      <td>16.15562</td>\n",
       "    </tr>\n",
       "    <tr>\n",
       "      <th>265</th>\n",
       "      <td>2018-05-21 19:00:00</td>\n",
       "      <td>YXE</td>\n",
       "      <td>SASKATOON</td>\n",
       "      <td>CST</td>\n",
       "      <td>2018-05-22 01:00:00</td>\n",
       "      <td>28.5</td>\n",
       "      <td>4.7</td>\n",
       "      <td>22.0</td>\n",
       "      <td>310.0</td>\n",
       "      <td>19.0</td>\n",
       "      <td>24.1</td>\n",
       "      <td>94.80</td>\n",
       "      <td>28.0</td>\n",
       "      <td>NaN</td>\n",
       "      <td>Mostly Cloudy</td>\n",
       "      <td>11.80603</td>\n",
       "    </tr>\n",
       "    <tr>\n",
       "      <th>266</th>\n",
       "      <td>2018-05-21 20:00:00</td>\n",
       "      <td>YXE</td>\n",
       "      <td>SASKATOON</td>\n",
       "      <td>CST</td>\n",
       "      <td>2018-05-22 02:00:00</td>\n",
       "      <td>24.4</td>\n",
       "      <td>3.8</td>\n",
       "      <td>26.0</td>\n",
       "      <td>310.0</td>\n",
       "      <td>19.0</td>\n",
       "      <td>24.1</td>\n",
       "      <td>94.84</td>\n",
       "      <td>NaN</td>\n",
       "      <td>NaN</td>\n",
       "      <td>Mostly Cloudy</td>\n",
       "      <td>11.80603</td>\n",
       "    </tr>\n",
       "    <tr>\n",
       "      <th>267</th>\n",
       "      <td>2018-05-21 21:00:00</td>\n",
       "      <td>YXE</td>\n",
       "      <td>SASKATOON</td>\n",
       "      <td>CST</td>\n",
       "      <td>2018-05-22 03:00:00</td>\n",
       "      <td>19.4</td>\n",
       "      <td>4.7</td>\n",
       "      <td>37.0</td>\n",
       "      <td>310.0</td>\n",
       "      <td>15.0</td>\n",
       "      <td>24.1</td>\n",
       "      <td>94.88</td>\n",
       "      <td>NaN</td>\n",
       "      <td>NaN</td>\n",
       "      <td>Mostly Cloudy</td>\n",
       "      <td>9.32055</td>\n",
       "    </tr>\n",
       "    <tr>\n",
       "      <th>268</th>\n",
       "      <td>2018-05-21 22:00:00</td>\n",
       "      <td>YXE</td>\n",
       "      <td>SASKATOON</td>\n",
       "      <td>CST</td>\n",
       "      <td>2018-05-22 04:00:00</td>\n",
       "      <td>15.5</td>\n",
       "      <td>4.8</td>\n",
       "      <td>48.0</td>\n",
       "      <td>320.0</td>\n",
       "      <td>10.0</td>\n",
       "      <td>24.1</td>\n",
       "      <td>94.95</td>\n",
       "      <td>NaN</td>\n",
       "      <td>NaN</td>\n",
       "      <td>Mostly Cloudy</td>\n",
       "      <td>6.21370</td>\n",
       "    </tr>\n",
       "  </tbody>\n",
       "</table>\n",
       "</div>"
      ],
      "text/plain": [
       "    Datetime (Local Standard) Station ID Station Name Timezone  \\\n",
       "264       2018-05-21 18:00:00        YXE    SASKATOON      CST   \n",
       "265       2018-05-21 19:00:00        YXE    SASKATOON      CST   \n",
       "266       2018-05-21 20:00:00        YXE    SASKATOON      CST   \n",
       "267       2018-05-21 21:00:00        YXE    SASKATOON      CST   \n",
       "268       2018-05-21 22:00:00        YXE    SASKATOON      CST   \n",
       "\n",
       "          Datetime (UTC)  Temp (deg C)  Dew Point Temp (deg C)  Rel Hum (%)  \\\n",
       "264  2018-05-22 00:00:00          28.6                     4.9         22.0   \n",
       "265  2018-05-22 01:00:00          28.5                     4.7         22.0   \n",
       "266  2018-05-22 02:00:00          24.4                     3.8         26.0   \n",
       "267  2018-05-22 03:00:00          19.4                     4.7         37.0   \n",
       "268  2018-05-22 04:00:00          15.5                     4.8         48.0   \n",
       "\n",
       "     Wind Dir (deg)  Wind Spd (km/h)  Visibility (km)  Pressure (kPa)  Hmdx  \\\n",
       "264           310.0             26.0             24.1           94.79  28.0   \n",
       "265           310.0             19.0             24.1           94.80  28.0   \n",
       "266           310.0             19.0             24.1           94.84   NaN   \n",
       "267           310.0             15.0             24.1           94.88   NaN   \n",
       "268           320.0             10.0             24.1           94.95   NaN   \n",
       "\n",
       "     Wind Chill     Conditions  Wind Spd (mph)  \n",
       "264         NaN  Mostly Cloudy        16.15562  \n",
       "265         NaN  Mostly Cloudy        11.80603  \n",
       "266         NaN  Mostly Cloudy        11.80603  \n",
       "267         NaN  Mostly Cloudy         9.32055  \n",
       "268         NaN  Mostly Cloudy         6.21370  "
      ]
     },
     "execution_count": 28,
     "metadata": {},
     "output_type": "execute_result"
    }
   ],
   "source": [
    "# Create a filter\n",
    "saskatoon = weather_all['Station Name'] == 'SASKATOON'\n",
    "\n",
    "# Use the filter to extract the subset to a new DataFrame weather_sk\n",
    "weather_sk = weather_all[saskatoon]\n",
    "weather_sk.head()"
   ]
  },
  {
   "cell_type": "markdown",
   "metadata": {
    "slideshow": {
     "slide_type": "slide"
    }
   },
   "source": [
    "b) Display the Saskatoon data sorted on the `'Wind Spd (km/h)'` column in descending order. What is the fastest wind speed and what are the corresponding datetime and temperature?"
   ]
  },
  {
   "cell_type": "code",
   "execution_count": 29,
   "metadata": {},
   "outputs": [
    {
     "data": {
      "text/html": [
       "<div>\n",
       "<style scoped>\n",
       "    .dataframe tbody tr th:only-of-type {\n",
       "        vertical-align: middle;\n",
       "    }\n",
       "\n",
       "    .dataframe tbody tr th {\n",
       "        vertical-align: top;\n",
       "    }\n",
       "\n",
       "    .dataframe thead th {\n",
       "        text-align: right;\n",
       "    }\n",
       "</style>\n",
       "<table border=\"1\" class=\"dataframe\">\n",
       "  <thead>\n",
       "    <tr style=\"text-align: right;\">\n",
       "      <th></th>\n",
       "      <th>Datetime (Local Standard)</th>\n",
       "      <th>Station ID</th>\n",
       "      <th>Station Name</th>\n",
       "      <th>Timezone</th>\n",
       "      <th>Datetime (UTC)</th>\n",
       "      <th>Temp (deg C)</th>\n",
       "      <th>Dew Point Temp (deg C)</th>\n",
       "      <th>Rel Hum (%)</th>\n",
       "      <th>Wind Dir (deg)</th>\n",
       "      <th>Wind Spd (km/h)</th>\n",
       "      <th>Visibility (km)</th>\n",
       "      <th>Pressure (kPa)</th>\n",
       "      <th>Hmdx</th>\n",
       "      <th>Wind Chill</th>\n",
       "      <th>Conditions</th>\n",
       "      <th>Wind Spd (mph)</th>\n",
       "    </tr>\n",
       "  </thead>\n",
       "  <tbody>\n",
       "    <tr>\n",
       "      <th>264</th>\n",
       "      <td>2018-05-21 18:00:00</td>\n",
       "      <td>YXE</td>\n",
       "      <td>SASKATOON</td>\n",
       "      <td>CST</td>\n",
       "      <td>2018-05-22 00:00:00</td>\n",
       "      <td>28.6</td>\n",
       "      <td>4.9</td>\n",
       "      <td>22.0</td>\n",
       "      <td>310.0</td>\n",
       "      <td>26.0</td>\n",
       "      <td>24.1</td>\n",
       "      <td>94.79</td>\n",
       "      <td>28.0</td>\n",
       "      <td>NaN</td>\n",
       "      <td>Mostly Cloudy</td>\n",
       "      <td>16.15562</td>\n",
       "    </tr>\n",
       "    <tr>\n",
       "      <th>276</th>\n",
       "      <td>2018-05-22 06:00:00</td>\n",
       "      <td>YXE</td>\n",
       "      <td>SASKATOON</td>\n",
       "      <td>CST</td>\n",
       "      <td>2018-05-22 12:00:00</td>\n",
       "      <td>15.2</td>\n",
       "      <td>9.5</td>\n",
       "      <td>69.0</td>\n",
       "      <td>310.0</td>\n",
       "      <td>20.0</td>\n",
       "      <td>19.3</td>\n",
       "      <td>95.26</td>\n",
       "      <td>NaN</td>\n",
       "      <td>NaN</td>\n",
       "      <td>Mostly Cloudy</td>\n",
       "      <td>12.42740</td>\n",
       "    </tr>\n",
       "    <tr>\n",
       "      <th>266</th>\n",
       "      <td>2018-05-21 20:00:00</td>\n",
       "      <td>YXE</td>\n",
       "      <td>SASKATOON</td>\n",
       "      <td>CST</td>\n",
       "      <td>2018-05-22 02:00:00</td>\n",
       "      <td>24.4</td>\n",
       "      <td>3.8</td>\n",
       "      <td>26.0</td>\n",
       "      <td>310.0</td>\n",
       "      <td>19.0</td>\n",
       "      <td>24.1</td>\n",
       "      <td>94.84</td>\n",
       "      <td>NaN</td>\n",
       "      <td>NaN</td>\n",
       "      <td>Mostly Cloudy</td>\n",
       "      <td>11.80603</td>\n",
       "    </tr>\n",
       "    <tr>\n",
       "      <th>265</th>\n",
       "      <td>2018-05-21 19:00:00</td>\n",
       "      <td>YXE</td>\n",
       "      <td>SASKATOON</td>\n",
       "      <td>CST</td>\n",
       "      <td>2018-05-22 01:00:00</td>\n",
       "      <td>28.5</td>\n",
       "      <td>4.7</td>\n",
       "      <td>22.0</td>\n",
       "      <td>310.0</td>\n",
       "      <td>19.0</td>\n",
       "      <td>24.1</td>\n",
       "      <td>94.80</td>\n",
       "      <td>28.0</td>\n",
       "      <td>NaN</td>\n",
       "      <td>Mostly Cloudy</td>\n",
       "      <td>11.80603</td>\n",
       "    </tr>\n",
       "    <tr>\n",
       "      <th>269</th>\n",
       "      <td>2018-05-21 23:00:00</td>\n",
       "      <td>YXE</td>\n",
       "      <td>SASKATOON</td>\n",
       "      <td>CST</td>\n",
       "      <td>2018-05-22 05:00:00</td>\n",
       "      <td>17.6</td>\n",
       "      <td>5.5</td>\n",
       "      <td>45.0</td>\n",
       "      <td>50.0</td>\n",
       "      <td>17.0</td>\n",
       "      <td>24.1</td>\n",
       "      <td>94.99</td>\n",
       "      <td>NaN</td>\n",
       "      <td>NaN</td>\n",
       "      <td>Mostly Cloudy</td>\n",
       "      <td>10.56329</td>\n",
       "    </tr>\n",
       "    <tr>\n",
       "      <th>274</th>\n",
       "      <td>2018-05-22 04:00:00</td>\n",
       "      <td>YXE</td>\n",
       "      <td>SASKATOON</td>\n",
       "      <td>CST</td>\n",
       "      <td>2018-05-22 10:00:00</td>\n",
       "      <td>12.2</td>\n",
       "      <td>8.2</td>\n",
       "      <td>76.0</td>\n",
       "      <td>20.0</td>\n",
       "      <td>16.0</td>\n",
       "      <td>24.1</td>\n",
       "      <td>95.21</td>\n",
       "      <td>NaN</td>\n",
       "      <td>NaN</td>\n",
       "      <td>Mainly Clear</td>\n",
       "      <td>9.94192</td>\n",
       "    </tr>\n",
       "    <tr>\n",
       "      <th>275</th>\n",
       "      <td>2018-05-22 05:00:00</td>\n",
       "      <td>YXE</td>\n",
       "      <td>SASKATOON</td>\n",
       "      <td>CST</td>\n",
       "      <td>2018-05-22 11:00:00</td>\n",
       "      <td>12.1</td>\n",
       "      <td>8.6</td>\n",
       "      <td>79.0</td>\n",
       "      <td>60.0</td>\n",
       "      <td>16.0</td>\n",
       "      <td>24.1</td>\n",
       "      <td>95.21</td>\n",
       "      <td>NaN</td>\n",
       "      <td>NaN</td>\n",
       "      <td>Mainly Clear</td>\n",
       "      <td>9.94192</td>\n",
       "    </tr>\n",
       "    <tr>\n",
       "      <th>273</th>\n",
       "      <td>2018-05-22 03:00:00</td>\n",
       "      <td>YXE</td>\n",
       "      <td>SASKATOON</td>\n",
       "      <td>CST</td>\n",
       "      <td>2018-05-22 09:00:00</td>\n",
       "      <td>12.3</td>\n",
       "      <td>7.0</td>\n",
       "      <td>70.0</td>\n",
       "      <td>20.0</td>\n",
       "      <td>16.0</td>\n",
       "      <td>24.1</td>\n",
       "      <td>95.14</td>\n",
       "      <td>NaN</td>\n",
       "      <td>NaN</td>\n",
       "      <td>Mainly Clear</td>\n",
       "      <td>9.94192</td>\n",
       "    </tr>\n",
       "    <tr>\n",
       "      <th>267</th>\n",
       "      <td>2018-05-21 21:00:00</td>\n",
       "      <td>YXE</td>\n",
       "      <td>SASKATOON</td>\n",
       "      <td>CST</td>\n",
       "      <td>2018-05-22 03:00:00</td>\n",
       "      <td>19.4</td>\n",
       "      <td>4.7</td>\n",
       "      <td>37.0</td>\n",
       "      <td>310.0</td>\n",
       "      <td>15.0</td>\n",
       "      <td>24.1</td>\n",
       "      <td>94.88</td>\n",
       "      <td>NaN</td>\n",
       "      <td>NaN</td>\n",
       "      <td>Mostly Cloudy</td>\n",
       "      <td>9.32055</td>\n",
       "    </tr>\n",
       "    <tr>\n",
       "      <th>285</th>\n",
       "      <td>2018-05-22 15:00:00</td>\n",
       "      <td>YXE</td>\n",
       "      <td>SASKATOON</td>\n",
       "      <td>CST</td>\n",
       "      <td>2018-05-22 21:00:00</td>\n",
       "      <td>26.6</td>\n",
       "      <td>5.4</td>\n",
       "      <td>25.0</td>\n",
       "      <td>40.0</td>\n",
       "      <td>13.0</td>\n",
       "      <td>24.1</td>\n",
       "      <td>95.44</td>\n",
       "      <td>26.0</td>\n",
       "      <td>NaN</td>\n",
       "      <td>Mostly Cloudy</td>\n",
       "      <td>8.07781</td>\n",
       "    </tr>\n",
       "    <tr>\n",
       "      <th>287</th>\n",
       "      <td>2018-05-22 17:00:00</td>\n",
       "      <td>YXE</td>\n",
       "      <td>SASKATOON</td>\n",
       "      <td>CST</td>\n",
       "      <td>2018-05-22 23:00:00</td>\n",
       "      <td>26.3</td>\n",
       "      <td>4.7</td>\n",
       "      <td>25.0</td>\n",
       "      <td>80.0</td>\n",
       "      <td>12.0</td>\n",
       "      <td>24.1</td>\n",
       "      <td>95.39</td>\n",
       "      <td>25.0</td>\n",
       "      <td>NaN</td>\n",
       "      <td>Mostly Cloudy</td>\n",
       "      <td>7.45644</td>\n",
       "    </tr>\n",
       "    <tr>\n",
       "      <th>272</th>\n",
       "      <td>2018-05-22 02:00:00</td>\n",
       "      <td>YXE</td>\n",
       "      <td>SASKATOON</td>\n",
       "      <td>CST</td>\n",
       "      <td>2018-05-22 08:00:00</td>\n",
       "      <td>12.3</td>\n",
       "      <td>6.2</td>\n",
       "      <td>66.0</td>\n",
       "      <td>360.0</td>\n",
       "      <td>11.0</td>\n",
       "      <td>24.1</td>\n",
       "      <td>95.08</td>\n",
       "      <td>NaN</td>\n",
       "      <td>NaN</td>\n",
       "      <td>Mainly Clear</td>\n",
       "      <td>6.83507</td>\n",
       "    </tr>\n",
       "    <tr>\n",
       "      <th>271</th>\n",
       "      <td>2018-05-22 01:00:00</td>\n",
       "      <td>YXE</td>\n",
       "      <td>SASKATOON</td>\n",
       "      <td>CST</td>\n",
       "      <td>2018-05-22 07:00:00</td>\n",
       "      <td>13.1</td>\n",
       "      <td>5.8</td>\n",
       "      <td>61.0</td>\n",
       "      <td>30.0</td>\n",
       "      <td>11.0</td>\n",
       "      <td>24.1</td>\n",
       "      <td>95.08</td>\n",
       "      <td>NaN</td>\n",
       "      <td>NaN</td>\n",
       "      <td>Mainly Clear</td>\n",
       "      <td>6.83507</td>\n",
       "    </tr>\n",
       "    <tr>\n",
       "      <th>270</th>\n",
       "      <td>2018-05-22 00:00:00</td>\n",
       "      <td>YXE</td>\n",
       "      <td>SASKATOON</td>\n",
       "      <td>CST</td>\n",
       "      <td>2018-05-22 06:00:00</td>\n",
       "      <td>16.0</td>\n",
       "      <td>6.1</td>\n",
       "      <td>52.0</td>\n",
       "      <td>70.0</td>\n",
       "      <td>10.0</td>\n",
       "      <td>24.1</td>\n",
       "      <td>95.05</td>\n",
       "      <td>NaN</td>\n",
       "      <td>NaN</td>\n",
       "      <td>Mainly Clear</td>\n",
       "      <td>6.21370</td>\n",
       "    </tr>\n",
       "    <tr>\n",
       "      <th>278</th>\n",
       "      <td>2018-05-22 08:00:00</td>\n",
       "      <td>YXE</td>\n",
       "      <td>SASKATOON</td>\n",
       "      <td>CST</td>\n",
       "      <td>2018-05-22 14:00:00</td>\n",
       "      <td>14.2</td>\n",
       "      <td>10.5</td>\n",
       "      <td>78.0</td>\n",
       "      <td>260.0</td>\n",
       "      <td>10.0</td>\n",
       "      <td>24.1</td>\n",
       "      <td>95.39</td>\n",
       "      <td>NaN</td>\n",
       "      <td>NaN</td>\n",
       "      <td>Thunderstorms,Rain Showers</td>\n",
       "      <td>6.21370</td>\n",
       "    </tr>\n",
       "    <tr>\n",
       "      <th>284</th>\n",
       "      <td>2018-05-22 14:00:00</td>\n",
       "      <td>YXE</td>\n",
       "      <td>SASKATOON</td>\n",
       "      <td>CST</td>\n",
       "      <td>2018-05-22 20:00:00</td>\n",
       "      <td>25.5</td>\n",
       "      <td>5.8</td>\n",
       "      <td>28.0</td>\n",
       "      <td>80.0</td>\n",
       "      <td>10.0</td>\n",
       "      <td>24.1</td>\n",
       "      <td>95.46</td>\n",
       "      <td>25.0</td>\n",
       "      <td>NaN</td>\n",
       "      <td>Mainly Clear</td>\n",
       "      <td>6.21370</td>\n",
       "    </tr>\n",
       "    <tr>\n",
       "      <th>268</th>\n",
       "      <td>2018-05-21 22:00:00</td>\n",
       "      <td>YXE</td>\n",
       "      <td>SASKATOON</td>\n",
       "      <td>CST</td>\n",
       "      <td>2018-05-22 04:00:00</td>\n",
       "      <td>15.5</td>\n",
       "      <td>4.8</td>\n",
       "      <td>48.0</td>\n",
       "      <td>320.0</td>\n",
       "      <td>10.0</td>\n",
       "      <td>24.1</td>\n",
       "      <td>94.95</td>\n",
       "      <td>NaN</td>\n",
       "      <td>NaN</td>\n",
       "      <td>Mostly Cloudy</td>\n",
       "      <td>6.21370</td>\n",
       "    </tr>\n",
       "    <tr>\n",
       "      <th>277</th>\n",
       "      <td>2018-05-22 07:00:00</td>\n",
       "      <td>YXE</td>\n",
       "      <td>SASKATOON</td>\n",
       "      <td>CST</td>\n",
       "      <td>2018-05-22 13:00:00</td>\n",
       "      <td>14.0</td>\n",
       "      <td>9.9</td>\n",
       "      <td>76.0</td>\n",
       "      <td>280.0</td>\n",
       "      <td>9.0</td>\n",
       "      <td>24.1</td>\n",
       "      <td>95.32</td>\n",
       "      <td>NaN</td>\n",
       "      <td>NaN</td>\n",
       "      <td>Thunderstorms,Rain Showers</td>\n",
       "      <td>5.59233</td>\n",
       "    </tr>\n",
       "    <tr>\n",
       "      <th>279</th>\n",
       "      <td>2018-05-22 09:00:00</td>\n",
       "      <td>YXE</td>\n",
       "      <td>SASKATOON</td>\n",
       "      <td>CST</td>\n",
       "      <td>2018-05-22 15:00:00</td>\n",
       "      <td>16.0</td>\n",
       "      <td>10.3</td>\n",
       "      <td>69.0</td>\n",
       "      <td>280.0</td>\n",
       "      <td>8.0</td>\n",
       "      <td>24.1</td>\n",
       "      <td>95.45</td>\n",
       "      <td>NaN</td>\n",
       "      <td>NaN</td>\n",
       "      <td>Mostly Cloudy</td>\n",
       "      <td>4.97096</td>\n",
       "    </tr>\n",
       "    <tr>\n",
       "      <th>283</th>\n",
       "      <td>2018-05-22 13:00:00</td>\n",
       "      <td>YXE</td>\n",
       "      <td>SASKATOON</td>\n",
       "      <td>CST</td>\n",
       "      <td>2018-05-22 19:00:00</td>\n",
       "      <td>24.4</td>\n",
       "      <td>6.1</td>\n",
       "      <td>30.0</td>\n",
       "      <td>350.0</td>\n",
       "      <td>7.0</td>\n",
       "      <td>24.1</td>\n",
       "      <td>95.48</td>\n",
       "      <td>NaN</td>\n",
       "      <td>NaN</td>\n",
       "      <td>Mainly Clear</td>\n",
       "      <td>4.34959</td>\n",
       "    </tr>\n",
       "    <tr>\n",
       "      <th>286</th>\n",
       "      <td>2018-05-22 16:00:00</td>\n",
       "      <td>YXE</td>\n",
       "      <td>SASKATOON</td>\n",
       "      <td>CST</td>\n",
       "      <td>2018-05-22 22:00:00</td>\n",
       "      <td>26.1</td>\n",
       "      <td>5.8</td>\n",
       "      <td>27.0</td>\n",
       "      <td>360.0</td>\n",
       "      <td>6.0</td>\n",
       "      <td>24.1</td>\n",
       "      <td>95.39</td>\n",
       "      <td>26.0</td>\n",
       "      <td>NaN</td>\n",
       "      <td>Mostly Cloudy</td>\n",
       "      <td>3.72822</td>\n",
       "    </tr>\n",
       "    <tr>\n",
       "      <th>280</th>\n",
       "      <td>2018-05-22 10:00:00</td>\n",
       "      <td>YXE</td>\n",
       "      <td>SASKATOON</td>\n",
       "      <td>CST</td>\n",
       "      <td>2018-05-22 16:00:00</td>\n",
       "      <td>17.8</td>\n",
       "      <td>10.6</td>\n",
       "      <td>62.0</td>\n",
       "      <td>30.0</td>\n",
       "      <td>4.0</td>\n",
       "      <td>24.1</td>\n",
       "      <td>95.48</td>\n",
       "      <td>NaN</td>\n",
       "      <td>NaN</td>\n",
       "      <td>Mostly Cloudy</td>\n",
       "      <td>2.48548</td>\n",
       "    </tr>\n",
       "    <tr>\n",
       "      <th>281</th>\n",
       "      <td>2018-05-22 11:00:00</td>\n",
       "      <td>YXE</td>\n",
       "      <td>SASKATOON</td>\n",
       "      <td>CST</td>\n",
       "      <td>2018-05-22 17:00:00</td>\n",
       "      <td>21.6</td>\n",
       "      <td>8.2</td>\n",
       "      <td>42.0</td>\n",
       "      <td>80.0</td>\n",
       "      <td>4.0</td>\n",
       "      <td>24.1</td>\n",
       "      <td>95.51</td>\n",
       "      <td>NaN</td>\n",
       "      <td>NaN</td>\n",
       "      <td>Mostly Cloudy</td>\n",
       "      <td>2.48548</td>\n",
       "    </tr>\n",
       "    <tr>\n",
       "      <th>282</th>\n",
       "      <td>2018-05-22 12:00:00</td>\n",
       "      <td>YXE</td>\n",
       "      <td>SASKATOON</td>\n",
       "      <td>CST</td>\n",
       "      <td>2018-05-22 18:00:00</td>\n",
       "      <td>23.7</td>\n",
       "      <td>7.2</td>\n",
       "      <td>34.0</td>\n",
       "      <td>140.0</td>\n",
       "      <td>4.0</td>\n",
       "      <td>24.1</td>\n",
       "      <td>95.49</td>\n",
       "      <td>NaN</td>\n",
       "      <td>NaN</td>\n",
       "      <td>Mainly Clear</td>\n",
       "      <td>2.48548</td>\n",
       "    </tr>\n",
       "  </tbody>\n",
       "</table>\n",
       "</div>"
      ],
      "text/plain": [
       "    Datetime (Local Standard) Station ID Station Name Timezone  \\\n",
       "264       2018-05-21 18:00:00        YXE    SASKATOON      CST   \n",
       "276       2018-05-22 06:00:00        YXE    SASKATOON      CST   \n",
       "266       2018-05-21 20:00:00        YXE    SASKATOON      CST   \n",
       "265       2018-05-21 19:00:00        YXE    SASKATOON      CST   \n",
       "269       2018-05-21 23:00:00        YXE    SASKATOON      CST   \n",
       "274       2018-05-22 04:00:00        YXE    SASKATOON      CST   \n",
       "275       2018-05-22 05:00:00        YXE    SASKATOON      CST   \n",
       "273       2018-05-22 03:00:00        YXE    SASKATOON      CST   \n",
       "267       2018-05-21 21:00:00        YXE    SASKATOON      CST   \n",
       "285       2018-05-22 15:00:00        YXE    SASKATOON      CST   \n",
       "287       2018-05-22 17:00:00        YXE    SASKATOON      CST   \n",
       "272       2018-05-22 02:00:00        YXE    SASKATOON      CST   \n",
       "271       2018-05-22 01:00:00        YXE    SASKATOON      CST   \n",
       "270       2018-05-22 00:00:00        YXE    SASKATOON      CST   \n",
       "278       2018-05-22 08:00:00        YXE    SASKATOON      CST   \n",
       "284       2018-05-22 14:00:00        YXE    SASKATOON      CST   \n",
       "268       2018-05-21 22:00:00        YXE    SASKATOON      CST   \n",
       "277       2018-05-22 07:00:00        YXE    SASKATOON      CST   \n",
       "279       2018-05-22 09:00:00        YXE    SASKATOON      CST   \n",
       "283       2018-05-22 13:00:00        YXE    SASKATOON      CST   \n",
       "286       2018-05-22 16:00:00        YXE    SASKATOON      CST   \n",
       "280       2018-05-22 10:00:00        YXE    SASKATOON      CST   \n",
       "281       2018-05-22 11:00:00        YXE    SASKATOON      CST   \n",
       "282       2018-05-22 12:00:00        YXE    SASKATOON      CST   \n",
       "\n",
       "          Datetime (UTC)  Temp (deg C)  Dew Point Temp (deg C)  Rel Hum (%)  \\\n",
       "264  2018-05-22 00:00:00          28.6                     4.9         22.0   \n",
       "276  2018-05-22 12:00:00          15.2                     9.5         69.0   \n",
       "266  2018-05-22 02:00:00          24.4                     3.8         26.0   \n",
       "265  2018-05-22 01:00:00          28.5                     4.7         22.0   \n",
       "269  2018-05-22 05:00:00          17.6                     5.5         45.0   \n",
       "274  2018-05-22 10:00:00          12.2                     8.2         76.0   \n",
       "275  2018-05-22 11:00:00          12.1                     8.6         79.0   \n",
       "273  2018-05-22 09:00:00          12.3                     7.0         70.0   \n",
       "267  2018-05-22 03:00:00          19.4                     4.7         37.0   \n",
       "285  2018-05-22 21:00:00          26.6                     5.4         25.0   \n",
       "287  2018-05-22 23:00:00          26.3                     4.7         25.0   \n",
       "272  2018-05-22 08:00:00          12.3                     6.2         66.0   \n",
       "271  2018-05-22 07:00:00          13.1                     5.8         61.0   \n",
       "270  2018-05-22 06:00:00          16.0                     6.1         52.0   \n",
       "278  2018-05-22 14:00:00          14.2                    10.5         78.0   \n",
       "284  2018-05-22 20:00:00          25.5                     5.8         28.0   \n",
       "268  2018-05-22 04:00:00          15.5                     4.8         48.0   \n",
       "277  2018-05-22 13:00:00          14.0                     9.9         76.0   \n",
       "279  2018-05-22 15:00:00          16.0                    10.3         69.0   \n",
       "283  2018-05-22 19:00:00          24.4                     6.1         30.0   \n",
       "286  2018-05-22 22:00:00          26.1                     5.8         27.0   \n",
       "280  2018-05-22 16:00:00          17.8                    10.6         62.0   \n",
       "281  2018-05-22 17:00:00          21.6                     8.2         42.0   \n",
       "282  2018-05-22 18:00:00          23.7                     7.2         34.0   \n",
       "\n",
       "     Wind Dir (deg)  Wind Spd (km/h)  Visibility (km)  Pressure (kPa)  Hmdx  \\\n",
       "264           310.0             26.0             24.1           94.79  28.0   \n",
       "276           310.0             20.0             19.3           95.26   NaN   \n",
       "266           310.0             19.0             24.1           94.84   NaN   \n",
       "265           310.0             19.0             24.1           94.80  28.0   \n",
       "269            50.0             17.0             24.1           94.99   NaN   \n",
       "274            20.0             16.0             24.1           95.21   NaN   \n",
       "275            60.0             16.0             24.1           95.21   NaN   \n",
       "273            20.0             16.0             24.1           95.14   NaN   \n",
       "267           310.0             15.0             24.1           94.88   NaN   \n",
       "285            40.0             13.0             24.1           95.44  26.0   \n",
       "287            80.0             12.0             24.1           95.39  25.0   \n",
       "272           360.0             11.0             24.1           95.08   NaN   \n",
       "271            30.0             11.0             24.1           95.08   NaN   \n",
       "270            70.0             10.0             24.1           95.05   NaN   \n",
       "278           260.0             10.0             24.1           95.39   NaN   \n",
       "284            80.0             10.0             24.1           95.46  25.0   \n",
       "268           320.0             10.0             24.1           94.95   NaN   \n",
       "277           280.0              9.0             24.1           95.32   NaN   \n",
       "279           280.0              8.0             24.1           95.45   NaN   \n",
       "283           350.0              7.0             24.1           95.48   NaN   \n",
       "286           360.0              6.0             24.1           95.39  26.0   \n",
       "280            30.0              4.0             24.1           95.48   NaN   \n",
       "281            80.0              4.0             24.1           95.51   NaN   \n",
       "282           140.0              4.0             24.1           95.49   NaN   \n",
       "\n",
       "     Wind Chill                  Conditions  Wind Spd (mph)  \n",
       "264         NaN               Mostly Cloudy        16.15562  \n",
       "276         NaN               Mostly Cloudy        12.42740  \n",
       "266         NaN               Mostly Cloudy        11.80603  \n",
       "265         NaN               Mostly Cloudy        11.80603  \n",
       "269         NaN               Mostly Cloudy        10.56329  \n",
       "274         NaN                Mainly Clear         9.94192  \n",
       "275         NaN                Mainly Clear         9.94192  \n",
       "273         NaN                Mainly Clear         9.94192  \n",
       "267         NaN               Mostly Cloudy         9.32055  \n",
       "285         NaN               Mostly Cloudy         8.07781  \n",
       "287         NaN               Mostly Cloudy         7.45644  \n",
       "272         NaN                Mainly Clear         6.83507  \n",
       "271         NaN                Mainly Clear         6.83507  \n",
       "270         NaN                Mainly Clear         6.21370  \n",
       "278         NaN  Thunderstorms,Rain Showers         6.21370  \n",
       "284         NaN                Mainly Clear         6.21370  \n",
       "268         NaN               Mostly Cloudy         6.21370  \n",
       "277         NaN  Thunderstorms,Rain Showers         5.59233  \n",
       "279         NaN               Mostly Cloudy         4.97096  \n",
       "283         NaN                Mainly Clear         4.34959  \n",
       "286         NaN               Mostly Cloudy         3.72822  \n",
       "280         NaN               Mostly Cloudy         2.48548  \n",
       "281         NaN               Mostly Cloudy         2.48548  \n",
       "282         NaN                Mainly Clear         2.48548  "
      ]
     },
     "execution_count": 29,
     "metadata": {},
     "output_type": "execute_result"
    }
   ],
   "source": [
    "# Sort on wind speed in descending order\n",
    "weather_sk.sort_values('Wind Spd (km/h)', ascending=False)"
   ]
  },
  {
   "cell_type": "markdown",
   "metadata": {},
   "source": [
    "- The fastest wind speed is 26 km/h at local time 2018-05-21 18:00, and temperature 28.6 C. "
   ]
  },
  {
   "cell_type": "markdown",
   "metadata": {
    "slideshow": {
     "slide_type": "slide"
    }
   },
   "source": [
    "c) Compute the mean values for the Saskatoon data."
   ]
  },
  {
   "cell_type": "code",
   "execution_count": 30,
   "metadata": {},
   "outputs": [
    {
     "data": {
      "text/plain": [
       "Temp (deg C)               19.308333\n",
       "Dew Point Temp (deg C)      6.845833\n",
       "Rel Hum (%)                48.708333\n",
       "Wind Dir (deg)            185.833333\n",
       "Wind Spd (km/h)            12.208333\n",
       "Visibility (km)            23.900000\n",
       "Pressure (kPa)             95.211667\n",
       "Hmdx                       26.333333\n",
       "Wind Chill                       NaN\n",
       "Wind Spd (mph)              7.585892\n",
       "dtype: float64"
      ]
     },
     "execution_count": 30,
     "metadata": {},
     "output_type": "execute_result"
    }
   ],
   "source": [
    "weather_sk.mean()"
   ]
  },
  {
   "cell_type": "markdown",
   "metadata": {
    "slideshow": {
     "slide_type": "slide"
    }
   },
   "source": [
    "---\n",
    "# Exercise 2.2\n",
    "\n",
    "For this exercise, we'll be working with `'data/bc-popular-girls-names.csv'`:\n",
    "- 100 years of baby girl names in British Columbia (1915-2014)\n",
    "- The data includes every first name that was chosen five or more times in a given year\n",
    "- Each row corresponds to one name and one year\n",
    "  - `'Count'` column: total count for that name in that year\n",
    "  - `'Fraction'` column: this name's share of the total of all baby girls for that year\n",
    "  \n",
    "a) Read the data file into a DataFrame and display summary statistics with the `describe` method.\n",
    "\n",
    "- (i) What are the range of values (minimum and maximum) for the `'Year'`, `'Count'`, and `'Fraction'` columns? \n",
    "- (ii) The maximum value of `'Count'` represents the highest count of baby girls with the same name in a single year &mdash; what were this name and year?\n",
    "- (iii) The maximum value of `'Fraction'` represents the highest _fraction_ (out of the total births for that year) of baby girls with the same name; what were this name and year? How do the count and fraction for this name and year compare with the values for the name/year from part (ii)?"
   ]
  },
  {
   "cell_type": "code",
   "execution_count": 31,
   "metadata": {},
   "outputs": [
    {
     "data": {
      "text/html": [
       "<div>\n",
       "<style scoped>\n",
       "    .dataframe tbody tr th:only-of-type {\n",
       "        vertical-align: middle;\n",
       "    }\n",
       "\n",
       "    .dataframe tbody tr th {\n",
       "        vertical-align: top;\n",
       "    }\n",
       "\n",
       "    .dataframe thead th {\n",
       "        text-align: right;\n",
       "    }\n",
       "</style>\n",
       "<table border=\"1\" class=\"dataframe\">\n",
       "  <thead>\n",
       "    <tr style=\"text-align: right;\">\n",
       "      <th></th>\n",
       "      <th>Name</th>\n",
       "      <th>Year</th>\n",
       "      <th>Count</th>\n",
       "      <th>Fraction</th>\n",
       "    </tr>\n",
       "  </thead>\n",
       "  <tbody>\n",
       "    <tr>\n",
       "      <th>0</th>\n",
       "      <td>AALIYAH</td>\n",
       "      <td>2000</td>\n",
       "      <td>6</td>\n",
       "      <td>0.000433</td>\n",
       "    </tr>\n",
       "    <tr>\n",
       "      <th>1</th>\n",
       "      <td>AALIYAH</td>\n",
       "      <td>2001</td>\n",
       "      <td>13</td>\n",
       "      <td>0.000948</td>\n",
       "    </tr>\n",
       "    <tr>\n",
       "      <th>2</th>\n",
       "      <td>AALIYAH</td>\n",
       "      <td>2002</td>\n",
       "      <td>17</td>\n",
       "      <td>0.001271</td>\n",
       "    </tr>\n",
       "    <tr>\n",
       "      <th>3</th>\n",
       "      <td>AALIYAH</td>\n",
       "      <td>2003</td>\n",
       "      <td>23</td>\n",
       "      <td>0.001700</td>\n",
       "    </tr>\n",
       "    <tr>\n",
       "      <th>4</th>\n",
       "      <td>AALIYAH</td>\n",
       "      <td>2004</td>\n",
       "      <td>22</td>\n",
       "      <td>0.001644</td>\n",
       "    </tr>\n",
       "  </tbody>\n",
       "</table>\n",
       "</div>"
      ],
      "text/plain": [
       "      Name  Year  Count  Fraction\n",
       "0  AALIYAH  2000      6  0.000433\n",
       "1  AALIYAH  2001     13  0.000948\n",
       "2  AALIYAH  2002     17  0.001271\n",
       "3  AALIYAH  2003     23  0.001700\n",
       "4  AALIYAH  2004     22  0.001644"
      ]
     },
     "execution_count": 31,
     "metadata": {},
     "output_type": "execute_result"
    }
   ],
   "source": [
    "# Read the data\n",
    "girls = pd.read_csv('../data/bc-popular-girls-names.csv')\n",
    "girls.head()"
   ]
  },
  {
   "cell_type": "code",
   "execution_count": 32,
   "metadata": {},
   "outputs": [
    {
     "data": {
      "text/html": [
       "<div>\n",
       "<style scoped>\n",
       "    .dataframe tbody tr th:only-of-type {\n",
       "        vertical-align: middle;\n",
       "    }\n",
       "\n",
       "    .dataframe tbody tr th {\n",
       "        vertical-align: top;\n",
       "    }\n",
       "\n",
       "    .dataframe thead th {\n",
       "        text-align: right;\n",
       "    }\n",
       "</style>\n",
       "<table border=\"1\" class=\"dataframe\">\n",
       "  <thead>\n",
       "    <tr style=\"text-align: right;\">\n",
       "      <th></th>\n",
       "      <th>Year</th>\n",
       "      <th>Count</th>\n",
       "      <th>Fraction</th>\n",
       "    </tr>\n",
       "  </thead>\n",
       "  <tbody>\n",
       "    <tr>\n",
       "      <th>count</th>\n",
       "      <td>42967.000000</td>\n",
       "      <td>42967.000000</td>\n",
       "      <td>42967.000000</td>\n",
       "    </tr>\n",
       "    <tr>\n",
       "      <th>mean</th>\n",
       "      <td>1977.314730</td>\n",
       "      <td>26.856751</td>\n",
       "      <td>0.002327</td>\n",
       "    </tr>\n",
       "    <tr>\n",
       "      <th>std</th>\n",
       "      <td>26.135844</td>\n",
       "      <td>45.267164</td>\n",
       "      <td>0.004126</td>\n",
       "    </tr>\n",
       "    <tr>\n",
       "      <th>min</th>\n",
       "      <td>1915.000000</td>\n",
       "      <td>5.000000</td>\n",
       "      <td>0.000290</td>\n",
       "    </tr>\n",
       "    <tr>\n",
       "      <th>25%</th>\n",
       "      <td>1959.000000</td>\n",
       "      <td>7.000000</td>\n",
       "      <td>0.000490</td>\n",
       "    </tr>\n",
       "    <tr>\n",
       "      <th>50%</th>\n",
       "      <td>1982.000000</td>\n",
       "      <td>11.000000</td>\n",
       "      <td>0.000946</td>\n",
       "    </tr>\n",
       "    <tr>\n",
       "      <th>75%</th>\n",
       "      <td>1999.000000</td>\n",
       "      <td>26.000000</td>\n",
       "      <td>0.002288</td>\n",
       "    </tr>\n",
       "    <tr>\n",
       "      <th>max</th>\n",
       "      <td>2014.000000</td>\n",
       "      <td>765.000000</td>\n",
       "      <td>0.068581</td>\n",
       "    </tr>\n",
       "  </tbody>\n",
       "</table>\n",
       "</div>"
      ],
      "text/plain": [
       "               Year         Count      Fraction\n",
       "count  42967.000000  42967.000000  42967.000000\n",
       "mean    1977.314730     26.856751      0.002327\n",
       "std       26.135844     45.267164      0.004126\n",
       "min     1915.000000      5.000000      0.000290\n",
       "25%     1959.000000      7.000000      0.000490\n",
       "50%     1982.000000     11.000000      0.000946\n",
       "75%     1999.000000     26.000000      0.002288\n",
       "max     2014.000000    765.000000      0.068581"
      ]
     },
     "execution_count": 32,
     "metadata": {},
     "output_type": "execute_result"
    }
   ],
   "source": [
    "# Display summary statistics\n",
    "girls.describe()"
   ]
  },
  {
   "cell_type": "markdown",
   "metadata": {},
   "source": [
    "- The range of years is 1915-2014, the range of counts is 5-765, and the range of fractions is 0.00029-0.068581."
   ]
  },
  {
   "cell_type": "code",
   "execution_count": 33,
   "metadata": {},
   "outputs": [
    {
     "data": {
      "text/html": [
       "<div>\n",
       "<style scoped>\n",
       "    .dataframe tbody tr th:only-of-type {\n",
       "        vertical-align: middle;\n",
       "    }\n",
       "\n",
       "    .dataframe tbody tr th {\n",
       "        vertical-align: top;\n",
       "    }\n",
       "\n",
       "    .dataframe thead th {\n",
       "        text-align: right;\n",
       "    }\n",
       "</style>\n",
       "<table border=\"1\" class=\"dataframe\">\n",
       "  <thead>\n",
       "    <tr style=\"text-align: right;\">\n",
       "      <th></th>\n",
       "      <th>Name</th>\n",
       "      <th>Year</th>\n",
       "      <th>Count</th>\n",
       "      <th>Fraction</th>\n",
       "    </tr>\n",
       "  </thead>\n",
       "  <tbody>\n",
       "    <tr>\n",
       "      <th>19251</th>\n",
       "      <td>JENNIFER</td>\n",
       "      <td>1984</td>\n",
       "      <td>765</td>\n",
       "      <td>0.044755</td>\n",
       "    </tr>\n",
       "    <tr>\n",
       "      <th>19243</th>\n",
       "      <td>JENNIFER</td>\n",
       "      <td>1976</td>\n",
       "      <td>731</td>\n",
       "      <td>0.054208</td>\n",
       "    </tr>\n",
       "    <tr>\n",
       "      <th>19249</th>\n",
       "      <td>JENNIFER</td>\n",
       "      <td>1982</td>\n",
       "      <td>714</td>\n",
       "      <td>0.043244</td>\n",
       "    </tr>\n",
       "    <tr>\n",
       "      <th>19248</th>\n",
       "      <td>JENNIFER</td>\n",
       "      <td>1981</td>\n",
       "      <td>708</td>\n",
       "      <td>0.044011</td>\n",
       "    </tr>\n",
       "    <tr>\n",
       "      <th>19247</th>\n",
       "      <td>JENNIFER</td>\n",
       "      <td>1980</td>\n",
       "      <td>706</td>\n",
       "      <td>0.045344</td>\n",
       "    </tr>\n",
       "  </tbody>\n",
       "</table>\n",
       "</div>"
      ],
      "text/plain": [
       "           Name  Year  Count  Fraction\n",
       "19251  JENNIFER  1984    765  0.044755\n",
       "19243  JENNIFER  1976    731  0.054208\n",
       "19249  JENNIFER  1982    714  0.043244\n",
       "19248  JENNIFER  1981    708  0.044011\n",
       "19247  JENNIFER  1980    706  0.045344"
      ]
     },
     "execution_count": 33,
     "metadata": {},
     "output_type": "execute_result"
    }
   ],
   "source": [
    "# Use sorting to find the name and year corresponding to the maximum count\n",
    "girls.sort_values('Count', ascending=False).head()"
   ]
  },
  {
   "cell_type": "markdown",
   "metadata": {},
   "source": [
    "- The highest count of baby girls with the same name in a single year was for the name Jennifer in 1984."
   ]
  },
  {
   "cell_type": "code",
   "execution_count": 34,
   "metadata": {},
   "outputs": [
    {
     "data": {
      "text/html": [
       "<div>\n",
       "<style scoped>\n",
       "    .dataframe tbody tr th:only-of-type {\n",
       "        vertical-align: middle;\n",
       "    }\n",
       "\n",
       "    .dataframe tbody tr th {\n",
       "        vertical-align: top;\n",
       "    }\n",
       "\n",
       "    .dataframe thead th {\n",
       "        text-align: right;\n",
       "    }\n",
       "</style>\n",
       "<table border=\"1\" class=\"dataframe\">\n",
       "  <thead>\n",
       "    <tr style=\"text-align: right;\">\n",
       "      <th></th>\n",
       "      <th>Name</th>\n",
       "      <th>Year</th>\n",
       "      <th>Count</th>\n",
       "      <th>Fraction</th>\n",
       "    </tr>\n",
       "  </thead>\n",
       "  <tbody>\n",
       "    <tr>\n",
       "      <th>29585</th>\n",
       "      <td>MARY</td>\n",
       "      <td>1922</td>\n",
       "      <td>289</td>\n",
       "      <td>0.068581</td>\n",
       "    </tr>\n",
       "    <tr>\n",
       "      <th>29586</th>\n",
       "      <td>MARY</td>\n",
       "      <td>1923</td>\n",
       "      <td>276</td>\n",
       "      <td>0.067813</td>\n",
       "    </tr>\n",
       "    <tr>\n",
       "      <th>29579</th>\n",
       "      <td>MARY</td>\n",
       "      <td>1916</td>\n",
       "      <td>242</td>\n",
       "      <td>0.067466</td>\n",
       "    </tr>\n",
       "    <tr>\n",
       "      <th>29578</th>\n",
       "      <td>MARY</td>\n",
       "      <td>1915</td>\n",
       "      <td>269</td>\n",
       "      <td>0.067250</td>\n",
       "    </tr>\n",
       "    <tr>\n",
       "      <th>29582</th>\n",
       "      <td>MARY</td>\n",
       "      <td>1919</td>\n",
       "      <td>229</td>\n",
       "      <td>0.066550</td>\n",
       "    </tr>\n",
       "  </tbody>\n",
       "</table>\n",
       "</div>"
      ],
      "text/plain": [
       "       Name  Year  Count  Fraction\n",
       "29585  MARY  1922    289  0.068581\n",
       "29586  MARY  1923    276  0.067813\n",
       "29579  MARY  1916    242  0.067466\n",
       "29578  MARY  1915    269  0.067250\n",
       "29582  MARY  1919    229  0.066550"
      ]
     },
     "execution_count": 34,
     "metadata": {},
     "output_type": "execute_result"
    }
   ],
   "source": [
    "# Use sorting to find the name and year corresponding to the maximum fraction\n",
    "girls.sort_values('Fraction', ascending=False).head()"
   ]
  },
  {
   "cell_type": "markdown",
   "metadata": {},
   "source": [
    "- The highest fraction of baby girls with the same name in a single year was for the name Mary in 1922, with a share of about 6.9% of the total, and a count of 289. In contrast, the name Jennifer in 1984 accounted for about 4.5% of the total, with a count of 765. It's interesting that the most popular girl name in 1922 comprised a much larger share of the total compared to the fraction for the name Jennifer in 1984."
   ]
  },
  {
   "cell_type": "markdown",
   "metadata": {
    "slideshow": {
     "slide_type": "slide"
    }
   },
   "source": [
    "b) Aggregate the data by grouping on the `'Year'` column and taking the `sum`. The `'Count'` column of the resulting DataFrame represents the total number of baby girls per year in this data&mdash;create a line plot of this column."
   ]
  },
  {
   "cell_type": "code",
   "execution_count": 35,
   "metadata": {},
   "outputs": [
    {
     "data": {
      "text/html": [
       "<div>\n",
       "<style scoped>\n",
       "    .dataframe tbody tr th:only-of-type {\n",
       "        vertical-align: middle;\n",
       "    }\n",
       "\n",
       "    .dataframe tbody tr th {\n",
       "        vertical-align: top;\n",
       "    }\n",
       "\n",
       "    .dataframe thead th {\n",
       "        text-align: right;\n",
       "    }\n",
       "</style>\n",
       "<table border=\"1\" class=\"dataframe\">\n",
       "  <thead>\n",
       "    <tr style=\"text-align: right;\">\n",
       "      <th></th>\n",
       "      <th>Count</th>\n",
       "      <th>Fraction</th>\n",
       "    </tr>\n",
       "    <tr>\n",
       "      <th>Year</th>\n",
       "      <th></th>\n",
       "      <th></th>\n",
       "    </tr>\n",
       "  </thead>\n",
       "  <tbody>\n",
       "    <tr>\n",
       "      <th>1915</th>\n",
       "      <td>4000</td>\n",
       "      <td>1.0</td>\n",
       "    </tr>\n",
       "    <tr>\n",
       "      <th>1916</th>\n",
       "      <td>3587</td>\n",
       "      <td>1.0</td>\n",
       "    </tr>\n",
       "    <tr>\n",
       "      <th>1917</th>\n",
       "      <td>3287</td>\n",
       "      <td>1.0</td>\n",
       "    </tr>\n",
       "    <tr>\n",
       "      <th>1918</th>\n",
       "      <td>3279</td>\n",
       "      <td>1.0</td>\n",
       "    </tr>\n",
       "    <tr>\n",
       "      <th>1919</th>\n",
       "      <td>3441</td>\n",
       "      <td>1.0</td>\n",
       "    </tr>\n",
       "  </tbody>\n",
       "</table>\n",
       "</div>"
      ],
      "text/plain": [
       "      Count  Fraction\n",
       "Year                 \n",
       "1915   4000       1.0\n",
       "1916   3587       1.0\n",
       "1917   3287       1.0\n",
       "1918   3279       1.0\n",
       "1919   3441       1.0"
      ]
     },
     "execution_count": 35,
     "metadata": {},
     "output_type": "execute_result"
    }
   ],
   "source": [
    "# Group by year and aggregate with sum\n",
    "girls_per_year = girls.groupby('Year').sum()\n",
    "girls_per_year.head()"
   ]
  },
  {
   "cell_type": "code",
   "execution_count": 36,
   "metadata": {},
   "outputs": [
    {
     "data": {
      "image/png": "[encoded data removed]",
      "text/plain": [
       "<matplotlib.figure.Figure at 0x1d9196a0cf8>"
      ]
     },
     "metadata": {},
     "output_type": "display_data"
    }
   ],
   "source": [
    "# Create a line plot using the kind='line' keyword argument\n",
    "girls_per_year['Count'].plot(kind='line');"
   ]
  },
  {
   "cell_type": "markdown",
   "metadata": {
    "slideshow": {
     "slide_type": "slide"
    }
   },
   "source": [
    "c) Compute the grand total for each name over the whole 100 years by grouping on `'Name'` and taking the `sum`. Extract the `'Count'` column from this DataFrame (it's the only column that is meaningful in this aggregation) and use this Series to find the top 10 most common girls names and plot their grand totals in a bar chart."
   ]
  },
  {
   "cell_type": "code",
   "execution_count": 37,
   "metadata": {},
   "outputs": [
    {
     "data": {
      "text/html": [
       "<div>\n",
       "<style scoped>\n",
       "    .dataframe tbody tr th:only-of-type {\n",
       "        vertical-align: middle;\n",
       "    }\n",
       "\n",
       "    .dataframe tbody tr th {\n",
       "        vertical-align: top;\n",
       "    }\n",
       "\n",
       "    .dataframe thead th {\n",
       "        text-align: right;\n",
       "    }\n",
       "</style>\n",
       "<table border=\"1\" class=\"dataframe\">\n",
       "  <thead>\n",
       "    <tr style=\"text-align: right;\">\n",
       "      <th></th>\n",
       "      <th>Year</th>\n",
       "      <th>Count</th>\n",
       "      <th>Fraction</th>\n",
       "    </tr>\n",
       "    <tr>\n",
       "      <th>Name</th>\n",
       "      <th></th>\n",
       "      <th></th>\n",
       "      <th></th>\n",
       "    </tr>\n",
       "  </thead>\n",
       "  <tbody>\n",
       "    <tr>\n",
       "      <th>AALIYAH</th>\n",
       "      <td>30105</td>\n",
       "      <td>308</td>\n",
       "      <td>0.021833</td>\n",
       "    </tr>\n",
       "    <tr>\n",
       "      <th>AANYA</th>\n",
       "      <td>4022</td>\n",
       "      <td>12</td>\n",
       "      <td>0.000839</td>\n",
       "    </tr>\n",
       "    <tr>\n",
       "      <th>AARYA</th>\n",
       "      <td>4027</td>\n",
       "      <td>11</td>\n",
       "      <td>0.000754</td>\n",
       "    </tr>\n",
       "    <tr>\n",
       "      <th>ABBEY</th>\n",
       "      <td>28029</td>\n",
       "      <td>127</td>\n",
       "      <td>0.008919</td>\n",
       "    </tr>\n",
       "    <tr>\n",
       "      <th>ABBIE</th>\n",
       "      <td>14042</td>\n",
       "      <td>40</td>\n",
       "      <td>0.002845</td>\n",
       "    </tr>\n",
       "  </tbody>\n",
       "</table>\n",
       "</div>"
      ],
      "text/plain": [
       "          Year  Count  Fraction\n",
       "Name                           \n",
       "AALIYAH  30105    308  0.021833\n",
       "AANYA     4022     12  0.000839\n",
       "AARYA     4027     11  0.000754\n",
       "ABBEY    28029    127  0.008919\n",
       "ABBIE    14042     40  0.002845"
      ]
     },
     "execution_count": 37,
     "metadata": {},
     "output_type": "execute_result"
    }
   ],
   "source": [
    "# Grand total (sum) for each name\n",
    "grand_totals = girls.groupby('Name').sum()\n",
    "grand_totals.head()"
   ]
  },
  {
   "cell_type": "code",
   "execution_count": 38,
   "metadata": {},
   "outputs": [
    {
     "data": {
      "image/png": "[encoded data removed]",
      "text/plain": [
       "<matplotlib.figure.Figure at 0x1d91a9cc7f0>"
      ]
     },
     "metadata": {},
     "output_type": "display_data"
    }
   ],
   "source": [
    "# Create sorted Series of counts\n",
    "sorted_counts = grand_totals['Count'].sort_values(ascending=False)\n",
    "\n",
    "# Plot the first ten rows\n",
    "sorted_counts.head(10).plot(kind='bar');"
   ]
  },
  {
   "cell_type": "markdown",
   "metadata": {
    "slideshow": {
     "slide_type": "slide"
    }
   },
   "source": [
    "d) Create a filter to extract the data rows for the name `'MARY'`. To explore the popularity of this name over time, create a line plot of this name's share of the total in each year by plotting the `'Fraction'` column vs. the `'Year'` column, with the name `'MARY'` as title.\n",
    "- Repeat the above steps for `'JENNIFER'` and any other name(s) of interest (if they're in the data)\n",
    "- How do the trends over time for the name Mary compare with the name Jennifer?\n",
    "\n",
    "_Hint: Check out the documentation for the `plot` method of a DataFrame. You'll see a `title` keyword argument, as well as a couple of extra keyword arguments (`x` and `y`) that aren't in `plot` method for a Series._"
   ]
  },
  {
   "cell_type": "code",
   "execution_count": 39,
   "metadata": {},
   "outputs": [
    {
     "data": {
      "image/png": "[encoded data removed]",
      "text/plain": [
       "<matplotlib.figure.Figure at 0x1d91aa1d630>"
      ]
     },
     "metadata": {},
     "output_type": "display_data"
    }
   ],
   "source": [
    "# Create a filter\n",
    "mary = girls['Name'] == 'MARY'\n",
    "\n",
    "# Create a line plot for the subset\n",
    "girls[mary].plot(x='Year', y='Fraction', title='MARY');"
   ]
  },
  {
   "cell_type": "code",
   "execution_count": 40,
   "metadata": {},
   "outputs": [
    {
     "data": {
      "image/png": "[encoded data removed]",
      "text/plain": [
       "<matplotlib.figure.Figure at 0x1d91a9ccef0>"
      ]
     },
     "metadata": {},
     "output_type": "display_data"
    }
   ],
   "source": [
    "# Repeat the above steps for another name\n",
    "name = 'JENNIFER'\n",
    "name_filter = girls['Name'] == name\n",
    "\n",
    "# Create a line plot for the subset\n",
    "girls[name_filter].plot(x='Year', y='Fraction', title=name);"
   ]
  },
  {
   "cell_type": "markdown",
   "metadata": {},
   "source": [
    "- The names Mary and Jennifer have very different patterns of popularity over time! Mary was hugely popular in the beginning of this 100-year period, but has been on a fairly steady decline since then, whereas Jennifer had a big peak in the 1970s-1990s, but was much less popular before and after."
   ]
  },
  {
   "cell_type": "markdown",
   "metadata": {
    "slideshow": {
     "slide_type": "slide"
    }
   },
   "source": [
    "##### Bonus Exercises\n",
    "\n",
    "e) Most popular names in recent years: Compute grand totals for each name, as in part (c), but only including the years from 2000 onwards. What are the top 10 most common girls names from 2000-present?"
   ]
  },
  {
   "cell_type": "code",
   "execution_count": 41,
   "metadata": {},
   "outputs": [
    {
     "data": {
      "text/plain": [
       "Name\n",
       "EMMA        3767\n",
       "EMILY       3616\n",
       "OLIVIA      3369\n",
       "HANNAH      2585\n",
       "SOPHIA      2542\n",
       "AVA         2355\n",
       "MADISON     2152\n",
       "SARAH       2110\n",
       "ISABELLA    2094\n",
       "CHLOE       2045\n",
       "Name: Count, dtype: int64"
      ]
     },
     "execution_count": 41,
     "metadata": {},
     "output_type": "execute_result"
    }
   ],
   "source": [
    "# Create a filter and extract subset of rows from the data\n",
    "recent = girls['Year'] >= 2000\n",
    "girls_recent = girls[recent]\n",
    "\n",
    "# Group by name and aggregate with sum\n",
    "totals_recent = girls_recent.groupby('Name').sum()\n",
    "\n",
    "# Sort the counts and display the top 10\n",
    "recent_counts = totals_recent['Count'].sort_values(ascending=False)\n",
    "recent_counts.head(10)"
   ]
  },
  {
   "cell_type": "markdown",
   "metadata": {
    "slideshow": {
     "slide_type": "slide"
    }
   },
   "source": [
    "f) Trends in name diversity: Compute the number of unique names per year and plot this data as a line chart. How has name diversity evolved over time?\n",
    "\n",
    "_Hint: The data is organized such that for each year, there is exactly one row for each unique name in that year, so grouping on `'Year'` and aggregating with `count` will give the unique count we're looking for._"
   ]
  },
  {
   "cell_type": "code",
   "execution_count": 42,
   "metadata": {},
   "outputs": [
    {
     "data": {
      "text/plain": [
       "Year\n",
       "1915    168\n",
       "1916    153\n",
       "1917    159\n",
       "1918    159\n",
       "1919    160\n",
       "Name: Name, dtype: int64"
      ]
     },
     "execution_count": 42,
     "metadata": {},
     "output_type": "execute_result"
    }
   ],
   "source": [
    "# Group by year and aggregate with count\n",
    "names_per_year = girls.groupby('Year').count()\n",
    "\n",
    "# The three columns all contain the same data, so we can pick any one of them\n",
    "names_per_year = names_per_year['Name']\n",
    "names_per_year.head()"
   ]
  },
  {
   "cell_type": "code",
   "execution_count": 43,
   "metadata": {},
   "outputs": [
    {
     "data": {
      "image/png": "[encoded data removed]",
      "text/plain": [
       "<matplotlib.figure.Figure at 0x1d91aabde48>"
      ]
     },
     "metadata": {},
     "output_type": "display_data"
    }
   ],
   "source": [
    "names_per_year.plot(kind='line');"
   ]
  },
  {
   "cell_type": "code",
   "execution_count": 44,
   "metadata": {},
   "outputs": [
    {
     "data": {
      "text/plain": [
       "153"
      ]
     },
     "execution_count": 44,
     "metadata": {},
     "output_type": "execute_result"
    }
   ],
   "source": [
    "# Fewest number of unique names\n",
    "names_per_year.min()"
   ]
  },
  {
   "cell_type": "code",
   "execution_count": 45,
   "metadata": {},
   "outputs": [
    {
     "data": {
      "text/plain": [
       "787"
      ]
     },
     "execution_count": 45,
     "metadata": {},
     "output_type": "execute_result"
    }
   ],
   "source": [
    "# Largest number of unique names\n",
    "names_per_year.max()"
   ]
  },
  {
   "cell_type": "markdown",
   "metadata": {},
   "source": [
    "- The number of unique names has been growing drastically over time! From a low of only 153 unique names near the start of the 100-year period, up to nearly 800 unique names in recent years."
   ]
  },
  {
   "cell_type": "markdown",
   "metadata": {
    "slideshow": {
     "slide_type": "slide"
    }
   },
   "source": [
    "g) Compute 100-year summary statistics grouped by name as in part (c), but with the following modifications:\n",
    "- Use the `agg` function to calculate the following statistics for each name:\n",
    "  - For the `'Year'` column: earliest year, latest year, number of years\n",
    "  - For the `'Count'` column: grand total (sum), lowest yearly count, highest yearly count, mean yearly count\n",
    "- Display a random sampling of 50 rows of the resulting DataFrame with the `sample` method."
   ]
  },
  {
   "cell_type": "code",
   "execution_count": 46,
   "metadata": {},
   "outputs": [
    {
     "data": {
      "text/html": [
       "<div>\n",
       "<style scoped>\n",
       "    .dataframe tbody tr th:only-of-type {\n",
       "        vertical-align: middle;\n",
       "    }\n",
       "\n",
       "    .dataframe tbody tr th {\n",
       "        vertical-align: top;\n",
       "    }\n",
       "\n",
       "    .dataframe thead tr th {\n",
       "        text-align: left;\n",
       "    }\n",
       "\n",
       "    .dataframe thead tr:last-of-type th {\n",
       "        text-align: right;\n",
       "    }\n",
       "</style>\n",
       "<table border=\"1\" class=\"dataframe\">\n",
       "  <thead>\n",
       "    <tr>\n",
       "      <th></th>\n",
       "      <th colspan=\"3\" halign=\"left\">Year</th>\n",
       "      <th colspan=\"4\" halign=\"left\">Count</th>\n",
       "    </tr>\n",
       "    <tr>\n",
       "      <th></th>\n",
       "      <th>min</th>\n",
       "      <th>max</th>\n",
       "      <th>count</th>\n",
       "      <th>sum</th>\n",
       "      <th>min</th>\n",
       "      <th>max</th>\n",
       "      <th>mean</th>\n",
       "    </tr>\n",
       "    <tr>\n",
       "      <th>Name</th>\n",
       "      <th></th>\n",
       "      <th></th>\n",
       "      <th></th>\n",
       "      <th></th>\n",
       "      <th></th>\n",
       "      <th></th>\n",
       "      <th></th>\n",
       "    </tr>\n",
       "  </thead>\n",
       "  <tbody>\n",
       "    <tr>\n",
       "      <th>FUMIE</th>\n",
       "      <td>1919</td>\n",
       "      <td>1919</td>\n",
       "      <td>1</td>\n",
       "      <td>6</td>\n",
       "      <td>6</td>\n",
       "      <td>6</td>\n",
       "      <td>6.000000</td>\n",
       "    </tr>\n",
       "    <tr>\n",
       "      <th>KEERAT</th>\n",
       "      <td>2007</td>\n",
       "      <td>2014</td>\n",
       "      <td>8</td>\n",
       "      <td>50</td>\n",
       "      <td>5</td>\n",
       "      <td>8</td>\n",
       "      <td>6.250000</td>\n",
       "    </tr>\n",
       "    <tr>\n",
       "      <th>DANETTE</th>\n",
       "      <td>1966</td>\n",
       "      <td>1968</td>\n",
       "      <td>2</td>\n",
       "      <td>13</td>\n",
       "      <td>5</td>\n",
       "      <td>8</td>\n",
       "      <td>6.500000</td>\n",
       "    </tr>\n",
       "    <tr>\n",
       "      <th>JASNEET</th>\n",
       "      <td>1994</td>\n",
       "      <td>2006</td>\n",
       "      <td>4</td>\n",
       "      <td>27</td>\n",
       "      <td>5</td>\n",
       "      <td>9</td>\n",
       "      <td>6.750000</td>\n",
       "    </tr>\n",
       "    <tr>\n",
       "      <th>SHEILA</th>\n",
       "      <td>1915</td>\n",
       "      <td>1999</td>\n",
       "      <td>81</td>\n",
       "      <td>3101</td>\n",
       "      <td>5</td>\n",
       "      <td>87</td>\n",
       "      <td>38.283951</td>\n",
       "    </tr>\n",
       "    <tr>\n",
       "      <th>NORMA</th>\n",
       "      <td>1915</td>\n",
       "      <td>1974</td>\n",
       "      <td>59</td>\n",
       "      <td>1825</td>\n",
       "      <td>5</td>\n",
       "      <td>54</td>\n",
       "      <td>30.932203</td>\n",
       "    </tr>\n",
       "    <tr>\n",
       "      <th>HARRIET</th>\n",
       "      <td>1917</td>\n",
       "      <td>2014</td>\n",
       "      <td>16</td>\n",
       "      <td>94</td>\n",
       "      <td>5</td>\n",
       "      <td>8</td>\n",
       "      <td>5.875000</td>\n",
       "    </tr>\n",
       "    <tr>\n",
       "      <th>HAILEY</th>\n",
       "      <td>1977</td>\n",
       "      <td>2014</td>\n",
       "      <td>36</td>\n",
       "      <td>2211</td>\n",
       "      <td>5</td>\n",
       "      <td>128</td>\n",
       "      <td>61.416667</td>\n",
       "    </tr>\n",
       "    <tr>\n",
       "      <th>ARSHPREET</th>\n",
       "      <td>1997</td>\n",
       "      <td>1997</td>\n",
       "      <td>1</td>\n",
       "      <td>5</td>\n",
       "      <td>5</td>\n",
       "      <td>5</td>\n",
       "      <td>5.000000</td>\n",
       "    </tr>\n",
       "    <tr>\n",
       "      <th>KALEY</th>\n",
       "      <td>1985</td>\n",
       "      <td>2011</td>\n",
       "      <td>6</td>\n",
       "      <td>38</td>\n",
       "      <td>5</td>\n",
       "      <td>9</td>\n",
       "      <td>6.333333</td>\n",
       "    </tr>\n",
       "    <tr>\n",
       "      <th>ASHLEA</th>\n",
       "      <td>1983</td>\n",
       "      <td>1983</td>\n",
       "      <td>1</td>\n",
       "      <td>8</td>\n",
       "      <td>8</td>\n",
       "      <td>8</td>\n",
       "      <td>8.000000</td>\n",
       "    </tr>\n",
       "    <tr>\n",
       "      <th>CHERI</th>\n",
       "      <td>1953</td>\n",
       "      <td>1989</td>\n",
       "      <td>27</td>\n",
       "      <td>195</td>\n",
       "      <td>5</td>\n",
       "      <td>12</td>\n",
       "      <td>7.222222</td>\n",
       "    </tr>\n",
       "    <tr>\n",
       "      <th>KARYN</th>\n",
       "      <td>1963</td>\n",
       "      <td>1986</td>\n",
       "      <td>19</td>\n",
       "      <td>135</td>\n",
       "      <td>5</td>\n",
       "      <td>12</td>\n",
       "      <td>7.105263</td>\n",
       "    </tr>\n",
       "    <tr>\n",
       "      <th>ARABELLA</th>\n",
       "      <td>2009</td>\n",
       "      <td>2014</td>\n",
       "      <td>6</td>\n",
       "      <td>79</td>\n",
       "      <td>6</td>\n",
       "      <td>19</td>\n",
       "      <td>13.166667</td>\n",
       "    </tr>\n",
       "    <tr>\n",
       "      <th>SHIZUE</th>\n",
       "      <td>1921</td>\n",
       "      <td>1921</td>\n",
       "      <td>1</td>\n",
       "      <td>5</td>\n",
       "      <td>5</td>\n",
       "      <td>5</td>\n",
       "      <td>5.000000</td>\n",
       "    </tr>\n",
       "    <tr>\n",
       "      <th>PHILIPPA</th>\n",
       "      <td>1959</td>\n",
       "      <td>2013</td>\n",
       "      <td>3</td>\n",
       "      <td>15</td>\n",
       "      <td>5</td>\n",
       "      <td>5</td>\n",
       "      <td>5.000000</td>\n",
       "    </tr>\n",
       "    <tr>\n",
       "      <th>SEHAJ</th>\n",
       "      <td>2009</td>\n",
       "      <td>2014</td>\n",
       "      <td>4</td>\n",
       "      <td>22</td>\n",
       "      <td>5</td>\n",
       "      <td>6</td>\n",
       "      <td>5.500000</td>\n",
       "    </tr>\n",
       "    <tr>\n",
       "      <th>KIKUYE</th>\n",
       "      <td>1918</td>\n",
       "      <td>1918</td>\n",
       "      <td>1</td>\n",
       "      <td>5</td>\n",
       "      <td>5</td>\n",
       "      <td>5</td>\n",
       "      <td>5.000000</td>\n",
       "    </tr>\n",
       "    <tr>\n",
       "      <th>MARYANNE</th>\n",
       "      <td>1954</td>\n",
       "      <td>1981</td>\n",
       "      <td>4</td>\n",
       "      <td>24</td>\n",
       "      <td>5</td>\n",
       "      <td>7</td>\n",
       "      <td>6.000000</td>\n",
       "    </tr>\n",
       "    <tr>\n",
       "      <th>EVERLEIGH</th>\n",
       "      <td>2010</td>\n",
       "      <td>2014</td>\n",
       "      <td>5</td>\n",
       "      <td>46</td>\n",
       "      <td>7</td>\n",
       "      <td>13</td>\n",
       "      <td>9.200000</td>\n",
       "    </tr>\n",
       "    <tr>\n",
       "      <th>GALE</th>\n",
       "      <td>1941</td>\n",
       "      <td>1963</td>\n",
       "      <td>20</td>\n",
       "      <td>175</td>\n",
       "      <td>5</td>\n",
       "      <td>23</td>\n",
       "      <td>8.750000</td>\n",
       "    </tr>\n",
       "    <tr>\n",
       "      <th>STACI</th>\n",
       "      <td>1987</td>\n",
       "      <td>1987</td>\n",
       "      <td>1</td>\n",
       "      <td>5</td>\n",
       "      <td>5</td>\n",
       "      <td>5</td>\n",
       "      <td>5.000000</td>\n",
       "    </tr>\n",
       "    <tr>\n",
       "      <th>WILMA</th>\n",
       "      <td>1916</td>\n",
       "      <td>1970</td>\n",
       "      <td>49</td>\n",
       "      <td>474</td>\n",
       "      <td>5</td>\n",
       "      <td>19</td>\n",
       "      <td>9.673469</td>\n",
       "    </tr>\n",
       "    <tr>\n",
       "      <th>TANVEER</th>\n",
       "      <td>2000</td>\n",
       "      <td>2010</td>\n",
       "      <td>3</td>\n",
       "      <td>15</td>\n",
       "      <td>5</td>\n",
       "      <td>5</td>\n",
       "      <td>5.000000</td>\n",
       "    </tr>\n",
       "    <tr>\n",
       "      <th>CALI</th>\n",
       "      <td>1998</td>\n",
       "      <td>2014</td>\n",
       "      <td>11</td>\n",
       "      <td>120</td>\n",
       "      <td>5</td>\n",
       "      <td>18</td>\n",
       "      <td>10.909091</td>\n",
       "    </tr>\n",
       "    <tr>\n",
       "      <th>DIYA</th>\n",
       "      <td>2003</td>\n",
       "      <td>2014</td>\n",
       "      <td>12</td>\n",
       "      <td>121</td>\n",
       "      <td>5</td>\n",
       "      <td>14</td>\n",
       "      <td>10.083333</td>\n",
       "    </tr>\n",
       "    <tr>\n",
       "      <th>MARGRET</th>\n",
       "      <td>1915</td>\n",
       "      <td>1954</td>\n",
       "      <td>15</td>\n",
       "      <td>104</td>\n",
       "      <td>5</td>\n",
       "      <td>11</td>\n",
       "      <td>6.933333</td>\n",
       "    </tr>\n",
       "    <tr>\n",
       "      <th>LAINE</th>\n",
       "      <td>1981</td>\n",
       "      <td>1981</td>\n",
       "      <td>1</td>\n",
       "      <td>5</td>\n",
       "      <td>5</td>\n",
       "      <td>5</td>\n",
       "      <td>5.000000</td>\n",
       "    </tr>\n",
       "    <tr>\n",
       "      <th>KRISTINE</th>\n",
       "      <td>1951</td>\n",
       "      <td>2003</td>\n",
       "      <td>51</td>\n",
       "      <td>892</td>\n",
       "      <td>5</td>\n",
       "      <td>37</td>\n",
       "      <td>17.490196</td>\n",
       "    </tr>\n",
       "    <tr>\n",
       "      <th>WINNIFRED</th>\n",
       "      <td>1915</td>\n",
       "      <td>1957</td>\n",
       "      <td>33</td>\n",
       "      <td>362</td>\n",
       "      <td>5</td>\n",
       "      <td>26</td>\n",
       "      <td>10.969697</td>\n",
       "    </tr>\n",
       "    <tr>\n",
       "      <th>KIMBERLEY</th>\n",
       "      <td>1957</td>\n",
       "      <td>2014</td>\n",
       "      <td>48</td>\n",
       "      <td>1927</td>\n",
       "      <td>5</td>\n",
       "      <td>79</td>\n",
       "      <td>40.145833</td>\n",
       "    </tr>\n",
       "    <tr>\n",
       "      <th>STACIE</th>\n",
       "      <td>1969</td>\n",
       "      <td>1991</td>\n",
       "      <td>17</td>\n",
       "      <td>126</td>\n",
       "      <td>5</td>\n",
       "      <td>10</td>\n",
       "      <td>7.411765</td>\n",
       "    </tr>\n",
       "    <tr>\n",
       "      <th>ABBIE</th>\n",
       "      <td>1999</td>\n",
       "      <td>2014</td>\n",
       "      <td>7</td>\n",
       "      <td>40</td>\n",
       "      <td>5</td>\n",
       "      <td>7</td>\n",
       "      <td>5.714286</td>\n",
       "    </tr>\n",
       "    <tr>\n",
       "      <th>STACY</th>\n",
       "      <td>1959</td>\n",
       "      <td>1993</td>\n",
       "      <td>32</td>\n",
       "      <td>574</td>\n",
       "      <td>5</td>\n",
       "      <td>36</td>\n",
       "      <td>17.937500</td>\n",
       "    </tr>\n",
       "    <tr>\n",
       "      <th>BRITTANY</th>\n",
       "      <td>1979</td>\n",
       "      <td>2006</td>\n",
       "      <td>27</td>\n",
       "      <td>2905</td>\n",
       "      <td>5</td>\n",
       "      <td>284</td>\n",
       "      <td>107.592593</td>\n",
       "    </tr>\n",
       "    <tr>\n",
       "      <th>ALLISON</th>\n",
       "      <td>1950</td>\n",
       "      <td>2014</td>\n",
       "      <td>65</td>\n",
       "      <td>2232</td>\n",
       "      <td>5</td>\n",
       "      <td>75</td>\n",
       "      <td>34.338462</td>\n",
       "    </tr>\n",
       "    <tr>\n",
       "      <th>MELODY</th>\n",
       "      <td>1942</td>\n",
       "      <td>2014</td>\n",
       "      <td>68</td>\n",
       "      <td>953</td>\n",
       "      <td>5</td>\n",
       "      <td>30</td>\n",
       "      <td>14.014706</td>\n",
       "    </tr>\n",
       "    <tr>\n",
       "      <th>LAURYN</th>\n",
       "      <td>1997</td>\n",
       "      <td>2011</td>\n",
       "      <td>14</td>\n",
       "      <td>157</td>\n",
       "      <td>6</td>\n",
       "      <td>20</td>\n",
       "      <td>11.214286</td>\n",
       "    </tr>\n",
       "    <tr>\n",
       "      <th>TERA</th>\n",
       "      <td>1974</td>\n",
       "      <td>1983</td>\n",
       "      <td>5</td>\n",
       "      <td>30</td>\n",
       "      <td>5</td>\n",
       "      <td>7</td>\n",
       "      <td>6.000000</td>\n",
       "    </tr>\n",
       "    <tr>\n",
       "      <th>MORGAN</th>\n",
       "      <td>1978</td>\n",
       "      <td>2014</td>\n",
       "      <td>37</td>\n",
       "      <td>1646</td>\n",
       "      <td>5</td>\n",
       "      <td>82</td>\n",
       "      <td>44.486486</td>\n",
       "    </tr>\n",
       "    <tr>\n",
       "      <th>TERESA</th>\n",
       "      <td>1915</td>\n",
       "      <td>2014</td>\n",
       "      <td>79</td>\n",
       "      <td>3921</td>\n",
       "      <td>5</td>\n",
       "      <td>172</td>\n",
       "      <td>49.632911</td>\n",
       "    </tr>\n",
       "    <tr>\n",
       "      <th>FARAH</th>\n",
       "      <td>1993</td>\n",
       "      <td>2000</td>\n",
       "      <td>2</td>\n",
       "      <td>11</td>\n",
       "      <td>5</td>\n",
       "      <td>6</td>\n",
       "      <td>5.500000</td>\n",
       "    </tr>\n",
       "    <tr>\n",
       "      <th>ERIN</th>\n",
       "      <td>1954</td>\n",
       "      <td>2014</td>\n",
       "      <td>60</td>\n",
       "      <td>4527</td>\n",
       "      <td>5</td>\n",
       "      <td>237</td>\n",
       "      <td>75.450000</td>\n",
       "    </tr>\n",
       "    <tr>\n",
       "      <th>TERRI-LYNN</th>\n",
       "      <td>1988</td>\n",
       "      <td>1988</td>\n",
       "      <td>1</td>\n",
       "      <td>5</td>\n",
       "      <td>5</td>\n",
       "      <td>5</td>\n",
       "      <td>5.000000</td>\n",
       "    </tr>\n",
       "    <tr>\n",
       "      <th>ISHMEET</th>\n",
       "      <td>2007</td>\n",
       "      <td>2007</td>\n",
       "      <td>1</td>\n",
       "      <td>6</td>\n",
       "      <td>6</td>\n",
       "      <td>6</td>\n",
       "      <td>6.000000</td>\n",
       "    </tr>\n",
       "    <tr>\n",
       "      <th>LONDON</th>\n",
       "      <td>2006</td>\n",
       "      <td>2014</td>\n",
       "      <td>9</td>\n",
       "      <td>138</td>\n",
       "      <td>6</td>\n",
       "      <td>25</td>\n",
       "      <td>15.333333</td>\n",
       "    </tr>\n",
       "    <tr>\n",
       "      <th>DOLORES</th>\n",
       "      <td>1927</td>\n",
       "      <td>1972</td>\n",
       "      <td>43</td>\n",
       "      <td>498</td>\n",
       "      <td>5</td>\n",
       "      <td>23</td>\n",
       "      <td>11.581395</td>\n",
       "    </tr>\n",
       "    <tr>\n",
       "      <th>NELLIE</th>\n",
       "      <td>1915</td>\n",
       "      <td>1959</td>\n",
       "      <td>32</td>\n",
       "      <td>318</td>\n",
       "      <td>5</td>\n",
       "      <td>19</td>\n",
       "      <td>9.937500</td>\n",
       "    </tr>\n",
       "    <tr>\n",
       "      <th>CHEYENNE</th>\n",
       "      <td>1987</td>\n",
       "      <td>2013</td>\n",
       "      <td>24</td>\n",
       "      <td>488</td>\n",
       "      <td>5</td>\n",
       "      <td>41</td>\n",
       "      <td>20.333333</td>\n",
       "    </tr>\n",
       "    <tr>\n",
       "      <th>CHANTELL</th>\n",
       "      <td>1982</td>\n",
       "      <td>1986</td>\n",
       "      <td>4</td>\n",
       "      <td>21</td>\n",
       "      <td>5</td>\n",
       "      <td>6</td>\n",
       "      <td>5.250000</td>\n",
       "    </tr>\n",
       "  </tbody>\n",
       "</table>\n",
       "</div>"
      ],
      "text/plain": [
       "            Year             Count                     \n",
       "             min   max count   sum min  max        mean\n",
       "Name                                                   \n",
       "FUMIE       1919  1919     1     6   6    6    6.000000\n",
       "KEERAT      2007  2014     8    50   5    8    6.250000\n",
       "DANETTE     1966  1968     2    13   5    8    6.500000\n",
       "JASNEET     1994  2006     4    27   5    9    6.750000\n",
       "SHEILA      1915  1999    81  3101   5   87   38.283951\n",
       "NORMA       1915  1974    59  1825   5   54   30.932203\n",
       "HARRIET     1917  2014    16    94   5    8    5.875000\n",
       "HAILEY      1977  2014    36  2211   5  128   61.416667\n",
       "ARSHPREET   1997  1997     1     5   5    5    5.000000\n",
       "KALEY       1985  2011     6    38   5    9    6.333333\n",
       "ASHLEA      1983  1983     1     8   8    8    8.000000\n",
       "CHERI       1953  1989    27   195   5   12    7.222222\n",
       "KARYN       1963  1986    19   135   5   12    7.105263\n",
       "ARABELLA    2009  2014     6    79   6   19   13.166667\n",
       "SHIZUE      1921  1921     1     5   5    5    5.000000\n",
       "PHILIPPA    1959  2013     3    15   5    5    5.000000\n",
       "SEHAJ       2009  2014     4    22   5    6    5.500000\n",
       "KIKUYE      1918  1918     1     5   5    5    5.000000\n",
       "MARYANNE    1954  1981     4    24   5    7    6.000000\n",
       "EVERLEIGH   2010  2014     5    46   7   13    9.200000\n",
       "GALE        1941  1963    20   175   5   23    8.750000\n",
       "STACI       1987  1987     1     5   5    5    5.000000\n",
       "WILMA       1916  1970    49   474   5   19    9.673469\n",
       "TANVEER     2000  2010     3    15   5    5    5.000000\n",
       "CALI        1998  2014    11   120   5   18   10.909091\n",
       "DIYA        2003  2014    12   121   5   14   10.083333\n",
       "MARGRET     1915  1954    15   104   5   11    6.933333\n",
       "LAINE       1981  1981     1     5   5    5    5.000000\n",
       "KRISTINE    1951  2003    51   892   5   37   17.490196\n",
       "WINNIFRED   1915  1957    33   362   5   26   10.969697\n",
       "KIMBERLEY   1957  2014    48  1927   5   79   40.145833\n",
       "STACIE      1969  1991    17   126   5   10    7.411765\n",
       "ABBIE       1999  2014     7    40   5    7    5.714286\n",
       "STACY       1959  1993    32   574   5   36   17.937500\n",
       "BRITTANY    1979  2006    27  2905   5  284  107.592593\n",
       "ALLISON     1950  2014    65  2232   5   75   34.338462\n",
       "MELODY      1942  2014    68   953   5   30   14.014706\n",
       "LAURYN      1997  2011    14   157   6   20   11.214286\n",
       "TERA        1974  1983     5    30   5    7    6.000000\n",
       "MORGAN      1978  2014    37  1646   5   82   44.486486\n",
       "TERESA      1915  2014    79  3921   5  172   49.632911\n",
       "FARAH       1993  2000     2    11   5    6    5.500000\n",
       "ERIN        1954  2014    60  4527   5  237   75.450000\n",
       "TERRI-LYNN  1988  1988     1     5   5    5    5.000000\n",
       "ISHMEET     2007  2007     1     6   6    6    6.000000\n",
       "LONDON      2006  2014     9   138   6   25   15.333333\n",
       "DOLORES     1927  1972    43   498   5   23   11.581395\n",
       "NELLIE      1915  1959    32   318   5   19    9.937500\n",
       "CHEYENNE    1987  2013    24   488   5   41   20.333333\n",
       "CHANTELL    1982  1986     4    21   5    6    5.250000"
      ]
     },
     "execution_count": 46,
     "metadata": {},
     "output_type": "execute_result"
    }
   ],
   "source": [
    "# Define a dictionary with aggregations for each column\n",
    "agg_dict = {'Year' : ['min', 'max', 'count'],\n",
    "            'Count' : ['sum', 'min', 'max', 'mean']}\n",
    "\n",
    "# Use the agg method for aggregation\n",
    "summary = girls.groupby('Name').agg(agg_dict)\n",
    "\n",
    "# Use the sample method to display a random sampling\n",
    "# The random_state=1 argument specifies a seed for the\n",
    "# random number generator, so that the samples don't keep\n",
    "# changing each time we run the code\n",
    "summary.sample(50, random_state=1)"
   ]
  },
  {
   "cell_type": "markdown",
   "metadata": {},
   "source": [
    "- You could explore this aggregated data in many neat ways, such as finding which names have been used every year in the 100-year period, or names which were used only in the first 50 years but not the second 50 years and vice versa, and so on!"
   ]
  },
  {
   "cell_type": "markdown",
   "metadata": {
    "slideshow": {
     "slide_type": "slide"
    }
   },
   "source": [
    "---\n",
    "\n",
    "# Exercise 3.1"
   ]
  },
  {
   "cell_type": "code",
   "execution_count": 47,
   "metadata": {},
   "outputs": [
    {
     "data": {
      "text/html": [
       "<div>\n",
       "<style scoped>\n",
       "    .dataframe tbody tr th:only-of-type {\n",
       "        vertical-align: middle;\n",
       "    }\n",
       "\n",
       "    .dataframe tbody tr th {\n",
       "        vertical-align: top;\n",
       "    }\n",
       "\n",
       "    .dataframe thead th {\n",
       "        text-align: right;\n",
       "    }\n",
       "</style>\n",
       "<table border=\"1\" class=\"dataframe\">\n",
       "  <thead>\n",
       "    <tr style=\"text-align: right;\">\n",
       "      <th></th>\n",
       "      <th>Temp (deg C)</th>\n",
       "      <th>Dew Point Temp (deg C)</th>\n",
       "      <th>Rel Hum (%)</th>\n",
       "      <th>Wind Dir (deg)</th>\n",
       "      <th>Wind Spd (km/h)</th>\n",
       "      <th>Visibility (km)</th>\n",
       "      <th>Pressure (kPa)</th>\n",
       "      <th>Hmdx</th>\n",
       "      <th>Wind Chill</th>\n",
       "      <th>Wind Spd (mph)</th>\n",
       "    </tr>\n",
       "    <tr>\n",
       "      <th>Station Name</th>\n",
       "      <th></th>\n",
       "      <th></th>\n",
       "      <th></th>\n",
       "      <th></th>\n",
       "      <th></th>\n",
       "      <th></th>\n",
       "      <th></th>\n",
       "      <th></th>\n",
       "      <th></th>\n",
       "      <th></th>\n",
       "    </tr>\n",
       "  </thead>\n",
       "  <tbody>\n",
       "    <tr>\n",
       "      <th>CALGARY</th>\n",
       "      <td>18.054167</td>\n",
       "      <td>4.708333</td>\n",
       "      <td>43.875000</td>\n",
       "      <td>172.083333</td>\n",
       "      <td>10.625000</td>\n",
       "      <td>45.9375</td>\n",
       "      <td>88.990833</td>\n",
       "      <td>25.0</td>\n",
       "      <td>NaN</td>\n",
       "      <td>6.602056</td>\n",
       "    </tr>\n",
       "    <tr>\n",
       "      <th>CHARLOTTETOWN</th>\n",
       "      <td>8.637500</td>\n",
       "      <td>0.058333</td>\n",
       "      <td>59.666667</td>\n",
       "      <td>212.916667</td>\n",
       "      <td>12.500000</td>\n",
       "      <td>24.1000</td>\n",
       "      <td>101.363750</td>\n",
       "      <td>NaN</td>\n",
       "      <td>-3.0</td>\n",
       "      <td>7.767125</td>\n",
       "    </tr>\n",
       "    <tr>\n",
       "      <th>EDMONTON</th>\n",
       "      <td>17.558333</td>\n",
       "      <td>5.037500</td>\n",
       "      <td>48.791667</td>\n",
       "      <td>208.333333</td>\n",
       "      <td>8.083333</td>\n",
       "      <td>24.1000</td>\n",
       "      <td>92.950833</td>\n",
       "      <td>26.0</td>\n",
       "      <td>NaN</td>\n",
       "      <td>5.022741</td>\n",
       "    </tr>\n",
       "    <tr>\n",
       "      <th>FREDERICTON</th>\n",
       "      <td>12.373913</td>\n",
       "      <td>0.086957</td>\n",
       "      <td>48.608696</td>\n",
       "      <td>247.222222</td>\n",
       "      <td>14.043478</td>\n",
       "      <td>16.1000</td>\n",
       "      <td>101.679565</td>\n",
       "      <td>NaN</td>\n",
       "      <td>NaN</td>\n",
       "      <td>8.726196</td>\n",
       "    </tr>\n",
       "    <tr>\n",
       "      <th>HALIFAX</th>\n",
       "      <td>12.237500</td>\n",
       "      <td>-1.416667</td>\n",
       "      <td>40.041667</td>\n",
       "      <td>178.333333</td>\n",
       "      <td>15.500000</td>\n",
       "      <td>24.1000</td>\n",
       "      <td>100.328333</td>\n",
       "      <td>NaN</td>\n",
       "      <td>NaN</td>\n",
       "      <td>9.631235</td>\n",
       "    </tr>\n",
       "  </tbody>\n",
       "</table>\n",
       "</div>"
      ],
      "text/plain": [
       "               Temp (deg C)  Dew Point Temp (deg C)  Rel Hum (%)  \\\n",
       "Station Name                                                       \n",
       "CALGARY           18.054167                4.708333    43.875000   \n",
       "CHARLOTTETOWN      8.637500                0.058333    59.666667   \n",
       "EDMONTON          17.558333                5.037500    48.791667   \n",
       "FREDERICTON       12.373913                0.086957    48.608696   \n",
       "HALIFAX           12.237500               -1.416667    40.041667   \n",
       "\n",
       "               Wind Dir (deg)  Wind Spd (km/h)  Visibility (km)  \\\n",
       "Station Name                                                      \n",
       "CALGARY            172.083333        10.625000          45.9375   \n",
       "CHARLOTTETOWN      212.916667        12.500000          24.1000   \n",
       "EDMONTON           208.333333         8.083333          24.1000   \n",
       "FREDERICTON        247.222222        14.043478          16.1000   \n",
       "HALIFAX            178.333333        15.500000          24.1000   \n",
       "\n",
       "               Pressure (kPa)  Hmdx  Wind Chill  Wind Spd (mph)  \n",
       "Station Name                                                     \n",
       "CALGARY             88.990833  25.0         NaN        6.602056  \n",
       "CHARLOTTETOWN      101.363750   NaN        -3.0        7.767125  \n",
       "EDMONTON            92.950833  26.0         NaN        5.022741  \n",
       "FREDERICTON        101.679565   NaN         NaN        8.726196  \n",
       "HALIFAX            100.328333   NaN         NaN        9.631235  "
      ]
     },
     "execution_count": 47,
     "metadata": {},
     "output_type": "execute_result"
    }
   ],
   "source": [
    "weather_mean = weather_all.groupby('Station Name').mean()\n",
    "weather_mean.head()"
   ]
  },
  {
   "cell_type": "markdown",
   "metadata": {
    "slideshow": {
     "slide_type": "slide"
    }
   },
   "source": [
    "a) Select the cell in row 2, column 6 of `weather_mean` using `iloc`"
   ]
  },
  {
   "cell_type": "code",
   "execution_count": 48,
   "metadata": {},
   "outputs": [
    {
     "data": {
      "text/plain": [
       "92.95083333333334"
      ]
     },
     "execution_count": 48,
     "metadata": {},
     "output_type": "execute_result"
    }
   ],
   "source": [
    "weather_mean.iloc[2, 6]"
   ]
  },
  {
   "cell_type": "markdown",
   "metadata": {
    "slideshow": {
     "slide_type": "slide"
    }
   },
   "source": [
    "b) Same as a) but using `loc`"
   ]
  },
  {
   "cell_type": "code",
   "execution_count": 49,
   "metadata": {},
   "outputs": [
    {
     "data": {
      "text/plain": [
       "92.95083333333334"
      ]
     },
     "execution_count": 49,
     "metadata": {},
     "output_type": "execute_result"
    }
   ],
   "source": [
    "weather_mean.loc['EDMONTON', 'Pressure (kPa)']"
   ]
  },
  {
   "cell_type": "markdown",
   "metadata": {
    "slideshow": {
     "slide_type": "slide"
    }
   },
   "source": [
    "c) Use `iloc` to select the cell in `weather_mean` containing the value of the relative humidity in Halifax."
   ]
  },
  {
   "cell_type": "code",
   "execution_count": 50,
   "metadata": {},
   "outputs": [
    {
     "data": {
      "text/plain": [
       "40.041666666666664"
      ]
     },
     "execution_count": 50,
     "metadata": {},
     "output_type": "execute_result"
    }
   ],
   "source": [
    "weather_mean.iloc[4, 2]"
   ]
  },
  {
   "cell_type": "markdown",
   "metadata": {
    "slideshow": {
     "slide_type": "slide"
    }
   },
   "source": [
    "d) Select the same cell as in c) but using `loc`"
   ]
  },
  {
   "cell_type": "code",
   "execution_count": 51,
   "metadata": {},
   "outputs": [
    {
     "data": {
      "text/plain": [
       "40.041666666666664"
      ]
     },
     "execution_count": 51,
     "metadata": {},
     "output_type": "execute_result"
    }
   ],
   "source": [
    "weather_mean.loc['HALIFAX', 'Rel Hum (%)']"
   ]
  },
  {
   "cell_type": "markdown",
   "metadata": {
    "slideshow": {
     "slide_type": "slide"
    }
   },
   "source": [
    "# Exercise 3.2\n",
    "\n",
    "a) Use `iloc` to select rows 15 to end and the first 3 columns of `weather_mean`"
   ]
  },
  {
   "cell_type": "code",
   "execution_count": 52,
   "metadata": {},
   "outputs": [
    {
     "data": {
      "text/html": [
       "<div>\n",
       "<style scoped>\n",
       "    .dataframe tbody tr th:only-of-type {\n",
       "        vertical-align: middle;\n",
       "    }\n",
       "\n",
       "    .dataframe tbody tr th {\n",
       "        vertical-align: top;\n",
       "    }\n",
       "\n",
       "    .dataframe thead th {\n",
       "        text-align: right;\n",
       "    }\n",
       "</style>\n",
       "<table border=\"1\" class=\"dataframe\">\n",
       "  <thead>\n",
       "    <tr style=\"text-align: right;\">\n",
       "      <th></th>\n",
       "      <th>Temp (deg C)</th>\n",
       "      <th>Dew Point Temp (deg C)</th>\n",
       "      <th>Rel Hum (%)</th>\n",
       "    </tr>\n",
       "    <tr>\n",
       "      <th>Station Name</th>\n",
       "      <th></th>\n",
       "      <th></th>\n",
       "      <th></th>\n",
       "    </tr>\n",
       "  </thead>\n",
       "  <tbody>\n",
       "    <tr>\n",
       "      <th>VANCOUVER</th>\n",
       "      <td>15.262500</td>\n",
       "      <td>11.016667</td>\n",
       "      <td>76.500000</td>\n",
       "    </tr>\n",
       "    <tr>\n",
       "      <th>VICTORIA</th>\n",
       "      <td>15.658333</td>\n",
       "      <td>10.408333</td>\n",
       "      <td>72.625000</td>\n",
       "    </tr>\n",
       "    <tr>\n",
       "      <th>WHITEHORSE</th>\n",
       "      <td>9.183333</td>\n",
       "      <td>0.533333</td>\n",
       "      <td>57.125000</td>\n",
       "    </tr>\n",
       "    <tr>\n",
       "      <th>WINNIPEG</th>\n",
       "      <td>20.495833</td>\n",
       "      <td>5.929167</td>\n",
       "      <td>43.208333</td>\n",
       "    </tr>\n",
       "    <tr>\n",
       "      <th>YELLOWKNIFE</th>\n",
       "      <td>15.400000</td>\n",
       "      <td>3.008333</td>\n",
       "      <td>45.041667</td>\n",
       "    </tr>\n",
       "  </tbody>\n",
       "</table>\n",
       "</div>"
      ],
      "text/plain": [
       "              Temp (deg C)  Dew Point Temp (deg C)  Rel Hum (%)\n",
       "Station Name                                                   \n",
       "VANCOUVER        15.262500               11.016667    76.500000\n",
       "VICTORIA         15.658333               10.408333    72.625000\n",
       "WHITEHORSE        9.183333                0.533333    57.125000\n",
       "WINNIPEG         20.495833                5.929167    43.208333\n",
       "YELLOWKNIFE      15.400000                3.008333    45.041667"
      ]
     },
     "execution_count": 52,
     "metadata": {},
     "output_type": "execute_result"
    }
   ],
   "source": [
    "weather_mean.iloc[15:, :3]"
   ]
  },
  {
   "cell_type": "markdown",
   "metadata": {
    "slideshow": {
     "slide_type": "-"
    }
   },
   "source": [
    "b) Use `iloc` to select the every fourth row (starting from 0) and columns 4, 3, and 0 of weather_mean"
   ]
  },
  {
   "cell_type": "code",
   "execution_count": 53,
   "metadata": {},
   "outputs": [
    {
     "data": {
      "text/html": [
       "<div>\n",
       "<style scoped>\n",
       "    .dataframe tbody tr th:only-of-type {\n",
       "        vertical-align: middle;\n",
       "    }\n",
       "\n",
       "    .dataframe tbody tr th {\n",
       "        vertical-align: top;\n",
       "    }\n",
       "\n",
       "    .dataframe thead th {\n",
       "        text-align: right;\n",
       "    }\n",
       "</style>\n",
       "<table border=\"1\" class=\"dataframe\">\n",
       "  <thead>\n",
       "    <tr style=\"text-align: right;\">\n",
       "      <th></th>\n",
       "      <th>Wind Spd (km/h)</th>\n",
       "      <th>Wind Dir (deg)</th>\n",
       "      <th>Temp (deg C)</th>\n",
       "    </tr>\n",
       "    <tr>\n",
       "      <th>Station Name</th>\n",
       "      <th></th>\n",
       "      <th></th>\n",
       "      <th></th>\n",
       "    </tr>\n",
       "  </thead>\n",
       "  <tbody>\n",
       "    <tr>\n",
       "      <th>CALGARY</th>\n",
       "      <td>10.625000</td>\n",
       "      <td>172.083333</td>\n",
       "      <td>18.054167</td>\n",
       "    </tr>\n",
       "    <tr>\n",
       "      <th>HALIFAX</th>\n",
       "      <td>15.500000</td>\n",
       "      <td>178.333333</td>\n",
       "      <td>12.237500</td>\n",
       "    </tr>\n",
       "    <tr>\n",
       "      <th>PRINCE GEORGE</th>\n",
       "      <td>5.791667</td>\n",
       "      <td>141.538462</td>\n",
       "      <td>14.337500</td>\n",
       "    </tr>\n",
       "    <tr>\n",
       "      <th>ST. JOHN'S</th>\n",
       "      <td>23.625000</td>\n",
       "      <td>195.000000</td>\n",
       "      <td>4.862500</td>\n",
       "    </tr>\n",
       "    <tr>\n",
       "      <th>VICTORIA</th>\n",
       "      <td>7.541667</td>\n",
       "      <td>192.500000</td>\n",
       "      <td>15.658333</td>\n",
       "    </tr>\n",
       "  </tbody>\n",
       "</table>\n",
       "</div>"
      ],
      "text/plain": [
       "               Wind Spd (km/h)  Wind Dir (deg)  Temp (deg C)\n",
       "Station Name                                                \n",
       "CALGARY              10.625000      172.083333     18.054167\n",
       "HALIFAX              15.500000      178.333333     12.237500\n",
       "PRINCE GEORGE         5.791667      141.538462     14.337500\n",
       "ST. JOHN'S           23.625000      195.000000      4.862500\n",
       "VICTORIA              7.541667      192.500000     15.658333"
      ]
     },
     "execution_count": 53,
     "metadata": {},
     "output_type": "execute_result"
    }
   ],
   "source": [
    "weather_mean.iloc[::4, [4, 3, 0]]"
   ]
  },
  {
   "cell_type": "markdown",
   "metadata": {
    "slideshow": {
     "slide_type": "slide"
    }
   },
   "source": [
    "# Exercise 3.3\n",
    "\n",
    "a) Use `loc` to select the wind speed and wind direction in Toronto, Montreal, and Ottawa"
   ]
  },
  {
   "cell_type": "code",
   "execution_count": 54,
   "metadata": {},
   "outputs": [
    {
     "data": {
      "text/html": [
       "<div>\n",
       "<style scoped>\n",
       "    .dataframe tbody tr th:only-of-type {\n",
       "        vertical-align: middle;\n",
       "    }\n",
       "\n",
       "    .dataframe tbody tr th {\n",
       "        vertical-align: top;\n",
       "    }\n",
       "\n",
       "    .dataframe thead th {\n",
       "        text-align: right;\n",
       "    }\n",
       "</style>\n",
       "<table border=\"1\" class=\"dataframe\">\n",
       "  <thead>\n",
       "    <tr style=\"text-align: right;\">\n",
       "      <th></th>\n",
       "      <th>Wind Spd (km/h)</th>\n",
       "      <th>Wind Dir (deg)</th>\n",
       "    </tr>\n",
       "    <tr>\n",
       "      <th>Station Name</th>\n",
       "      <th></th>\n",
       "      <th></th>\n",
       "    </tr>\n",
       "  </thead>\n",
       "  <tbody>\n",
       "    <tr>\n",
       "      <th>TORONTO</th>\n",
       "      <td>6.708333</td>\n",
       "      <td>118.333333</td>\n",
       "    </tr>\n",
       "    <tr>\n",
       "      <th>MONTREAL</th>\n",
       "      <td>11.791667</td>\n",
       "      <td>195.000000</td>\n",
       "    </tr>\n",
       "    <tr>\n",
       "      <th>OTTAWA</th>\n",
       "      <td>8.500000</td>\n",
       "      <td>194.583333</td>\n",
       "    </tr>\n",
       "  </tbody>\n",
       "</table>\n",
       "</div>"
      ],
      "text/plain": [
       "              Wind Spd (km/h)  Wind Dir (deg)\n",
       "Station Name                                 \n",
       "TORONTO              6.708333      118.333333\n",
       "MONTREAL            11.791667      195.000000\n",
       "OTTAWA               8.500000      194.583333"
      ]
     },
     "execution_count": 54,
     "metadata": {},
     "output_type": "execute_result"
    }
   ],
   "source": [
    "stations = ['TORONTO', 'MONTREAL', 'OTTAWA']\n",
    "weather_mean.loc[stations, ['Wind Spd (km/h)', 'Wind Dir (deg)']]"
   ]
  },
  {
   "cell_type": "markdown",
   "metadata": {},
   "source": [
    "b) Use `loc` to select rows where the relative humidity is less than 50%, and a column slice from `'Temp (deg C)'` through `'Rel Hum (%)'` (inclusive)"
   ]
  },
  {
   "cell_type": "code",
   "execution_count": 55,
   "metadata": {},
   "outputs": [
    {
     "data": {
      "text/html": [
       "<div>\n",
       "<style scoped>\n",
       "    .dataframe tbody tr th:only-of-type {\n",
       "        vertical-align: middle;\n",
       "    }\n",
       "\n",
       "    .dataframe tbody tr th {\n",
       "        vertical-align: top;\n",
       "    }\n",
       "\n",
       "    .dataframe thead th {\n",
       "        text-align: right;\n",
       "    }\n",
       "</style>\n",
       "<table border=\"1\" class=\"dataframe\">\n",
       "  <thead>\n",
       "    <tr style=\"text-align: right;\">\n",
       "      <th></th>\n",
       "      <th>Temp (deg C)</th>\n",
       "      <th>Dew Point Temp (deg C)</th>\n",
       "      <th>Rel Hum (%)</th>\n",
       "    </tr>\n",
       "    <tr>\n",
       "      <th>Station Name</th>\n",
       "      <th></th>\n",
       "      <th></th>\n",
       "      <th></th>\n",
       "    </tr>\n",
       "  </thead>\n",
       "  <tbody>\n",
       "    <tr>\n",
       "      <th>CALGARY</th>\n",
       "      <td>18.054167</td>\n",
       "      <td>4.708333</td>\n",
       "      <td>43.875000</td>\n",
       "    </tr>\n",
       "    <tr>\n",
       "      <th>EDMONTON</th>\n",
       "      <td>17.558333</td>\n",
       "      <td>5.037500</td>\n",
       "      <td>48.791667</td>\n",
       "    </tr>\n",
       "    <tr>\n",
       "      <th>FREDERICTON</th>\n",
       "      <td>12.373913</td>\n",
       "      <td>0.086957</td>\n",
       "      <td>48.608696</td>\n",
       "    </tr>\n",
       "    <tr>\n",
       "      <th>HALIFAX</th>\n",
       "      <td>12.237500</td>\n",
       "      <td>-1.416667</td>\n",
       "      <td>40.041667</td>\n",
       "    </tr>\n",
       "    <tr>\n",
       "      <th>QUEBEC</th>\n",
       "      <td>15.366667</td>\n",
       "      <td>3.875000</td>\n",
       "      <td>47.666667</td>\n",
       "    </tr>\n",
       "    <tr>\n",
       "      <th>REGINA</th>\n",
       "      <td>21.337500</td>\n",
       "      <td>6.279167</td>\n",
       "      <td>39.958333</td>\n",
       "    </tr>\n",
       "    <tr>\n",
       "      <th>SASKATOON</th>\n",
       "      <td>19.308333</td>\n",
       "      <td>6.845833</td>\n",
       "      <td>48.708333</td>\n",
       "    </tr>\n",
       "    <tr>\n",
       "      <th>WINNIPEG</th>\n",
       "      <td>20.495833</td>\n",
       "      <td>5.929167</td>\n",
       "      <td>43.208333</td>\n",
       "    </tr>\n",
       "    <tr>\n",
       "      <th>YELLOWKNIFE</th>\n",
       "      <td>15.400000</td>\n",
       "      <td>3.008333</td>\n",
       "      <td>45.041667</td>\n",
       "    </tr>\n",
       "  </tbody>\n",
       "</table>\n",
       "</div>"
      ],
      "text/plain": [
       "              Temp (deg C)  Dew Point Temp (deg C)  Rel Hum (%)\n",
       "Station Name                                                   \n",
       "CALGARY          18.054167                4.708333    43.875000\n",
       "EDMONTON         17.558333                5.037500    48.791667\n",
       "FREDERICTON      12.373913                0.086957    48.608696\n",
       "HALIFAX          12.237500               -1.416667    40.041667\n",
       "QUEBEC           15.366667                3.875000    47.666667\n",
       "REGINA           21.337500                6.279167    39.958333\n",
       "SASKATOON        19.308333                6.845833    48.708333\n",
       "WINNIPEG         20.495833                5.929167    43.208333\n",
       "YELLOWKNIFE      15.400000                3.008333    45.041667"
      ]
     },
     "execution_count": 55,
     "metadata": {},
     "output_type": "execute_result"
    }
   ],
   "source": [
    "low_rh = weather_mean['Rel Hum (%)'] < 50\n",
    "weather_mean.loc[low_rh, 'Temp (deg C)':'Rel Hum (%)']"
   ]
  },
  {
   "cell_type": "code",
   "execution_count": null,
   "metadata": {},
   "outputs": [],
   "source": []
  }
 ],
 "metadata": {
  "kernelspec": {
   "display_name": "Python [default]",
   "language": "python",
   "name": "python3"
  },
  "language_info": {
   "codemirror_mode": {
    "name": "ipython",
    "version": 3
   },
   "file_extension": ".py",
   "mimetype": "text/x-python",
   "name": "python",
   "nbconvert_exporter": "python",
   "pygments_lexer": "ipython3",
   "version": "3.6.4"
  }
 },
 "nbformat": 4,
 "nbformat_minor": 2
}
