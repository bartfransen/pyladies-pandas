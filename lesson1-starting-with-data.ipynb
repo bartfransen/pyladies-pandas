{
 "cells": [
  {
   "cell_type": "markdown",
   "metadata": {
    "slideshow": {
     "slide_type": "slide"
    }
   },
   "source": [
    "<div class=\"page-wrap\">\n",
    "    <h1 class=\"title-slide\">Data Analysis with Pandas </h1>\n",
    "    <br>\n",
    "    <center><img src=\"img/pyladies.png\" width=\"25%\"></center>\n",
    "</div><!-- close .page-wrap -->\n",
    "\n",
    "\n",
    "<footer>\n",
    "    <p class=\"footer-left\">September 8, 2018</p>\n",
    "    <p class=\"footer-right\">Instructor: Jennifer Walker</p>\n",
    "\n",
    "</footer>"
   ]
  },
  {
   "cell_type": "markdown",
   "metadata": {
    "slideshow": {
     "slide_type": "slide"
    }
   },
   "source": [
    "# Agenda\n",
    "\n",
    "- Lesson 1: Getting Started with Data\n",
    "- Lesson 2: Sorting, Filtering, and Aggregation\n",
    "- Lesson 3: Subsets and Indexing"
   ]
  },
  {
   "cell_type": "markdown",
   "metadata": {
    "slideshow": {
     "slide_type": "slide"
    }
   },
   "source": [
    "# Lesson 1: Getting Started with Data"
   ]
  },
  {
   "cell_type": "markdown",
   "metadata": {
    "slideshow": {
     "slide_type": "slide"
    }
   },
   "source": [
    "#  Python Data Analysis Ecosystem\n",
    "\n",
    "![ecosystem](img/ecosystem.png)"
   ]
  },
  {
   "cell_type": "markdown",
   "metadata": {
    "slideshow": {
     "slide_type": "slide"
    }
   },
   "source": [
    "# Intro to Pandas\n",
    "\n",
    "- `pandas` = Python Data Analysis Library (https://pandas.pydata.org/)\n",
    "- With `pandas` you can do pretty much everything you would in a spreadsheet, plus a whole lot more!"
   ]
  },
  {
   "cell_type": "markdown",
   "metadata": {
    "slideshow": {
     "slide_type": "fragment"
    }
   },
   "source": [
    "### Why Pandas?\n",
    "- Working with large data files and complex calculations\n",
    "- Dealing with messy and missing data\n",
    "- Merging data from multiple files\n",
    "- Timeseries analysis\n",
    "- Automate repetitive tasks\n",
    "- Combine with other Python libraries to create beautiful and fully customized visualizations"
   ]
  },
  {
   "cell_type": "markdown",
   "metadata": {
    "slideshow": {
     "slide_type": "slide"
    }
   },
   "source": [
    "# Reading a CSV file\n",
    "\n",
    "Let's look at the file `data/weather_hourly_YVR_2017.csv`\n",
    "- One full year of Environment Canada hourly weather measurements at Vancouver Airport\n",
    "- First, let's check it out in the JupyterLab CSV viewer"
   ]
  },
  {
   "cell_type": "markdown",
   "metadata": {
    "slideshow": {
     "slide_type": "fragment"
    }
   },
   "source": [
    "Now let's start working with the data in `pandas`\n",
    "- First, import the `pandas` library and give it the nickname `pd`"
   ]
  },
  {
   "cell_type": "code",
   "execution_count": 1,
   "metadata": {
    "slideshow": {
     "slide_type": "-"
    }
   },
   "outputs": [],
   "source": [
    "import pandas as pd"
   ]
  },
  {
   "cell_type": "markdown",
   "metadata": {
    "slideshow": {
     "slide_type": "fragment"
    }
   },
   "source": [
    "Use the function `pd.read_csv` to read the data into Python and store as a variable:"
   ]
  },
  {
   "cell_type": "code",
   "execution_count": 2,
   "metadata": {
    "scrolled": false,
    "slideshow": {
     "slide_type": "fragment"
    }
   },
   "outputs": [],
   "source": [
    "weather_yvr = pd.read_csv('data/weather_hourly_YVR_2017.csv')"
   ]
  },
  {
   "cell_type": "code",
   "execution_count": 3,
   "metadata": {
    "scrolled": false,
    "slideshow": {
     "slide_type": "fragment"
    }
   },
   "outputs": [
    {
     "data": {
      "text/html": [
       "<div>\n",
       "<style scoped>\n",
       "    .dataframe tbody tr th:only-of-type {\n",
       "        vertical-align: middle;\n",
       "    }\n",
       "\n",
       "    .dataframe tbody tr th {\n",
       "        vertical-align: top;\n",
       "    }\n",
       "\n",
       "    .dataframe thead th {\n",
       "        text-align: right;\n",
       "    }\n",
       "</style>\n",
       "<table border=\"1\" class=\"dataframe\">\n",
       "  <thead>\n",
       "    <tr style=\"text-align: right;\">\n",
       "      <th></th>\n",
       "      <th>Datetime</th>\n",
       "      <th>Temp (deg C)</th>\n",
       "      <th>Dew Point Temp (deg C)</th>\n",
       "      <th>Rel Hum (%)</th>\n",
       "      <th>Wind Dir (deg)</th>\n",
       "      <th>Wind Spd (km/h)</th>\n",
       "      <th>Visibility (km)</th>\n",
       "      <th>Pressure (kPa)</th>\n",
       "      <th>Hmdx</th>\n",
       "      <th>Wind Chill</th>\n",
       "      <th>Conditions</th>\n",
       "    </tr>\n",
       "  </thead>\n",
       "  <tbody>\n",
       "    <tr>\n",
       "      <th>0</th>\n",
       "      <td>2017-01-01 00:00:00</td>\n",
       "      <td>1.2</td>\n",
       "      <td>-0.4</td>\n",
       "      <td>89.0</td>\n",
       "      <td>360.0</td>\n",
       "      <td>8.0</td>\n",
       "      <td>19.3</td>\n",
       "      <td>100.54</td>\n",
       "      <td>NaN</td>\n",
       "      <td>NaN</td>\n",
       "      <td>NaN</td>\n",
       "    </tr>\n",
       "    <tr>\n",
       "      <th>1</th>\n",
       "      <td>2017-01-01 01:00:00</td>\n",
       "      <td>0.9</td>\n",
       "      <td>-0.7</td>\n",
       "      <td>89.0</td>\n",
       "      <td>360.0</td>\n",
       "      <td>2.0</td>\n",
       "      <td>24.1</td>\n",
       "      <td>100.55</td>\n",
       "      <td>NaN</td>\n",
       "      <td>NaN</td>\n",
       "      <td>Cloudy</td>\n",
       "    </tr>\n",
       "    <tr>\n",
       "      <th>2</th>\n",
       "      <td>2017-01-01 02:00:00</td>\n",
       "      <td>1.2</td>\n",
       "      <td>0.6</td>\n",
       "      <td>96.0</td>\n",
       "      <td>80.0</td>\n",
       "      <td>4.0</td>\n",
       "      <td>19.3</td>\n",
       "      <td>100.61</td>\n",
       "      <td>NaN</td>\n",
       "      <td>NaN</td>\n",
       "      <td>Cloudy</td>\n",
       "    </tr>\n",
       "    <tr>\n",
       "      <th>3</th>\n",
       "      <td>2017-01-01 03:00:00</td>\n",
       "      <td>0.6</td>\n",
       "      <td>0.2</td>\n",
       "      <td>97.0</td>\n",
       "      <td>360.0</td>\n",
       "      <td>2.0</td>\n",
       "      <td>19.3</td>\n",
       "      <td>100.65</td>\n",
       "      <td>NaN</td>\n",
       "      <td>NaN</td>\n",
       "      <td>Cloudy</td>\n",
       "    </tr>\n",
       "    <tr>\n",
       "      <th>4</th>\n",
       "      <td>2017-01-01 04:00:00</td>\n",
       "      <td>0.6</td>\n",
       "      <td>0.2</td>\n",
       "      <td>97.0</td>\n",
       "      <td>230.0</td>\n",
       "      <td>3.0</td>\n",
       "      <td>19.3</td>\n",
       "      <td>100.65</td>\n",
       "      <td>NaN</td>\n",
       "      <td>NaN</td>\n",
       "      <td>Cloudy</td>\n",
       "    </tr>\n",
       "    <tr>\n",
       "      <th>5</th>\n",
       "      <td>2017-01-01 05:00:00</td>\n",
       "      <td>0.2</td>\n",
       "      <td>-0.1</td>\n",
       "      <td>98.0</td>\n",
       "      <td>20.0</td>\n",
       "      <td>3.0</td>\n",
       "      <td>24.1</td>\n",
       "      <td>100.67</td>\n",
       "      <td>NaN</td>\n",
       "      <td>NaN</td>\n",
       "      <td>Cloudy</td>\n",
       "    </tr>\n",
       "    <tr>\n",
       "      <th>6</th>\n",
       "      <td>2017-01-01 06:00:00</td>\n",
       "      <td>0.2</td>\n",
       "      <td>-0.1</td>\n",
       "      <td>98.0</td>\n",
       "      <td>70.0</td>\n",
       "      <td>3.0</td>\n",
       "      <td>24.1</td>\n",
       "      <td>100.67</td>\n",
       "      <td>NaN</td>\n",
       "      <td>NaN</td>\n",
       "      <td>Cloudy</td>\n",
       "    </tr>\n",
       "    <tr>\n",
       "      <th>7</th>\n",
       "      <td>2017-01-01 07:00:00</td>\n",
       "      <td>0.8</td>\n",
       "      <td>0.4</td>\n",
       "      <td>97.0</td>\n",
       "      <td>40.0</td>\n",
       "      <td>8.0</td>\n",
       "      <td>24.1</td>\n",
       "      <td>100.72</td>\n",
       "      <td>NaN</td>\n",
       "      <td>NaN</td>\n",
       "      <td>Cloudy</td>\n",
       "    </tr>\n",
       "    <tr>\n",
       "      <th>8</th>\n",
       "      <td>2017-01-01 08:00:00</td>\n",
       "      <td>0.4</td>\n",
       "      <td>-2.2</td>\n",
       "      <td>83.0</td>\n",
       "      <td>20.0</td>\n",
       "      <td>5.0</td>\n",
       "      <td>32.2</td>\n",
       "      <td>100.74</td>\n",
       "      <td>NaN</td>\n",
       "      <td>NaN</td>\n",
       "      <td>Cloudy</td>\n",
       "    </tr>\n",
       "    <tr>\n",
       "      <th>9</th>\n",
       "      <td>2017-01-01 09:00:00</td>\n",
       "      <td>0.8</td>\n",
       "      <td>-4.1</td>\n",
       "      <td>70.0</td>\n",
       "      <td>360.0</td>\n",
       "      <td>19.0</td>\n",
       "      <td>48.3</td>\n",
       "      <td>100.82</td>\n",
       "      <td>NaN</td>\n",
       "      <td>NaN</td>\n",
       "      <td>Cloudy</td>\n",
       "    </tr>\n",
       "    <tr>\n",
       "      <th>10</th>\n",
       "      <td>2017-01-01 10:00:00</td>\n",
       "      <td>2.1</td>\n",
       "      <td>-5.3</td>\n",
       "      <td>58.0</td>\n",
       "      <td>350.0</td>\n",
       "      <td>23.0</td>\n",
       "      <td>48.3</td>\n",
       "      <td>100.90</td>\n",
       "      <td>NaN</td>\n",
       "      <td>NaN</td>\n",
       "      <td>Cloudy</td>\n",
       "    </tr>\n",
       "    <tr>\n",
       "      <th>11</th>\n",
       "      <td>2017-01-01 11:00:00</td>\n",
       "      <td>2.0</td>\n",
       "      <td>-5.9</td>\n",
       "      <td>56.0</td>\n",
       "      <td>350.0</td>\n",
       "      <td>29.0</td>\n",
       "      <td>48.3</td>\n",
       "      <td>100.95</td>\n",
       "      <td>NaN</td>\n",
       "      <td>NaN</td>\n",
       "      <td>Cloudy</td>\n",
       "    </tr>\n",
       "    <tr>\n",
       "      <th>12</th>\n",
       "      <td>2017-01-01 12:00:00</td>\n",
       "      <td>1.6</td>\n",
       "      <td>-6.3</td>\n",
       "      <td>56.0</td>\n",
       "      <td>340.0</td>\n",
       "      <td>24.0</td>\n",
       "      <td>48.3</td>\n",
       "      <td>100.98</td>\n",
       "      <td>NaN</td>\n",
       "      <td>NaN</td>\n",
       "      <td>Cloudy</td>\n",
       "    </tr>\n",
       "    <tr>\n",
       "      <th>13</th>\n",
       "      <td>2017-01-01 13:00:00</td>\n",
       "      <td>1.4</td>\n",
       "      <td>-6.5</td>\n",
       "      <td>56.0</td>\n",
       "      <td>340.0</td>\n",
       "      <td>21.0</td>\n",
       "      <td>48.3</td>\n",
       "      <td>100.97</td>\n",
       "      <td>NaN</td>\n",
       "      <td>NaN</td>\n",
       "      <td>Cloudy</td>\n",
       "    </tr>\n",
       "    <tr>\n",
       "      <th>14</th>\n",
       "      <td>2017-01-01 14:00:00</td>\n",
       "      <td>1.3</td>\n",
       "      <td>-6.1</td>\n",
       "      <td>58.0</td>\n",
       "      <td>360.0</td>\n",
       "      <td>18.0</td>\n",
       "      <td>48.3</td>\n",
       "      <td>100.98</td>\n",
       "      <td>NaN</td>\n",
       "      <td>NaN</td>\n",
       "      <td>Cloudy</td>\n",
       "    </tr>\n",
       "    <tr>\n",
       "      <th>15</th>\n",
       "      <td>2017-01-01 15:00:00</td>\n",
       "      <td>1.0</td>\n",
       "      <td>-6.8</td>\n",
       "      <td>56.0</td>\n",
       "      <td>360.0</td>\n",
       "      <td>12.0</td>\n",
       "      <td>48.3</td>\n",
       "      <td>101.02</td>\n",
       "      <td>NaN</td>\n",
       "      <td>NaN</td>\n",
       "      <td>Cloudy</td>\n",
       "    </tr>\n",
       "    <tr>\n",
       "      <th>16</th>\n",
       "      <td>2017-01-01 16:00:00</td>\n",
       "      <td>0.9</td>\n",
       "      <td>-7.6</td>\n",
       "      <td>53.0</td>\n",
       "      <td>20.0</td>\n",
       "      <td>14.0</td>\n",
       "      <td>48.3</td>\n",
       "      <td>101.03</td>\n",
       "      <td>NaN</td>\n",
       "      <td>NaN</td>\n",
       "      <td>Mostly Cloudy</td>\n",
       "    </tr>\n",
       "    <tr>\n",
       "      <th>17</th>\n",
       "      <td>2017-01-01 17:00:00</td>\n",
       "      <td>-1.3</td>\n",
       "      <td>-7.9</td>\n",
       "      <td>61.0</td>\n",
       "      <td>330.0</td>\n",
       "      <td>7.0</td>\n",
       "      <td>48.3</td>\n",
       "      <td>101.09</td>\n",
       "      <td>NaN</td>\n",
       "      <td>-4.0</td>\n",
       "      <td>Mostly Cloudy</td>\n",
       "    </tr>\n",
       "    <tr>\n",
       "      <th>18</th>\n",
       "      <td>2017-01-01 18:00:00</td>\n",
       "      <td>-0.4</td>\n",
       "      <td>-9.6</td>\n",
       "      <td>50.0</td>\n",
       "      <td>40.0</td>\n",
       "      <td>6.0</td>\n",
       "      <td>48.3</td>\n",
       "      <td>101.13</td>\n",
       "      <td>NaN</td>\n",
       "      <td>-2.0</td>\n",
       "      <td>Mostly Cloudy</td>\n",
       "    </tr>\n",
       "    <tr>\n",
       "      <th>19</th>\n",
       "      <td>2017-01-01 19:00:00</td>\n",
       "      <td>-0.6</td>\n",
       "      <td>-10.1</td>\n",
       "      <td>49.0</td>\n",
       "      <td>10.0</td>\n",
       "      <td>9.0</td>\n",
       "      <td>48.3</td>\n",
       "      <td>101.18</td>\n",
       "      <td>NaN</td>\n",
       "      <td>-4.0</td>\n",
       "      <td>Mostly Cloudy</td>\n",
       "    </tr>\n",
       "    <tr>\n",
       "      <th>20</th>\n",
       "      <td>2017-01-01 20:00:00</td>\n",
       "      <td>-1.2</td>\n",
       "      <td>-10.1</td>\n",
       "      <td>51.0</td>\n",
       "      <td>30.0</td>\n",
       "      <td>12.0</td>\n",
       "      <td>48.3</td>\n",
       "      <td>101.21</td>\n",
       "      <td>NaN</td>\n",
       "      <td>-5.0</td>\n",
       "      <td>Mostly Cloudy</td>\n",
       "    </tr>\n",
       "    <tr>\n",
       "      <th>21</th>\n",
       "      <td>2017-01-01 21:00:00</td>\n",
       "      <td>-1.0</td>\n",
       "      <td>-10.4</td>\n",
       "      <td>49.0</td>\n",
       "      <td>20.0</td>\n",
       "      <td>18.0</td>\n",
       "      <td>48.3</td>\n",
       "      <td>101.28</td>\n",
       "      <td>NaN</td>\n",
       "      <td>-6.0</td>\n",
       "      <td>Mostly Cloudy</td>\n",
       "    </tr>\n",
       "    <tr>\n",
       "      <th>22</th>\n",
       "      <td>2017-01-01 22:00:00</td>\n",
       "      <td>-1.7</td>\n",
       "      <td>-10.8</td>\n",
       "      <td>50.0</td>\n",
       "      <td>20.0</td>\n",
       "      <td>11.0</td>\n",
       "      <td>48.3</td>\n",
       "      <td>101.33</td>\n",
       "      <td>NaN</td>\n",
       "      <td>-6.0</td>\n",
       "      <td>Mostly Cloudy</td>\n",
       "    </tr>\n",
       "    <tr>\n",
       "      <th>23</th>\n",
       "      <td>2017-01-01 23:00:00</td>\n",
       "      <td>-3.0</td>\n",
       "      <td>-9.9</td>\n",
       "      <td>59.0</td>\n",
       "      <td>360.0</td>\n",
       "      <td>12.0</td>\n",
       "      <td>32.2</td>\n",
       "      <td>101.37</td>\n",
       "      <td>NaN</td>\n",
       "      <td>-7.0</td>\n",
       "      <td>Mostly Cloudy</td>\n",
       "    </tr>\n",
       "    <tr>\n",
       "      <th>24</th>\n",
       "      <td>2017-01-02 00:00:00</td>\n",
       "      <td>-2.6</td>\n",
       "      <td>-10.5</td>\n",
       "      <td>55.0</td>\n",
       "      <td>360.0</td>\n",
       "      <td>9.0</td>\n",
       "      <td>32.2</td>\n",
       "      <td>101.40</td>\n",
       "      <td>NaN</td>\n",
       "      <td>-6.0</td>\n",
       "      <td>Mostly Cloudy</td>\n",
       "    </tr>\n",
       "    <tr>\n",
       "      <th>25</th>\n",
       "      <td>2017-01-02 01:00:00</td>\n",
       "      <td>-2.4</td>\n",
       "      <td>-11.0</td>\n",
       "      <td>52.0</td>\n",
       "      <td>20.0</td>\n",
       "      <td>11.0</td>\n",
       "      <td>32.2</td>\n",
       "      <td>101.43</td>\n",
       "      <td>NaN</td>\n",
       "      <td>-6.0</td>\n",
       "      <td>Mainly Clear</td>\n",
       "    </tr>\n",
       "    <tr>\n",
       "      <th>26</th>\n",
       "      <td>2017-01-02 02:00:00</td>\n",
       "      <td>-2.2</td>\n",
       "      <td>-11.8</td>\n",
       "      <td>48.0</td>\n",
       "      <td>40.0</td>\n",
       "      <td>14.0</td>\n",
       "      <td>32.2</td>\n",
       "      <td>101.45</td>\n",
       "      <td>NaN</td>\n",
       "      <td>-7.0</td>\n",
       "      <td>Mainly Clear</td>\n",
       "    </tr>\n",
       "    <tr>\n",
       "      <th>27</th>\n",
       "      <td>2017-01-02 03:00:00</td>\n",
       "      <td>-2.4</td>\n",
       "      <td>-11.7</td>\n",
       "      <td>49.0</td>\n",
       "      <td>30.0</td>\n",
       "      <td>14.0</td>\n",
       "      <td>32.2</td>\n",
       "      <td>101.49</td>\n",
       "      <td>NaN</td>\n",
       "      <td>-7.0</td>\n",
       "      <td>Mainly Clear</td>\n",
       "    </tr>\n",
       "    <tr>\n",
       "      <th>28</th>\n",
       "      <td>2017-01-02 04:00:00</td>\n",
       "      <td>-3.0</td>\n",
       "      <td>-12.3</td>\n",
       "      <td>49.0</td>\n",
       "      <td>30.0</td>\n",
       "      <td>11.0</td>\n",
       "      <td>48.3</td>\n",
       "      <td>101.51</td>\n",
       "      <td>NaN</td>\n",
       "      <td>-7.0</td>\n",
       "      <td>Clear</td>\n",
       "    </tr>\n",
       "    <tr>\n",
       "      <th>29</th>\n",
       "      <td>2017-01-02 05:00:00</td>\n",
       "      <td>-2.8</td>\n",
       "      <td>-12.1</td>\n",
       "      <td>49.0</td>\n",
       "      <td>40.0</td>\n",
       "      <td>13.0</td>\n",
       "      <td>48.3</td>\n",
       "      <td>101.55</td>\n",
       "      <td>NaN</td>\n",
       "      <td>-7.0</td>\n",
       "      <td>Clear</td>\n",
       "    </tr>\n",
       "    <tr>\n",
       "      <th>...</th>\n",
       "      <td>...</td>\n",
       "      <td>...</td>\n",
       "      <td>...</td>\n",
       "      <td>...</td>\n",
       "      <td>...</td>\n",
       "      <td>...</td>\n",
       "      <td>...</td>\n",
       "      <td>...</td>\n",
       "      <td>...</td>\n",
       "      <td>...</td>\n",
       "      <td>...</td>\n",
       "    </tr>\n",
       "    <tr>\n",
       "      <th>8730</th>\n",
       "      <td>2017-12-30 18:00:00</td>\n",
       "      <td>1.4</td>\n",
       "      <td>0.0</td>\n",
       "      <td>90.0</td>\n",
       "      <td>90.0</td>\n",
       "      <td>9.0</td>\n",
       "      <td>24.1</td>\n",
       "      <td>102.75</td>\n",
       "      <td>NaN</td>\n",
       "      <td>NaN</td>\n",
       "      <td>Mostly Cloudy</td>\n",
       "    </tr>\n",
       "    <tr>\n",
       "      <th>8731</th>\n",
       "      <td>2017-12-30 19:00:00</td>\n",
       "      <td>0.6</td>\n",
       "      <td>-0.8</td>\n",
       "      <td>91.0</td>\n",
       "      <td>90.0</td>\n",
       "      <td>8.0</td>\n",
       "      <td>32.2</td>\n",
       "      <td>102.74</td>\n",
       "      <td>NaN</td>\n",
       "      <td>NaN</td>\n",
       "      <td>Mostly Cloudy</td>\n",
       "    </tr>\n",
       "    <tr>\n",
       "      <th>8732</th>\n",
       "      <td>2017-12-30 20:00:00</td>\n",
       "      <td>0.5</td>\n",
       "      <td>-0.9</td>\n",
       "      <td>90.0</td>\n",
       "      <td>150.0</td>\n",
       "      <td>5.0</td>\n",
       "      <td>32.2</td>\n",
       "      <td>102.80</td>\n",
       "      <td>NaN</td>\n",
       "      <td>NaN</td>\n",
       "      <td>Mostly Cloudy</td>\n",
       "    </tr>\n",
       "    <tr>\n",
       "      <th>8733</th>\n",
       "      <td>2017-12-30 21:00:00</td>\n",
       "      <td>-0.4</td>\n",
       "      <td>-1.2</td>\n",
       "      <td>94.0</td>\n",
       "      <td>20.0</td>\n",
       "      <td>6.0</td>\n",
       "      <td>32.2</td>\n",
       "      <td>102.83</td>\n",
       "      <td>NaN</td>\n",
       "      <td>-2.0</td>\n",
       "      <td>Mostly Cloudy</td>\n",
       "    </tr>\n",
       "    <tr>\n",
       "      <th>8734</th>\n",
       "      <td>2017-12-30 22:00:00</td>\n",
       "      <td>-1.2</td>\n",
       "      <td>-2.1</td>\n",
       "      <td>94.0</td>\n",
       "      <td>110.0</td>\n",
       "      <td>7.0</td>\n",
       "      <td>32.2</td>\n",
       "      <td>102.82</td>\n",
       "      <td>NaN</td>\n",
       "      <td>-4.0</td>\n",
       "      <td>Mainly Clear</td>\n",
       "    </tr>\n",
       "    <tr>\n",
       "      <th>8735</th>\n",
       "      <td>2017-12-30 23:00:00</td>\n",
       "      <td>-1.1</td>\n",
       "      <td>-1.9</td>\n",
       "      <td>95.0</td>\n",
       "      <td>110.0</td>\n",
       "      <td>6.0</td>\n",
       "      <td>32.2</td>\n",
       "      <td>102.84</td>\n",
       "      <td>NaN</td>\n",
       "      <td>-3.0</td>\n",
       "      <td>Mainly Clear</td>\n",
       "    </tr>\n",
       "    <tr>\n",
       "      <th>8736</th>\n",
       "      <td>2017-12-31 00:00:00</td>\n",
       "      <td>-1.1</td>\n",
       "      <td>-2.0</td>\n",
       "      <td>94.0</td>\n",
       "      <td>190.0</td>\n",
       "      <td>5.0</td>\n",
       "      <td>32.2</td>\n",
       "      <td>102.85</td>\n",
       "      <td>NaN</td>\n",
       "      <td>-3.0</td>\n",
       "      <td>Mainly Clear</td>\n",
       "    </tr>\n",
       "    <tr>\n",
       "      <th>8737</th>\n",
       "      <td>2017-12-31 01:00:00</td>\n",
       "      <td>-0.4</td>\n",
       "      <td>-1.3</td>\n",
       "      <td>93.0</td>\n",
       "      <td>30.0</td>\n",
       "      <td>4.0</td>\n",
       "      <td>32.2</td>\n",
       "      <td>102.84</td>\n",
       "      <td>NaN</td>\n",
       "      <td>-2.0</td>\n",
       "      <td>Mainly Clear</td>\n",
       "    </tr>\n",
       "    <tr>\n",
       "      <th>8738</th>\n",
       "      <td>2017-12-31 02:00:00</td>\n",
       "      <td>0.4</td>\n",
       "      <td>-1.5</td>\n",
       "      <td>87.0</td>\n",
       "      <td>10.0</td>\n",
       "      <td>9.0</td>\n",
       "      <td>32.2</td>\n",
       "      <td>102.80</td>\n",
       "      <td>NaN</td>\n",
       "      <td>NaN</td>\n",
       "      <td>Mainly Clear</td>\n",
       "    </tr>\n",
       "    <tr>\n",
       "      <th>8739</th>\n",
       "      <td>2017-12-31 03:00:00</td>\n",
       "      <td>-1.4</td>\n",
       "      <td>-2.1</td>\n",
       "      <td>95.0</td>\n",
       "      <td>150.0</td>\n",
       "      <td>10.0</td>\n",
       "      <td>32.2</td>\n",
       "      <td>102.79</td>\n",
       "      <td>NaN</td>\n",
       "      <td>-5.0</td>\n",
       "      <td>Mainly Clear</td>\n",
       "    </tr>\n",
       "    <tr>\n",
       "      <th>8740</th>\n",
       "      <td>2017-12-31 04:00:00</td>\n",
       "      <td>-3.0</td>\n",
       "      <td>-3.4</td>\n",
       "      <td>96.0</td>\n",
       "      <td>90.0</td>\n",
       "      <td>8.0</td>\n",
       "      <td>32.2</td>\n",
       "      <td>102.78</td>\n",
       "      <td>NaN</td>\n",
       "      <td>-6.0</td>\n",
       "      <td>Clear</td>\n",
       "    </tr>\n",
       "    <tr>\n",
       "      <th>8741</th>\n",
       "      <td>2017-12-31 05:00:00</td>\n",
       "      <td>-2.8</td>\n",
       "      <td>-3.2</td>\n",
       "      <td>97.0</td>\n",
       "      <td>110.0</td>\n",
       "      <td>9.0</td>\n",
       "      <td>32.2</td>\n",
       "      <td>102.78</td>\n",
       "      <td>NaN</td>\n",
       "      <td>-6.0</td>\n",
       "      <td>Clear</td>\n",
       "    </tr>\n",
       "    <tr>\n",
       "      <th>8742</th>\n",
       "      <td>2017-12-31 06:00:00</td>\n",
       "      <td>-2.3</td>\n",
       "      <td>-2.9</td>\n",
       "      <td>96.0</td>\n",
       "      <td>70.0</td>\n",
       "      <td>4.0</td>\n",
       "      <td>32.2</td>\n",
       "      <td>102.73</td>\n",
       "      <td>NaN</td>\n",
       "      <td>-4.0</td>\n",
       "      <td>Clear</td>\n",
       "    </tr>\n",
       "    <tr>\n",
       "      <th>8743</th>\n",
       "      <td>2017-12-31 07:00:00</td>\n",
       "      <td>-3.8</td>\n",
       "      <td>-4.1</td>\n",
       "      <td>98.0</td>\n",
       "      <td>80.0</td>\n",
       "      <td>9.0</td>\n",
       "      <td>0.2</td>\n",
       "      <td>102.72</td>\n",
       "      <td>NaN</td>\n",
       "      <td>-8.0</td>\n",
       "      <td>Freezing Fog</td>\n",
       "    </tr>\n",
       "    <tr>\n",
       "      <th>8744</th>\n",
       "      <td>2017-12-31 08:00:00</td>\n",
       "      <td>-3.5</td>\n",
       "      <td>-3.7</td>\n",
       "      <td>98.0</td>\n",
       "      <td>140.0</td>\n",
       "      <td>7.0</td>\n",
       "      <td>0.4</td>\n",
       "      <td>102.74</td>\n",
       "      <td>NaN</td>\n",
       "      <td>-6.0</td>\n",
       "      <td>Freezing Fog</td>\n",
       "    </tr>\n",
       "    <tr>\n",
       "      <th>8745</th>\n",
       "      <td>2017-12-31 09:00:00</td>\n",
       "      <td>-2.9</td>\n",
       "      <td>-3.1</td>\n",
       "      <td>98.0</td>\n",
       "      <td>90.0</td>\n",
       "      <td>7.0</td>\n",
       "      <td>0.2</td>\n",
       "      <td>102.75</td>\n",
       "      <td>NaN</td>\n",
       "      <td>-6.0</td>\n",
       "      <td>Freezing Fog</td>\n",
       "    </tr>\n",
       "    <tr>\n",
       "      <th>8746</th>\n",
       "      <td>2017-12-31 10:00:00</td>\n",
       "      <td>-0.7</td>\n",
       "      <td>-0.8</td>\n",
       "      <td>99.0</td>\n",
       "      <td>110.0</td>\n",
       "      <td>10.0</td>\n",
       "      <td>48.3</td>\n",
       "      <td>102.74</td>\n",
       "      <td>NaN</td>\n",
       "      <td>-4.0</td>\n",
       "      <td>Mostly Cloudy</td>\n",
       "    </tr>\n",
       "    <tr>\n",
       "      <th>8747</th>\n",
       "      <td>2017-12-31 11:00:00</td>\n",
       "      <td>-0.4</td>\n",
       "      <td>-0.8</td>\n",
       "      <td>97.0</td>\n",
       "      <td>80.0</td>\n",
       "      <td>8.0</td>\n",
       "      <td>48.3</td>\n",
       "      <td>102.71</td>\n",
       "      <td>NaN</td>\n",
       "      <td>-3.0</td>\n",
       "      <td>Mostly Cloudy</td>\n",
       "    </tr>\n",
       "    <tr>\n",
       "      <th>8748</th>\n",
       "      <td>2017-12-31 12:00:00</td>\n",
       "      <td>1.3</td>\n",
       "      <td>-0.2</td>\n",
       "      <td>90.0</td>\n",
       "      <td>100.0</td>\n",
       "      <td>9.0</td>\n",
       "      <td>48.3</td>\n",
       "      <td>102.65</td>\n",
       "      <td>NaN</td>\n",
       "      <td>NaN</td>\n",
       "      <td>Mostly Cloudy</td>\n",
       "    </tr>\n",
       "    <tr>\n",
       "      <th>8749</th>\n",
       "      <td>2017-12-31 13:00:00</td>\n",
       "      <td>2.5</td>\n",
       "      <td>0.0</td>\n",
       "      <td>83.0</td>\n",
       "      <td>140.0</td>\n",
       "      <td>6.0</td>\n",
       "      <td>48.3</td>\n",
       "      <td>102.60</td>\n",
       "      <td>NaN</td>\n",
       "      <td>NaN</td>\n",
       "      <td>Mainly Clear</td>\n",
       "    </tr>\n",
       "    <tr>\n",
       "      <th>8750</th>\n",
       "      <td>2017-12-31 14:00:00</td>\n",
       "      <td>3.6</td>\n",
       "      <td>-0.7</td>\n",
       "      <td>73.0</td>\n",
       "      <td>330.0</td>\n",
       "      <td>7.0</td>\n",
       "      <td>48.3</td>\n",
       "      <td>102.55</td>\n",
       "      <td>NaN</td>\n",
       "      <td>NaN</td>\n",
       "      <td>Mainly Clear</td>\n",
       "    </tr>\n",
       "    <tr>\n",
       "      <th>8751</th>\n",
       "      <td>2017-12-31 15:00:00</td>\n",
       "      <td>3.6</td>\n",
       "      <td>-0.8</td>\n",
       "      <td>73.0</td>\n",
       "      <td>330.0</td>\n",
       "      <td>16.0</td>\n",
       "      <td>48.3</td>\n",
       "      <td>102.50</td>\n",
       "      <td>NaN</td>\n",
       "      <td>NaN</td>\n",
       "      <td>Mainly Clear</td>\n",
       "    </tr>\n",
       "    <tr>\n",
       "      <th>8752</th>\n",
       "      <td>2017-12-31 16:00:00</td>\n",
       "      <td>2.3</td>\n",
       "      <td>-1.7</td>\n",
       "      <td>75.0</td>\n",
       "      <td>320.0</td>\n",
       "      <td>24.0</td>\n",
       "      <td>48.3</td>\n",
       "      <td>102.49</td>\n",
       "      <td>NaN</td>\n",
       "      <td>NaN</td>\n",
       "      <td>Cloudy</td>\n",
       "    </tr>\n",
       "    <tr>\n",
       "      <th>8753</th>\n",
       "      <td>2017-12-31 17:00:00</td>\n",
       "      <td>1.4</td>\n",
       "      <td>-1.5</td>\n",
       "      <td>81.0</td>\n",
       "      <td>320.0</td>\n",
       "      <td>18.0</td>\n",
       "      <td>48.3</td>\n",
       "      <td>102.49</td>\n",
       "      <td>NaN</td>\n",
       "      <td>NaN</td>\n",
       "      <td>Cloudy</td>\n",
       "    </tr>\n",
       "    <tr>\n",
       "      <th>8754</th>\n",
       "      <td>2017-12-31 18:00:00</td>\n",
       "      <td>1.5</td>\n",
       "      <td>-3.0</td>\n",
       "      <td>72.0</td>\n",
       "      <td>20.0</td>\n",
       "      <td>4.0</td>\n",
       "      <td>48.3</td>\n",
       "      <td>102.49</td>\n",
       "      <td>NaN</td>\n",
       "      <td>NaN</td>\n",
       "      <td>Cloudy</td>\n",
       "    </tr>\n",
       "    <tr>\n",
       "      <th>8755</th>\n",
       "      <td>2017-12-31 19:00:00</td>\n",
       "      <td>1.0</td>\n",
       "      <td>-2.5</td>\n",
       "      <td>78.0</td>\n",
       "      <td>340.0</td>\n",
       "      <td>5.0</td>\n",
       "      <td>32.2</td>\n",
       "      <td>102.51</td>\n",
       "      <td>NaN</td>\n",
       "      <td>NaN</td>\n",
       "      <td>Mainly Clear</td>\n",
       "    </tr>\n",
       "    <tr>\n",
       "      <th>8756</th>\n",
       "      <td>2017-12-31 20:00:00</td>\n",
       "      <td>-1.2</td>\n",
       "      <td>-2.9</td>\n",
       "      <td>89.0</td>\n",
       "      <td>90.0</td>\n",
       "      <td>9.0</td>\n",
       "      <td>32.2</td>\n",
       "      <td>102.52</td>\n",
       "      <td>NaN</td>\n",
       "      <td>-4.0</td>\n",
       "      <td>Mainly Clear</td>\n",
       "    </tr>\n",
       "    <tr>\n",
       "      <th>8757</th>\n",
       "      <td>2017-12-31 21:00:00</td>\n",
       "      <td>-0.7</td>\n",
       "      <td>-2.2</td>\n",
       "      <td>89.0</td>\n",
       "      <td>100.0</td>\n",
       "      <td>11.0</td>\n",
       "      <td>32.2</td>\n",
       "      <td>102.58</td>\n",
       "      <td>NaN</td>\n",
       "      <td>-4.0</td>\n",
       "      <td>Mainly Clear</td>\n",
       "    </tr>\n",
       "    <tr>\n",
       "      <th>8758</th>\n",
       "      <td>2017-12-31 22:00:00</td>\n",
       "      <td>-1.5</td>\n",
       "      <td>-2.4</td>\n",
       "      <td>93.0</td>\n",
       "      <td>100.0</td>\n",
       "      <td>11.0</td>\n",
       "      <td>32.2</td>\n",
       "      <td>102.63</td>\n",
       "      <td>NaN</td>\n",
       "      <td>-5.0</td>\n",
       "      <td>Mainly Clear</td>\n",
       "    </tr>\n",
       "    <tr>\n",
       "      <th>8759</th>\n",
       "      <td>2017-12-31 23:00:00</td>\n",
       "      <td>-2.1</td>\n",
       "      <td>-3.0</td>\n",
       "      <td>93.0</td>\n",
       "      <td>90.0</td>\n",
       "      <td>9.0</td>\n",
       "      <td>32.2</td>\n",
       "      <td>102.69</td>\n",
       "      <td>NaN</td>\n",
       "      <td>-6.0</td>\n",
       "      <td>Mainly Clear</td>\n",
       "    </tr>\n",
       "  </tbody>\n",
       "</table>\n",
       "<p>8760 rows × 11 columns</p>\n",
       "</div>"
      ],
      "text/plain": [
       "                 Datetime  Temp (deg C)  Dew Point Temp (deg C)  Rel Hum (%)  \\\n",
       "0     2017-01-01 00:00:00           1.2                    -0.4         89.0   \n",
       "1     2017-01-01 01:00:00           0.9                    -0.7         89.0   \n",
       "2     2017-01-01 02:00:00           1.2                     0.6         96.0   \n",
       "3     2017-01-01 03:00:00           0.6                     0.2         97.0   \n",
       "4     2017-01-01 04:00:00           0.6                     0.2         97.0   \n",
       "5     2017-01-01 05:00:00           0.2                    -0.1         98.0   \n",
       "6     2017-01-01 06:00:00           0.2                    -0.1         98.0   \n",
       "7     2017-01-01 07:00:00           0.8                     0.4         97.0   \n",
       "8     2017-01-01 08:00:00           0.4                    -2.2         83.0   \n",
       "9     2017-01-01 09:00:00           0.8                    -4.1         70.0   \n",
       "10    2017-01-01 10:00:00           2.1                    -5.3         58.0   \n",
       "11    2017-01-01 11:00:00           2.0                    -5.9         56.0   \n",
       "12    2017-01-01 12:00:00           1.6                    -6.3         56.0   \n",
       "13    2017-01-01 13:00:00           1.4                    -6.5         56.0   \n",
       "14    2017-01-01 14:00:00           1.3                    -6.1         58.0   \n",
       "15    2017-01-01 15:00:00           1.0                    -6.8         56.0   \n",
       "16    2017-01-01 16:00:00           0.9                    -7.6         53.0   \n",
       "17    2017-01-01 17:00:00          -1.3                    -7.9         61.0   \n",
       "18    2017-01-01 18:00:00          -0.4                    -9.6         50.0   \n",
       "19    2017-01-01 19:00:00          -0.6                   -10.1         49.0   \n",
       "20    2017-01-01 20:00:00          -1.2                   -10.1         51.0   \n",
       "21    2017-01-01 21:00:00          -1.0                   -10.4         49.0   \n",
       "22    2017-01-01 22:00:00          -1.7                   -10.8         50.0   \n",
       "23    2017-01-01 23:00:00          -3.0                    -9.9         59.0   \n",
       "24    2017-01-02 00:00:00          -2.6                   -10.5         55.0   \n",
       "25    2017-01-02 01:00:00          -2.4                   -11.0         52.0   \n",
       "26    2017-01-02 02:00:00          -2.2                   -11.8         48.0   \n",
       "27    2017-01-02 03:00:00          -2.4                   -11.7         49.0   \n",
       "28    2017-01-02 04:00:00          -3.0                   -12.3         49.0   \n",
       "29    2017-01-02 05:00:00          -2.8                   -12.1         49.0   \n",
       "...                   ...           ...                     ...          ...   \n",
       "8730  2017-12-30 18:00:00           1.4                     0.0         90.0   \n",
       "8731  2017-12-30 19:00:00           0.6                    -0.8         91.0   \n",
       "8732  2017-12-30 20:00:00           0.5                    -0.9         90.0   \n",
       "8733  2017-12-30 21:00:00          -0.4                    -1.2         94.0   \n",
       "8734  2017-12-30 22:00:00          -1.2                    -2.1         94.0   \n",
       "8735  2017-12-30 23:00:00          -1.1                    -1.9         95.0   \n",
       "8736  2017-12-31 00:00:00          -1.1                    -2.0         94.0   \n",
       "8737  2017-12-31 01:00:00          -0.4                    -1.3         93.0   \n",
       "8738  2017-12-31 02:00:00           0.4                    -1.5         87.0   \n",
       "8739  2017-12-31 03:00:00          -1.4                    -2.1         95.0   \n",
       "8740  2017-12-31 04:00:00          -3.0                    -3.4         96.0   \n",
       "8741  2017-12-31 05:00:00          -2.8                    -3.2         97.0   \n",
       "8742  2017-12-31 06:00:00          -2.3                    -2.9         96.0   \n",
       "8743  2017-12-31 07:00:00          -3.8                    -4.1         98.0   \n",
       "8744  2017-12-31 08:00:00          -3.5                    -3.7         98.0   \n",
       "8745  2017-12-31 09:00:00          -2.9                    -3.1         98.0   \n",
       "8746  2017-12-31 10:00:00          -0.7                    -0.8         99.0   \n",
       "8747  2017-12-31 11:00:00          -0.4                    -0.8         97.0   \n",
       "8748  2017-12-31 12:00:00           1.3                    -0.2         90.0   \n",
       "8749  2017-12-31 13:00:00           2.5                     0.0         83.0   \n",
       "8750  2017-12-31 14:00:00           3.6                    -0.7         73.0   \n",
       "8751  2017-12-31 15:00:00           3.6                    -0.8         73.0   \n",
       "8752  2017-12-31 16:00:00           2.3                    -1.7         75.0   \n",
       "8753  2017-12-31 17:00:00           1.4                    -1.5         81.0   \n",
       "8754  2017-12-31 18:00:00           1.5                    -3.0         72.0   \n",
       "8755  2017-12-31 19:00:00           1.0                    -2.5         78.0   \n",
       "8756  2017-12-31 20:00:00          -1.2                    -2.9         89.0   \n",
       "8757  2017-12-31 21:00:00          -0.7                    -2.2         89.0   \n",
       "8758  2017-12-31 22:00:00          -1.5                    -2.4         93.0   \n",
       "8759  2017-12-31 23:00:00          -2.1                    -3.0         93.0   \n",
       "\n",
       "      Wind Dir (deg)  Wind Spd (km/h)  Visibility (km)  Pressure (kPa)  Hmdx  \\\n",
       "0              360.0              8.0             19.3          100.54   NaN   \n",
       "1              360.0              2.0             24.1          100.55   NaN   \n",
       "2               80.0              4.0             19.3          100.61   NaN   \n",
       "3              360.0              2.0             19.3          100.65   NaN   \n",
       "4              230.0              3.0             19.3          100.65   NaN   \n",
       "5               20.0              3.0             24.1          100.67   NaN   \n",
       "6               70.0              3.0             24.1          100.67   NaN   \n",
       "7               40.0              8.0             24.1          100.72   NaN   \n",
       "8               20.0              5.0             32.2          100.74   NaN   \n",
       "9              360.0             19.0             48.3          100.82   NaN   \n",
       "10             350.0             23.0             48.3          100.90   NaN   \n",
       "11             350.0             29.0             48.3          100.95   NaN   \n",
       "12             340.0             24.0             48.3          100.98   NaN   \n",
       "13             340.0             21.0             48.3          100.97   NaN   \n",
       "14             360.0             18.0             48.3          100.98   NaN   \n",
       "15             360.0             12.0             48.3          101.02   NaN   \n",
       "16              20.0             14.0             48.3          101.03   NaN   \n",
       "17             330.0              7.0             48.3          101.09   NaN   \n",
       "18              40.0              6.0             48.3          101.13   NaN   \n",
       "19              10.0              9.0             48.3          101.18   NaN   \n",
       "20              30.0             12.0             48.3          101.21   NaN   \n",
       "21              20.0             18.0             48.3          101.28   NaN   \n",
       "22              20.0             11.0             48.3          101.33   NaN   \n",
       "23             360.0             12.0             32.2          101.37   NaN   \n",
       "24             360.0              9.0             32.2          101.40   NaN   \n",
       "25              20.0             11.0             32.2          101.43   NaN   \n",
       "26              40.0             14.0             32.2          101.45   NaN   \n",
       "27              30.0             14.0             32.2          101.49   NaN   \n",
       "28              30.0             11.0             48.3          101.51   NaN   \n",
       "29              40.0             13.0             48.3          101.55   NaN   \n",
       "...              ...              ...              ...             ...   ...   \n",
       "8730            90.0              9.0             24.1          102.75   NaN   \n",
       "8731            90.0              8.0             32.2          102.74   NaN   \n",
       "8732           150.0              5.0             32.2          102.80   NaN   \n",
       "8733            20.0              6.0             32.2          102.83   NaN   \n",
       "8734           110.0              7.0             32.2          102.82   NaN   \n",
       "8735           110.0              6.0             32.2          102.84   NaN   \n",
       "8736           190.0              5.0             32.2          102.85   NaN   \n",
       "8737            30.0              4.0             32.2          102.84   NaN   \n",
       "8738            10.0              9.0             32.2          102.80   NaN   \n",
       "8739           150.0             10.0             32.2          102.79   NaN   \n",
       "8740            90.0              8.0             32.2          102.78   NaN   \n",
       "8741           110.0              9.0             32.2          102.78   NaN   \n",
       "8742            70.0              4.0             32.2          102.73   NaN   \n",
       "8743            80.0              9.0              0.2          102.72   NaN   \n",
       "8744           140.0              7.0              0.4          102.74   NaN   \n",
       "8745            90.0              7.0              0.2          102.75   NaN   \n",
       "8746           110.0             10.0             48.3          102.74   NaN   \n",
       "8747            80.0              8.0             48.3          102.71   NaN   \n",
       "8748           100.0              9.0             48.3          102.65   NaN   \n",
       "8749           140.0              6.0             48.3          102.60   NaN   \n",
       "8750           330.0              7.0             48.3          102.55   NaN   \n",
       "8751           330.0             16.0             48.3          102.50   NaN   \n",
       "8752           320.0             24.0             48.3          102.49   NaN   \n",
       "8753           320.0             18.0             48.3          102.49   NaN   \n",
       "8754            20.0              4.0             48.3          102.49   NaN   \n",
       "8755           340.0              5.0             32.2          102.51   NaN   \n",
       "8756            90.0              9.0             32.2          102.52   NaN   \n",
       "8757           100.0             11.0             32.2          102.58   NaN   \n",
       "8758           100.0             11.0             32.2          102.63   NaN   \n",
       "8759            90.0              9.0             32.2          102.69   NaN   \n",
       "\n",
       "      Wind Chill     Conditions  \n",
       "0            NaN            NaN  \n",
       "1            NaN         Cloudy  \n",
       "2            NaN         Cloudy  \n",
       "3            NaN         Cloudy  \n",
       "4            NaN         Cloudy  \n",
       "5            NaN         Cloudy  \n",
       "6            NaN         Cloudy  \n",
       "7            NaN         Cloudy  \n",
       "8            NaN         Cloudy  \n",
       "9            NaN         Cloudy  \n",
       "10           NaN         Cloudy  \n",
       "11           NaN         Cloudy  \n",
       "12           NaN         Cloudy  \n",
       "13           NaN         Cloudy  \n",
       "14           NaN         Cloudy  \n",
       "15           NaN         Cloudy  \n",
       "16           NaN  Mostly Cloudy  \n",
       "17          -4.0  Mostly Cloudy  \n",
       "18          -2.0  Mostly Cloudy  \n",
       "19          -4.0  Mostly Cloudy  \n",
       "20          -5.0  Mostly Cloudy  \n",
       "21          -6.0  Mostly Cloudy  \n",
       "22          -6.0  Mostly Cloudy  \n",
       "23          -7.0  Mostly Cloudy  \n",
       "24          -6.0  Mostly Cloudy  \n",
       "25          -6.0   Mainly Clear  \n",
       "26          -7.0   Mainly Clear  \n",
       "27          -7.0   Mainly Clear  \n",
       "28          -7.0          Clear  \n",
       "29          -7.0          Clear  \n",
       "...          ...            ...  \n",
       "8730         NaN  Mostly Cloudy  \n",
       "8731         NaN  Mostly Cloudy  \n",
       "8732         NaN  Mostly Cloudy  \n",
       "8733        -2.0  Mostly Cloudy  \n",
       "8734        -4.0   Mainly Clear  \n",
       "8735        -3.0   Mainly Clear  \n",
       "8736        -3.0   Mainly Clear  \n",
       "8737        -2.0   Mainly Clear  \n",
       "8738         NaN   Mainly Clear  \n",
       "8739        -5.0   Mainly Clear  \n",
       "8740        -6.0          Clear  \n",
       "8741        -6.0          Clear  \n",
       "8742        -4.0          Clear  \n",
       "8743        -8.0   Freezing Fog  \n",
       "8744        -6.0   Freezing Fog  \n",
       "8745        -6.0   Freezing Fog  \n",
       "8746        -4.0  Mostly Cloudy  \n",
       "8747        -3.0  Mostly Cloudy  \n",
       "8748         NaN  Mostly Cloudy  \n",
       "8749         NaN   Mainly Clear  \n",
       "8750         NaN   Mainly Clear  \n",
       "8751         NaN   Mainly Clear  \n",
       "8752         NaN         Cloudy  \n",
       "8753         NaN         Cloudy  \n",
       "8754         NaN         Cloudy  \n",
       "8755         NaN   Mainly Clear  \n",
       "8756        -4.0   Mainly Clear  \n",
       "8757        -4.0   Mainly Clear  \n",
       "8758        -5.0   Mainly Clear  \n",
       "8759        -6.0   Mainly Clear  \n",
       "\n",
       "[8760 rows x 11 columns]"
      ]
     },
     "execution_count": 3,
     "metadata": {},
     "output_type": "execute_result"
    }
   ],
   "source": [
    "weather_yvr"
   ]
  },
  {
   "cell_type": "markdown",
   "metadata": {
    "slideshow": {
     "slide_type": "fragment"
    }
   },
   "source": [
    "- Only the first 30 and last 30 rows are displayed (but the data is all there in our `weather_yvr` variable)\n",
    "- You may notice some weird `NaN` values&mdash;these represent missing data (`NaN` = \"not a number\")"
   ]
  },
  {
   "cell_type": "markdown",
   "metadata": {
    "slideshow": {
     "slide_type": "slide"
    }
   },
   "source": [
    "What type of object is `weather_yvr`?"
   ]
  },
  {
   "cell_type": "code",
   "execution_count": 4,
   "metadata": {
    "slideshow": {
     "slide_type": "-"
    }
   },
   "outputs": [
    {
     "data": {
      "text/plain": [
       "pandas.core.frame.DataFrame"
      ]
     },
     "execution_count": 4,
     "metadata": {},
     "output_type": "execute_result"
    }
   ],
   "source": [
    "type(weather_yvr)"
   ]
  },
  {
   "cell_type": "markdown",
   "metadata": {
    "slideshow": {
     "slide_type": "fragment"
    }
   },
   "source": [
    "- `weather_yvr` is a **DataFrame**, a data structure from the `pandas` library\n",
    "  - A DataFrame is a 2-dimensional array (organized into rows and columns, like a table in a spreadsheet)"
   ]
  },
  {
   "cell_type": "markdown",
   "metadata": {
    "slideshow": {
     "slide_type": "fragment"
    }
   },
   "source": [
    "- When we display `weather_yvr`, the integer numbers in bold on the left are the DataFrame's **index**\n",
    "  - In this case, the index is simply a range of integers corresponding with the row numbers"
   ]
  },
  {
   "cell_type": "code",
   "execution_count": 5,
   "metadata": {
    "scrolled": false,
    "slideshow": {
     "slide_type": "-"
    }
   },
   "outputs": [
    {
     "data": {
      "text/html": [
       "<div>\n",
       "<style scoped>\n",
       "    .dataframe tbody tr th:only-of-type {\n",
       "        vertical-align: middle;\n",
       "    }\n",
       "\n",
       "    .dataframe tbody tr th {\n",
       "        vertical-align: top;\n",
       "    }\n",
       "\n",
       "    .dataframe thead th {\n",
       "        text-align: right;\n",
       "    }\n",
       "</style>\n",
       "<table border=\"1\" class=\"dataframe\">\n",
       "  <thead>\n",
       "    <tr style=\"text-align: right;\">\n",
       "      <th></th>\n",
       "      <th>Datetime</th>\n",
       "      <th>Temp (deg C)</th>\n",
       "      <th>Dew Point Temp (deg C)</th>\n",
       "      <th>Rel Hum (%)</th>\n",
       "      <th>Wind Dir (deg)</th>\n",
       "      <th>Wind Spd (km/h)</th>\n",
       "      <th>Visibility (km)</th>\n",
       "      <th>Pressure (kPa)</th>\n",
       "      <th>Hmdx</th>\n",
       "      <th>Wind Chill</th>\n",
       "      <th>Conditions</th>\n",
       "    </tr>\n",
       "  </thead>\n",
       "  <tbody>\n",
       "    <tr>\n",
       "      <th>0</th>\n",
       "      <td>2017-01-01 00:00:00</td>\n",
       "      <td>1.2</td>\n",
       "      <td>-0.4</td>\n",
       "      <td>89.0</td>\n",
       "      <td>360.0</td>\n",
       "      <td>8.0</td>\n",
       "      <td>19.3</td>\n",
       "      <td>100.54</td>\n",
       "      <td>NaN</td>\n",
       "      <td>NaN</td>\n",
       "      <td>NaN</td>\n",
       "    </tr>\n",
       "    <tr>\n",
       "      <th>1</th>\n",
       "      <td>2017-01-01 01:00:00</td>\n",
       "      <td>0.9</td>\n",
       "      <td>-0.7</td>\n",
       "      <td>89.0</td>\n",
       "      <td>360.0</td>\n",
       "      <td>2.0</td>\n",
       "      <td>24.1</td>\n",
       "      <td>100.55</td>\n",
       "      <td>NaN</td>\n",
       "      <td>NaN</td>\n",
       "      <td>Cloudy</td>\n",
       "    </tr>\n",
       "    <tr>\n",
       "      <th>2</th>\n",
       "      <td>2017-01-01 02:00:00</td>\n",
       "      <td>1.2</td>\n",
       "      <td>0.6</td>\n",
       "      <td>96.0</td>\n",
       "      <td>80.0</td>\n",
       "      <td>4.0</td>\n",
       "      <td>19.3</td>\n",
       "      <td>100.61</td>\n",
       "      <td>NaN</td>\n",
       "      <td>NaN</td>\n",
       "      <td>Cloudy</td>\n",
       "    </tr>\n",
       "    <tr>\n",
       "      <th>3</th>\n",
       "      <td>2017-01-01 03:00:00</td>\n",
       "      <td>0.6</td>\n",
       "      <td>0.2</td>\n",
       "      <td>97.0</td>\n",
       "      <td>360.0</td>\n",
       "      <td>2.0</td>\n",
       "      <td>19.3</td>\n",
       "      <td>100.65</td>\n",
       "      <td>NaN</td>\n",
       "      <td>NaN</td>\n",
       "      <td>Cloudy</td>\n",
       "    </tr>\n",
       "    <tr>\n",
       "      <th>4</th>\n",
       "      <td>2017-01-01 04:00:00</td>\n",
       "      <td>0.6</td>\n",
       "      <td>0.2</td>\n",
       "      <td>97.0</td>\n",
       "      <td>230.0</td>\n",
       "      <td>3.0</td>\n",
       "      <td>19.3</td>\n",
       "      <td>100.65</td>\n",
       "      <td>NaN</td>\n",
       "      <td>NaN</td>\n",
       "      <td>Cloudy</td>\n",
       "    </tr>\n",
       "    <tr>\n",
       "      <th>5</th>\n",
       "      <td>2017-01-01 05:00:00</td>\n",
       "      <td>0.2</td>\n",
       "      <td>-0.1</td>\n",
       "      <td>98.0</td>\n",
       "      <td>20.0</td>\n",
       "      <td>3.0</td>\n",
       "      <td>24.1</td>\n",
       "      <td>100.67</td>\n",
       "      <td>NaN</td>\n",
       "      <td>NaN</td>\n",
       "      <td>Cloudy</td>\n",
       "    </tr>\n",
       "    <tr>\n",
       "      <th>6</th>\n",
       "      <td>2017-01-01 06:00:00</td>\n",
       "      <td>0.2</td>\n",
       "      <td>-0.1</td>\n",
       "      <td>98.0</td>\n",
       "      <td>70.0</td>\n",
       "      <td>3.0</td>\n",
       "      <td>24.1</td>\n",
       "      <td>100.67</td>\n",
       "      <td>NaN</td>\n",
       "      <td>NaN</td>\n",
       "      <td>Cloudy</td>\n",
       "    </tr>\n",
       "    <tr>\n",
       "      <th>7</th>\n",
       "      <td>2017-01-01 07:00:00</td>\n",
       "      <td>0.8</td>\n",
       "      <td>0.4</td>\n",
       "      <td>97.0</td>\n",
       "      <td>40.0</td>\n",
       "      <td>8.0</td>\n",
       "      <td>24.1</td>\n",
       "      <td>100.72</td>\n",
       "      <td>NaN</td>\n",
       "      <td>NaN</td>\n",
       "      <td>Cloudy</td>\n",
       "    </tr>\n",
       "    <tr>\n",
       "      <th>8</th>\n",
       "      <td>2017-01-01 08:00:00</td>\n",
       "      <td>0.4</td>\n",
       "      <td>-2.2</td>\n",
       "      <td>83.0</td>\n",
       "      <td>20.0</td>\n",
       "      <td>5.0</td>\n",
       "      <td>32.2</td>\n",
       "      <td>100.74</td>\n",
       "      <td>NaN</td>\n",
       "      <td>NaN</td>\n",
       "      <td>Cloudy</td>\n",
       "    </tr>\n",
       "    <tr>\n",
       "      <th>9</th>\n",
       "      <td>2017-01-01 09:00:00</td>\n",
       "      <td>0.8</td>\n",
       "      <td>-4.1</td>\n",
       "      <td>70.0</td>\n",
       "      <td>360.0</td>\n",
       "      <td>19.0</td>\n",
       "      <td>48.3</td>\n",
       "      <td>100.82</td>\n",
       "      <td>NaN</td>\n",
       "      <td>NaN</td>\n",
       "      <td>Cloudy</td>\n",
       "    </tr>\n",
       "    <tr>\n",
       "      <th>10</th>\n",
       "      <td>2017-01-01 10:00:00</td>\n",
       "      <td>2.1</td>\n",
       "      <td>-5.3</td>\n",
       "      <td>58.0</td>\n",
       "      <td>350.0</td>\n",
       "      <td>23.0</td>\n",
       "      <td>48.3</td>\n",
       "      <td>100.90</td>\n",
       "      <td>NaN</td>\n",
       "      <td>NaN</td>\n",
       "      <td>Cloudy</td>\n",
       "    </tr>\n",
       "    <tr>\n",
       "      <th>11</th>\n",
       "      <td>2017-01-01 11:00:00</td>\n",
       "      <td>2.0</td>\n",
       "      <td>-5.9</td>\n",
       "      <td>56.0</td>\n",
       "      <td>350.0</td>\n",
       "      <td>29.0</td>\n",
       "      <td>48.3</td>\n",
       "      <td>100.95</td>\n",
       "      <td>NaN</td>\n",
       "      <td>NaN</td>\n",
       "      <td>Cloudy</td>\n",
       "    </tr>\n",
       "    <tr>\n",
       "      <th>12</th>\n",
       "      <td>2017-01-01 12:00:00</td>\n",
       "      <td>1.6</td>\n",
       "      <td>-6.3</td>\n",
       "      <td>56.0</td>\n",
       "      <td>340.0</td>\n",
       "      <td>24.0</td>\n",
       "      <td>48.3</td>\n",
       "      <td>100.98</td>\n",
       "      <td>NaN</td>\n",
       "      <td>NaN</td>\n",
       "      <td>Cloudy</td>\n",
       "    </tr>\n",
       "    <tr>\n",
       "      <th>13</th>\n",
       "      <td>2017-01-01 13:00:00</td>\n",
       "      <td>1.4</td>\n",
       "      <td>-6.5</td>\n",
       "      <td>56.0</td>\n",
       "      <td>340.0</td>\n",
       "      <td>21.0</td>\n",
       "      <td>48.3</td>\n",
       "      <td>100.97</td>\n",
       "      <td>NaN</td>\n",
       "      <td>NaN</td>\n",
       "      <td>Cloudy</td>\n",
       "    </tr>\n",
       "    <tr>\n",
       "      <th>14</th>\n",
       "      <td>2017-01-01 14:00:00</td>\n",
       "      <td>1.3</td>\n",
       "      <td>-6.1</td>\n",
       "      <td>58.0</td>\n",
       "      <td>360.0</td>\n",
       "      <td>18.0</td>\n",
       "      <td>48.3</td>\n",
       "      <td>100.98</td>\n",
       "      <td>NaN</td>\n",
       "      <td>NaN</td>\n",
       "      <td>Cloudy</td>\n",
       "    </tr>\n",
       "    <tr>\n",
       "      <th>15</th>\n",
       "      <td>2017-01-01 15:00:00</td>\n",
       "      <td>1.0</td>\n",
       "      <td>-6.8</td>\n",
       "      <td>56.0</td>\n",
       "      <td>360.0</td>\n",
       "      <td>12.0</td>\n",
       "      <td>48.3</td>\n",
       "      <td>101.02</td>\n",
       "      <td>NaN</td>\n",
       "      <td>NaN</td>\n",
       "      <td>Cloudy</td>\n",
       "    </tr>\n",
       "    <tr>\n",
       "      <th>16</th>\n",
       "      <td>2017-01-01 16:00:00</td>\n",
       "      <td>0.9</td>\n",
       "      <td>-7.6</td>\n",
       "      <td>53.0</td>\n",
       "      <td>20.0</td>\n",
       "      <td>14.0</td>\n",
       "      <td>48.3</td>\n",
       "      <td>101.03</td>\n",
       "      <td>NaN</td>\n",
       "      <td>NaN</td>\n",
       "      <td>Mostly Cloudy</td>\n",
       "    </tr>\n",
       "    <tr>\n",
       "      <th>17</th>\n",
       "      <td>2017-01-01 17:00:00</td>\n",
       "      <td>-1.3</td>\n",
       "      <td>-7.9</td>\n",
       "      <td>61.0</td>\n",
       "      <td>330.0</td>\n",
       "      <td>7.0</td>\n",
       "      <td>48.3</td>\n",
       "      <td>101.09</td>\n",
       "      <td>NaN</td>\n",
       "      <td>-4.0</td>\n",
       "      <td>Mostly Cloudy</td>\n",
       "    </tr>\n",
       "    <tr>\n",
       "      <th>18</th>\n",
       "      <td>2017-01-01 18:00:00</td>\n",
       "      <td>-0.4</td>\n",
       "      <td>-9.6</td>\n",
       "      <td>50.0</td>\n",
       "      <td>40.0</td>\n",
       "      <td>6.0</td>\n",
       "      <td>48.3</td>\n",
       "      <td>101.13</td>\n",
       "      <td>NaN</td>\n",
       "      <td>-2.0</td>\n",
       "      <td>Mostly Cloudy</td>\n",
       "    </tr>\n",
       "    <tr>\n",
       "      <th>19</th>\n",
       "      <td>2017-01-01 19:00:00</td>\n",
       "      <td>-0.6</td>\n",
       "      <td>-10.1</td>\n",
       "      <td>49.0</td>\n",
       "      <td>10.0</td>\n",
       "      <td>9.0</td>\n",
       "      <td>48.3</td>\n",
       "      <td>101.18</td>\n",
       "      <td>NaN</td>\n",
       "      <td>-4.0</td>\n",
       "      <td>Mostly Cloudy</td>\n",
       "    </tr>\n",
       "    <tr>\n",
       "      <th>20</th>\n",
       "      <td>2017-01-01 20:00:00</td>\n",
       "      <td>-1.2</td>\n",
       "      <td>-10.1</td>\n",
       "      <td>51.0</td>\n",
       "      <td>30.0</td>\n",
       "      <td>12.0</td>\n",
       "      <td>48.3</td>\n",
       "      <td>101.21</td>\n",
       "      <td>NaN</td>\n",
       "      <td>-5.0</td>\n",
       "      <td>Mostly Cloudy</td>\n",
       "    </tr>\n",
       "    <tr>\n",
       "      <th>21</th>\n",
       "      <td>2017-01-01 21:00:00</td>\n",
       "      <td>-1.0</td>\n",
       "      <td>-10.4</td>\n",
       "      <td>49.0</td>\n",
       "      <td>20.0</td>\n",
       "      <td>18.0</td>\n",
       "      <td>48.3</td>\n",
       "      <td>101.28</td>\n",
       "      <td>NaN</td>\n",
       "      <td>-6.0</td>\n",
       "      <td>Mostly Cloudy</td>\n",
       "    </tr>\n",
       "    <tr>\n",
       "      <th>22</th>\n",
       "      <td>2017-01-01 22:00:00</td>\n",
       "      <td>-1.7</td>\n",
       "      <td>-10.8</td>\n",
       "      <td>50.0</td>\n",
       "      <td>20.0</td>\n",
       "      <td>11.0</td>\n",
       "      <td>48.3</td>\n",
       "      <td>101.33</td>\n",
       "      <td>NaN</td>\n",
       "      <td>-6.0</td>\n",
       "      <td>Mostly Cloudy</td>\n",
       "    </tr>\n",
       "    <tr>\n",
       "      <th>23</th>\n",
       "      <td>2017-01-01 23:00:00</td>\n",
       "      <td>-3.0</td>\n",
       "      <td>-9.9</td>\n",
       "      <td>59.0</td>\n",
       "      <td>360.0</td>\n",
       "      <td>12.0</td>\n",
       "      <td>32.2</td>\n",
       "      <td>101.37</td>\n",
       "      <td>NaN</td>\n",
       "      <td>-7.0</td>\n",
       "      <td>Mostly Cloudy</td>\n",
       "    </tr>\n",
       "    <tr>\n",
       "      <th>24</th>\n",
       "      <td>2017-01-02 00:00:00</td>\n",
       "      <td>-2.6</td>\n",
       "      <td>-10.5</td>\n",
       "      <td>55.0</td>\n",
       "      <td>360.0</td>\n",
       "      <td>9.0</td>\n",
       "      <td>32.2</td>\n",
       "      <td>101.40</td>\n",
       "      <td>NaN</td>\n",
       "      <td>-6.0</td>\n",
       "      <td>Mostly Cloudy</td>\n",
       "    </tr>\n",
       "    <tr>\n",
       "      <th>25</th>\n",
       "      <td>2017-01-02 01:00:00</td>\n",
       "      <td>-2.4</td>\n",
       "      <td>-11.0</td>\n",
       "      <td>52.0</td>\n",
       "      <td>20.0</td>\n",
       "      <td>11.0</td>\n",
       "      <td>32.2</td>\n",
       "      <td>101.43</td>\n",
       "      <td>NaN</td>\n",
       "      <td>-6.0</td>\n",
       "      <td>Mainly Clear</td>\n",
       "    </tr>\n",
       "    <tr>\n",
       "      <th>26</th>\n",
       "      <td>2017-01-02 02:00:00</td>\n",
       "      <td>-2.2</td>\n",
       "      <td>-11.8</td>\n",
       "      <td>48.0</td>\n",
       "      <td>40.0</td>\n",
       "      <td>14.0</td>\n",
       "      <td>32.2</td>\n",
       "      <td>101.45</td>\n",
       "      <td>NaN</td>\n",
       "      <td>-7.0</td>\n",
       "      <td>Mainly Clear</td>\n",
       "    </tr>\n",
       "    <tr>\n",
       "      <th>27</th>\n",
       "      <td>2017-01-02 03:00:00</td>\n",
       "      <td>-2.4</td>\n",
       "      <td>-11.7</td>\n",
       "      <td>49.0</td>\n",
       "      <td>30.0</td>\n",
       "      <td>14.0</td>\n",
       "      <td>32.2</td>\n",
       "      <td>101.49</td>\n",
       "      <td>NaN</td>\n",
       "      <td>-7.0</td>\n",
       "      <td>Mainly Clear</td>\n",
       "    </tr>\n",
       "    <tr>\n",
       "      <th>28</th>\n",
       "      <td>2017-01-02 04:00:00</td>\n",
       "      <td>-3.0</td>\n",
       "      <td>-12.3</td>\n",
       "      <td>49.0</td>\n",
       "      <td>30.0</td>\n",
       "      <td>11.0</td>\n",
       "      <td>48.3</td>\n",
       "      <td>101.51</td>\n",
       "      <td>NaN</td>\n",
       "      <td>-7.0</td>\n",
       "      <td>Clear</td>\n",
       "    </tr>\n",
       "    <tr>\n",
       "      <th>29</th>\n",
       "      <td>2017-01-02 05:00:00</td>\n",
       "      <td>-2.8</td>\n",
       "      <td>-12.1</td>\n",
       "      <td>49.0</td>\n",
       "      <td>40.0</td>\n",
       "      <td>13.0</td>\n",
       "      <td>48.3</td>\n",
       "      <td>101.55</td>\n",
       "      <td>NaN</td>\n",
       "      <td>-7.0</td>\n",
       "      <td>Clear</td>\n",
       "    </tr>\n",
       "    <tr>\n",
       "      <th>...</th>\n",
       "      <td>...</td>\n",
       "      <td>...</td>\n",
       "      <td>...</td>\n",
       "      <td>...</td>\n",
       "      <td>...</td>\n",
       "      <td>...</td>\n",
       "      <td>...</td>\n",
       "      <td>...</td>\n",
       "      <td>...</td>\n",
       "      <td>...</td>\n",
       "      <td>...</td>\n",
       "    </tr>\n",
       "    <tr>\n",
       "      <th>8730</th>\n",
       "      <td>2017-12-30 18:00:00</td>\n",
       "      <td>1.4</td>\n",
       "      <td>0.0</td>\n",
       "      <td>90.0</td>\n",
       "      <td>90.0</td>\n",
       "      <td>9.0</td>\n",
       "      <td>24.1</td>\n",
       "      <td>102.75</td>\n",
       "      <td>NaN</td>\n",
       "      <td>NaN</td>\n",
       "      <td>Mostly Cloudy</td>\n",
       "    </tr>\n",
       "    <tr>\n",
       "      <th>8731</th>\n",
       "      <td>2017-12-30 19:00:00</td>\n",
       "      <td>0.6</td>\n",
       "      <td>-0.8</td>\n",
       "      <td>91.0</td>\n",
       "      <td>90.0</td>\n",
       "      <td>8.0</td>\n",
       "      <td>32.2</td>\n",
       "      <td>102.74</td>\n",
       "      <td>NaN</td>\n",
       "      <td>NaN</td>\n",
       "      <td>Mostly Cloudy</td>\n",
       "    </tr>\n",
       "    <tr>\n",
       "      <th>8732</th>\n",
       "      <td>2017-12-30 20:00:00</td>\n",
       "      <td>0.5</td>\n",
       "      <td>-0.9</td>\n",
       "      <td>90.0</td>\n",
       "      <td>150.0</td>\n",
       "      <td>5.0</td>\n",
       "      <td>32.2</td>\n",
       "      <td>102.80</td>\n",
       "      <td>NaN</td>\n",
       "      <td>NaN</td>\n",
       "      <td>Mostly Cloudy</td>\n",
       "    </tr>\n",
       "    <tr>\n",
       "      <th>8733</th>\n",
       "      <td>2017-12-30 21:00:00</td>\n",
       "      <td>-0.4</td>\n",
       "      <td>-1.2</td>\n",
       "      <td>94.0</td>\n",
       "      <td>20.0</td>\n",
       "      <td>6.0</td>\n",
       "      <td>32.2</td>\n",
       "      <td>102.83</td>\n",
       "      <td>NaN</td>\n",
       "      <td>-2.0</td>\n",
       "      <td>Mostly Cloudy</td>\n",
       "    </tr>\n",
       "    <tr>\n",
       "      <th>8734</th>\n",
       "      <td>2017-12-30 22:00:00</td>\n",
       "      <td>-1.2</td>\n",
       "      <td>-2.1</td>\n",
       "      <td>94.0</td>\n",
       "      <td>110.0</td>\n",
       "      <td>7.0</td>\n",
       "      <td>32.2</td>\n",
       "      <td>102.82</td>\n",
       "      <td>NaN</td>\n",
       "      <td>-4.0</td>\n",
       "      <td>Mainly Clear</td>\n",
       "    </tr>\n",
       "    <tr>\n",
       "      <th>8735</th>\n",
       "      <td>2017-12-30 23:00:00</td>\n",
       "      <td>-1.1</td>\n",
       "      <td>-1.9</td>\n",
       "      <td>95.0</td>\n",
       "      <td>110.0</td>\n",
       "      <td>6.0</td>\n",
       "      <td>32.2</td>\n",
       "      <td>102.84</td>\n",
       "      <td>NaN</td>\n",
       "      <td>-3.0</td>\n",
       "      <td>Mainly Clear</td>\n",
       "    </tr>\n",
       "    <tr>\n",
       "      <th>8736</th>\n",
       "      <td>2017-12-31 00:00:00</td>\n",
       "      <td>-1.1</td>\n",
       "      <td>-2.0</td>\n",
       "      <td>94.0</td>\n",
       "      <td>190.0</td>\n",
       "      <td>5.0</td>\n",
       "      <td>32.2</td>\n",
       "      <td>102.85</td>\n",
       "      <td>NaN</td>\n",
       "      <td>-3.0</td>\n",
       "      <td>Mainly Clear</td>\n",
       "    </tr>\n",
       "    <tr>\n",
       "      <th>8737</th>\n",
       "      <td>2017-12-31 01:00:00</td>\n",
       "      <td>-0.4</td>\n",
       "      <td>-1.3</td>\n",
       "      <td>93.0</td>\n",
       "      <td>30.0</td>\n",
       "      <td>4.0</td>\n",
       "      <td>32.2</td>\n",
       "      <td>102.84</td>\n",
       "      <td>NaN</td>\n",
       "      <td>-2.0</td>\n",
       "      <td>Mainly Clear</td>\n",
       "    </tr>\n",
       "    <tr>\n",
       "      <th>8738</th>\n",
       "      <td>2017-12-31 02:00:00</td>\n",
       "      <td>0.4</td>\n",
       "      <td>-1.5</td>\n",
       "      <td>87.0</td>\n",
       "      <td>10.0</td>\n",
       "      <td>9.0</td>\n",
       "      <td>32.2</td>\n",
       "      <td>102.80</td>\n",
       "      <td>NaN</td>\n",
       "      <td>NaN</td>\n",
       "      <td>Mainly Clear</td>\n",
       "    </tr>\n",
       "    <tr>\n",
       "      <th>8739</th>\n",
       "      <td>2017-12-31 03:00:00</td>\n",
       "      <td>-1.4</td>\n",
       "      <td>-2.1</td>\n",
       "      <td>95.0</td>\n",
       "      <td>150.0</td>\n",
       "      <td>10.0</td>\n",
       "      <td>32.2</td>\n",
       "      <td>102.79</td>\n",
       "      <td>NaN</td>\n",
       "      <td>-5.0</td>\n",
       "      <td>Mainly Clear</td>\n",
       "    </tr>\n",
       "    <tr>\n",
       "      <th>8740</th>\n",
       "      <td>2017-12-31 04:00:00</td>\n",
       "      <td>-3.0</td>\n",
       "      <td>-3.4</td>\n",
       "      <td>96.0</td>\n",
       "      <td>90.0</td>\n",
       "      <td>8.0</td>\n",
       "      <td>32.2</td>\n",
       "      <td>102.78</td>\n",
       "      <td>NaN</td>\n",
       "      <td>-6.0</td>\n",
       "      <td>Clear</td>\n",
       "    </tr>\n",
       "    <tr>\n",
       "      <th>8741</th>\n",
       "      <td>2017-12-31 05:00:00</td>\n",
       "      <td>-2.8</td>\n",
       "      <td>-3.2</td>\n",
       "      <td>97.0</td>\n",
       "      <td>110.0</td>\n",
       "      <td>9.0</td>\n",
       "      <td>32.2</td>\n",
       "      <td>102.78</td>\n",
       "      <td>NaN</td>\n",
       "      <td>-6.0</td>\n",
       "      <td>Clear</td>\n",
       "    </tr>\n",
       "    <tr>\n",
       "      <th>8742</th>\n",
       "      <td>2017-12-31 06:00:00</td>\n",
       "      <td>-2.3</td>\n",
       "      <td>-2.9</td>\n",
       "      <td>96.0</td>\n",
       "      <td>70.0</td>\n",
       "      <td>4.0</td>\n",
       "      <td>32.2</td>\n",
       "      <td>102.73</td>\n",
       "      <td>NaN</td>\n",
       "      <td>-4.0</td>\n",
       "      <td>Clear</td>\n",
       "    </tr>\n",
       "    <tr>\n",
       "      <th>8743</th>\n",
       "      <td>2017-12-31 07:00:00</td>\n",
       "      <td>-3.8</td>\n",
       "      <td>-4.1</td>\n",
       "      <td>98.0</td>\n",
       "      <td>80.0</td>\n",
       "      <td>9.0</td>\n",
       "      <td>0.2</td>\n",
       "      <td>102.72</td>\n",
       "      <td>NaN</td>\n",
       "      <td>-8.0</td>\n",
       "      <td>Freezing Fog</td>\n",
       "    </tr>\n",
       "    <tr>\n",
       "      <th>8744</th>\n",
       "      <td>2017-12-31 08:00:00</td>\n",
       "      <td>-3.5</td>\n",
       "      <td>-3.7</td>\n",
       "      <td>98.0</td>\n",
       "      <td>140.0</td>\n",
       "      <td>7.0</td>\n",
       "      <td>0.4</td>\n",
       "      <td>102.74</td>\n",
       "      <td>NaN</td>\n",
       "      <td>-6.0</td>\n",
       "      <td>Freezing Fog</td>\n",
       "    </tr>\n",
       "    <tr>\n",
       "      <th>8745</th>\n",
       "      <td>2017-12-31 09:00:00</td>\n",
       "      <td>-2.9</td>\n",
       "      <td>-3.1</td>\n",
       "      <td>98.0</td>\n",
       "      <td>90.0</td>\n",
       "      <td>7.0</td>\n",
       "      <td>0.2</td>\n",
       "      <td>102.75</td>\n",
       "      <td>NaN</td>\n",
       "      <td>-6.0</td>\n",
       "      <td>Freezing Fog</td>\n",
       "    </tr>\n",
       "    <tr>\n",
       "      <th>8746</th>\n",
       "      <td>2017-12-31 10:00:00</td>\n",
       "      <td>-0.7</td>\n",
       "      <td>-0.8</td>\n",
       "      <td>99.0</td>\n",
       "      <td>110.0</td>\n",
       "      <td>10.0</td>\n",
       "      <td>48.3</td>\n",
       "      <td>102.74</td>\n",
       "      <td>NaN</td>\n",
       "      <td>-4.0</td>\n",
       "      <td>Mostly Cloudy</td>\n",
       "    </tr>\n",
       "    <tr>\n",
       "      <th>8747</th>\n",
       "      <td>2017-12-31 11:00:00</td>\n",
       "      <td>-0.4</td>\n",
       "      <td>-0.8</td>\n",
       "      <td>97.0</td>\n",
       "      <td>80.0</td>\n",
       "      <td>8.0</td>\n",
       "      <td>48.3</td>\n",
       "      <td>102.71</td>\n",
       "      <td>NaN</td>\n",
       "      <td>-3.0</td>\n",
       "      <td>Mostly Cloudy</td>\n",
       "    </tr>\n",
       "    <tr>\n",
       "      <th>8748</th>\n",
       "      <td>2017-12-31 12:00:00</td>\n",
       "      <td>1.3</td>\n",
       "      <td>-0.2</td>\n",
       "      <td>90.0</td>\n",
       "      <td>100.0</td>\n",
       "      <td>9.0</td>\n",
       "      <td>48.3</td>\n",
       "      <td>102.65</td>\n",
       "      <td>NaN</td>\n",
       "      <td>NaN</td>\n",
       "      <td>Mostly Cloudy</td>\n",
       "    </tr>\n",
       "    <tr>\n",
       "      <th>8749</th>\n",
       "      <td>2017-12-31 13:00:00</td>\n",
       "      <td>2.5</td>\n",
       "      <td>0.0</td>\n",
       "      <td>83.0</td>\n",
       "      <td>140.0</td>\n",
       "      <td>6.0</td>\n",
       "      <td>48.3</td>\n",
       "      <td>102.60</td>\n",
       "      <td>NaN</td>\n",
       "      <td>NaN</td>\n",
       "      <td>Mainly Clear</td>\n",
       "    </tr>\n",
       "    <tr>\n",
       "      <th>8750</th>\n",
       "      <td>2017-12-31 14:00:00</td>\n",
       "      <td>3.6</td>\n",
       "      <td>-0.7</td>\n",
       "      <td>73.0</td>\n",
       "      <td>330.0</td>\n",
       "      <td>7.0</td>\n",
       "      <td>48.3</td>\n",
       "      <td>102.55</td>\n",
       "      <td>NaN</td>\n",
       "      <td>NaN</td>\n",
       "      <td>Mainly Clear</td>\n",
       "    </tr>\n",
       "    <tr>\n",
       "      <th>8751</th>\n",
       "      <td>2017-12-31 15:00:00</td>\n",
       "      <td>3.6</td>\n",
       "      <td>-0.8</td>\n",
       "      <td>73.0</td>\n",
       "      <td>330.0</td>\n",
       "      <td>16.0</td>\n",
       "      <td>48.3</td>\n",
       "      <td>102.50</td>\n",
       "      <td>NaN</td>\n",
       "      <td>NaN</td>\n",
       "      <td>Mainly Clear</td>\n",
       "    </tr>\n",
       "    <tr>\n",
       "      <th>8752</th>\n",
       "      <td>2017-12-31 16:00:00</td>\n",
       "      <td>2.3</td>\n",
       "      <td>-1.7</td>\n",
       "      <td>75.0</td>\n",
       "      <td>320.0</td>\n",
       "      <td>24.0</td>\n",
       "      <td>48.3</td>\n",
       "      <td>102.49</td>\n",
       "      <td>NaN</td>\n",
       "      <td>NaN</td>\n",
       "      <td>Cloudy</td>\n",
       "    </tr>\n",
       "    <tr>\n",
       "      <th>8753</th>\n",
       "      <td>2017-12-31 17:00:00</td>\n",
       "      <td>1.4</td>\n",
       "      <td>-1.5</td>\n",
       "      <td>81.0</td>\n",
       "      <td>320.0</td>\n",
       "      <td>18.0</td>\n",
       "      <td>48.3</td>\n",
       "      <td>102.49</td>\n",
       "      <td>NaN</td>\n",
       "      <td>NaN</td>\n",
       "      <td>Cloudy</td>\n",
       "    </tr>\n",
       "    <tr>\n",
       "      <th>8754</th>\n",
       "      <td>2017-12-31 18:00:00</td>\n",
       "      <td>1.5</td>\n",
       "      <td>-3.0</td>\n",
       "      <td>72.0</td>\n",
       "      <td>20.0</td>\n",
       "      <td>4.0</td>\n",
       "      <td>48.3</td>\n",
       "      <td>102.49</td>\n",
       "      <td>NaN</td>\n",
       "      <td>NaN</td>\n",
       "      <td>Cloudy</td>\n",
       "    </tr>\n",
       "    <tr>\n",
       "      <th>8755</th>\n",
       "      <td>2017-12-31 19:00:00</td>\n",
       "      <td>1.0</td>\n",
       "      <td>-2.5</td>\n",
       "      <td>78.0</td>\n",
       "      <td>340.0</td>\n",
       "      <td>5.0</td>\n",
       "      <td>32.2</td>\n",
       "      <td>102.51</td>\n",
       "      <td>NaN</td>\n",
       "      <td>NaN</td>\n",
       "      <td>Mainly Clear</td>\n",
       "    </tr>\n",
       "    <tr>\n",
       "      <th>8756</th>\n",
       "      <td>2017-12-31 20:00:00</td>\n",
       "      <td>-1.2</td>\n",
       "      <td>-2.9</td>\n",
       "      <td>89.0</td>\n",
       "      <td>90.0</td>\n",
       "      <td>9.0</td>\n",
       "      <td>32.2</td>\n",
       "      <td>102.52</td>\n",
       "      <td>NaN</td>\n",
       "      <td>-4.0</td>\n",
       "      <td>Mainly Clear</td>\n",
       "    </tr>\n",
       "    <tr>\n",
       "      <th>8757</th>\n",
       "      <td>2017-12-31 21:00:00</td>\n",
       "      <td>-0.7</td>\n",
       "      <td>-2.2</td>\n",
       "      <td>89.0</td>\n",
       "      <td>100.0</td>\n",
       "      <td>11.0</td>\n",
       "      <td>32.2</td>\n",
       "      <td>102.58</td>\n",
       "      <td>NaN</td>\n",
       "      <td>-4.0</td>\n",
       "      <td>Mainly Clear</td>\n",
       "    </tr>\n",
       "    <tr>\n",
       "      <th>8758</th>\n",
       "      <td>2017-12-31 22:00:00</td>\n",
       "      <td>-1.5</td>\n",
       "      <td>-2.4</td>\n",
       "      <td>93.0</td>\n",
       "      <td>100.0</td>\n",
       "      <td>11.0</td>\n",
       "      <td>32.2</td>\n",
       "      <td>102.63</td>\n",
       "      <td>NaN</td>\n",
       "      <td>-5.0</td>\n",
       "      <td>Mainly Clear</td>\n",
       "    </tr>\n",
       "    <tr>\n",
       "      <th>8759</th>\n",
       "      <td>2017-12-31 23:00:00</td>\n",
       "      <td>-2.1</td>\n",
       "      <td>-3.0</td>\n",
       "      <td>93.0</td>\n",
       "      <td>90.0</td>\n",
       "      <td>9.0</td>\n",
       "      <td>32.2</td>\n",
       "      <td>102.69</td>\n",
       "      <td>NaN</td>\n",
       "      <td>-6.0</td>\n",
       "      <td>Mainly Clear</td>\n",
       "    </tr>\n",
       "  </tbody>\n",
       "</table>\n",
       "<p>8760 rows × 11 columns</p>\n",
       "</div>"
      ],
      "text/plain": [
       "                 Datetime  Temp (deg C)  Dew Point Temp (deg C)  Rel Hum (%)  \\\n",
       "0     2017-01-01 00:00:00           1.2                    -0.4         89.0   \n",
       "1     2017-01-01 01:00:00           0.9                    -0.7         89.0   \n",
       "2     2017-01-01 02:00:00           1.2                     0.6         96.0   \n",
       "3     2017-01-01 03:00:00           0.6                     0.2         97.0   \n",
       "4     2017-01-01 04:00:00           0.6                     0.2         97.0   \n",
       "5     2017-01-01 05:00:00           0.2                    -0.1         98.0   \n",
       "6     2017-01-01 06:00:00           0.2                    -0.1         98.0   \n",
       "7     2017-01-01 07:00:00           0.8                     0.4         97.0   \n",
       "8     2017-01-01 08:00:00           0.4                    -2.2         83.0   \n",
       "9     2017-01-01 09:00:00           0.8                    -4.1         70.0   \n",
       "10    2017-01-01 10:00:00           2.1                    -5.3         58.0   \n",
       "11    2017-01-01 11:00:00           2.0                    -5.9         56.0   \n",
       "12    2017-01-01 12:00:00           1.6                    -6.3         56.0   \n",
       "13    2017-01-01 13:00:00           1.4                    -6.5         56.0   \n",
       "14    2017-01-01 14:00:00           1.3                    -6.1         58.0   \n",
       "15    2017-01-01 15:00:00           1.0                    -6.8         56.0   \n",
       "16    2017-01-01 16:00:00           0.9                    -7.6         53.0   \n",
       "17    2017-01-01 17:00:00          -1.3                    -7.9         61.0   \n",
       "18    2017-01-01 18:00:00          -0.4                    -9.6         50.0   \n",
       "19    2017-01-01 19:00:00          -0.6                   -10.1         49.0   \n",
       "20    2017-01-01 20:00:00          -1.2                   -10.1         51.0   \n",
       "21    2017-01-01 21:00:00          -1.0                   -10.4         49.0   \n",
       "22    2017-01-01 22:00:00          -1.7                   -10.8         50.0   \n",
       "23    2017-01-01 23:00:00          -3.0                    -9.9         59.0   \n",
       "24    2017-01-02 00:00:00          -2.6                   -10.5         55.0   \n",
       "25    2017-01-02 01:00:00          -2.4                   -11.0         52.0   \n",
       "26    2017-01-02 02:00:00          -2.2                   -11.8         48.0   \n",
       "27    2017-01-02 03:00:00          -2.4                   -11.7         49.0   \n",
       "28    2017-01-02 04:00:00          -3.0                   -12.3         49.0   \n",
       "29    2017-01-02 05:00:00          -2.8                   -12.1         49.0   \n",
       "...                   ...           ...                     ...          ...   \n",
       "8730  2017-12-30 18:00:00           1.4                     0.0         90.0   \n",
       "8731  2017-12-30 19:00:00           0.6                    -0.8         91.0   \n",
       "8732  2017-12-30 20:00:00           0.5                    -0.9         90.0   \n",
       "8733  2017-12-30 21:00:00          -0.4                    -1.2         94.0   \n",
       "8734  2017-12-30 22:00:00          -1.2                    -2.1         94.0   \n",
       "8735  2017-12-30 23:00:00          -1.1                    -1.9         95.0   \n",
       "8736  2017-12-31 00:00:00          -1.1                    -2.0         94.0   \n",
       "8737  2017-12-31 01:00:00          -0.4                    -1.3         93.0   \n",
       "8738  2017-12-31 02:00:00           0.4                    -1.5         87.0   \n",
       "8739  2017-12-31 03:00:00          -1.4                    -2.1         95.0   \n",
       "8740  2017-12-31 04:00:00          -3.0                    -3.4         96.0   \n",
       "8741  2017-12-31 05:00:00          -2.8                    -3.2         97.0   \n",
       "8742  2017-12-31 06:00:00          -2.3                    -2.9         96.0   \n",
       "8743  2017-12-31 07:00:00          -3.8                    -4.1         98.0   \n",
       "8744  2017-12-31 08:00:00          -3.5                    -3.7         98.0   \n",
       "8745  2017-12-31 09:00:00          -2.9                    -3.1         98.0   \n",
       "8746  2017-12-31 10:00:00          -0.7                    -0.8         99.0   \n",
       "8747  2017-12-31 11:00:00          -0.4                    -0.8         97.0   \n",
       "8748  2017-12-31 12:00:00           1.3                    -0.2         90.0   \n",
       "8749  2017-12-31 13:00:00           2.5                     0.0         83.0   \n",
       "8750  2017-12-31 14:00:00           3.6                    -0.7         73.0   \n",
       "8751  2017-12-31 15:00:00           3.6                    -0.8         73.0   \n",
       "8752  2017-12-31 16:00:00           2.3                    -1.7         75.0   \n",
       "8753  2017-12-31 17:00:00           1.4                    -1.5         81.0   \n",
       "8754  2017-12-31 18:00:00           1.5                    -3.0         72.0   \n",
       "8755  2017-12-31 19:00:00           1.0                    -2.5         78.0   \n",
       "8756  2017-12-31 20:00:00          -1.2                    -2.9         89.0   \n",
       "8757  2017-12-31 21:00:00          -0.7                    -2.2         89.0   \n",
       "8758  2017-12-31 22:00:00          -1.5                    -2.4         93.0   \n",
       "8759  2017-12-31 23:00:00          -2.1                    -3.0         93.0   \n",
       "\n",
       "      Wind Dir (deg)  Wind Spd (km/h)  Visibility (km)  Pressure (kPa)  Hmdx  \\\n",
       "0              360.0              8.0             19.3          100.54   NaN   \n",
       "1              360.0              2.0             24.1          100.55   NaN   \n",
       "2               80.0              4.0             19.3          100.61   NaN   \n",
       "3              360.0              2.0             19.3          100.65   NaN   \n",
       "4              230.0              3.0             19.3          100.65   NaN   \n",
       "5               20.0              3.0             24.1          100.67   NaN   \n",
       "6               70.0              3.0             24.1          100.67   NaN   \n",
       "7               40.0              8.0             24.1          100.72   NaN   \n",
       "8               20.0              5.0             32.2          100.74   NaN   \n",
       "9              360.0             19.0             48.3          100.82   NaN   \n",
       "10             350.0             23.0             48.3          100.90   NaN   \n",
       "11             350.0             29.0             48.3          100.95   NaN   \n",
       "12             340.0             24.0             48.3          100.98   NaN   \n",
       "13             340.0             21.0             48.3          100.97   NaN   \n",
       "14             360.0             18.0             48.3          100.98   NaN   \n",
       "15             360.0             12.0             48.3          101.02   NaN   \n",
       "16              20.0             14.0             48.3          101.03   NaN   \n",
       "17             330.0              7.0             48.3          101.09   NaN   \n",
       "18              40.0              6.0             48.3          101.13   NaN   \n",
       "19              10.0              9.0             48.3          101.18   NaN   \n",
       "20              30.0             12.0             48.3          101.21   NaN   \n",
       "21              20.0             18.0             48.3          101.28   NaN   \n",
       "22              20.0             11.0             48.3          101.33   NaN   \n",
       "23             360.0             12.0             32.2          101.37   NaN   \n",
       "24             360.0              9.0             32.2          101.40   NaN   \n",
       "25              20.0             11.0             32.2          101.43   NaN   \n",
       "26              40.0             14.0             32.2          101.45   NaN   \n",
       "27              30.0             14.0             32.2          101.49   NaN   \n",
       "28              30.0             11.0             48.3          101.51   NaN   \n",
       "29              40.0             13.0             48.3          101.55   NaN   \n",
       "...              ...              ...              ...             ...   ...   \n",
       "8730            90.0              9.0             24.1          102.75   NaN   \n",
       "8731            90.0              8.0             32.2          102.74   NaN   \n",
       "8732           150.0              5.0             32.2          102.80   NaN   \n",
       "8733            20.0              6.0             32.2          102.83   NaN   \n",
       "8734           110.0              7.0             32.2          102.82   NaN   \n",
       "8735           110.0              6.0             32.2          102.84   NaN   \n",
       "8736           190.0              5.0             32.2          102.85   NaN   \n",
       "8737            30.0              4.0             32.2          102.84   NaN   \n",
       "8738            10.0              9.0             32.2          102.80   NaN   \n",
       "8739           150.0             10.0             32.2          102.79   NaN   \n",
       "8740            90.0              8.0             32.2          102.78   NaN   \n",
       "8741           110.0              9.0             32.2          102.78   NaN   \n",
       "8742            70.0              4.0             32.2          102.73   NaN   \n",
       "8743            80.0              9.0              0.2          102.72   NaN   \n",
       "8744           140.0              7.0              0.4          102.74   NaN   \n",
       "8745            90.0              7.0              0.2          102.75   NaN   \n",
       "8746           110.0             10.0             48.3          102.74   NaN   \n",
       "8747            80.0              8.0             48.3          102.71   NaN   \n",
       "8748           100.0              9.0             48.3          102.65   NaN   \n",
       "8749           140.0              6.0             48.3          102.60   NaN   \n",
       "8750           330.0              7.0             48.3          102.55   NaN   \n",
       "8751           330.0             16.0             48.3          102.50   NaN   \n",
       "8752           320.0             24.0             48.3          102.49   NaN   \n",
       "8753           320.0             18.0             48.3          102.49   NaN   \n",
       "8754            20.0              4.0             48.3          102.49   NaN   \n",
       "8755           340.0              5.0             32.2          102.51   NaN   \n",
       "8756            90.0              9.0             32.2          102.52   NaN   \n",
       "8757           100.0             11.0             32.2          102.58   NaN   \n",
       "8758           100.0             11.0             32.2          102.63   NaN   \n",
       "8759            90.0              9.0             32.2          102.69   NaN   \n",
       "\n",
       "      Wind Chill     Conditions  \n",
       "0            NaN            NaN  \n",
       "1            NaN         Cloudy  \n",
       "2            NaN         Cloudy  \n",
       "3            NaN         Cloudy  \n",
       "4            NaN         Cloudy  \n",
       "5            NaN         Cloudy  \n",
       "6            NaN         Cloudy  \n",
       "7            NaN         Cloudy  \n",
       "8            NaN         Cloudy  \n",
       "9            NaN         Cloudy  \n",
       "10           NaN         Cloudy  \n",
       "11           NaN         Cloudy  \n",
       "12           NaN         Cloudy  \n",
       "13           NaN         Cloudy  \n",
       "14           NaN         Cloudy  \n",
       "15           NaN         Cloudy  \n",
       "16           NaN  Mostly Cloudy  \n",
       "17          -4.0  Mostly Cloudy  \n",
       "18          -2.0  Mostly Cloudy  \n",
       "19          -4.0  Mostly Cloudy  \n",
       "20          -5.0  Mostly Cloudy  \n",
       "21          -6.0  Mostly Cloudy  \n",
       "22          -6.0  Mostly Cloudy  \n",
       "23          -7.0  Mostly Cloudy  \n",
       "24          -6.0  Mostly Cloudy  \n",
       "25          -6.0   Mainly Clear  \n",
       "26          -7.0   Mainly Clear  \n",
       "27          -7.0   Mainly Clear  \n",
       "28          -7.0          Clear  \n",
       "29          -7.0          Clear  \n",
       "...          ...            ...  \n",
       "8730         NaN  Mostly Cloudy  \n",
       "8731         NaN  Mostly Cloudy  \n",
       "8732         NaN  Mostly Cloudy  \n",
       "8733        -2.0  Mostly Cloudy  \n",
       "8734        -4.0   Mainly Clear  \n",
       "8735        -3.0   Mainly Clear  \n",
       "8736        -3.0   Mainly Clear  \n",
       "8737        -2.0   Mainly Clear  \n",
       "8738         NaN   Mainly Clear  \n",
       "8739        -5.0   Mainly Clear  \n",
       "8740        -6.0          Clear  \n",
       "8741        -6.0          Clear  \n",
       "8742        -4.0          Clear  \n",
       "8743        -8.0   Freezing Fog  \n",
       "8744        -6.0   Freezing Fog  \n",
       "8745        -6.0   Freezing Fog  \n",
       "8746        -4.0  Mostly Cloudy  \n",
       "8747        -3.0  Mostly Cloudy  \n",
       "8748         NaN  Mostly Cloudy  \n",
       "8749         NaN   Mainly Clear  \n",
       "8750         NaN   Mainly Clear  \n",
       "8751         NaN   Mainly Clear  \n",
       "8752         NaN         Cloudy  \n",
       "8753         NaN         Cloudy  \n",
       "8754         NaN         Cloudy  \n",
       "8755         NaN   Mainly Clear  \n",
       "8756        -4.0   Mainly Clear  \n",
       "8757        -4.0   Mainly Clear  \n",
       "8758        -5.0   Mainly Clear  \n",
       "8759        -6.0   Mainly Clear  \n",
       "\n",
       "[8760 rows x 11 columns]"
      ]
     },
     "execution_count": 5,
     "metadata": {},
     "output_type": "execute_result"
    }
   ],
   "source": [
    "weather_yvr"
   ]
  },
  {
   "cell_type": "markdown",
   "metadata": {
    "slideshow": {
     "slide_type": "slide"
    }
   },
   "source": [
    "For large DataFrames, it's often useful to display just the first few or last few rows:"
   ]
  },
  {
   "cell_type": "code",
   "execution_count": 6,
   "metadata": {
    "slideshow": {
     "slide_type": "fragment"
    }
   },
   "outputs": [
    {
     "data": {
      "text/html": [
       "<div>\n",
       "<style scoped>\n",
       "    .dataframe tbody tr th:only-of-type {\n",
       "        vertical-align: middle;\n",
       "    }\n",
       "\n",
       "    .dataframe tbody tr th {\n",
       "        vertical-align: top;\n",
       "    }\n",
       "\n",
       "    .dataframe thead th {\n",
       "        text-align: right;\n",
       "    }\n",
       "</style>\n",
       "<table border=\"1\" class=\"dataframe\">\n",
       "  <thead>\n",
       "    <tr style=\"text-align: right;\">\n",
       "      <th></th>\n",
       "      <th>Datetime</th>\n",
       "      <th>Temp (deg C)</th>\n",
       "      <th>Dew Point Temp (deg C)</th>\n",
       "      <th>Rel Hum (%)</th>\n",
       "      <th>Wind Dir (deg)</th>\n",
       "      <th>Wind Spd (km/h)</th>\n",
       "      <th>Visibility (km)</th>\n",
       "      <th>Pressure (kPa)</th>\n",
       "      <th>Hmdx</th>\n",
       "      <th>Wind Chill</th>\n",
       "      <th>Conditions</th>\n",
       "    </tr>\n",
       "  </thead>\n",
       "  <tbody>\n",
       "    <tr>\n",
       "      <th>0</th>\n",
       "      <td>2017-01-01 00:00:00</td>\n",
       "      <td>1.2</td>\n",
       "      <td>-0.4</td>\n",
       "      <td>89.0</td>\n",
       "      <td>360.0</td>\n",
       "      <td>8.0</td>\n",
       "      <td>19.3</td>\n",
       "      <td>100.54</td>\n",
       "      <td>NaN</td>\n",
       "      <td>NaN</td>\n",
       "      <td>NaN</td>\n",
       "    </tr>\n",
       "    <tr>\n",
       "      <th>1</th>\n",
       "      <td>2017-01-01 01:00:00</td>\n",
       "      <td>0.9</td>\n",
       "      <td>-0.7</td>\n",
       "      <td>89.0</td>\n",
       "      <td>360.0</td>\n",
       "      <td>2.0</td>\n",
       "      <td>24.1</td>\n",
       "      <td>100.55</td>\n",
       "      <td>NaN</td>\n",
       "      <td>NaN</td>\n",
       "      <td>Cloudy</td>\n",
       "    </tr>\n",
       "    <tr>\n",
       "      <th>2</th>\n",
       "      <td>2017-01-01 02:00:00</td>\n",
       "      <td>1.2</td>\n",
       "      <td>0.6</td>\n",
       "      <td>96.0</td>\n",
       "      <td>80.0</td>\n",
       "      <td>4.0</td>\n",
       "      <td>19.3</td>\n",
       "      <td>100.61</td>\n",
       "      <td>NaN</td>\n",
       "      <td>NaN</td>\n",
       "      <td>Cloudy</td>\n",
       "    </tr>\n",
       "    <tr>\n",
       "      <th>3</th>\n",
       "      <td>2017-01-01 03:00:00</td>\n",
       "      <td>0.6</td>\n",
       "      <td>0.2</td>\n",
       "      <td>97.0</td>\n",
       "      <td>360.0</td>\n",
       "      <td>2.0</td>\n",
       "      <td>19.3</td>\n",
       "      <td>100.65</td>\n",
       "      <td>NaN</td>\n",
       "      <td>NaN</td>\n",
       "      <td>Cloudy</td>\n",
       "    </tr>\n",
       "    <tr>\n",
       "      <th>4</th>\n",
       "      <td>2017-01-01 04:00:00</td>\n",
       "      <td>0.6</td>\n",
       "      <td>0.2</td>\n",
       "      <td>97.0</td>\n",
       "      <td>230.0</td>\n",
       "      <td>3.0</td>\n",
       "      <td>19.3</td>\n",
       "      <td>100.65</td>\n",
       "      <td>NaN</td>\n",
       "      <td>NaN</td>\n",
       "      <td>Cloudy</td>\n",
       "    </tr>\n",
       "  </tbody>\n",
       "</table>\n",
       "</div>"
      ],
      "text/plain": [
       "              Datetime  Temp (deg C)  Dew Point Temp (deg C)  Rel Hum (%)  \\\n",
       "0  2017-01-01 00:00:00           1.2                    -0.4         89.0   \n",
       "1  2017-01-01 01:00:00           0.9                    -0.7         89.0   \n",
       "2  2017-01-01 02:00:00           1.2                     0.6         96.0   \n",
       "3  2017-01-01 03:00:00           0.6                     0.2         97.0   \n",
       "4  2017-01-01 04:00:00           0.6                     0.2         97.0   \n",
       "\n",
       "   Wind Dir (deg)  Wind Spd (km/h)  Visibility (km)  Pressure (kPa)  Hmdx  \\\n",
       "0           360.0              8.0             19.3          100.54   NaN   \n",
       "1           360.0              2.0             24.1          100.55   NaN   \n",
       "2            80.0              4.0             19.3          100.61   NaN   \n",
       "3           360.0              2.0             19.3          100.65   NaN   \n",
       "4           230.0              3.0             19.3          100.65   NaN   \n",
       "\n",
       "   Wind Chill Conditions  \n",
       "0         NaN        NaN  \n",
       "1         NaN     Cloudy  \n",
       "2         NaN     Cloudy  \n",
       "3         NaN     Cloudy  \n",
       "4         NaN     Cloudy  "
      ]
     },
     "execution_count": 6,
     "metadata": {},
     "output_type": "execute_result"
    }
   ],
   "source": [
    "weather_yvr.head()"
   ]
  },
  {
   "cell_type": "markdown",
   "metadata": {
    "slideshow": {
     "slide_type": "fragment"
    }
   },
   "source": [
    "- The `head` method returns a new DataFrame consisting of the first `n` rows (default 5)\n",
    "- To display the documentation for this method, you can run the command `weather_yvr.head?` in your Jupyter notebook"
   ]
  },
  {
   "cell_type": "markdown",
   "metadata": {
    "slideshow": {
     "slide_type": "fragment"
    }
   },
   "source": [
    "First two rows:"
   ]
  },
  {
   "cell_type": "code",
   "execution_count": 7,
   "metadata": {
    "slideshow": {
     "slide_type": "-"
    }
   },
   "outputs": [
    {
     "data": {
      "text/html": [
       "<div>\n",
       "<style scoped>\n",
       "    .dataframe tbody tr th:only-of-type {\n",
       "        vertical-align: middle;\n",
       "    }\n",
       "\n",
       "    .dataframe tbody tr th {\n",
       "        vertical-align: top;\n",
       "    }\n",
       "\n",
       "    .dataframe thead th {\n",
       "        text-align: right;\n",
       "    }\n",
       "</style>\n",
       "<table border=\"1\" class=\"dataframe\">\n",
       "  <thead>\n",
       "    <tr style=\"text-align: right;\">\n",
       "      <th></th>\n",
       "      <th>Datetime</th>\n",
       "      <th>Temp (deg C)</th>\n",
       "      <th>Dew Point Temp (deg C)</th>\n",
       "      <th>Rel Hum (%)</th>\n",
       "      <th>Wind Dir (deg)</th>\n",
       "      <th>Wind Spd (km/h)</th>\n",
       "      <th>Visibility (km)</th>\n",
       "      <th>Pressure (kPa)</th>\n",
       "      <th>Hmdx</th>\n",
       "      <th>Wind Chill</th>\n",
       "      <th>Conditions</th>\n",
       "    </tr>\n",
       "  </thead>\n",
       "  <tbody>\n",
       "    <tr>\n",
       "      <th>0</th>\n",
       "      <td>2017-01-01 00:00:00</td>\n",
       "      <td>1.2</td>\n",
       "      <td>-0.4</td>\n",
       "      <td>89.0</td>\n",
       "      <td>360.0</td>\n",
       "      <td>8.0</td>\n",
       "      <td>19.3</td>\n",
       "      <td>100.54</td>\n",
       "      <td>NaN</td>\n",
       "      <td>NaN</td>\n",
       "      <td>NaN</td>\n",
       "    </tr>\n",
       "    <tr>\n",
       "      <th>1</th>\n",
       "      <td>2017-01-01 01:00:00</td>\n",
       "      <td>0.9</td>\n",
       "      <td>-0.7</td>\n",
       "      <td>89.0</td>\n",
       "      <td>360.0</td>\n",
       "      <td>2.0</td>\n",
       "      <td>24.1</td>\n",
       "      <td>100.55</td>\n",
       "      <td>NaN</td>\n",
       "      <td>NaN</td>\n",
       "      <td>Cloudy</td>\n",
       "    </tr>\n",
       "  </tbody>\n",
       "</table>\n",
       "</div>"
      ],
      "text/plain": [
       "              Datetime  Temp (deg C)  Dew Point Temp (deg C)  Rel Hum (%)  \\\n",
       "0  2017-01-01 00:00:00           1.2                    -0.4         89.0   \n",
       "1  2017-01-01 01:00:00           0.9                    -0.7         89.0   \n",
       "\n",
       "   Wind Dir (deg)  Wind Spd (km/h)  Visibility (km)  Pressure (kPa)  Hmdx  \\\n",
       "0           360.0              8.0             19.3          100.54   NaN   \n",
       "1           360.0              2.0             24.1          100.55   NaN   \n",
       "\n",
       "   Wind Chill Conditions  \n",
       "0         NaN        NaN  \n",
       "1         NaN     Cloudy  "
      ]
     },
     "execution_count": 7,
     "metadata": {},
     "output_type": "execute_result"
    }
   ],
   "source": [
    "weather_yvr.head(2)"
   ]
  },
  {
   "cell_type": "markdown",
   "metadata": {
    "slideshow": {
     "slide_type": "fragment"
    }
   },
   "source": [
    "Last four rows:"
   ]
  },
  {
   "cell_type": "code",
   "execution_count": 8,
   "metadata": {
    "slideshow": {
     "slide_type": "-"
    }
   },
   "outputs": [
    {
     "data": {
      "text/html": [
       "<div>\n",
       "<style scoped>\n",
       "    .dataframe tbody tr th:only-of-type {\n",
       "        vertical-align: middle;\n",
       "    }\n",
       "\n",
       "    .dataframe tbody tr th {\n",
       "        vertical-align: top;\n",
       "    }\n",
       "\n",
       "    .dataframe thead th {\n",
       "        text-align: right;\n",
       "    }\n",
       "</style>\n",
       "<table border=\"1\" class=\"dataframe\">\n",
       "  <thead>\n",
       "    <tr style=\"text-align: right;\">\n",
       "      <th></th>\n",
       "      <th>Datetime</th>\n",
       "      <th>Temp (deg C)</th>\n",
       "      <th>Dew Point Temp (deg C)</th>\n",
       "      <th>Rel Hum (%)</th>\n",
       "      <th>Wind Dir (deg)</th>\n",
       "      <th>Wind Spd (km/h)</th>\n",
       "      <th>Visibility (km)</th>\n",
       "      <th>Pressure (kPa)</th>\n",
       "      <th>Hmdx</th>\n",
       "      <th>Wind Chill</th>\n",
       "      <th>Conditions</th>\n",
       "    </tr>\n",
       "  </thead>\n",
       "  <tbody>\n",
       "    <tr>\n",
       "      <th>8756</th>\n",
       "      <td>2017-12-31 20:00:00</td>\n",
       "      <td>-1.2</td>\n",
       "      <td>-2.9</td>\n",
       "      <td>89.0</td>\n",
       "      <td>90.0</td>\n",
       "      <td>9.0</td>\n",
       "      <td>32.2</td>\n",
       "      <td>102.52</td>\n",
       "      <td>NaN</td>\n",
       "      <td>-4.0</td>\n",
       "      <td>Mainly Clear</td>\n",
       "    </tr>\n",
       "    <tr>\n",
       "      <th>8757</th>\n",
       "      <td>2017-12-31 21:00:00</td>\n",
       "      <td>-0.7</td>\n",
       "      <td>-2.2</td>\n",
       "      <td>89.0</td>\n",
       "      <td>100.0</td>\n",
       "      <td>11.0</td>\n",
       "      <td>32.2</td>\n",
       "      <td>102.58</td>\n",
       "      <td>NaN</td>\n",
       "      <td>-4.0</td>\n",
       "      <td>Mainly Clear</td>\n",
       "    </tr>\n",
       "    <tr>\n",
       "      <th>8758</th>\n",
       "      <td>2017-12-31 22:00:00</td>\n",
       "      <td>-1.5</td>\n",
       "      <td>-2.4</td>\n",
       "      <td>93.0</td>\n",
       "      <td>100.0</td>\n",
       "      <td>11.0</td>\n",
       "      <td>32.2</td>\n",
       "      <td>102.63</td>\n",
       "      <td>NaN</td>\n",
       "      <td>-5.0</td>\n",
       "      <td>Mainly Clear</td>\n",
       "    </tr>\n",
       "    <tr>\n",
       "      <th>8759</th>\n",
       "      <td>2017-12-31 23:00:00</td>\n",
       "      <td>-2.1</td>\n",
       "      <td>-3.0</td>\n",
       "      <td>93.0</td>\n",
       "      <td>90.0</td>\n",
       "      <td>9.0</td>\n",
       "      <td>32.2</td>\n",
       "      <td>102.69</td>\n",
       "      <td>NaN</td>\n",
       "      <td>-6.0</td>\n",
       "      <td>Mainly Clear</td>\n",
       "    </tr>\n",
       "  </tbody>\n",
       "</table>\n",
       "</div>"
      ],
      "text/plain": [
       "                 Datetime  Temp (deg C)  Dew Point Temp (deg C)  Rel Hum (%)  \\\n",
       "8756  2017-12-31 20:00:00          -1.2                    -2.9         89.0   \n",
       "8757  2017-12-31 21:00:00          -0.7                    -2.2         89.0   \n",
       "8758  2017-12-31 22:00:00          -1.5                    -2.4         93.0   \n",
       "8759  2017-12-31 23:00:00          -2.1                    -3.0         93.0   \n",
       "\n",
       "      Wind Dir (deg)  Wind Spd (km/h)  Visibility (km)  Pressure (kPa)  Hmdx  \\\n",
       "8756            90.0              9.0             32.2          102.52   NaN   \n",
       "8757           100.0             11.0             32.2          102.58   NaN   \n",
       "8758           100.0             11.0             32.2          102.63   NaN   \n",
       "8759            90.0              9.0             32.2          102.69   NaN   \n",
       "\n",
       "      Wind Chill    Conditions  \n",
       "8756        -4.0  Mainly Clear  \n",
       "8757        -4.0  Mainly Clear  \n",
       "8758        -5.0  Mainly Clear  \n",
       "8759        -6.0  Mainly Clear  "
      ]
     },
     "execution_count": 8,
     "metadata": {},
     "output_type": "execute_result"
    }
   ],
   "source": [
    "weather_yvr.tail(4)"
   ]
  },
  {
   "cell_type": "markdown",
   "metadata": {
    "slideshow": {
     "slide_type": "slide"
    }
   },
   "source": [
    "# Data at a Glance\n",
    "\n",
    "`pandas` provides many ways to quickly and easily summarize your data:\n",
    "- How many rows and columns are there?\n",
    "- What are all the column names and what type of data is in each column?"
   ]
  },
  {
   "cell_type": "markdown",
   "metadata": {
    "slideshow": {
     "slide_type": "fragment"
    }
   },
   "source": [
    "- Numerical data: What is the average and range of the values?\n",
    "- Text data: What are the unique values and how often does each occur?\n",
    "- How many values are missing in each column?"
   ]
  },
  {
   "cell_type": "markdown",
   "metadata": {
    "slideshow": {
     "slide_type": "slide"
    }
   },
   "source": [
    "Number of rows and columns:"
   ]
  },
  {
   "cell_type": "code",
   "execution_count": 9,
   "metadata": {
    "slideshow": {
     "slide_type": "fragment"
    }
   },
   "outputs": [
    {
     "data": {
      "text/plain": [
       "(8760, 11)"
      ]
     },
     "execution_count": 9,
     "metadata": {},
     "output_type": "execute_result"
    }
   ],
   "source": [
    "weather_yvr.shape"
   ]
  },
  {
   "cell_type": "markdown",
   "metadata": {
    "slideshow": {
     "slide_type": "fragment"
    }
   },
   "source": [
    "- The DataFrame `weather_yvr` has 8760 rows and 11 columns\n",
    "- The index does not count as a column\n",
    "- `shape` is a **data attribute** of the variable `weather_yvr`"
   ]
  },
  {
   "cell_type": "markdown",
   "metadata": {
    "slideshow": {
     "slide_type": "slide"
    }
   },
   "source": [
    "- Within a column of a DataFrame, the data must all be of the same type\n",
    "- We can find out the names and data types of each column from the `dtypes` attribute:"
   ]
  },
  {
   "cell_type": "code",
   "execution_count": 10,
   "metadata": {
    "slideshow": {
     "slide_type": "fragment"
    }
   },
   "outputs": [
    {
     "data": {
      "text/plain": [
       "Datetime                   object\n",
       "Temp (deg C)              float64\n",
       "Dew Point Temp (deg C)    float64\n",
       "Rel Hum (%)               float64\n",
       "Wind Dir (deg)            float64\n",
       "Wind Spd (km/h)           float64\n",
       "Visibility (km)           float64\n",
       "Pressure (kPa)            float64\n",
       "Hmdx                      float64\n",
       "Wind Chill                float64\n",
       "Conditions                 object\n",
       "dtype: object"
      ]
     },
     "execution_count": 10,
     "metadata": {},
     "output_type": "execute_result"
    }
   ],
   "source": [
    "weather_yvr.dtypes"
   ]
  },
  {
   "cell_type": "markdown",
   "metadata": {
    "slideshow": {
     "slide_type": "fragment"
    }
   },
   "source": [
    "- In a `pandas` DataFrame, a column containing text data (or containing a mix of text and numbers) is assigned a `dtype` of `object` and is treated as a column of strings"
   ]
  },
  {
   "cell_type": "markdown",
   "metadata": {
    "slideshow": {
     "slide_type": "slide"
    }
   },
   "source": [
    "If we just want a list of the column names, we can use the `columns` attribute:"
   ]
  },
  {
   "cell_type": "code",
   "execution_count": 11,
   "metadata": {
    "scrolled": true,
    "slideshow": {
     "slide_type": "fragment"
    }
   },
   "outputs": [
    {
     "data": {
      "text/plain": [
       "Index(['Datetime', 'Temp (deg C)', 'Dew Point Temp (deg C)', 'Rel Hum (%)',\n",
       "       'Wind Dir (deg)', 'Wind Spd (km/h)', 'Visibility (km)',\n",
       "       'Pressure (kPa)', 'Hmdx', 'Wind Chill', 'Conditions'],\n",
       "      dtype='object')"
      ]
     },
     "execution_count": 11,
     "metadata": {},
     "output_type": "execute_result"
    }
   ],
   "source": [
    "weather_yvr.columns"
   ]
  },
  {
   "cell_type": "markdown",
   "metadata": {
    "slideshow": {
     "slide_type": "slide"
    }
   },
   "source": [
    "# Exercise 1.1 \n",
    "\n",
    "Let's explore `'data/weather_airports_24hr_snapshot.csv'`, which contains a 24 hour snapshot of Environment Canada weather measurements at major airport stations around Canada.\n",
    "\n",
    "a) Read the CSV file into a new DataFrame `weather_all` and display the first 10 rows.\n",
    "\n",
    "b) How many rows and columns does `weather_all` have?\n",
    "\n",
    "c) Display the names and data types of each column."
   ]
  },
  {
   "cell_type": "markdown",
   "metadata": {
    "slideshow": {
     "slide_type": "slide"
    }
   },
   "source": [
    "a) Read the file `'data/weather_airports_24hr_snapshot.csv'` into a new DataFrame `weather_all` and display the first 10 rows."
   ]
  },
  {
   "cell_type": "code",
   "execution_count": null,
   "metadata": {},
   "outputs": [],
   "source": []
  },
  {
   "cell_type": "markdown",
   "metadata": {
    "slideshow": {
     "slide_type": "slide"
    }
   },
   "source": [
    "b) How many rows and columns does `weather_all` have?"
   ]
  },
  {
   "cell_type": "code",
   "execution_count": null,
   "metadata": {},
   "outputs": [],
   "source": []
  },
  {
   "cell_type": "markdown",
   "metadata": {
    "slideshow": {
     "slide_type": "fragment"
    }
   },
   "source": [
    "c) Display the names and data types of each column."
   ]
  },
  {
   "cell_type": "code",
   "execution_count": null,
   "metadata": {
    "slideshow": {
     "slide_type": "-"
    }
   },
   "outputs": [],
   "source": []
  },
  {
   "cell_type": "markdown",
   "metadata": {
    "slideshow": {
     "slide_type": "slide"
    }
   },
   "source": [
    "# Simple Summary Statistics\n",
    "\n",
    "Returning to our `weather_yvr` data:"
   ]
  },
  {
   "cell_type": "code",
   "execution_count": 12,
   "metadata": {
    "scrolled": true,
    "slideshow": {
     "slide_type": "-"
    }
   },
   "outputs": [
    {
     "name": "stdout",
     "output_type": "stream",
     "text": [
      "(8760, 11)\n"
     ]
    },
    {
     "data": {
      "text/html": [
       "<div>\n",
       "<style scoped>\n",
       "    .dataframe tbody tr th:only-of-type {\n",
       "        vertical-align: middle;\n",
       "    }\n",
       "\n",
       "    .dataframe tbody tr th {\n",
       "        vertical-align: top;\n",
       "    }\n",
       "\n",
       "    .dataframe thead th {\n",
       "        text-align: right;\n",
       "    }\n",
       "</style>\n",
       "<table border=\"1\" class=\"dataframe\">\n",
       "  <thead>\n",
       "    <tr style=\"text-align: right;\">\n",
       "      <th></th>\n",
       "      <th>Datetime</th>\n",
       "      <th>Temp (deg C)</th>\n",
       "      <th>Dew Point Temp (deg C)</th>\n",
       "      <th>Rel Hum (%)</th>\n",
       "      <th>Wind Dir (deg)</th>\n",
       "      <th>Wind Spd (km/h)</th>\n",
       "      <th>Visibility (km)</th>\n",
       "      <th>Pressure (kPa)</th>\n",
       "      <th>Hmdx</th>\n",
       "      <th>Wind Chill</th>\n",
       "      <th>Conditions</th>\n",
       "    </tr>\n",
       "  </thead>\n",
       "  <tbody>\n",
       "    <tr>\n",
       "      <th>0</th>\n",
       "      <td>2017-01-01 00:00:00</td>\n",
       "      <td>1.2</td>\n",
       "      <td>-0.4</td>\n",
       "      <td>89.0</td>\n",
       "      <td>360.0</td>\n",
       "      <td>8.0</td>\n",
       "      <td>19.3</td>\n",
       "      <td>100.54</td>\n",
       "      <td>NaN</td>\n",
       "      <td>NaN</td>\n",
       "      <td>NaN</td>\n",
       "    </tr>\n",
       "    <tr>\n",
       "      <th>1</th>\n",
       "      <td>2017-01-01 01:00:00</td>\n",
       "      <td>0.9</td>\n",
       "      <td>-0.7</td>\n",
       "      <td>89.0</td>\n",
       "      <td>360.0</td>\n",
       "      <td>2.0</td>\n",
       "      <td>24.1</td>\n",
       "      <td>100.55</td>\n",
       "      <td>NaN</td>\n",
       "      <td>NaN</td>\n",
       "      <td>Cloudy</td>\n",
       "    </tr>\n",
       "    <tr>\n",
       "      <th>2</th>\n",
       "      <td>2017-01-01 02:00:00</td>\n",
       "      <td>1.2</td>\n",
       "      <td>0.6</td>\n",
       "      <td>96.0</td>\n",
       "      <td>80.0</td>\n",
       "      <td>4.0</td>\n",
       "      <td>19.3</td>\n",
       "      <td>100.61</td>\n",
       "      <td>NaN</td>\n",
       "      <td>NaN</td>\n",
       "      <td>Cloudy</td>\n",
       "    </tr>\n",
       "  </tbody>\n",
       "</table>\n",
       "</div>"
      ],
      "text/plain": [
       "              Datetime  Temp (deg C)  Dew Point Temp (deg C)  Rel Hum (%)  \\\n",
       "0  2017-01-01 00:00:00           1.2                    -0.4         89.0   \n",
       "1  2017-01-01 01:00:00           0.9                    -0.7         89.0   \n",
       "2  2017-01-01 02:00:00           1.2                     0.6         96.0   \n",
       "\n",
       "   Wind Dir (deg)  Wind Spd (km/h)  Visibility (km)  Pressure (kPa)  Hmdx  \\\n",
       "0           360.0              8.0             19.3          100.54   NaN   \n",
       "1           360.0              2.0             24.1          100.55   NaN   \n",
       "2            80.0              4.0             19.3          100.61   NaN   \n",
       "\n",
       "   Wind Chill Conditions  \n",
       "0         NaN        NaN  \n",
       "1         NaN     Cloudy  \n",
       "2         NaN     Cloudy  "
      ]
     },
     "execution_count": 12,
     "metadata": {},
     "output_type": "execute_result"
    }
   ],
   "source": [
    "print(weather_yvr.shape)\n",
    "weather_yvr.head(3)"
   ]
  },
  {
   "cell_type": "markdown",
   "metadata": {
    "slideshow": {
     "slide_type": "fragment"
    }
   },
   "source": [
    "The `describe` method computes simple summary statistics and returns them as a DataFrame:"
   ]
  },
  {
   "cell_type": "code",
   "execution_count": 13,
   "metadata": {
    "scrolled": true,
    "slideshow": {
     "slide_type": "-"
    }
   },
   "outputs": [
    {
     "data": {
      "text/html": [
       "<div>\n",
       "<style scoped>\n",
       "    .dataframe tbody tr th:only-of-type {\n",
       "        vertical-align: middle;\n",
       "    }\n",
       "\n",
       "    .dataframe tbody tr th {\n",
       "        vertical-align: top;\n",
       "    }\n",
       "\n",
       "    .dataframe thead th {\n",
       "        text-align: right;\n",
       "    }\n",
       "</style>\n",
       "<table border=\"1\" class=\"dataframe\">\n",
       "  <thead>\n",
       "    <tr style=\"text-align: right;\">\n",
       "      <th></th>\n",
       "      <th>Temp (deg C)</th>\n",
       "      <th>Dew Point Temp (deg C)</th>\n",
       "      <th>Rel Hum (%)</th>\n",
       "      <th>Wind Dir (deg)</th>\n",
       "      <th>Wind Spd (km/h)</th>\n",
       "      <th>Visibility (km)</th>\n",
       "      <th>Pressure (kPa)</th>\n",
       "      <th>Hmdx</th>\n",
       "      <th>Wind Chill</th>\n",
       "    </tr>\n",
       "  </thead>\n",
       "  <tbody>\n",
       "    <tr>\n",
       "      <th>count</th>\n",
       "      <td>8758.000000</td>\n",
       "      <td>8758.000000</td>\n",
       "      <td>8758.000000</td>\n",
       "      <td>8745.000000</td>\n",
       "      <td>8758.000000</td>\n",
       "      <td>8758.000000</td>\n",
       "      <td>8758.000000</td>\n",
       "      <td>446.000000</td>\n",
       "      <td>517.000000</td>\n",
       "    </tr>\n",
       "    <tr>\n",
       "      <th>mean</th>\n",
       "      <td>10.249441</td>\n",
       "      <td>6.693663</td>\n",
       "      <td>79.785225</td>\n",
       "      <td>170.810749</td>\n",
       "      <td>13.237040</td>\n",
       "      <td>33.137520</td>\n",
       "      <td>101.601111</td>\n",
       "      <td>26.804933</td>\n",
       "      <td>-5.321083</td>\n",
       "    </tr>\n",
       "    <tr>\n",
       "      <th>std</th>\n",
       "      <td>6.632640</td>\n",
       "      <td>5.940729</td>\n",
       "      <td>13.019574</td>\n",
       "      <td>96.231337</td>\n",
       "      <td>7.360099</td>\n",
       "      <td>13.237931</td>\n",
       "      <td>0.853132</td>\n",
       "      <td>1.890264</td>\n",
       "      <td>2.546734</td>\n",
       "    </tr>\n",
       "    <tr>\n",
       "      <th>min</th>\n",
       "      <td>-8.400000</td>\n",
       "      <td>-15.700000</td>\n",
       "      <td>18.000000</td>\n",
       "      <td>0.000000</td>\n",
       "      <td>0.000000</td>\n",
       "      <td>0.000000</td>\n",
       "      <td>98.630000</td>\n",
       "      <td>25.000000</td>\n",
       "      <td>-13.000000</td>\n",
       "    </tr>\n",
       "    <tr>\n",
       "      <th>25%</th>\n",
       "      <td>5.600000</td>\n",
       "      <td>3.400000</td>\n",
       "      <td>71.000000</td>\n",
       "      <td>90.000000</td>\n",
       "      <td>8.000000</td>\n",
       "      <td>24.100000</td>\n",
       "      <td>101.150000</td>\n",
       "      <td>25.000000</td>\n",
       "      <td>-7.000000</td>\n",
       "    </tr>\n",
       "    <tr>\n",
       "      <th>50%</th>\n",
       "      <td>9.800000</td>\n",
       "      <td>6.900000</td>\n",
       "      <td>82.000000</td>\n",
       "      <td>130.000000</td>\n",
       "      <td>12.000000</td>\n",
       "      <td>32.200000</td>\n",
       "      <td>101.630000</td>\n",
       "      <td>26.000000</td>\n",
       "      <td>-5.000000</td>\n",
       "    </tr>\n",
       "    <tr>\n",
       "      <th>75%</th>\n",
       "      <td>15.400000</td>\n",
       "      <td>11.200000</td>\n",
       "      <td>90.000000</td>\n",
       "      <td>270.000000</td>\n",
       "      <td>17.000000</td>\n",
       "      <td>48.300000</td>\n",
       "      <td>102.120000</td>\n",
       "      <td>28.000000</td>\n",
       "      <td>-4.000000</td>\n",
       "    </tr>\n",
       "    <tr>\n",
       "      <th>max</th>\n",
       "      <td>29.200000</td>\n",
       "      <td>19.200000</td>\n",
       "      <td>100.000000</td>\n",
       "      <td>360.000000</td>\n",
       "      <td>68.000000</td>\n",
       "      <td>64.400000</td>\n",
       "      <td>103.940000</td>\n",
       "      <td>33.000000</td>\n",
       "      <td>0.000000</td>\n",
       "    </tr>\n",
       "  </tbody>\n",
       "</table>\n",
       "</div>"
      ],
      "text/plain": [
       "       Temp (deg C)  Dew Point Temp (deg C)  Rel Hum (%)  Wind Dir (deg)  \\\n",
       "count   8758.000000             8758.000000  8758.000000     8745.000000   \n",
       "mean      10.249441                6.693663    79.785225      170.810749   \n",
       "std        6.632640                5.940729    13.019574       96.231337   \n",
       "min       -8.400000              -15.700000    18.000000        0.000000   \n",
       "25%        5.600000                3.400000    71.000000       90.000000   \n",
       "50%        9.800000                6.900000    82.000000      130.000000   \n",
       "75%       15.400000               11.200000    90.000000      270.000000   \n",
       "max       29.200000               19.200000   100.000000      360.000000   \n",
       "\n",
       "       Wind Spd (km/h)  Visibility (km)  Pressure (kPa)        Hmdx  \\\n",
       "count      8758.000000      8758.000000     8758.000000  446.000000   \n",
       "mean         13.237040        33.137520      101.601111   26.804933   \n",
       "std           7.360099        13.237931        0.853132    1.890264   \n",
       "min           0.000000         0.000000       98.630000   25.000000   \n",
       "25%           8.000000        24.100000      101.150000   25.000000   \n",
       "50%          12.000000        32.200000      101.630000   26.000000   \n",
       "75%          17.000000        48.300000      102.120000   28.000000   \n",
       "max          68.000000        64.400000      103.940000   33.000000   \n",
       "\n",
       "       Wind Chill  \n",
       "count  517.000000  \n",
       "mean    -5.321083  \n",
       "std      2.546734  \n",
       "min    -13.000000  \n",
       "25%     -7.000000  \n",
       "50%     -5.000000  \n",
       "75%     -4.000000  \n",
       "max      0.000000  "
      ]
     },
     "execution_count": 13,
     "metadata": {},
     "output_type": "execute_result"
    }
   ],
   "source": [
    "weather_yvr.describe()"
   ]
  },
  {
   "cell_type": "markdown",
   "metadata": {
    "slideshow": {
     "slide_type": "fragment"
    }
   },
   "source": [
    "- The `describe` method is a way to quickly summarize the averages, extremes, and variability of each numerical data column\n",
    "- You can look at each statistic individually with methods such as `mean`, `median`, `min`, `max`,`std`, and `count`"
   ]
  },
  {
   "cell_type": "code",
   "execution_count": 14,
   "metadata": {
    "slideshow": {
     "slide_type": "fragment"
    }
   },
   "outputs": [
    {
     "data": {
      "text/plain": [
       "Temp (deg C)               10.249441\n",
       "Dew Point Temp (deg C)      6.693663\n",
       "Rel Hum (%)                79.785225\n",
       "Wind Dir (deg)            170.810749\n",
       "Wind Spd (km/h)            13.237040\n",
       "Visibility (km)            33.137520\n",
       "Pressure (kPa)            101.601111\n",
       "Hmdx                       26.804933\n",
       "Wind Chill                 -5.321083\n",
       "dtype: float64"
      ]
     },
     "execution_count": 14,
     "metadata": {},
     "output_type": "execute_result"
    }
   ],
   "source": [
    "weather_yvr.mean()"
   ]
  },
  {
   "cell_type": "markdown",
   "metadata": {
    "slideshow": {
     "slide_type": "slide"
    }
   },
   "source": [
    "# Working with DataFrame Columns"
   ]
  },
  {
   "cell_type": "markdown",
   "metadata": {
    "slideshow": {
     "slide_type": "-"
    }
   },
   "source": [
    "Similar to a dictionary, we can index a specific column of a DataFrame using the column name inside square brackets:\n",
    "- *Pro tip: In Jupyter notebooks, auto-complete works for DataFrame column names!*"
   ]
  },
  {
   "cell_type": "code",
   "execution_count": 15,
   "metadata": {
    "scrolled": false,
    "slideshow": {
     "slide_type": "fragment"
    }
   },
   "outputs": [
    {
     "data": {
      "text/plain": [
       "0       1.2\n",
       "1       0.9\n",
       "2       1.2\n",
       "3       0.6\n",
       "4       0.6\n",
       "5       0.2\n",
       "6       0.2\n",
       "7       0.8\n",
       "8       0.4\n",
       "9       0.8\n",
       "10      2.1\n",
       "11      2.0\n",
       "12      1.6\n",
       "13      1.4\n",
       "14      1.3\n",
       "15      1.0\n",
       "16      0.9\n",
       "17     -1.3\n",
       "18     -0.4\n",
       "19     -0.6\n",
       "20     -1.2\n",
       "21     -1.0\n",
       "22     -1.7\n",
       "23     -3.0\n",
       "24     -2.6\n",
       "25     -2.4\n",
       "26     -2.2\n",
       "27     -2.4\n",
       "28     -3.0\n",
       "29     -2.8\n",
       "       ... \n",
       "8730    1.4\n",
       "8731    0.6\n",
       "8732    0.5\n",
       "8733   -0.4\n",
       "8734   -1.2\n",
       "8735   -1.1\n",
       "8736   -1.1\n",
       "8737   -0.4\n",
       "8738    0.4\n",
       "8739   -1.4\n",
       "8740   -3.0\n",
       "8741   -2.8\n",
       "8742   -2.3\n",
       "8743   -3.8\n",
       "8744   -3.5\n",
       "8745   -2.9\n",
       "8746   -0.7\n",
       "8747   -0.4\n",
       "8748    1.3\n",
       "8749    2.5\n",
       "8750    3.6\n",
       "8751    3.6\n",
       "8752    2.3\n",
       "8753    1.4\n",
       "8754    1.5\n",
       "8755    1.0\n",
       "8756   -1.2\n",
       "8757   -0.7\n",
       "8758   -1.5\n",
       "8759   -2.1\n",
       "Name: Temp (deg C), Length: 8760, dtype: float64"
      ]
     },
     "execution_count": 15,
     "metadata": {},
     "output_type": "execute_result"
    }
   ],
   "source": [
    "weather_yvr['Temp (deg C)']"
   ]
  },
  {
   "cell_type": "markdown",
   "metadata": {
    "slideshow": {
     "slide_type": "fragment"
    }
   },
   "source": [
    "The numbers on the left are the **index**"
   ]
  },
  {
   "cell_type": "markdown",
   "metadata": {
    "slideshow": {
     "slide_type": "slide"
    }
   },
   "source": [
    "What type of object is this?"
   ]
  },
  {
   "cell_type": "code",
   "execution_count": 16,
   "metadata": {
    "slideshow": {
     "slide_type": "fragment"
    }
   },
   "outputs": [
    {
     "data": {
      "text/plain": [
       "pandas.core.series.Series"
      ]
     },
     "execution_count": 16,
     "metadata": {},
     "output_type": "execute_result"
    }
   ],
   "source": [
    "temperature = weather_yvr['Temp (deg C)']\n",
    "type(temperature)"
   ]
  },
  {
   "cell_type": "markdown",
   "metadata": {
    "slideshow": {
     "slide_type": "fragment"
    }
   },
   "source": [
    "It's a Series, another data structure from the `pandas` library.\n",
    "\n",
    "- **DataFrame:** 2-dimensional array, like a table in a spreadsheet\n",
    "  - The rows are axis 0\n",
    "  - The columns are axis 1\n",
    "- **Series:** 1-dimensional array, like a single column or row in a spreadsheet\n",
    "  - Each individual column or row of a DataFrame is represented as a Series"
   ]
  },
  {
   "cell_type": "markdown",
   "metadata": {
    "slideshow": {
     "slide_type": "slide"
    }
   },
   "source": [
    "Let's look at the Series again:"
   ]
  },
  {
   "cell_type": "code",
   "execution_count": 17,
   "metadata": {
    "scrolled": false,
    "slideshow": {
     "slide_type": "-"
    }
   },
   "outputs": [
    {
     "data": {
      "text/plain": [
       "0       1.2\n",
       "1       0.9\n",
       "2       1.2\n",
       "3       0.6\n",
       "4       0.6\n",
       "5       0.2\n",
       "6       0.2\n",
       "7       0.8\n",
       "8       0.4\n",
       "9       0.8\n",
       "10      2.1\n",
       "11      2.0\n",
       "12      1.6\n",
       "13      1.4\n",
       "14      1.3\n",
       "15      1.0\n",
       "16      0.9\n",
       "17     -1.3\n",
       "18     -0.4\n",
       "19     -0.6\n",
       "20     -1.2\n",
       "21     -1.0\n",
       "22     -1.7\n",
       "23     -3.0\n",
       "24     -2.6\n",
       "25     -2.4\n",
       "26     -2.2\n",
       "27     -2.4\n",
       "28     -3.0\n",
       "29     -2.8\n",
       "       ... \n",
       "8730    1.4\n",
       "8731    0.6\n",
       "8732    0.5\n",
       "8733   -0.4\n",
       "8734   -1.2\n",
       "8735   -1.1\n",
       "8736   -1.1\n",
       "8737   -0.4\n",
       "8738    0.4\n",
       "8739   -1.4\n",
       "8740   -3.0\n",
       "8741   -2.8\n",
       "8742   -2.3\n",
       "8743   -3.8\n",
       "8744   -3.5\n",
       "8745   -2.9\n",
       "8746   -0.7\n",
       "8747   -0.4\n",
       "8748    1.3\n",
       "8749    2.5\n",
       "8750    3.6\n",
       "8751    3.6\n",
       "8752    2.3\n",
       "8753    1.4\n",
       "8754    1.5\n",
       "8755    1.0\n",
       "8756   -1.2\n",
       "8757   -0.7\n",
       "8758   -1.5\n",
       "8759   -2.1\n",
       "Name: Temp (deg C), Length: 8760, dtype: float64"
      ]
     },
     "execution_count": 17,
     "metadata": {},
     "output_type": "execute_result"
    }
   ],
   "source": [
    "temperature"
   ]
  },
  {
   "cell_type": "markdown",
   "metadata": {
    "slideshow": {
     "slide_type": "fragment"
    }
   },
   "source": [
    "The last line of the output above tells us that our Series `temperature` is named `'Temp (deg C)'`, it is 8760 rows long, and its data type is `float64`."
   ]
  },
  {
   "cell_type": "markdown",
   "metadata": {
    "slideshow": {
     "slide_type": "slide"
    }
   },
   "source": [
    "Many of the methods we use on a DataFrame can also be used on a Series, and vice versa"
   ]
  },
  {
   "cell_type": "code",
   "execution_count": 18,
   "metadata": {
    "slideshow": {
     "slide_type": "fragment"
    }
   },
   "outputs": [
    {
     "data": {
      "text/plain": [
       "0    1.2\n",
       "1    0.9\n",
       "2    1.2\n",
       "3    0.6\n",
       "4    0.6\n",
       "Name: Temp (deg C), dtype: float64"
      ]
     },
     "execution_count": 18,
     "metadata": {},
     "output_type": "execute_result"
    }
   ],
   "source": [
    "temperature.head()"
   ]
  },
  {
   "cell_type": "code",
   "execution_count": 19,
   "metadata": {
    "slideshow": {
     "slide_type": "fragment"
    }
   },
   "outputs": [
    {
     "data": {
      "text/plain": [
       "count    8758.000000\n",
       "mean       79.785225\n",
       "std        13.019574\n",
       "min        18.000000\n",
       "25%        71.000000\n",
       "50%        82.000000\n",
       "75%        90.000000\n",
       "max       100.000000\n",
       "Name: Rel Hum (%), dtype: float64"
      ]
     },
     "execution_count": 19,
     "metadata": {},
     "output_type": "execute_result"
    }
   ],
   "source": [
    "weather_yvr['Rel Hum (%)'].describe()"
   ]
  },
  {
   "cell_type": "code",
   "execution_count": 20,
   "metadata": {
    "slideshow": {
     "slide_type": "fragment"
    }
   },
   "outputs": [
    {
     "data": {
      "text/plain": [
       "68.0"
      ]
     },
     "execution_count": 20,
     "metadata": {},
     "output_type": "execute_result"
    }
   ],
   "source": [
    "weather_yvr['Wind Spd (km/h)'].max()"
   ]
  },
  {
   "cell_type": "markdown",
   "metadata": {
    "slideshow": {
     "slide_type": "slide"
    }
   },
   "source": [
    "# Simple Calculations\n",
    "\n",
    "We can perform calculations on Series.\n",
    "- Let's convert temperature from Celsius to Fahrenheit (multiply by 1.8 and add 32)"
   ]
  },
  {
   "cell_type": "code",
   "execution_count": 21,
   "metadata": {
    "slideshow": {
     "slide_type": "fragment"
    }
   },
   "outputs": [
    {
     "data": {
      "text/plain": [
       "0    34.16\n",
       "1    33.62\n",
       "2    34.16\n",
       "3    33.08\n",
       "4    33.08\n",
       "Name: Temp (deg C), dtype: float64"
      ]
     },
     "execution_count": 21,
     "metadata": {},
     "output_type": "execute_result"
    }
   ],
   "source": [
    "temperature_F = 1.8 * temperature + 32\n",
    "temperature_F.head()"
   ]
  },
  {
   "cell_type": "markdown",
   "metadata": {
    "slideshow": {
     "slide_type": "skip"
    }
   },
   "source": [
    "Side note: the new Series `temperature_F` still has the same name (`'Temp (deg C)'`) as the original Series\n",
    "- If we want to change the name, we can update the `name` attribute of the Series:"
   ]
  },
  {
   "cell_type": "code",
   "execution_count": 22,
   "metadata": {
    "slideshow": {
     "slide_type": "skip"
    }
   },
   "outputs": [
    {
     "data": {
      "text/plain": [
       "0    34.16\n",
       "1    33.62\n",
       "2    34.16\n",
       "3    33.08\n",
       "4    33.08\n",
       "Name: Temp (deg F), dtype: float64"
      ]
     },
     "execution_count": 22,
     "metadata": {},
     "output_type": "execute_result"
    }
   ],
   "source": [
    "temperature_F.name = 'Temp (deg F)'\n",
    "temperature_F.head()"
   ]
  },
  {
   "cell_type": "markdown",
   "metadata": {
    "slideshow": {
     "slide_type": "fragment"
    }
   },
   "source": [
    "Similar to a dictionary, we can add a new column to a DataFrame by simply assigning a value to a new column name:"
   ]
  },
  {
   "cell_type": "code",
   "execution_count": 23,
   "metadata": {
    "slideshow": {
     "slide_type": "fragment"
    }
   },
   "outputs": [
    {
     "data": {
      "text/html": [
       "<div>\n",
       "<style scoped>\n",
       "    .dataframe tbody tr th:only-of-type {\n",
       "        vertical-align: middle;\n",
       "    }\n",
       "\n",
       "    .dataframe tbody tr th {\n",
       "        vertical-align: top;\n",
       "    }\n",
       "\n",
       "    .dataframe thead th {\n",
       "        text-align: right;\n",
       "    }\n",
       "</style>\n",
       "<table border=\"1\" class=\"dataframe\">\n",
       "  <thead>\n",
       "    <tr style=\"text-align: right;\">\n",
       "      <th></th>\n",
       "      <th>Datetime</th>\n",
       "      <th>Temp (deg C)</th>\n",
       "      <th>Dew Point Temp (deg C)</th>\n",
       "      <th>Rel Hum (%)</th>\n",
       "      <th>Wind Dir (deg)</th>\n",
       "      <th>Wind Spd (km/h)</th>\n",
       "      <th>Visibility (km)</th>\n",
       "      <th>Pressure (kPa)</th>\n",
       "      <th>Hmdx</th>\n",
       "      <th>Wind Chill</th>\n",
       "      <th>Conditions</th>\n",
       "      <th>Temp (deg F)</th>\n",
       "    </tr>\n",
       "  </thead>\n",
       "  <tbody>\n",
       "    <tr>\n",
       "      <th>0</th>\n",
       "      <td>2017-01-01 00:00:00</td>\n",
       "      <td>1.2</td>\n",
       "      <td>-0.4</td>\n",
       "      <td>89.0</td>\n",
       "      <td>360.0</td>\n",
       "      <td>8.0</td>\n",
       "      <td>19.3</td>\n",
       "      <td>100.54</td>\n",
       "      <td>NaN</td>\n",
       "      <td>NaN</td>\n",
       "      <td>NaN</td>\n",
       "      <td>34.16</td>\n",
       "    </tr>\n",
       "    <tr>\n",
       "      <th>1</th>\n",
       "      <td>2017-01-01 01:00:00</td>\n",
       "      <td>0.9</td>\n",
       "      <td>-0.7</td>\n",
       "      <td>89.0</td>\n",
       "      <td>360.0</td>\n",
       "      <td>2.0</td>\n",
       "      <td>24.1</td>\n",
       "      <td>100.55</td>\n",
       "      <td>NaN</td>\n",
       "      <td>NaN</td>\n",
       "      <td>Cloudy</td>\n",
       "      <td>33.62</td>\n",
       "    </tr>\n",
       "    <tr>\n",
       "      <th>2</th>\n",
       "      <td>2017-01-01 02:00:00</td>\n",
       "      <td>1.2</td>\n",
       "      <td>0.6</td>\n",
       "      <td>96.0</td>\n",
       "      <td>80.0</td>\n",
       "      <td>4.0</td>\n",
       "      <td>19.3</td>\n",
       "      <td>100.61</td>\n",
       "      <td>NaN</td>\n",
       "      <td>NaN</td>\n",
       "      <td>Cloudy</td>\n",
       "      <td>34.16</td>\n",
       "    </tr>\n",
       "  </tbody>\n",
       "</table>\n",
       "</div>"
      ],
      "text/plain": [
       "              Datetime  Temp (deg C)  Dew Point Temp (deg C)  Rel Hum (%)  \\\n",
       "0  2017-01-01 00:00:00           1.2                    -0.4         89.0   \n",
       "1  2017-01-01 01:00:00           0.9                    -0.7         89.0   \n",
       "2  2017-01-01 02:00:00           1.2                     0.6         96.0   \n",
       "\n",
       "   Wind Dir (deg)  Wind Spd (km/h)  Visibility (km)  Pressure (kPa)  Hmdx  \\\n",
       "0           360.0              8.0             19.3          100.54   NaN   \n",
       "1           360.0              2.0             24.1          100.55   NaN   \n",
       "2            80.0              4.0             19.3          100.61   NaN   \n",
       "\n",
       "   Wind Chill Conditions  Temp (deg F)  \n",
       "0         NaN        NaN         34.16  \n",
       "1         NaN     Cloudy         33.62  \n",
       "2         NaN     Cloudy         34.16  "
      ]
     },
     "execution_count": 23,
     "metadata": {},
     "output_type": "execute_result"
    }
   ],
   "source": [
    "weather_yvr['Temp (deg F)'] = 1.8 * weather_yvr['Temp (deg C)'] + 32\n",
    "weather_yvr.head(3)"
   ]
  },
  {
   "cell_type": "markdown",
   "metadata": {
    "slideshow": {
     "slide_type": "skip"
    }
   },
   "source": [
    "By creating a new column labelled `'Temp (deg F)'`, the Series in this column is automatically given the same name as its column label:"
   ]
  },
  {
   "cell_type": "code",
   "execution_count": 24,
   "metadata": {
    "slideshow": {
     "slide_type": "skip"
    }
   },
   "outputs": [
    {
     "data": {
      "text/plain": [
       "0    34.16\n",
       "1    33.62\n",
       "2    34.16\n",
       "3    33.08\n",
       "4    33.08\n",
       "Name: Temp (deg F), dtype: float64"
      ]
     },
     "execution_count": 24,
     "metadata": {},
     "output_type": "execute_result"
    }
   ],
   "source": [
    "weather_yvr['Temp (deg F)'].head()"
   ]
  },
  {
   "cell_type": "markdown",
   "metadata": {
    "slideshow": {
     "slide_type": "slide"
    }
   },
   "source": [
    "# Multiple Columns of a DataFrame\n",
    "\n",
    "We can also select several columns, in whatever order we like, using a list of column names:"
   ]
  },
  {
   "cell_type": "code",
   "execution_count": 25,
   "metadata": {
    "slideshow": {
     "slide_type": "fragment"
    }
   },
   "outputs": [
    {
     "data": {
      "text/html": [
       "<div>\n",
       "<style scoped>\n",
       "    .dataframe tbody tr th:only-of-type {\n",
       "        vertical-align: middle;\n",
       "    }\n",
       "\n",
       "    .dataframe tbody tr th {\n",
       "        vertical-align: top;\n",
       "    }\n",
       "\n",
       "    .dataframe thead th {\n",
       "        text-align: right;\n",
       "    }\n",
       "</style>\n",
       "<table border=\"1\" class=\"dataframe\">\n",
       "  <thead>\n",
       "    <tr style=\"text-align: right;\">\n",
       "      <th></th>\n",
       "      <th>Datetime</th>\n",
       "      <th>Wind Spd (km/h)</th>\n",
       "      <th>Wind Dir (deg)</th>\n",
       "      <th>Rel Hum (%)</th>\n",
       "      <th>Temp (deg C)</th>\n",
       "    </tr>\n",
       "  </thead>\n",
       "  <tbody>\n",
       "    <tr>\n",
       "      <th>0</th>\n",
       "      <td>2017-01-01 00:00:00</td>\n",
       "      <td>8.0</td>\n",
       "      <td>360.0</td>\n",
       "      <td>89.0</td>\n",
       "      <td>1.2</td>\n",
       "    </tr>\n",
       "    <tr>\n",
       "      <th>1</th>\n",
       "      <td>2017-01-01 01:00:00</td>\n",
       "      <td>2.0</td>\n",
       "      <td>360.0</td>\n",
       "      <td>89.0</td>\n",
       "      <td>0.9</td>\n",
       "    </tr>\n",
       "    <tr>\n",
       "      <th>2</th>\n",
       "      <td>2017-01-01 02:00:00</td>\n",
       "      <td>4.0</td>\n",
       "      <td>80.0</td>\n",
       "      <td>96.0</td>\n",
       "      <td>1.2</td>\n",
       "    </tr>\n",
       "    <tr>\n",
       "      <th>3</th>\n",
       "      <td>2017-01-01 03:00:00</td>\n",
       "      <td>2.0</td>\n",
       "      <td>360.0</td>\n",
       "      <td>97.0</td>\n",
       "      <td>0.6</td>\n",
       "    </tr>\n",
       "    <tr>\n",
       "      <th>4</th>\n",
       "      <td>2017-01-01 04:00:00</td>\n",
       "      <td>3.0</td>\n",
       "      <td>230.0</td>\n",
       "      <td>97.0</td>\n",
       "      <td>0.6</td>\n",
       "    </tr>\n",
       "  </tbody>\n",
       "</table>\n",
       "</div>"
      ],
      "text/plain": [
       "              Datetime  Wind Spd (km/h)  Wind Dir (deg)  Rel Hum (%)  \\\n",
       "0  2017-01-01 00:00:00              8.0           360.0         89.0   \n",
       "1  2017-01-01 01:00:00              2.0           360.0         89.0   \n",
       "2  2017-01-01 02:00:00              4.0            80.0         96.0   \n",
       "3  2017-01-01 03:00:00              2.0           360.0         97.0   \n",
       "4  2017-01-01 04:00:00              3.0           230.0         97.0   \n",
       "\n",
       "   Temp (deg C)  \n",
       "0           1.2  \n",
       "1           0.9  \n",
       "2           1.2  \n",
       "3           0.6  \n",
       "4           0.6  "
      ]
     },
     "execution_count": 25,
     "metadata": {},
     "output_type": "execute_result"
    }
   ],
   "source": [
    "subset_columns = ['Datetime', 'Wind Spd (km/h)', 'Wind Dir (deg)', 'Rel Hum (%)', 'Temp (deg C)']\n",
    "weather_subset = weather_yvr[subset_columns]\n",
    "weather_subset.head()"
   ]
  },
  {
   "cell_type": "markdown",
   "metadata": {
    "slideshow": {
     "slide_type": "fragment"
    }
   },
   "source": [
    "`weather_subset` is a DataFrame containing only the specified columns of `weather_yvr`."
   ]
  },
  {
   "cell_type": "markdown",
   "metadata": {},
   "source": [
    "We can use subsets  to compute summary statistics just for specific columns of interest:"
   ]
  },
  {
   "cell_type": "code",
   "execution_count": 26,
   "metadata": {},
   "outputs": [
    {
     "data": {
      "text/plain": [
       "Rel Hum (%)     79.785225\n",
       "Temp (deg C)    10.249441\n",
       "dtype: float64"
      ]
     },
     "execution_count": 26,
     "metadata": {},
     "output_type": "execute_result"
    }
   ],
   "source": [
    "stats_columns = ['Rel Hum (%)', 'Temp (deg C)']\n",
    "weather_yvr[stats_columns].mean()"
   ]
  },
  {
   "cell_type": "markdown",
   "metadata": {
    "slideshow": {
     "slide_type": "slide"
    }
   },
   "source": [
    "If our list of columns is pretty short, it's often convenient to skip a step and define the list directly within the indexing operator: "
   ]
  },
  {
   "cell_type": "code",
   "execution_count": 27,
   "metadata": {
    "slideshow": {
     "slide_type": "fragment"
    }
   },
   "outputs": [
    {
     "data": {
      "text/html": [
       "<div>\n",
       "<style scoped>\n",
       "    .dataframe tbody tr th:only-of-type {\n",
       "        vertical-align: middle;\n",
       "    }\n",
       "\n",
       "    .dataframe tbody tr th {\n",
       "        vertical-align: top;\n",
       "    }\n",
       "\n",
       "    .dataframe thead th {\n",
       "        text-align: right;\n",
       "    }\n",
       "</style>\n",
       "<table border=\"1\" class=\"dataframe\">\n",
       "  <thead>\n",
       "    <tr style=\"text-align: right;\">\n",
       "      <th></th>\n",
       "      <th>Datetime</th>\n",
       "      <th>Temp (deg C)</th>\n",
       "    </tr>\n",
       "  </thead>\n",
       "  <tbody>\n",
       "    <tr>\n",
       "      <th>0</th>\n",
       "      <td>2017-01-01 00:00:00</td>\n",
       "      <td>1.2</td>\n",
       "    </tr>\n",
       "    <tr>\n",
       "      <th>1</th>\n",
       "      <td>2017-01-01 01:00:00</td>\n",
       "      <td>0.9</td>\n",
       "    </tr>\n",
       "    <tr>\n",
       "      <th>2</th>\n",
       "      <td>2017-01-01 02:00:00</td>\n",
       "      <td>1.2</td>\n",
       "    </tr>\n",
       "    <tr>\n",
       "      <th>3</th>\n",
       "      <td>2017-01-01 03:00:00</td>\n",
       "      <td>0.6</td>\n",
       "    </tr>\n",
       "    <tr>\n",
       "      <th>4</th>\n",
       "      <td>2017-01-01 04:00:00</td>\n",
       "      <td>0.6</td>\n",
       "    </tr>\n",
       "  </tbody>\n",
       "</table>\n",
       "</div>"
      ],
      "text/plain": [
       "              Datetime  Temp (deg C)\n",
       "0  2017-01-01 00:00:00           1.2\n",
       "1  2017-01-01 01:00:00           0.9\n",
       "2  2017-01-01 02:00:00           1.2\n",
       "3  2017-01-01 03:00:00           0.6\n",
       "4  2017-01-01 04:00:00           0.6"
      ]
     },
     "execution_count": 27,
     "metadata": {},
     "output_type": "execute_result"
    }
   ],
   "source": [
    "weather_yvr[['Datetime', 'Temp (deg C)']].head()"
   ]
  },
  {
   "cell_type": "markdown",
   "metadata": {
    "slideshow": {
     "slide_type": "fragment"
    }
   },
   "source": [
    "Note the double square brackets!\n",
    "- These are required because we need both:\n",
    "  - A pair of square brackets to extract the subset, AND\n",
    "  - A pair of square brackets to define the list of columns to select."
   ]
  },
  {
   "cell_type": "markdown",
   "metadata": {
    "slideshow": {
     "slide_type": "fragment"
    }
   },
   "source": [
    "What happens if we forget and just use a single pair of square brackets?\n",
    "- It doesn't work!\n",
    "- This is a very easy mistake to make, especially when you're coding on the fly in Jupyter\n",
    "- For more details on why forgetting the second square brackets causes an error, check out the section \"Interlude: Forgetting the Double Square Brackets\" in Lesson 3"
   ]
  },
  {
   "cell_type": "markdown",
   "metadata": {
    "slideshow": {
     "slide_type": "slide"
    }
   },
   "source": [
    "# Saving to CSV\n",
    "\n",
    "We can save a DataFrame to a CSV file using the `to_csv` method.\n",
    "\n",
    "- When you first start working with `to_csv`, it's easy to accidentally overwrite existing files, so you might want to first make a copy of your data folder, as a backup.\n",
    "- By default, the `to_csv` method will save the DataFrame's index as an additional column in the CSV file. To turn this off, we use the keyword argument `index=False`."
   ]
  },
  {
   "cell_type": "markdown",
   "metadata": {
    "slideshow": {
     "slide_type": "fragment"
    }
   },
   "source": [
    "Let's save the data from the columns `'Datetime'`, `'Temp (deg C)'`, and the new `'Temp (deg F)'` to a CSV file:"
   ]
  },
  {
   "cell_type": "code",
   "execution_count": 28,
   "metadata": {
    "slideshow": {
     "slide_type": "fragment"
    }
   },
   "outputs": [],
   "source": [
    "temp_df = weather_yvr[['Datetime', 'Temp (deg C)', 'Temp (deg F)']]\n",
    "\n",
    "temp_df.to_csv('data/temperatures_YVR.csv', index=False)"
   ]
  },
  {
   "cell_type": "markdown",
   "metadata": {
    "slideshow": {
     "slide_type": "fragment"
    }
   },
   "source": [
    "Check out your new file in the JupyterLab CSV viewer!"
   ]
  },
  {
   "cell_type": "markdown",
   "metadata": {
    "slideshow": {
     "slide_type": "slide"
    }
   },
   "source": [
    "# Categorical Data\n",
    "\n",
    "What about text data like the `'Conditions'` column?"
   ]
  },
  {
   "cell_type": "code",
   "execution_count": 29,
   "metadata": {
    "slideshow": {
     "slide_type": "-"
    }
   },
   "outputs": [
    {
     "data": {
      "text/plain": [
       "0                 NaN\n",
       "1              Cloudy\n",
       "2              Cloudy\n",
       "3              Cloudy\n",
       "4              Cloudy\n",
       "5              Cloudy\n",
       "6              Cloudy\n",
       "7              Cloudy\n",
       "8              Cloudy\n",
       "9              Cloudy\n",
       "10             Cloudy\n",
       "11             Cloudy\n",
       "12             Cloudy\n",
       "13             Cloudy\n",
       "14             Cloudy\n",
       "15             Cloudy\n",
       "16      Mostly Cloudy\n",
       "17      Mostly Cloudy\n",
       "18      Mostly Cloudy\n",
       "19      Mostly Cloudy\n",
       "20      Mostly Cloudy\n",
       "21      Mostly Cloudy\n",
       "22      Mostly Cloudy\n",
       "23      Mostly Cloudy\n",
       "24      Mostly Cloudy\n",
       "25       Mainly Clear\n",
       "26       Mainly Clear\n",
       "27       Mainly Clear\n",
       "28              Clear\n",
       "29              Clear\n",
       "            ...      \n",
       "8730    Mostly Cloudy\n",
       "8731    Mostly Cloudy\n",
       "8732    Mostly Cloudy\n",
       "8733    Mostly Cloudy\n",
       "8734     Mainly Clear\n",
       "8735     Mainly Clear\n",
       "8736     Mainly Clear\n",
       "8737     Mainly Clear\n",
       "8738     Mainly Clear\n",
       "8739     Mainly Clear\n",
       "8740            Clear\n",
       "8741            Clear\n",
       "8742            Clear\n",
       "8743     Freezing Fog\n",
       "8744     Freezing Fog\n",
       "8745     Freezing Fog\n",
       "8746    Mostly Cloudy\n",
       "8747    Mostly Cloudy\n",
       "8748    Mostly Cloudy\n",
       "8749     Mainly Clear\n",
       "8750     Mainly Clear\n",
       "8751     Mainly Clear\n",
       "8752           Cloudy\n",
       "8753           Cloudy\n",
       "8754           Cloudy\n",
       "8755     Mainly Clear\n",
       "8756     Mainly Clear\n",
       "8757     Mainly Clear\n",
       "8758     Mainly Clear\n",
       "8759     Mainly Clear\n",
       "Name: Conditions, Length: 8760, dtype: object"
      ]
     },
     "execution_count": 29,
     "metadata": {},
     "output_type": "execute_result"
    }
   ],
   "source": [
    "weather_yvr['Conditions']"
   ]
  },
  {
   "cell_type": "markdown",
   "metadata": {
    "slideshow": {
     "slide_type": "fragment"
    }
   },
   "source": [
    "This column consists of categories, with many repeated values.\n",
    "- What are the unique values in the Series?\n",
    "- How often does each value occur?\n",
    "- What are the most common values?"
   ]
  },
  {
   "cell_type": "markdown",
   "metadata": {
    "slideshow": {
     "slide_type": "fragment"
    }
   },
   "source": [
    "We can answer these questions with the `unique`, `nunique`, and `value_counts` methods.\n",
    "- These methods are only applicable to Series, not DataFrames."
   ]
  },
  {
   "cell_type": "markdown",
   "metadata": {
    "slideshow": {
     "slide_type": "slide"
    }
   },
   "source": [
    "`value_counts` is a very handy method to quickly summarize a Series of text data and find the most common values:"
   ]
  },
  {
   "cell_type": "code",
   "execution_count": 30,
   "metadata": {
    "slideshow": {
     "slide_type": "fragment"
    }
   },
   "outputs": [
    {
     "data": {
      "text/plain": [
       "Cloudy                                          2248\n",
       "Mostly Cloudy                                   1822\n",
       "Mainly Clear                                    1799\n",
       "Clear                                           1077\n",
       "Rain                                             997\n",
       "Rain Showers                                     237\n",
       "Fog                                              136\n",
       "Rain,Fog                                         132\n",
       "Snow                                              80\n",
       "Drizzle,Fog                                       40\n",
       "Moderate Rain,Fog                                 36\n",
       "Moderate Rain                                     31\n",
       "Drizzle                                           20\n",
       "Rain,Drizzle,Fog                                  15\n",
       "Snow Showers                                      14\n",
       "Rain,Snow                                         12\n",
       "Snow,Fog                                           8\n",
       "Freezing Fog                                       7\n",
       "Rain,Snow,Fog                                      7\n",
       "Rain,Drizzle                                       7\n",
       "Moderate Snow                                      6\n",
       "Rain Showers,Fog                                   6\n",
       "Freezing Rain,Fog                                  4\n",
       "Rain Showers,Snow Pellets                          2\n",
       "Heavy Rain Showers,Moderate Snow Pellets,Fog       2\n",
       "Rain Showers,Snow Showers                          1\n",
       "Ice Pellets                                        1\n",
       "Rain Showers,Snow Showers,Fog                      1\n",
       "Moderate Rain,Snow,Fog                             1\n",
       "Moderate Rain,Drizzle,Fog                          1\n",
       "Moderate Rain Showers                              1\n",
       "Rain,Ice Pellets                                   1\n",
       "Heavy Rain,Moderate Hail,Fog                       1\n",
       "Moderate Rain,Drizzle                              1\n",
       "Snow,Ice Pellets,Fog                               1\n",
       "Heavy Rain,Fog                                     1\n",
       "Moderate Snow,Fog                                  1\n",
       "Name: Conditions, dtype: int64"
      ]
     },
     "execution_count": 30,
     "metadata": {},
     "output_type": "execute_result"
    }
   ],
   "source": [
    "weather_yvr['Conditions'].value_counts()"
   ]
  },
  {
   "cell_type": "markdown",
   "metadata": {
    "slideshow": {
     "slide_type": "skip"
    }
   },
   "source": [
    "We can use the `unique` method to list the unique values:"
   ]
  },
  {
   "cell_type": "code",
   "execution_count": 31,
   "metadata": {
    "scrolled": true,
    "slideshow": {
     "slide_type": "skip"
    }
   },
   "outputs": [
    {
     "data": {
      "text/plain": [
       "array([nan, 'Cloudy', 'Mostly Cloudy', 'Mainly Clear', 'Clear', 'Rain',\n",
       "       'Rain,Fog', 'Rain,Drizzle,Fog', 'Rain Showers',\n",
       "       'Moderate Rain,Fog', 'Moderate Rain', 'Snow', 'Moderate Snow',\n",
       "       'Snow,Fog', 'Rain,Snow,Fog', 'Snow,Ice Pellets,Fog', 'Rain,Snow',\n",
       "       'Ice Pellets', 'Snow Showers', 'Freezing Rain,Fog',\n",
       "       'Heavy Rain,Fog', 'Drizzle,Fog', 'Rain Showers,Fog',\n",
       "       'Rain,Ice Pellets', 'Rain Showers,Snow Showers,Fog',\n",
       "       'Rain Showers,Snow Pellets', 'Rain Showers,Snow Showers',\n",
       "       'Drizzle', 'Moderate Rain Showers', 'Moderate Rain,Drizzle',\n",
       "       'Rain,Drizzle', 'Fog',\n",
       "       'Heavy Rain Showers,Moderate Snow Pellets,Fog',\n",
       "       'Heavy Rain,Moderate Hail,Fog', 'Moderate Rain,Drizzle,Fog',\n",
       "       'Freezing Fog', 'Moderate Rain,Snow,Fog', 'Moderate Snow,Fog'],\n",
       "      dtype=object)"
      ]
     },
     "execution_count": 31,
     "metadata": {},
     "output_type": "execute_result"
    }
   ],
   "source": [
    "weather_yvr['Conditions'].unique()"
   ]
  },
  {
   "cell_type": "markdown",
   "metadata": {
    "slideshow": {
     "slide_type": "skip"
    }
   },
   "source": [
    "We can use the `nunique` method to find the number of unique values:"
   ]
  },
  {
   "cell_type": "code",
   "execution_count": 32,
   "metadata": {
    "slideshow": {
     "slide_type": "skip"
    }
   },
   "outputs": [
    {
     "data": {
      "text/plain": [
       "37"
      ]
     },
     "execution_count": 32,
     "metadata": {},
     "output_type": "execute_result"
    }
   ],
   "source": [
    "weather_yvr['Conditions'].nunique()"
   ]
  },
  {
   "cell_type": "markdown",
   "metadata": {
    "slideshow": {
     "slide_type": "slide"
    }
   },
   "source": [
    "# Lesson 1 Recap\n",
    "\n",
    "### Importing `pandas` Library\n",
    "```\n",
    "import pandas as pd\n",
    "```\n",
    "\n",
    "### DataFrames and Series\n",
    "\n",
    "Data in `pandas` is organized into DataFrames and Series.\n",
    "\n",
    "- **DataFrame:** 2-dimensional array, like a table in a spreadsheet\n",
    "  - The rows are axis 0\n",
    "  - The columns are axis 1\n",
    "- **Series:** 1-dimensional array, like a single column or row in a spreadsheet\n",
    "  - Each individual column or row of a DataFrame is represented as a Series\n",
    "\n",
    "### Reading a CSV File\n",
    "\n",
    "To read a CSV file and store it as a DataFrame variable:\n",
    "```\n",
    "df = pd.read_csv('some_cool_data.csv')\n",
    "```\n",
    "\n",
    "Missing data in a DataFrame or Series is represented as `NaN` (\"not a number\").\n",
    "\n",
    "### Saving to a CSV File\n",
    "\n",
    "To save a DataFrame to a CSV file: \n",
    "```\n",
    "df.to_csv('cool_output.csv', index=False)\n",
    "```\n",
    "- To include the DataFrame's index as a column in the CSV file, omit the `index=False` keyword argument.\n",
    "\n",
    "### Quick and Easy Summaries of a DataFrame\n",
    "\n",
    "|||\n",
    "---|----\n",
    "**Useful Attributes** |\n",
    "Number of rows and columns (rows first, columns second) | `df.shape` \n",
    "Names and data types of each column |  `df.dtypes` \n",
    "Just the names of each column | `df.columns` \n",
    "**Rows at a Glance** |\n",
    "First `n` rows (default 5) |`df.head(n)`\n",
    "Last `n` rows (default 5) | `df.tail(n)`\n",
    "A random sampling of `n` rows (default 1) | `df.sample(n)`\n",
    "\n",
    "\n",
    "#### Summary Statistics\n",
    "\n",
    "Full set of summary statistics (min, max, mean, standard deviation, etc.) for each numerical column of a DataFrame:\n",
    "```\n",
    "df.describe()\n",
    "```\n",
    "\n",
    "Mean value of each column:\n",
    "```\n",
    "df.mean()\n",
    "```\n",
    "\n",
    "And similarly for other summary statistics: `df.min()`, `df.max()`, `df.median()`, `df.std()`\n",
    "\n",
    "### Working with DataFrame Columns\n",
    "\n",
    "#### Single Columns\n",
    "\n",
    "Each column of a DataFrame is a Series.\n",
    "```\n",
    "series_X = df['X']\n",
    "```\n",
    "\n",
    "Most DataFrame methods can be applied to a Series, for example:\n",
    "- `df['X'].head()`\n",
    "- `df['X'].max()`\n",
    "\n",
    "Basic calculations with a Series and adding a new column to a DataFrame: \n",
    "```\n",
    "df['Double X'] = 2 * df['X']\n",
    "```\n",
    "\n",
    "#### Multiple Columns\n",
    "\n",
    "Use a list of column names to select several columns of a DataFrame, in a specified order:\n",
    "```\n",
    "df_subset = df[['E', 'A', 'C']]\n",
    "```\n",
    "\n",
    "### Categorical Data\n",
    "\n",
    "For a column `df['Category']` of categorical data, some useful summary methods are:\n",
    "\n",
    "|||\n",
    "---|---\n",
    "Unique values | `df['Category'].unique()`\n",
    "Number of unique values | `df['Category'].nunique()`\n",
    "Counts of each unique value | `df['Category'].value_counts()`\n",
    "\n",
    "*Note: These methods can only be applied to a Series (not a DataFrame).*"
   ]
  },
  {
   "cell_type": "markdown",
   "metadata": {
    "slideshow": {
     "slide_type": "slide"
    }
   },
   "source": [
    "# Exercise 1.2\n",
    "\n",
    "If you haven't already, read the file `'data/weather_airports_24hr_snapshot.csv'` into a new DataFrame `weather_all`.\n",
    "\n",
    "a) What are the warmest and coldest temperatures in this data?\n",
    "\n",
    "b) How many unique station names are in this data? Display a list of the unique names.\n",
    "\n",
    "c) What is the most common weather category in the `'Conditions'` column? How many unique categories are there?\n",
    "\n",
    "d) Add a column with the wind speed in miles per hour (multiply the wind speed in km/h by 0.62137). Save the data from columns `'Station Name'`, `'Datetime (Local Standard)'`, `'Wind Spd (km/h)'`, and your new column of wind speed in miles per hour, to a CSV file."
   ]
  },
  {
   "cell_type": "markdown",
   "metadata": {
    "slideshow": {
     "slide_type": "-"
    }
   },
   "source": [
    "##### Bonus exercises\n",
    "\n",
    "Create a variable `conditions` corresponding to the `'Conditions'` column of `weather_all`. We'll use this variable in each of the following exercises.\n",
    "\n",
    "e) What type of object is returned by `conditions.value_counts()`? Can you think of a method that could be applied to this output so that it returns only the counts for the top `n` values? How about the bottom `n` values?\n",
    "- Display only the counts for the 5 most common weather categories in `conditions`\n",
    "- Display only the counts for the 5 least common weather categories in `conditions`"
   ]
  },
  {
   "cell_type": "markdown",
   "metadata": {
    "slideshow": {
     "slide_type": "-"
    }
   },
   "source": [
    "f) Use `conditions.value_counts?` to check out the documentation for the `value_counts` method. Experiment with the `normalize`, `sort` and `dropna` keyword arguments. How does the output change when you change these arguments?"
   ]
  },
  {
   "cell_type": "markdown",
   "metadata": {
    "slideshow": {
     "slide_type": "-"
    }
   },
   "source": [
    "g) `pandas` Series have a few *accessors*, which are attributes that [act like an interface to additional methods](https://realpython.com/python-pandas-tricks/#3-take-advantage-of-accessor-methods). With a Series of text data, like `conditions`, the `str` accessor allows you to apply string methods such as `upper`, `lower`, `strip`, `replace`, etc. to all the items in the Series.\n",
    "\n",
    "- Check out some of the documentation with `conditions.str?` and `conditions.str.upper?`. \n",
    "- Create a new Series with the weather categories converted to upper case.\n",
    "- Create a new Series with any instance of the string `'Snow'` in a weather category replaced with the string `'SNOW!!!'`.\n",
    "- For both of these new Series, use `value_counts` or `unique` methods to verify that the output is what you were expecting."
   ]
  },
  {
   "cell_type": "markdown",
   "metadata": {
    "slideshow": {
     "slide_type": "slide"
    }
   },
   "source": [
    "---\n",
    "If you haven't already, read the file `'data/weather_airports_24hr_snapshot.csv'` into a new DataFrame `weather_all`.\n",
    "\n",
    "a) What are the warmest and coldest temperatures in this data?"
   ]
  },
  {
   "cell_type": "code",
   "execution_count": null,
   "metadata": {
    "scrolled": true,
    "slideshow": {
     "slide_type": "-"
    }
   },
   "outputs": [],
   "source": []
  },
  {
   "cell_type": "code",
   "execution_count": null,
   "metadata": {
    "slideshow": {
     "slide_type": "-"
    }
   },
   "outputs": [],
   "source": []
  },
  {
   "cell_type": "code",
   "execution_count": null,
   "metadata": {
    "slideshow": {
     "slide_type": "-"
    }
   },
   "outputs": [],
   "source": []
  },
  {
   "cell_type": "markdown",
   "metadata": {
    "slideshow": {
     "slide_type": "slide"
    }
   },
   "source": [
    "b) How many unique station names are in this data? Display a list of the unique names."
   ]
  },
  {
   "cell_type": "code",
   "execution_count": null,
   "metadata": {
    "slideshow": {
     "slide_type": "-"
    }
   },
   "outputs": [],
   "source": []
  },
  {
   "cell_type": "code",
   "execution_count": null,
   "metadata": {
    "slideshow": {
     "slide_type": "-"
    }
   },
   "outputs": [],
   "source": []
  },
  {
   "cell_type": "code",
   "execution_count": null,
   "metadata": {
    "slideshow": {
     "slide_type": "-"
    }
   },
   "outputs": [],
   "source": []
  },
  {
   "cell_type": "markdown",
   "metadata": {
    "slideshow": {
     "slide_type": "slide"
    }
   },
   "source": [
    "c) What is the most common weather category in the `'Conditions'` column? How many unique categories are there?"
   ]
  },
  {
   "cell_type": "code",
   "execution_count": null,
   "metadata": {
    "slideshow": {
     "slide_type": "-"
    }
   },
   "outputs": [],
   "source": []
  },
  {
   "cell_type": "code",
   "execution_count": null,
   "metadata": {
    "slideshow": {
     "slide_type": "-"
    }
   },
   "outputs": [],
   "source": []
  },
  {
   "cell_type": "code",
   "execution_count": null,
   "metadata": {
    "slideshow": {
     "slide_type": "-"
    }
   },
   "outputs": [],
   "source": []
  },
  {
   "cell_type": "markdown",
   "metadata": {
    "slideshow": {
     "slide_type": "slide"
    }
   },
   "source": [
    "d) Add a column with the wind speed in miles per hour (multiply the wind speed in km/h by 0.62137) and save the DataFrame to a new CSV file."
   ]
  },
  {
   "cell_type": "code",
   "execution_count": null,
   "metadata": {
    "slideshow": {
     "slide_type": "-"
    }
   },
   "outputs": [],
   "source": []
  },
  {
   "cell_type": "code",
   "execution_count": null,
   "metadata": {
    "slideshow": {
     "slide_type": "-"
    }
   },
   "outputs": [],
   "source": []
  },
  {
   "cell_type": "code",
   "execution_count": null,
   "metadata": {
    "slideshow": {
     "slide_type": "-"
    }
   },
   "outputs": [],
   "source": []
  }
 ],
 "metadata": {
  "celltoolbar": "Slideshow",
  "kernelspec": {
   "display_name": "Python [conda root]",
   "language": "python",
   "name": "conda-root-py"
  },
  "language_info": {
   "codemirror_mode": {
    "name": "ipython",
    "version": 3
   },
   "file_extension": ".py",
   "mimetype": "text/x-python",
   "name": "python",
   "nbconvert_exporter": "python",
   "pygments_lexer": "ipython3",
   "version": "3.6.4"
  },
  "livereveal": {
   "scroll": true,
   "theme": "solarized",
   "transition": "none"
  }
 },
 "nbformat": 4,
 "nbformat_minor": 2
}
