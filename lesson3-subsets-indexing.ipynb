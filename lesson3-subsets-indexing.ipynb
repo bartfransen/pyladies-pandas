{
 "cells": [
  {
   "cell_type": "markdown",
   "metadata": {
    "slideshow": {
     "slide_type": "slide"
    }
   },
   "source": [
    "# Lesson 3: Subsets and Indexing\n",
    "\n",
    "- We often need to work with subsets of our data, such as specific rows/columns, or values matching some criteria, in order to:\n",
    "  - Analyze and/or plot subsets individually\n",
    "  - Investigate messy and/or suspect data\n",
    "  - Explore potential outliers\n",
    "  - Update specific values in our data, such as correcting spelling mistakes or filling missing data"
   ]
  },
  {
   "cell_type": "markdown",
   "metadata": {
    "slideshow": {
     "slide_type": "fragment"
    }
   },
   "source": [
    "- We've seen a couple of examples of subsets already:\n",
    "  - Selecting individual columns of a DataFrame\n",
    "  - Selecting rows of a DataFrame based on some criteria"
   ]
  },
  {
   "cell_type": "markdown",
   "metadata": {
    "slideshow": {
     "slide_type": "skip"
    }
   },
   "source": [
    "# Initial Setup"
   ]
  },
  {
   "cell_type": "code",
   "execution_count": null,
   "metadata": {
    "slideshow": {
     "slide_type": "skip"
    }
   },
   "outputs": [],
   "source": [
    "import pandas as pd\n",
    "\n",
    "%matplotlib inline"
   ]
  },
  {
   "cell_type": "markdown",
   "metadata": {
    "slideshow": {
     "slide_type": "slide"
    }
   },
   "source": [
    "# Selection Methods\n",
    "\n",
    "When working with Python objects such as lists or dictionaries, we can use square brackets `[]` as an **indexing operator** to select item(s) within the object, for example:\n",
    "- `first_five = my_list[:5]`\n",
    "- `vancouver_population = populations_dict['Vancouver']`"
   ]
  },
  {
   "cell_type": "markdown",
   "metadata": {
    "slideshow": {
     "slide_type": "fragment"
    }
   },
   "source": [
    "With `pandas` DataFrames and Series, we still use the indexing operator to select subsets, but it can be applied in many different ways\n",
    "- `pandas` provides very flexible and powerful options for selecting subsets...\n",
    "- ... but keeping track of them all can get confusing!"
   ]
  },
  {
   "cell_type": "markdown",
   "metadata": {
    "slideshow": {
     "slide_type": "slide"
    }
   },
   "source": [
    "There are three main ways of selecting subsets of a DataFrame (or Series):\n",
    "<ol>\n",
    "    <li>Using only square brackets `[]`</li>\n",
    "    <li>Positional indexing with `.iloc[]`</li>\n",
    "    <li>Label-based indexing with `.loc[]`</li>\n",
    "</ol>"
   ]
  },
  {
   "cell_type": "markdown",
   "metadata": {
    "slideshow": {
     "slide_type": "fragment"
    }
   },
   "source": [
    "We've already used the first approach in the previous lessons. Let's review and then discuss the other two options.\n",
    "- We'll focus on DataFrames here, but the concepts and syntax are similar for Series"
   ]
  },
  {
   "cell_type": "markdown",
   "metadata": {
    "slideshow": {
     "slide_type": "slide"
    }
   },
   "source": [
    "# Square Brackets Only\n",
    "\n",
    "With this option, we can select a subset of a DataFrame's rows **or** a subset of a DataFrame's columns, but we can't select both rows and columns at once\n",
    "- `pandas` will figure out from the context whether you're selecting rows or columns\n",
    "- The types of subsets we can select with this approach are quite limited, but it's a handy shortcut for some very common types of subsets"
   ]
  },
  {
   "cell_type": "markdown",
   "metadata": {
    "slideshow": {
     "slide_type": "fragment"
    }
   },
   "source": [
    "Let's return to the weather data from Lesson 2 and work with the aggregated station mean values:"
   ]
  },
  {
   "cell_type": "code",
   "execution_count": 3,
   "metadata": {
    "slideshow": {
     "slide_type": "-"
    }
   },
   "outputs": [
    {
     "data": {
      "text/html": [
       "<div>\n",
       "<style scoped>\n",
       "    .dataframe tbody tr th:only-of-type {\n",
       "        vertical-align: middle;\n",
       "    }\n",
       "\n",
       "    .dataframe tbody tr th {\n",
       "        vertical-align: top;\n",
       "    }\n",
       "\n",
       "    .dataframe thead th {\n",
       "        text-align: right;\n",
       "    }\n",
       "</style>\n",
       "<table border=\"1\" class=\"dataframe\">\n",
       "  <thead>\n",
       "    <tr style=\"text-align: right;\">\n",
       "      <th></th>\n",
       "      <th>Temp (deg C)</th>\n",
       "      <th>Dew Point Temp (deg C)</th>\n",
       "      <th>Rel Hum (%)</th>\n",
       "      <th>Wind Dir (deg)</th>\n",
       "      <th>Wind Spd (km/h)</th>\n",
       "      <th>Visibility (km)</th>\n",
       "      <th>Pressure (kPa)</th>\n",
       "      <th>Hmdx</th>\n",
       "      <th>Wind Chill</th>\n",
       "    </tr>\n",
       "    <tr>\n",
       "      <th>Station Name</th>\n",
       "      <th></th>\n",
       "      <th></th>\n",
       "      <th></th>\n",
       "      <th></th>\n",
       "      <th></th>\n",
       "      <th></th>\n",
       "      <th></th>\n",
       "      <th></th>\n",
       "      <th></th>\n",
       "    </tr>\n",
       "  </thead>\n",
       "  <tbody>\n",
       "    <tr>\n",
       "      <th>CALGARY</th>\n",
       "      <td>18.054167</td>\n",
       "      <td>4.708333</td>\n",
       "      <td>43.875000</td>\n",
       "      <td>172.083333</td>\n",
       "      <td>10.625000</td>\n",
       "      <td>45.9375</td>\n",
       "      <td>88.990833</td>\n",
       "      <td>25.0</td>\n",
       "      <td>NaN</td>\n",
       "    </tr>\n",
       "    <tr>\n",
       "      <th>CHARLOTTETOWN</th>\n",
       "      <td>8.637500</td>\n",
       "      <td>0.058333</td>\n",
       "      <td>59.666667</td>\n",
       "      <td>212.916667</td>\n",
       "      <td>12.500000</td>\n",
       "      <td>24.1000</td>\n",
       "      <td>101.363750</td>\n",
       "      <td>NaN</td>\n",
       "      <td>-3.0</td>\n",
       "    </tr>\n",
       "    <tr>\n",
       "      <th>EDMONTON</th>\n",
       "      <td>17.558333</td>\n",
       "      <td>5.037500</td>\n",
       "      <td>48.791667</td>\n",
       "      <td>208.333333</td>\n",
       "      <td>8.083333</td>\n",
       "      <td>24.1000</td>\n",
       "      <td>92.950833</td>\n",
       "      <td>26.0</td>\n",
       "      <td>NaN</td>\n",
       "    </tr>\n",
       "    <tr>\n",
       "      <th>FREDERICTON</th>\n",
       "      <td>12.373913</td>\n",
       "      <td>0.086957</td>\n",
       "      <td>48.608696</td>\n",
       "      <td>247.222222</td>\n",
       "      <td>14.043478</td>\n",
       "      <td>16.1000</td>\n",
       "      <td>101.679565</td>\n",
       "      <td>NaN</td>\n",
       "      <td>NaN</td>\n",
       "    </tr>\n",
       "    <tr>\n",
       "      <th>HALIFAX</th>\n",
       "      <td>12.237500</td>\n",
       "      <td>-1.416667</td>\n",
       "      <td>40.041667</td>\n",
       "      <td>178.333333</td>\n",
       "      <td>15.500000</td>\n",
       "      <td>24.1000</td>\n",
       "      <td>100.328333</td>\n",
       "      <td>NaN</td>\n",
       "      <td>NaN</td>\n",
       "    </tr>\n",
       "  </tbody>\n",
       "</table>\n",
       "</div>"
      ],
      "text/plain": [
       "               Temp (deg C)  Dew Point Temp (deg C)  Rel Hum (%)  \\\n",
       "Station Name                                                       \n",
       "CALGARY           18.054167                4.708333    43.875000   \n",
       "CHARLOTTETOWN      8.637500                0.058333    59.666667   \n",
       "EDMONTON          17.558333                5.037500    48.791667   \n",
       "FREDERICTON       12.373913                0.086957    48.608696   \n",
       "HALIFAX           12.237500               -1.416667    40.041667   \n",
       "\n",
       "               Wind Dir (deg)  Wind Spd (km/h)  Visibility (km)  \\\n",
       "Station Name                                                      \n",
       "CALGARY            172.083333        10.625000          45.9375   \n",
       "CHARLOTTETOWN      212.916667        12.500000          24.1000   \n",
       "EDMONTON           208.333333         8.083333          24.1000   \n",
       "FREDERICTON        247.222222        14.043478          16.1000   \n",
       "HALIFAX            178.333333        15.500000          24.1000   \n",
       "\n",
       "               Pressure (kPa)  Hmdx  Wind Chill  \n",
       "Station Name                                     \n",
       "CALGARY             88.990833  25.0         NaN  \n",
       "CHARLOTTETOWN      101.363750   NaN        -3.0  \n",
       "EDMONTON            92.950833  26.0         NaN  \n",
       "FREDERICTON        101.679565   NaN         NaN  \n",
       "HALIFAX            100.328333   NaN         NaN  "
      ]
     },
     "execution_count": 3,
     "metadata": {},
     "output_type": "execute_result"
    }
   ],
   "source": [
    "weather_all = pd.read_csv('data/weather_airports_24hr_snapshot.csv')\n",
    "weather_mean = weather_all.groupby('Station Name').mean()\n",
    "weather_mean.head()"
   ]
  },
  {
   "cell_type": "markdown",
   "metadata": {
    "slideshow": {
     "slide_type": "slide"
    }
   },
   "source": [
    "## a) Row Subsets with Boolean Series\n",
    "\n",
    "As we saw in the previous lesson, we can select a subset of a DataFrame's rows by filtering with a Boolean Series:"
   ]
  },
  {
   "cell_type": "code",
   "execution_count": 4,
   "metadata": {
    "slideshow": {
     "slide_type": "fragment"
    }
   },
   "outputs": [
    {
     "data": {
      "text/html": [
       "<div>\n",
       "<style scoped>\n",
       "    .dataframe tbody tr th:only-of-type {\n",
       "        vertical-align: middle;\n",
       "    }\n",
       "\n",
       "    .dataframe tbody tr th {\n",
       "        vertical-align: top;\n",
       "    }\n",
       "\n",
       "    .dataframe thead th {\n",
       "        text-align: right;\n",
       "    }\n",
       "</style>\n",
       "<table border=\"1\" class=\"dataframe\">\n",
       "  <thead>\n",
       "    <tr style=\"text-align: right;\">\n",
       "      <th></th>\n",
       "      <th>Temp (deg C)</th>\n",
       "      <th>Dew Point Temp (deg C)</th>\n",
       "      <th>Rel Hum (%)</th>\n",
       "      <th>Wind Dir (deg)</th>\n",
       "      <th>Wind Spd (km/h)</th>\n",
       "      <th>Visibility (km)</th>\n",
       "      <th>Pressure (kPa)</th>\n",
       "      <th>Hmdx</th>\n",
       "      <th>Wind Chill</th>\n",
       "    </tr>\n",
       "    <tr>\n",
       "      <th>Station Name</th>\n",
       "      <th></th>\n",
       "      <th></th>\n",
       "      <th></th>\n",
       "      <th></th>\n",
       "      <th></th>\n",
       "      <th></th>\n",
       "      <th></th>\n",
       "      <th></th>\n",
       "      <th></th>\n",
       "    </tr>\n",
       "  </thead>\n",
       "  <tbody>\n",
       "    <tr>\n",
       "      <th>IQALUIT</th>\n",
       "      <td>-5.350000</td>\n",
       "      <td>-8.695833</td>\n",
       "      <td>77.625000</td>\n",
       "      <td>329.583333</td>\n",
       "      <td>29.625000</td>\n",
       "      <td>23.670833</td>\n",
       "      <td>100.540417</td>\n",
       "      <td>NaN</td>\n",
       "      <td>-13.125</td>\n",
       "    </tr>\n",
       "    <tr>\n",
       "      <th>ST. JOHN'S</th>\n",
       "      <td>4.862500</td>\n",
       "      <td>0.850000</td>\n",
       "      <td>75.916667</td>\n",
       "      <td>195.000000</td>\n",
       "      <td>23.625000</td>\n",
       "      <td>24.100000</td>\n",
       "      <td>99.532500</td>\n",
       "      <td>NaN</td>\n",
       "      <td>NaN</td>\n",
       "    </tr>\n",
       "    <tr>\n",
       "      <th>WHITEHORSE</th>\n",
       "      <td>9.183333</td>\n",
       "      <td>0.533333</td>\n",
       "      <td>57.125000</td>\n",
       "      <td>162.916667</td>\n",
       "      <td>20.333333</td>\n",
       "      <td>57.683333</td>\n",
       "      <td>92.225000</td>\n",
       "      <td>NaN</td>\n",
       "      <td>NaN</td>\n",
       "    </tr>\n",
       "    <tr>\n",
       "      <th>YELLOWKNIFE</th>\n",
       "      <td>15.400000</td>\n",
       "      <td>3.008333</td>\n",
       "      <td>45.041667</td>\n",
       "      <td>158.750000</td>\n",
       "      <td>20.041667</td>\n",
       "      <td>24.100000</td>\n",
       "      <td>98.066667</td>\n",
       "      <td>NaN</td>\n",
       "      <td>NaN</td>\n",
       "    </tr>\n",
       "  </tbody>\n",
       "</table>\n",
       "</div>"
      ],
      "text/plain": [
       "              Temp (deg C)  Dew Point Temp (deg C)  Rel Hum (%)  \\\n",
       "Station Name                                                      \n",
       "IQALUIT          -5.350000               -8.695833    77.625000   \n",
       "ST. JOHN'S        4.862500                0.850000    75.916667   \n",
       "WHITEHORSE        9.183333                0.533333    57.125000   \n",
       "YELLOWKNIFE      15.400000                3.008333    45.041667   \n",
       "\n",
       "              Wind Dir (deg)  Wind Spd (km/h)  Visibility (km)  \\\n",
       "Station Name                                                     \n",
       "IQALUIT           329.583333        29.625000        23.670833   \n",
       "ST. JOHN'S        195.000000        23.625000        24.100000   \n",
       "WHITEHORSE        162.916667        20.333333        57.683333   \n",
       "YELLOWKNIFE       158.750000        20.041667        24.100000   \n",
       "\n",
       "              Pressure (kPa)  Hmdx  Wind Chill  \n",
       "Station Name                                    \n",
       "IQALUIT           100.540417   NaN     -13.125  \n",
       "ST. JOHN'S         99.532500   NaN         NaN  \n",
       "WHITEHORSE         92.225000   NaN         NaN  \n",
       "YELLOWKNIFE        98.066667   NaN         NaN  "
      ]
     },
     "execution_count": 4,
     "metadata": {},
     "output_type": "execute_result"
    }
   ],
   "source": [
    "windy = weather_mean['Wind Spd (km/h)'] > 20\n",
    "weather_mean[windy]"
   ]
  },
  {
   "cell_type": "markdown",
   "metadata": {
    "slideshow": {
     "slide_type": "fragment"
    }
   },
   "source": [
    "This subset contains all of the columns of `weather_mean`, but only the rows for which the value of the Series `windy` is `True`"
   ]
  },
  {
   "cell_type": "markdown",
   "metadata": {
    "slideshow": {
     "slide_type": "slide"
    }
   },
   "source": [
    "## b) Column Subsets\n",
    "\n",
    "### Single Columns\n",
    "\n",
    "Use a column's name within square brackets to select a specific column of a DataFrame:"
   ]
  },
  {
   "cell_type": "code",
   "execution_count": 5,
   "metadata": {
    "slideshow": {
     "slide_type": "-"
    }
   },
   "outputs": [
    {
     "data": {
      "text/plain": [
       "Station Name\n",
       "CALGARY          18.054167\n",
       "CHARLOTTETOWN     8.637500\n",
       "EDMONTON         17.558333\n",
       "FREDERICTON      12.373913\n",
       "HALIFAX          12.237500\n",
       "IQALUIT          -5.350000\n",
       "MONTREAL         17.479167\n",
       "OTTAWA           15.537500\n",
       "PRINCE GEORGE    14.337500\n",
       "QUEBEC           15.366667\n",
       "REGINA           21.337500\n",
       "SASKATOON        19.308333\n",
       "ST. JOHN'S        4.862500\n",
       "THUNDER BAY      14.625000\n",
       "TORONTO          14.833333\n",
       "VANCOUVER        15.262500\n",
       "VICTORIA         15.658333\n",
       "WHITEHORSE        9.183333\n",
       "WINNIPEG         20.495833\n",
       "YELLOWKNIFE      15.400000\n",
       "Name: Temp (deg C), dtype: float64"
      ]
     },
     "execution_count": 5,
     "metadata": {},
     "output_type": "execute_result"
    }
   ],
   "source": [
    "weather_mean['Temp (deg C)']"
   ]
  },
  {
   "cell_type": "markdown",
   "metadata": {
    "slideshow": {
     "slide_type": "skip"
    }
   },
   "source": [
    "This subset contains all the rows of `weather_mean`, but only the one column we specified."
   ]
  },
  {
   "cell_type": "markdown",
   "metadata": {
    "slideshow": {
     "slide_type": "slide"
    }
   },
   "source": [
    "### Multiple Columns\n",
    "\n",
    "We can also select several columns, in whatever order we like, using a list of column names:"
   ]
  },
  {
   "cell_type": "code",
   "execution_count": 6,
   "metadata": {
    "slideshow": {
     "slide_type": "-"
    }
   },
   "outputs": [
    {
     "data": {
      "text/html": [
       "<div>\n",
       "<style scoped>\n",
       "    .dataframe tbody tr th:only-of-type {\n",
       "        vertical-align: middle;\n",
       "    }\n",
       "\n",
       "    .dataframe tbody tr th {\n",
       "        vertical-align: top;\n",
       "    }\n",
       "\n",
       "    .dataframe thead th {\n",
       "        text-align: right;\n",
       "    }\n",
       "</style>\n",
       "<table border=\"1\" class=\"dataframe\">\n",
       "  <thead>\n",
       "    <tr style=\"text-align: right;\">\n",
       "      <th></th>\n",
       "      <th>Rel Hum (%)</th>\n",
       "      <th>Pressure (kPa)</th>\n",
       "      <th>Temp (deg C)</th>\n",
       "    </tr>\n",
       "    <tr>\n",
       "      <th>Station Name</th>\n",
       "      <th></th>\n",
       "      <th></th>\n",
       "      <th></th>\n",
       "    </tr>\n",
       "  </thead>\n",
       "  <tbody>\n",
       "    <tr>\n",
       "      <th>CALGARY</th>\n",
       "      <td>43.875000</td>\n",
       "      <td>88.990833</td>\n",
       "      <td>18.054167</td>\n",
       "    </tr>\n",
       "    <tr>\n",
       "      <th>CHARLOTTETOWN</th>\n",
       "      <td>59.666667</td>\n",
       "      <td>101.363750</td>\n",
       "      <td>8.637500</td>\n",
       "    </tr>\n",
       "    <tr>\n",
       "      <th>EDMONTON</th>\n",
       "      <td>48.791667</td>\n",
       "      <td>92.950833</td>\n",
       "      <td>17.558333</td>\n",
       "    </tr>\n",
       "    <tr>\n",
       "      <th>FREDERICTON</th>\n",
       "      <td>48.608696</td>\n",
       "      <td>101.679565</td>\n",
       "      <td>12.373913</td>\n",
       "    </tr>\n",
       "    <tr>\n",
       "      <th>HALIFAX</th>\n",
       "      <td>40.041667</td>\n",
       "      <td>100.328333</td>\n",
       "      <td>12.237500</td>\n",
       "    </tr>\n",
       "    <tr>\n",
       "      <th>IQALUIT</th>\n",
       "      <td>77.625000</td>\n",
       "      <td>100.540417</td>\n",
       "      <td>-5.350000</td>\n",
       "    </tr>\n",
       "    <tr>\n",
       "      <th>MONTREAL</th>\n",
       "      <td>56.958333</td>\n",
       "      <td>101.318750</td>\n",
       "      <td>17.479167</td>\n",
       "    </tr>\n",
       "    <tr>\n",
       "      <th>OTTAWA</th>\n",
       "      <td>68.541667</td>\n",
       "      <td>100.387500</td>\n",
       "      <td>15.537500</td>\n",
       "    </tr>\n",
       "    <tr>\n",
       "      <th>PRINCE GEORGE</th>\n",
       "      <td>62.291667</td>\n",
       "      <td>93.307083</td>\n",
       "      <td>14.337500</td>\n",
       "    </tr>\n",
       "    <tr>\n",
       "      <th>QUEBEC</th>\n",
       "      <td>47.666667</td>\n",
       "      <td>100.810833</td>\n",
       "      <td>15.366667</td>\n",
       "    </tr>\n",
       "    <tr>\n",
       "      <th>REGINA</th>\n",
       "      <td>39.958333</td>\n",
       "      <td>94.327500</td>\n",
       "      <td>21.337500</td>\n",
       "    </tr>\n",
       "    <tr>\n",
       "      <th>SASKATOON</th>\n",
       "      <td>48.708333</td>\n",
       "      <td>95.211667</td>\n",
       "      <td>19.308333</td>\n",
       "    </tr>\n",
       "    <tr>\n",
       "      <th>ST. JOHN'S</th>\n",
       "      <td>75.916667</td>\n",
       "      <td>99.532500</td>\n",
       "      <td>4.862500</td>\n",
       "    </tr>\n",
       "    <tr>\n",
       "      <th>THUNDER BAY</th>\n",
       "      <td>51.958333</td>\n",
       "      <td>99.130000</td>\n",
       "      <td>14.625000</td>\n",
       "    </tr>\n",
       "    <tr>\n",
       "      <th>TORONTO</th>\n",
       "      <td>72.458333</td>\n",
       "      <td>99.551250</td>\n",
       "      <td>14.833333</td>\n",
       "    </tr>\n",
       "    <tr>\n",
       "      <th>VANCOUVER</th>\n",
       "      <td>76.500000</td>\n",
       "      <td>101.455833</td>\n",
       "      <td>15.262500</td>\n",
       "    </tr>\n",
       "    <tr>\n",
       "      <th>VICTORIA</th>\n",
       "      <td>72.625000</td>\n",
       "      <td>101.265833</td>\n",
       "      <td>15.658333</td>\n",
       "    </tr>\n",
       "    <tr>\n",
       "      <th>WHITEHORSE</th>\n",
       "      <td>57.125000</td>\n",
       "      <td>92.225000</td>\n",
       "      <td>9.183333</td>\n",
       "    </tr>\n",
       "    <tr>\n",
       "      <th>WINNIPEG</th>\n",
       "      <td>43.208333</td>\n",
       "      <td>98.481250</td>\n",
       "      <td>20.495833</td>\n",
       "    </tr>\n",
       "    <tr>\n",
       "      <th>YELLOWKNIFE</th>\n",
       "      <td>45.041667</td>\n",
       "      <td>98.066667</td>\n",
       "      <td>15.400000</td>\n",
       "    </tr>\n",
       "  </tbody>\n",
       "</table>\n",
       "</div>"
      ],
      "text/plain": [
       "               Rel Hum (%)  Pressure (kPa)  Temp (deg C)\n",
       "Station Name                                            \n",
       "CALGARY          43.875000       88.990833     18.054167\n",
       "CHARLOTTETOWN    59.666667      101.363750      8.637500\n",
       "EDMONTON         48.791667       92.950833     17.558333\n",
       "FREDERICTON      48.608696      101.679565     12.373913\n",
       "HALIFAX          40.041667      100.328333     12.237500\n",
       "IQALUIT          77.625000      100.540417     -5.350000\n",
       "MONTREAL         56.958333      101.318750     17.479167\n",
       "OTTAWA           68.541667      100.387500     15.537500\n",
       "PRINCE GEORGE    62.291667       93.307083     14.337500\n",
       "QUEBEC           47.666667      100.810833     15.366667\n",
       "REGINA           39.958333       94.327500     21.337500\n",
       "SASKATOON        48.708333       95.211667     19.308333\n",
       "ST. JOHN'S       75.916667       99.532500      4.862500\n",
       "THUNDER BAY      51.958333       99.130000     14.625000\n",
       "TORONTO          72.458333       99.551250     14.833333\n",
       "VANCOUVER        76.500000      101.455833     15.262500\n",
       "VICTORIA         72.625000      101.265833     15.658333\n",
       "WHITEHORSE       57.125000       92.225000      9.183333\n",
       "WINNIPEG         43.208333       98.481250     20.495833\n",
       "YELLOWKNIFE      45.041667       98.066667     15.400000"
      ]
     },
     "execution_count": 6,
     "metadata": {},
     "output_type": "execute_result"
    }
   ],
   "source": [
    "weather_mean[['Rel Hum (%)', 'Pressure (kPa)', 'Temp (deg C)']]"
   ]
  },
  {
   "cell_type": "markdown",
   "metadata": {
    "slideshow": {
     "slide_type": "fragment"
    }
   },
   "source": [
    "We can use a subset to plot specific columns of our data:"
   ]
  },
  {
   "cell_type": "code",
   "execution_count": 60,
   "metadata": {
    "slideshow": {
     "slide_type": "-"
    }
   },
   "outputs": [
    {
     "data": {
      "image/png": "[encoded data removed]",
      "text/plain": [
       "<matplotlib.figure.Figure at 0x1c8590762e8>"
      ]
     },
     "metadata": {},
     "output_type": "display_data"
    }
   ],
   "source": [
    "weather_subset = weather_mean[['Rel Hum (%)', 'Pressure (kPa)', 'Temp (deg C)']]\n",
    "weather_subset.plot(kind='bar', subplots=True, figsize=(10, 6), fontsize='large');"
   ]
  },
  {
   "cell_type": "markdown",
   "metadata": {
    "slideshow": {
     "slide_type": "skip"
    }
   },
   "source": [
    "### Interlude: Forgetting the Double Square Brackets\n",
    "\n",
    "What happens if we try to use a single pair of square brackets to select multiple columns from a DataFrame?\n",
    "- This is a very easy mistake to make, especially when you're coding on the fly in Jupyter!"
   ]
  },
  {
   "cell_type": "code",
   "execution_count": null,
   "metadata": {
    "slideshow": {
     "slide_type": "skip"
    }
   },
   "outputs": [],
   "source": [
    "#weather_mean['Rel Hum (%)', 'Temp (deg C)']"
   ]
  },
  {
   "cell_type": "markdown",
   "metadata": {
    "slideshow": {
     "slide_type": "skip"
    }
   },
   "source": [
    "- *Uncomment the code above to run it and raise the error*\n",
    "- *The error message will look like the one displayed below (the `%%capture` magic command in the cell is a way to display this error message without having the error halt notebook execution partway through when using \"Run All Cells\"*)"
   ]
  },
  {
   "cell_type": "code",
   "execution_count": null,
   "metadata": {
    "slideshow": {
     "slide_type": "skip"
    }
   },
   "outputs": [],
   "source": [
    "%%capture\n",
    "\n",
    "weather_mean['Rel Hum (%)', 'Temp (deg C)']"
   ]
  },
  {
   "cell_type": "markdown",
   "metadata": {
    "slideshow": {
     "slide_type": "skip"
    }
   },
   "source": [
    "- We get an error &mdash; `KeyError: ('Rel Hum (%)', 'Temp (deg C)')`\n",
    "- If we don't explicitly define a list by enclosing the column names in a second set of square brackets within the outer square brackets, `pandas` assumes that the comma-separated items are a tuple: `('Rel Hum (%)', 'Temp (deg C)')`\n",
    "- Since column labels can be any type of object, not just strings, a tuple can actually be a column label\n",
    "- So `pandas` looks for a column whose label is the tuple `('Rel Hum (%)', 'Temp (deg C)')`, can't find it, and throws a `KeyError` exception\n",
    "\n",
    "---"
   ]
  },
  {
   "cell_type": "markdown",
   "metadata": {
    "slideshow": {
     "slide_type": "skip"
    }
   },
   "source": [
    "### Interlude: Single Column as a DataFrame\n",
    "\n",
    "When we use a column name to select a single column from a DataFrame, the object that is returned is a Series:"
   ]
  },
  {
   "cell_type": "code",
   "execution_count": null,
   "metadata": {
    "slideshow": {
     "slide_type": "skip"
    }
   },
   "outputs": [],
   "source": [
    "temp = weather_mean['Temp (deg C)']\n",
    "temp.head()"
   ]
  },
  {
   "cell_type": "markdown",
   "metadata": {
    "slideshow": {
     "slide_type": "skip"
    }
   },
   "source": [
    "Sometimes, it's useful to have the column as a DataFrame instead of a Series. An easy way to this is with double square brackets, i.e. indexing with a list containing a single item (the column name), instead of indexing with the column name directly:"
   ]
  },
  {
   "cell_type": "code",
   "execution_count": null,
   "metadata": {
    "slideshow": {
     "slide_type": "skip"
    }
   },
   "outputs": [],
   "source": [
    "temp_df = weather_mean[['Temp (deg C)']]\n",
    "temp_df.head()"
   ]
  },
  {
   "cell_type": "markdown",
   "metadata": {
    "slideshow": {
     "slide_type": "skip"
    }
   },
   "source": [
    "One of the differences between the DataFrame and Series data structures is the behaviour of the `plot` convenience method. For example, here's how `plot` creates a bar chart of the Series `temp`:"
   ]
  },
  {
   "cell_type": "code",
   "execution_count": null,
   "metadata": {
    "slideshow": {
     "slide_type": "skip"
    }
   },
   "outputs": [],
   "source": [
    "temp.plot(kind='bar', figsize=(10, 3));"
   ]
  },
  {
   "cell_type": "markdown",
   "metadata": {
    "slideshow": {
     "slide_type": "skip"
    }
   },
   "source": [
    "Compare with the equivalent plot, for exactly the same data, using the `temp_df` DataFrame:"
   ]
  },
  {
   "cell_type": "code",
   "execution_count": null,
   "metadata": {
    "slideshow": {
     "slide_type": "skip"
    }
   },
   "outputs": [],
   "source": [
    "temp_df.plot(kind='bar', figsize=(10, 3));"
   ]
  },
  {
   "cell_type": "markdown",
   "metadata": {
    "slideshow": {
     "slide_type": "skip"
    }
   },
   "source": [
    "Unlike the Series bar chart, the DataFrame bar chart has all the bars the same colour, and includes a useful legend with the label `'Temp (deg C)'`.\n",
    "\n",
    "---"
   ]
  },
  {
   "cell_type": "markdown",
   "metadata": {
    "slideshow": {
     "slide_type": "slide"
    }
   },
   "source": [
    "# Mini-Recap\n",
    "\n",
    "Selecting subsets with just the indexing operator `[]`\n",
    "\n",
    "|||\n",
    "---|----\n",
    "Use a Boolean Series to select rows matching some criteria | `df[bool_series]`\n",
    "Use a list of column names to select several columns in a specified order | `df[['E', 'A', 'C']]`\n",
    "Select a single column (as a Series) | `series_A = df['A']`\n",
    "Select a single column (as a DataFrame) | `df_A = df[['A']]`\n"
   ]
  },
  {
   "cell_type": "markdown",
   "metadata": {
    "slideshow": {
     "slide_type": "fragment"
    }
   },
   "source": [
    "- Using just the indexing operator `[]` is a handy shortcut for some very common subsets\n",
    "- However, it is fairly limited &mdash; for example, we can't select both rows AND columns at once\n",
    "- For more complex subsets, we can use `.iloc[]` or `.loc[]`, as we shall see shortly"
   ]
  },
  {
   "cell_type": "markdown",
   "metadata": {
    "slideshow": {
     "slide_type": "fragment"
    }
   },
   "source": [
    "- If we want to change the values in a subset of data, we can sometimes do this with just square brackets, but it gets quite dicey\n",
    "  - Except for very simple assignments (like updating a single column), it's safer to use the more robust `.iloc[]` or `.loc[]` to change values in a DataFrame, otherwise we'll very quickly run into ominous warnings, errors, and unexpected behaviour"
   ]
  },
  {
   "cell_type": "markdown",
   "metadata": {
    "slideshow": {
     "slide_type": "slide"
    }
   },
   "source": [
    "For example, let's try setting a couple of columns to 0:"
   ]
  },
  {
   "cell_type": "code",
   "execution_count": 10,
   "metadata": {
    "slideshow": {
     "slide_type": "-"
    }
   },
   "outputs": [
    {
     "data": {
      "text/html": [
       "<div>\n",
       "<style scoped>\n",
       "    .dataframe tbody tr th:only-of-type {\n",
       "        vertical-align: middle;\n",
       "    }\n",
       "\n",
       "    .dataframe tbody tr th {\n",
       "        vertical-align: top;\n",
       "    }\n",
       "\n",
       "    .dataframe thead th {\n",
       "        text-align: right;\n",
       "    }\n",
       "</style>\n",
       "<table border=\"1\" class=\"dataframe\">\n",
       "  <thead>\n",
       "    <tr style=\"text-align: right;\">\n",
       "      <th></th>\n",
       "      <th>Temp (deg C)</th>\n",
       "      <th>Dew Point Temp (deg C)</th>\n",
       "      <th>Rel Hum (%)</th>\n",
       "      <th>Wind Dir (deg)</th>\n",
       "      <th>Wind Spd (km/h)</th>\n",
       "      <th>Visibility (km)</th>\n",
       "      <th>Pressure (kPa)</th>\n",
       "      <th>Hmdx</th>\n",
       "      <th>Wind Chill</th>\n",
       "    </tr>\n",
       "    <tr>\n",
       "      <th>Station Name</th>\n",
       "      <th></th>\n",
       "      <th></th>\n",
       "      <th></th>\n",
       "      <th></th>\n",
       "      <th></th>\n",
       "      <th></th>\n",
       "      <th></th>\n",
       "      <th></th>\n",
       "      <th></th>\n",
       "    </tr>\n",
       "  </thead>\n",
       "  <tbody>\n",
       "    <tr>\n",
       "      <th>CALGARY</th>\n",
       "      <td>18.054167</td>\n",
       "      <td>4.708333</td>\n",
       "      <td>43.875000</td>\n",
       "      <td>0.0</td>\n",
       "      <td>0.0</td>\n",
       "      <td>45.9375</td>\n",
       "      <td>88.990833</td>\n",
       "      <td>25.0</td>\n",
       "      <td>NaN</td>\n",
       "    </tr>\n",
       "    <tr>\n",
       "      <th>CHARLOTTETOWN</th>\n",
       "      <td>8.637500</td>\n",
       "      <td>0.058333</td>\n",
       "      <td>59.666667</td>\n",
       "      <td>0.0</td>\n",
       "      <td>0.0</td>\n",
       "      <td>24.1000</td>\n",
       "      <td>101.363750</td>\n",
       "      <td>NaN</td>\n",
       "      <td>-3.0</td>\n",
       "    </tr>\n",
       "    <tr>\n",
       "      <th>EDMONTON</th>\n",
       "      <td>17.558333</td>\n",
       "      <td>5.037500</td>\n",
       "      <td>48.791667</td>\n",
       "      <td>0.0</td>\n",
       "      <td>0.0</td>\n",
       "      <td>24.1000</td>\n",
       "      <td>92.950833</td>\n",
       "      <td>26.0</td>\n",
       "      <td>NaN</td>\n",
       "    </tr>\n",
       "    <tr>\n",
       "      <th>FREDERICTON</th>\n",
       "      <td>12.373913</td>\n",
       "      <td>0.086957</td>\n",
       "      <td>48.608696</td>\n",
       "      <td>0.0</td>\n",
       "      <td>0.0</td>\n",
       "      <td>16.1000</td>\n",
       "      <td>101.679565</td>\n",
       "      <td>NaN</td>\n",
       "      <td>NaN</td>\n",
       "    </tr>\n",
       "    <tr>\n",
       "      <th>HALIFAX</th>\n",
       "      <td>12.237500</td>\n",
       "      <td>-1.416667</td>\n",
       "      <td>40.041667</td>\n",
       "      <td>0.0</td>\n",
       "      <td>0.0</td>\n",
       "      <td>24.1000</td>\n",
       "      <td>100.328333</td>\n",
       "      <td>NaN</td>\n",
       "      <td>NaN</td>\n",
       "    </tr>\n",
       "  </tbody>\n",
       "</table>\n",
       "</div>"
      ],
      "text/plain": [
       "               Temp (deg C)  Dew Point Temp (deg C)  Rel Hum (%)  \\\n",
       "Station Name                                                       \n",
       "CALGARY           18.054167                4.708333    43.875000   \n",
       "CHARLOTTETOWN      8.637500                0.058333    59.666667   \n",
       "EDMONTON          17.558333                5.037500    48.791667   \n",
       "FREDERICTON       12.373913                0.086957    48.608696   \n",
       "HALIFAX           12.237500               -1.416667    40.041667   \n",
       "\n",
       "               Wind Dir (deg)  Wind Spd (km/h)  Visibility (km)  \\\n",
       "Station Name                                                      \n",
       "CALGARY                   0.0              0.0          45.9375   \n",
       "CHARLOTTETOWN             0.0              0.0          24.1000   \n",
       "EDMONTON                  0.0              0.0          24.1000   \n",
       "FREDERICTON               0.0              0.0          16.1000   \n",
       "HALIFAX                   0.0              0.0          24.1000   \n",
       "\n",
       "               Pressure (kPa)  Hmdx  Wind Chill  \n",
       "Station Name                                     \n",
       "CALGARY             88.990833  25.0         NaN  \n",
       "CHARLOTTETOWN      101.363750   NaN        -3.0  \n",
       "EDMONTON            92.950833  26.0         NaN  \n",
       "FREDERICTON        101.679565   NaN         NaN  \n",
       "HALIFAX            100.328333   NaN         NaN  "
      ]
     },
     "execution_count": 10,
     "metadata": {},
     "output_type": "execute_result"
    }
   ],
   "source": [
    "weather_mean[['Wind Dir (deg)', 'Wind Spd (km/h)']] = 0\n",
    "weather_mean.head()"
   ]
  },
  {
   "cell_type": "markdown",
   "metadata": {
    "slideshow": {
     "slide_type": "fragment"
    }
   },
   "source": [
    "That worked ok, but what if we want to do something more complex?\n",
    "\n",
    "Let's try extracting the subset of rows with relative humidity < 50% and set the pressure values to 0:"
   ]
  },
  {
   "cell_type": "code",
   "execution_count": 16,
   "metadata": {
    "slideshow": {
     "slide_type": "fragment"
    }
   },
   "outputs": [
    {
     "data": {
      "text/html": [
       "<div>\n",
       "<style scoped>\n",
       "    .dataframe tbody tr th:only-of-type {\n",
       "        vertical-align: middle;\n",
       "    }\n",
       "\n",
       "    .dataframe tbody tr th {\n",
       "        vertical-align: top;\n",
       "    }\n",
       "\n",
       "    .dataframe thead th {\n",
       "        text-align: right;\n",
       "    }\n",
       "</style>\n",
       "<table border=\"1\" class=\"dataframe\">\n",
       "  <thead>\n",
       "    <tr style=\"text-align: right;\">\n",
       "      <th></th>\n",
       "      <th>Temp (deg C)</th>\n",
       "      <th>Dew Point Temp (deg C)</th>\n",
       "      <th>Rel Hum (%)</th>\n",
       "      <th>Wind Dir (deg)</th>\n",
       "      <th>Wind Spd (km/h)</th>\n",
       "      <th>Visibility (km)</th>\n",
       "      <th>Pressure (kPa)</th>\n",
       "      <th>Hmdx</th>\n",
       "      <th>Wind Chill</th>\n",
       "    </tr>\n",
       "    <tr>\n",
       "      <th>Station Name</th>\n",
       "      <th></th>\n",
       "      <th></th>\n",
       "      <th></th>\n",
       "      <th></th>\n",
       "      <th></th>\n",
       "      <th></th>\n",
       "      <th></th>\n",
       "      <th></th>\n",
       "      <th></th>\n",
       "    </tr>\n",
       "  </thead>\n",
       "  <tbody>\n",
       "    <tr>\n",
       "      <th>CALGARY</th>\n",
       "      <td>18.1</td>\n",
       "      <td>4.708333</td>\n",
       "      <td>43.9</td>\n",
       "      <td>0.0</td>\n",
       "      <td>0.0</td>\n",
       "      <td>45.937500</td>\n",
       "      <td>88.990833</td>\n",
       "      <td>25.000000</td>\n",
       "      <td>NaN</td>\n",
       "    </tr>\n",
       "    <tr>\n",
       "      <th>EDMONTON</th>\n",
       "      <td>17.6</td>\n",
       "      <td>5.037500</td>\n",
       "      <td>48.8</td>\n",
       "      <td>0.0</td>\n",
       "      <td>0.0</td>\n",
       "      <td>24.100000</td>\n",
       "      <td>92.950833</td>\n",
       "      <td>26.000000</td>\n",
       "      <td>NaN</td>\n",
       "    </tr>\n",
       "    <tr>\n",
       "      <th>FREDERICTON</th>\n",
       "      <td>12.4</td>\n",
       "      <td>0.086957</td>\n",
       "      <td>48.6</td>\n",
       "      <td>0.0</td>\n",
       "      <td>0.0</td>\n",
       "      <td>16.100000</td>\n",
       "      <td>101.679565</td>\n",
       "      <td>NaN</td>\n",
       "      <td>NaN</td>\n",
       "    </tr>\n",
       "    <tr>\n",
       "      <th>HALIFAX</th>\n",
       "      <td>12.2</td>\n",
       "      <td>-1.416667</td>\n",
       "      <td>40.0</td>\n",
       "      <td>0.0</td>\n",
       "      <td>0.0</td>\n",
       "      <td>24.100000</td>\n",
       "      <td>100.328333</td>\n",
       "      <td>NaN</td>\n",
       "      <td>NaN</td>\n",
       "    </tr>\n",
       "    <tr>\n",
       "      <th>QUEBEC</th>\n",
       "      <td>15.4</td>\n",
       "      <td>3.875000</td>\n",
       "      <td>47.7</td>\n",
       "      <td>0.0</td>\n",
       "      <td>0.0</td>\n",
       "      <td>38.887500</td>\n",
       "      <td>100.810833</td>\n",
       "      <td>25.750000</td>\n",
       "      <td>NaN</td>\n",
       "    </tr>\n",
       "    <tr>\n",
       "      <th>REGINA</th>\n",
       "      <td>21.3</td>\n",
       "      <td>6.279167</td>\n",
       "      <td>40.0</td>\n",
       "      <td>0.0</td>\n",
       "      <td>0.0</td>\n",
       "      <td>24.100000</td>\n",
       "      <td>94.327500</td>\n",
       "      <td>26.777778</td>\n",
       "      <td>NaN</td>\n",
       "    </tr>\n",
       "    <tr>\n",
       "      <th>SASKATOON</th>\n",
       "      <td>19.3</td>\n",
       "      <td>6.845833</td>\n",
       "      <td>48.7</td>\n",
       "      <td>0.0</td>\n",
       "      <td>0.0</td>\n",
       "      <td>23.900000</td>\n",
       "      <td>95.211667</td>\n",
       "      <td>26.333333</td>\n",
       "      <td>NaN</td>\n",
       "    </tr>\n",
       "    <tr>\n",
       "      <th>WINNIPEG</th>\n",
       "      <td>20.5</td>\n",
       "      <td>5.929167</td>\n",
       "      <td>43.2</td>\n",
       "      <td>0.0</td>\n",
       "      <td>0.0</td>\n",
       "      <td>23.033333</td>\n",
       "      <td>98.481250</td>\n",
       "      <td>27.666667</td>\n",
       "      <td>NaN</td>\n",
       "    </tr>\n",
       "    <tr>\n",
       "      <th>YELLOWKNIFE</th>\n",
       "      <td>15.4</td>\n",
       "      <td>3.008333</td>\n",
       "      <td>45.0</td>\n",
       "      <td>0.0</td>\n",
       "      <td>0.0</td>\n",
       "      <td>24.100000</td>\n",
       "      <td>98.066667</td>\n",
       "      <td>NaN</td>\n",
       "      <td>NaN</td>\n",
       "    </tr>\n",
       "  </tbody>\n",
       "</table>\n",
       "</div>"
      ],
      "text/plain": [
       "              Temp (deg C)  Dew Point Temp (deg C)  Rel Hum (%)  \\\n",
       "Station Name                                                      \n",
       "CALGARY               18.1                4.708333         43.9   \n",
       "EDMONTON              17.6                5.037500         48.8   \n",
       "FREDERICTON           12.4                0.086957         48.6   \n",
       "HALIFAX               12.2               -1.416667         40.0   \n",
       "QUEBEC                15.4                3.875000         47.7   \n",
       "REGINA                21.3                6.279167         40.0   \n",
       "SASKATOON             19.3                6.845833         48.7   \n",
       "WINNIPEG              20.5                5.929167         43.2   \n",
       "YELLOWKNIFE           15.4                3.008333         45.0   \n",
       "\n",
       "              Wind Dir (deg)  Wind Spd (km/h)  Visibility (km)  \\\n",
       "Station Name                                                     \n",
       "CALGARY                  0.0              0.0        45.937500   \n",
       "EDMONTON                 0.0              0.0        24.100000   \n",
       "FREDERICTON              0.0              0.0        16.100000   \n",
       "HALIFAX                  0.0              0.0        24.100000   \n",
       "QUEBEC                   0.0              0.0        38.887500   \n",
       "REGINA                   0.0              0.0        24.100000   \n",
       "SASKATOON                0.0              0.0        23.900000   \n",
       "WINNIPEG                 0.0              0.0        23.033333   \n",
       "YELLOWKNIFE              0.0              0.0        24.100000   \n",
       "\n",
       "              Pressure (kPa)       Hmdx  Wind Chill  \n",
       "Station Name                                         \n",
       "CALGARY            88.990833  25.000000         NaN  \n",
       "EDMONTON           92.950833  26.000000         NaN  \n",
       "FREDERICTON       101.679565        NaN         NaN  \n",
       "HALIFAX           100.328333        NaN         NaN  \n",
       "QUEBEC            100.810833  25.750000         NaN  \n",
       "REGINA             94.327500  26.777778         NaN  \n",
       "SASKATOON          95.211667  26.333333         NaN  \n",
       "WINNIPEG           98.481250  27.666667         NaN  \n",
       "YELLOWKNIFE        98.066667        NaN         NaN  "
      ]
     },
     "execution_count": 16,
     "metadata": {},
     "output_type": "execute_result"
    }
   ],
   "source": [
    "low_rh = weather_mean['Rel Hum (%)'] < 50\n",
    "weather_low_rh = weather_mean[low_rh]\n",
    "weather_low_rh"
   ]
  },
  {
   "cell_type": "code",
   "execution_count": 24,
   "metadata": {
    "scrolled": false,
    "slideshow": {
     "slide_type": "fragment"
    }
   },
   "outputs": [
    {
     "name": "stderr",
     "output_type": "stream",
     "text": [
      "C:\\Users\\jenfl\\Anaconda3\\lib\\site-packages\\ipykernel\\__main__.py:1: SettingWithCopyWarning: \n",
      "A value is trying to be set on a copy of a slice from a DataFrame.\n",
      "Try using .loc[row_indexer,col_indexer] = value instead\n",
      "\n",
      "See the caveats in the documentation: http://pandas.pydata.org/pandas-docs/stable/indexing.html#indexing-view-versus-copy\n",
      "  if __name__ == '__main__':\n"
     ]
    },
    {
     "data": {
      "text/html": [
       "<div>\n",
       "<style scoped>\n",
       "    .dataframe tbody tr th:only-of-type {\n",
       "        vertical-align: middle;\n",
       "    }\n",
       "\n",
       "    .dataframe tbody tr th {\n",
       "        vertical-align: top;\n",
       "    }\n",
       "\n",
       "    .dataframe thead th {\n",
       "        text-align: right;\n",
       "    }\n",
       "</style>\n",
       "<table border=\"1\" class=\"dataframe\">\n",
       "  <thead>\n",
       "    <tr style=\"text-align: right;\">\n",
       "      <th></th>\n",
       "      <th>Temp (deg C)</th>\n",
       "      <th>Dew Point Temp (deg C)</th>\n",
       "      <th>Rel Hum (%)</th>\n",
       "      <th>Wind Dir (deg)</th>\n",
       "      <th>Wind Spd (km/h)</th>\n",
       "      <th>Visibility (km)</th>\n",
       "      <th>Pressure (kPa)</th>\n",
       "      <th>Hmdx</th>\n",
       "      <th>Wind Chill</th>\n",
       "    </tr>\n",
       "    <tr>\n",
       "      <th>Station Name</th>\n",
       "      <th></th>\n",
       "      <th></th>\n",
       "      <th></th>\n",
       "      <th></th>\n",
       "      <th></th>\n",
       "      <th></th>\n",
       "      <th></th>\n",
       "      <th></th>\n",
       "      <th></th>\n",
       "    </tr>\n",
       "  </thead>\n",
       "  <tbody>\n",
       "    <tr>\n",
       "      <th>CALGARY</th>\n",
       "      <td>18.1</td>\n",
       "      <td>4.708333</td>\n",
       "      <td>43.9</td>\n",
       "      <td>0.0</td>\n",
       "      <td>0.0</td>\n",
       "      <td>45.937500</td>\n",
       "      <td>0</td>\n",
       "      <td>25.000000</td>\n",
       "      <td>NaN</td>\n",
       "    </tr>\n",
       "    <tr>\n",
       "      <th>EDMONTON</th>\n",
       "      <td>17.6</td>\n",
       "      <td>5.037500</td>\n",
       "      <td>48.8</td>\n",
       "      <td>0.0</td>\n",
       "      <td>0.0</td>\n",
       "      <td>24.100000</td>\n",
       "      <td>0</td>\n",
       "      <td>26.000000</td>\n",
       "      <td>NaN</td>\n",
       "    </tr>\n",
       "    <tr>\n",
       "      <th>FREDERICTON</th>\n",
       "      <td>12.4</td>\n",
       "      <td>0.086957</td>\n",
       "      <td>48.6</td>\n",
       "      <td>0.0</td>\n",
       "      <td>0.0</td>\n",
       "      <td>16.100000</td>\n",
       "      <td>0</td>\n",
       "      <td>NaN</td>\n",
       "      <td>NaN</td>\n",
       "    </tr>\n",
       "    <tr>\n",
       "      <th>HALIFAX</th>\n",
       "      <td>12.2</td>\n",
       "      <td>-1.416667</td>\n",
       "      <td>40.0</td>\n",
       "      <td>0.0</td>\n",
       "      <td>0.0</td>\n",
       "      <td>24.100000</td>\n",
       "      <td>0</td>\n",
       "      <td>NaN</td>\n",
       "      <td>NaN</td>\n",
       "    </tr>\n",
       "    <tr>\n",
       "      <th>QUEBEC</th>\n",
       "      <td>15.4</td>\n",
       "      <td>3.875000</td>\n",
       "      <td>47.7</td>\n",
       "      <td>0.0</td>\n",
       "      <td>0.0</td>\n",
       "      <td>38.887500</td>\n",
       "      <td>0</td>\n",
       "      <td>25.750000</td>\n",
       "      <td>NaN</td>\n",
       "    </tr>\n",
       "    <tr>\n",
       "      <th>REGINA</th>\n",
       "      <td>21.3</td>\n",
       "      <td>6.279167</td>\n",
       "      <td>40.0</td>\n",
       "      <td>0.0</td>\n",
       "      <td>0.0</td>\n",
       "      <td>24.100000</td>\n",
       "      <td>0</td>\n",
       "      <td>26.777778</td>\n",
       "      <td>NaN</td>\n",
       "    </tr>\n",
       "    <tr>\n",
       "      <th>SASKATOON</th>\n",
       "      <td>19.3</td>\n",
       "      <td>6.845833</td>\n",
       "      <td>48.7</td>\n",
       "      <td>0.0</td>\n",
       "      <td>0.0</td>\n",
       "      <td>23.900000</td>\n",
       "      <td>0</td>\n",
       "      <td>26.333333</td>\n",
       "      <td>NaN</td>\n",
       "    </tr>\n",
       "    <tr>\n",
       "      <th>WINNIPEG</th>\n",
       "      <td>20.5</td>\n",
       "      <td>5.929167</td>\n",
       "      <td>43.2</td>\n",
       "      <td>0.0</td>\n",
       "      <td>0.0</td>\n",
       "      <td>23.033333</td>\n",
       "      <td>0</td>\n",
       "      <td>27.666667</td>\n",
       "      <td>NaN</td>\n",
       "    </tr>\n",
       "    <tr>\n",
       "      <th>YELLOWKNIFE</th>\n",
       "      <td>15.4</td>\n",
       "      <td>3.008333</td>\n",
       "      <td>45.0</td>\n",
       "      <td>0.0</td>\n",
       "      <td>0.0</td>\n",
       "      <td>24.100000</td>\n",
       "      <td>0</td>\n",
       "      <td>NaN</td>\n",
       "      <td>NaN</td>\n",
       "    </tr>\n",
       "  </tbody>\n",
       "</table>\n",
       "</div>"
      ],
      "text/plain": [
       "              Temp (deg C)  Dew Point Temp (deg C)  Rel Hum (%)  \\\n",
       "Station Name                                                      \n",
       "CALGARY               18.1                4.708333         43.9   \n",
       "EDMONTON              17.6                5.037500         48.8   \n",
       "FREDERICTON           12.4                0.086957         48.6   \n",
       "HALIFAX               12.2               -1.416667         40.0   \n",
       "QUEBEC                15.4                3.875000         47.7   \n",
       "REGINA                21.3                6.279167         40.0   \n",
       "SASKATOON             19.3                6.845833         48.7   \n",
       "WINNIPEG              20.5                5.929167         43.2   \n",
       "YELLOWKNIFE           15.4                3.008333         45.0   \n",
       "\n",
       "              Wind Dir (deg)  Wind Spd (km/h)  Visibility (km)  \\\n",
       "Station Name                                                     \n",
       "CALGARY                  0.0              0.0        45.937500   \n",
       "EDMONTON                 0.0              0.0        24.100000   \n",
       "FREDERICTON              0.0              0.0        16.100000   \n",
       "HALIFAX                  0.0              0.0        24.100000   \n",
       "QUEBEC                   0.0              0.0        38.887500   \n",
       "REGINA                   0.0              0.0        24.100000   \n",
       "SASKATOON                0.0              0.0        23.900000   \n",
       "WINNIPEG                 0.0              0.0        23.033333   \n",
       "YELLOWKNIFE              0.0              0.0        24.100000   \n",
       "\n",
       "              Pressure (kPa)       Hmdx  Wind Chill  \n",
       "Station Name                                         \n",
       "CALGARY                    0  25.000000         NaN  \n",
       "EDMONTON                   0  26.000000         NaN  \n",
       "FREDERICTON                0        NaN         NaN  \n",
       "HALIFAX                    0        NaN         NaN  \n",
       "QUEBEC                     0  25.750000         NaN  \n",
       "REGINA                     0  26.777778         NaN  \n",
       "SASKATOON                  0  26.333333         NaN  \n",
       "WINNIPEG                   0  27.666667         NaN  \n",
       "YELLOWKNIFE                0        NaN         NaN  "
      ]
     },
     "execution_count": 24,
     "metadata": {},
     "output_type": "execute_result"
    }
   ],
   "source": [
    "weather_low_rh['Pressure (kPa)'] = 0\n",
    "weather_low_rh"
   ]
  },
  {
   "cell_type": "markdown",
   "metadata": {
    "slideshow": {
     "slide_type": "fragment"
    }
   },
   "source": [
    "- The assignment succeeded (pressure values were changed in `weather_low_rh`) but we get an ominous `SettingWithCopyWarning`\n",
    "- What happens if we try to make a similar change to the values in the original DataFrame `weather_mean`?"
   ]
  },
  {
   "cell_type": "code",
   "execution_count": 30,
   "metadata": {
    "slideshow": {
     "slide_type": "fragment"
    }
   },
   "outputs": [
    {
     "name": "stderr",
     "output_type": "stream",
     "text": [
      "C:\\Users\\jenfl\\Anaconda3\\lib\\site-packages\\ipykernel\\__main__.py:1: SettingWithCopyWarning: \n",
      "A value is trying to be set on a copy of a slice from a DataFrame.\n",
      "Try using .loc[row_indexer,col_indexer] = value instead\n",
      "\n",
      "See the caveats in the documentation: http://pandas.pydata.org/pandas-docs/stable/indexing.html#indexing-view-versus-copy\n",
      "  if __name__ == '__main__':\n"
     ]
    },
    {
     "data": {
      "text/html": [
       "<div>\n",
       "<style scoped>\n",
       "    .dataframe tbody tr th:only-of-type {\n",
       "        vertical-align: middle;\n",
       "    }\n",
       "\n",
       "    .dataframe tbody tr th {\n",
       "        vertical-align: top;\n",
       "    }\n",
       "\n",
       "    .dataframe thead th {\n",
       "        text-align: right;\n",
       "    }\n",
       "</style>\n",
       "<table border=\"1\" class=\"dataframe\">\n",
       "  <thead>\n",
       "    <tr style=\"text-align: right;\">\n",
       "      <th></th>\n",
       "      <th>Temp (deg C)</th>\n",
       "      <th>Dew Point Temp (deg C)</th>\n",
       "      <th>Rel Hum (%)</th>\n",
       "      <th>Wind Dir (deg)</th>\n",
       "      <th>Wind Spd (km/h)</th>\n",
       "      <th>Visibility (km)</th>\n",
       "      <th>Pressure (kPa)</th>\n",
       "      <th>Hmdx</th>\n",
       "      <th>Wind Chill</th>\n",
       "    </tr>\n",
       "    <tr>\n",
       "      <th>Station Name</th>\n",
       "      <th></th>\n",
       "      <th></th>\n",
       "      <th></th>\n",
       "      <th></th>\n",
       "      <th></th>\n",
       "      <th></th>\n",
       "      <th></th>\n",
       "      <th></th>\n",
       "      <th></th>\n",
       "    </tr>\n",
       "  </thead>\n",
       "  <tbody>\n",
       "    <tr>\n",
       "      <th>CALGARY</th>\n",
       "      <td>0</td>\n",
       "      <td>4.708333</td>\n",
       "      <td>43.9</td>\n",
       "      <td>0.0</td>\n",
       "      <td>0.0</td>\n",
       "      <td>45.937500</td>\n",
       "      <td>88.990833</td>\n",
       "      <td>25.000000</td>\n",
       "      <td>NaN</td>\n",
       "    </tr>\n",
       "    <tr>\n",
       "      <th>CHARLOTTETOWN</th>\n",
       "      <td>0</td>\n",
       "      <td>0.058333</td>\n",
       "      <td>59.7</td>\n",
       "      <td>0.0</td>\n",
       "      <td>0.0</td>\n",
       "      <td>24.100000</td>\n",
       "      <td>101.363750</td>\n",
       "      <td>NaN</td>\n",
       "      <td>-3.000</td>\n",
       "    </tr>\n",
       "    <tr>\n",
       "      <th>EDMONTON</th>\n",
       "      <td>0</td>\n",
       "      <td>5.037500</td>\n",
       "      <td>48.8</td>\n",
       "      <td>0.0</td>\n",
       "      <td>0.0</td>\n",
       "      <td>24.100000</td>\n",
       "      <td>92.950833</td>\n",
       "      <td>26.000000</td>\n",
       "      <td>NaN</td>\n",
       "    </tr>\n",
       "    <tr>\n",
       "      <th>FREDERICTON</th>\n",
       "      <td>0</td>\n",
       "      <td>0.086957</td>\n",
       "      <td>48.6</td>\n",
       "      <td>0.0</td>\n",
       "      <td>0.0</td>\n",
       "      <td>16.100000</td>\n",
       "      <td>101.679565</td>\n",
       "      <td>NaN</td>\n",
       "      <td>NaN</td>\n",
       "    </tr>\n",
       "    <tr>\n",
       "      <th>HALIFAX</th>\n",
       "      <td>0</td>\n",
       "      <td>-1.416667</td>\n",
       "      <td>40.0</td>\n",
       "      <td>0.0</td>\n",
       "      <td>0.0</td>\n",
       "      <td>24.100000</td>\n",
       "      <td>100.328333</td>\n",
       "      <td>NaN</td>\n",
       "      <td>NaN</td>\n",
       "    </tr>\n",
       "    <tr>\n",
       "      <th>IQALUIT</th>\n",
       "      <td>0</td>\n",
       "      <td>-8.695833</td>\n",
       "      <td>77.6</td>\n",
       "      <td>0.0</td>\n",
       "      <td>0.0</td>\n",
       "      <td>23.670833</td>\n",
       "      <td>100.540417</td>\n",
       "      <td>NaN</td>\n",
       "      <td>-13.125</td>\n",
       "    </tr>\n",
       "    <tr>\n",
       "      <th>MONTREAL</th>\n",
       "      <td>0</td>\n",
       "      <td>8.550000</td>\n",
       "      <td>57.0</td>\n",
       "      <td>0.0</td>\n",
       "      <td>0.0</td>\n",
       "      <td>29.141667</td>\n",
       "      <td>101.318750</td>\n",
       "      <td>NaN</td>\n",
       "      <td>NaN</td>\n",
       "    </tr>\n",
       "    <tr>\n",
       "      <th>OTTAWA</th>\n",
       "      <td>0</td>\n",
       "      <td>9.516667</td>\n",
       "      <td>68.5</td>\n",
       "      <td>0.0</td>\n",
       "      <td>0.0</td>\n",
       "      <td>23.766667</td>\n",
       "      <td>100.387500</td>\n",
       "      <td>NaN</td>\n",
       "      <td>NaN</td>\n",
       "    </tr>\n",
       "    <tr>\n",
       "      <th>PRINCE GEORGE</th>\n",
       "      <td>0</td>\n",
       "      <td>5.883333</td>\n",
       "      <td>62.3</td>\n",
       "      <td>0.0</td>\n",
       "      <td>0.0</td>\n",
       "      <td>15.900000</td>\n",
       "      <td>93.307083</td>\n",
       "      <td>25.000000</td>\n",
       "      <td>NaN</td>\n",
       "    </tr>\n",
       "    <tr>\n",
       "      <th>QUEBEC</th>\n",
       "      <td>0</td>\n",
       "      <td>3.875000</td>\n",
       "      <td>47.7</td>\n",
       "      <td>0.0</td>\n",
       "      <td>0.0</td>\n",
       "      <td>38.887500</td>\n",
       "      <td>100.810833</td>\n",
       "      <td>25.750000</td>\n",
       "      <td>NaN</td>\n",
       "    </tr>\n",
       "    <tr>\n",
       "      <th>REGINA</th>\n",
       "      <td>0</td>\n",
       "      <td>6.279167</td>\n",
       "      <td>40.0</td>\n",
       "      <td>0.0</td>\n",
       "      <td>0.0</td>\n",
       "      <td>24.100000</td>\n",
       "      <td>94.327500</td>\n",
       "      <td>26.777778</td>\n",
       "      <td>NaN</td>\n",
       "    </tr>\n",
       "    <tr>\n",
       "      <th>SASKATOON</th>\n",
       "      <td>0</td>\n",
       "      <td>6.845833</td>\n",
       "      <td>48.7</td>\n",
       "      <td>0.0</td>\n",
       "      <td>0.0</td>\n",
       "      <td>23.900000</td>\n",
       "      <td>95.211667</td>\n",
       "      <td>26.333333</td>\n",
       "      <td>NaN</td>\n",
       "    </tr>\n",
       "    <tr>\n",
       "      <th>ST. JOHN'S</th>\n",
       "      <td>0</td>\n",
       "      <td>0.850000</td>\n",
       "      <td>75.9</td>\n",
       "      <td>0.0</td>\n",
       "      <td>0.0</td>\n",
       "      <td>24.100000</td>\n",
       "      <td>99.532500</td>\n",
       "      <td>NaN</td>\n",
       "      <td>NaN</td>\n",
       "    </tr>\n",
       "    <tr>\n",
       "      <th>THUNDER BAY</th>\n",
       "      <td>0</td>\n",
       "      <td>2.045833</td>\n",
       "      <td>52.0</td>\n",
       "      <td>0.0</td>\n",
       "      <td>0.0</td>\n",
       "      <td>29.500000</td>\n",
       "      <td>99.130000</td>\n",
       "      <td>25.666667</td>\n",
       "      <td>NaN</td>\n",
       "    </tr>\n",
       "    <tr>\n",
       "      <th>TORONTO</th>\n",
       "      <td>0</td>\n",
       "      <td>9.045833</td>\n",
       "      <td>72.5</td>\n",
       "      <td>0.0</td>\n",
       "      <td>0.0</td>\n",
       "      <td>13.229167</td>\n",
       "      <td>99.551250</td>\n",
       "      <td>NaN</td>\n",
       "      <td>NaN</td>\n",
       "    </tr>\n",
       "    <tr>\n",
       "      <th>VANCOUVER</th>\n",
       "      <td>0</td>\n",
       "      <td>11.016667</td>\n",
       "      <td>76.5</td>\n",
       "      <td>0.0</td>\n",
       "      <td>0.0</td>\n",
       "      <td>44.275000</td>\n",
       "      <td>101.455833</td>\n",
       "      <td>NaN</td>\n",
       "      <td>NaN</td>\n",
       "    </tr>\n",
       "    <tr>\n",
       "      <th>VICTORIA</th>\n",
       "      <td>0</td>\n",
       "      <td>10.408333</td>\n",
       "      <td>72.6</td>\n",
       "      <td>0.0</td>\n",
       "      <td>0.0</td>\n",
       "      <td>42.262500</td>\n",
       "      <td>101.265833</td>\n",
       "      <td>25.000000</td>\n",
       "      <td>NaN</td>\n",
       "    </tr>\n",
       "    <tr>\n",
       "      <th>WHITEHORSE</th>\n",
       "      <td>0</td>\n",
       "      <td>0.533333</td>\n",
       "      <td>57.1</td>\n",
       "      <td>0.0</td>\n",
       "      <td>0.0</td>\n",
       "      <td>57.683333</td>\n",
       "      <td>92.225000</td>\n",
       "      <td>NaN</td>\n",
       "      <td>NaN</td>\n",
       "    </tr>\n",
       "    <tr>\n",
       "      <th>WINNIPEG</th>\n",
       "      <td>0</td>\n",
       "      <td>5.929167</td>\n",
       "      <td>43.2</td>\n",
       "      <td>0.0</td>\n",
       "      <td>0.0</td>\n",
       "      <td>23.033333</td>\n",
       "      <td>98.481250</td>\n",
       "      <td>27.666667</td>\n",
       "      <td>NaN</td>\n",
       "    </tr>\n",
       "    <tr>\n",
       "      <th>YELLOWKNIFE</th>\n",
       "      <td>0</td>\n",
       "      <td>3.008333</td>\n",
       "      <td>45.0</td>\n",
       "      <td>0.0</td>\n",
       "      <td>0.0</td>\n",
       "      <td>24.100000</td>\n",
       "      <td>98.066667</td>\n",
       "      <td>NaN</td>\n",
       "      <td>NaN</td>\n",
       "    </tr>\n",
       "  </tbody>\n",
       "</table>\n",
       "</div>"
      ],
      "text/plain": [
       "               Temp (deg C)  Dew Point Temp (deg C)  Rel Hum (%)  \\\n",
       "Station Name                                                       \n",
       "CALGARY                   0                4.708333         43.9   \n",
       "CHARLOTTETOWN             0                0.058333         59.7   \n",
       "EDMONTON                  0                5.037500         48.8   \n",
       "FREDERICTON               0                0.086957         48.6   \n",
       "HALIFAX                   0               -1.416667         40.0   \n",
       "IQALUIT                   0               -8.695833         77.6   \n",
       "MONTREAL                  0                8.550000         57.0   \n",
       "OTTAWA                    0                9.516667         68.5   \n",
       "PRINCE GEORGE             0                5.883333         62.3   \n",
       "QUEBEC                    0                3.875000         47.7   \n",
       "REGINA                    0                6.279167         40.0   \n",
       "SASKATOON                 0                6.845833         48.7   \n",
       "ST. JOHN'S                0                0.850000         75.9   \n",
       "THUNDER BAY               0                2.045833         52.0   \n",
       "TORONTO                   0                9.045833         72.5   \n",
       "VANCOUVER                 0               11.016667         76.5   \n",
       "VICTORIA                  0               10.408333         72.6   \n",
       "WHITEHORSE                0                0.533333         57.1   \n",
       "WINNIPEG                  0                5.929167         43.2   \n",
       "YELLOWKNIFE               0                3.008333         45.0   \n",
       "\n",
       "               Wind Dir (deg)  Wind Spd (km/h)  Visibility (km)  \\\n",
       "Station Name                                                      \n",
       "CALGARY                   0.0              0.0        45.937500   \n",
       "CHARLOTTETOWN             0.0              0.0        24.100000   \n",
       "EDMONTON                  0.0              0.0        24.100000   \n",
       "FREDERICTON               0.0              0.0        16.100000   \n",
       "HALIFAX                   0.0              0.0        24.100000   \n",
       "IQALUIT                   0.0              0.0        23.670833   \n",
       "MONTREAL                  0.0              0.0        29.141667   \n",
       "OTTAWA                    0.0              0.0        23.766667   \n",
       "PRINCE GEORGE             0.0              0.0        15.900000   \n",
       "QUEBEC                    0.0              0.0        38.887500   \n",
       "REGINA                    0.0              0.0        24.100000   \n",
       "SASKATOON                 0.0              0.0        23.900000   \n",
       "ST. JOHN'S                0.0              0.0        24.100000   \n",
       "THUNDER BAY               0.0              0.0        29.500000   \n",
       "TORONTO                   0.0              0.0        13.229167   \n",
       "VANCOUVER                 0.0              0.0        44.275000   \n",
       "VICTORIA                  0.0              0.0        42.262500   \n",
       "WHITEHORSE                0.0              0.0        57.683333   \n",
       "WINNIPEG                  0.0              0.0        23.033333   \n",
       "YELLOWKNIFE               0.0              0.0        24.100000   \n",
       "\n",
       "               Pressure (kPa)       Hmdx  Wind Chill  \n",
       "Station Name                                          \n",
       "CALGARY             88.990833  25.000000         NaN  \n",
       "CHARLOTTETOWN      101.363750        NaN      -3.000  \n",
       "EDMONTON            92.950833  26.000000         NaN  \n",
       "FREDERICTON        101.679565        NaN         NaN  \n",
       "HALIFAX            100.328333        NaN         NaN  \n",
       "IQALUIT            100.540417        NaN     -13.125  \n",
       "MONTREAL           101.318750        NaN         NaN  \n",
       "OTTAWA             100.387500        NaN         NaN  \n",
       "PRINCE GEORGE       93.307083  25.000000         NaN  \n",
       "QUEBEC             100.810833  25.750000         NaN  \n",
       "REGINA              94.327500  26.777778         NaN  \n",
       "SASKATOON           95.211667  26.333333         NaN  \n",
       "ST. JOHN'S          99.532500        NaN         NaN  \n",
       "THUNDER BAY         99.130000  25.666667         NaN  \n",
       "TORONTO             99.551250        NaN         NaN  \n",
       "VANCOUVER          101.455833        NaN         NaN  \n",
       "VICTORIA           101.265833  25.000000         NaN  \n",
       "WHITEHORSE          92.225000        NaN         NaN  \n",
       "WINNIPEG            98.481250  27.666667         NaN  \n",
       "YELLOWKNIFE         98.066667        NaN         NaN  "
      ]
     },
     "execution_count": 30,
     "metadata": {},
     "output_type": "execute_result"
    }
   ],
   "source": [
    "weather_mean[low_rh]['Pressure (kPa)'] = 0\n",
    "weather_mean"
   ]
  },
  {
   "cell_type": "markdown",
   "metadata": {
    "slideshow": {
     "slide_type": "fragment"
    }
   },
   "source": [
    "- There's that `SettingWithCopyWarning` again!\n",
    "- And this time, the assignment failed&mdash;none of the values in the `'Pressure (kPa)'` column were changed"
   ]
  },
  {
   "cell_type": "markdown",
   "metadata": {
    "slideshow": {
     "slide_type": "fragment"
    }
   },
   "source": [
    "The reasons for all this weirdness include:\n",
    "- Chained indexing\n",
    "- Working with views vs. copies of data\n",
    "- The ambiguity associated with modifying a subset of data\n",
    "  - If you have some data `df` and another variable `df_subset` containing a subset of `df`, when you change values in `df_subset` do you want those values also changed in the original data `df`, or not?\n",
    "  - `pandas` tries to warn you of this ambiguity, but the exact behaviour (error or warning, assignment failed or succeeded) will change depending on the specific syntax you use"
   ]
  },
  {
   "cell_type": "markdown",
   "metadata": {
    "slideshow": {
     "slide_type": "fragment"
    }
   },
   "source": [
    "Changing values in subsets of `pandas` data is quite a complicated topic, which we won't have time to get into here\n",
    "- Using the more robust `.iloc[]` or `.loc[]` instead of just `[]` helps the situation somewhat, since you can select rows and columns simultaneously, but the issues listed above still remain and must be handled carefully\n",
    "- For a lot more detail on these topics check out:\n",
    "  - [Understanding SettingWithCopy Warning in Pandas](https://www.dataquest.io/blog/settingwithcopywarning/)\n",
    "  - [Selecting Subsets of Data in Pandas: Parts 1-3](https://medium.com/dunder-data/selecting-subsets-of-data-in-pandas-6fcd0170be9c)\n",
    "  - [Selecting Subsets of Data in Pandas: Part 4](https://medium.com/dunder-data/selecting-subsets-of-data-in-pandas-part-4-c4216f84d388)"
   ]
  },
  {
   "cell_type": "markdown",
   "metadata": {
    "slideshow": {
     "slide_type": "slide"
    }
   },
   "source": [
    "# Anatomy of a DataFrame\n",
    "\n",
    "Before we dive into `iloc` and `loc`, let's take a closer look at how data is organized in our DataFrame `weather_mean`."
   ]
  },
  {
   "cell_type": "markdown",
   "metadata": {
    "slideshow": {
     "slide_type": "fragment"
    }
   },
   "source": [
    "![dataframe1](img/dataframe1.png)"
   ]
  },
  {
   "cell_type": "markdown",
   "metadata": {
    "slideshow": {
     "slide_type": "-"
    }
   },
   "source": [
    "In this diagram (showing the first 5 rows of `weather_mean`):\n",
    "- The column labels are shaded in green\n",
    "- The index is shaded in blue &mdash; it provides labels for each row\n",
    "  - The first row of `weather_mean` is labelled `'CALGARY'`\n",
    "  - The second row is labelled `'CHARLOTTETOWN'`\n",
    "  - And so on for each of the following rows\n",
    "- The actual data is the white area outlined in red"
   ]
  },
  {
   "cell_type": "markdown",
   "metadata": {
    "slideshow": {
     "slide_type": "fragment"
    }
   },
   "source": [
    "The column labels and index are **metadata**&mdash;they give us information about the data.\n",
    "\n",
    "The underlying data (without the metadata) is an array which we can access with the `values` attribute:"
   ]
  },
  {
   "cell_type": "code",
   "execution_count": 31,
   "metadata": {
    "slideshow": {
     "slide_type": "fragment"
    }
   },
   "outputs": [
    {
     "data": {
      "text/plain": [
       "array([[ 0.00000000e+00,  4.70833333e+00,  4.39000000e+01,\n",
       "         0.00000000e+00,  0.00000000e+00,  4.59375000e+01,\n",
       "         8.89908333e+01,  2.50000000e+01,             nan],\n",
       "       [ 0.00000000e+00,  5.83333333e-02,  5.97000000e+01,\n",
       "         0.00000000e+00,  0.00000000e+00,  2.41000000e+01,\n",
       "         1.01363750e+02,             nan, -3.00000000e+00],\n",
       "       [ 0.00000000e+00,  5.03750000e+00,  4.88000000e+01,\n",
       "         0.00000000e+00,  0.00000000e+00,  2.41000000e+01,\n",
       "         9.29508333e+01,  2.60000000e+01,             nan],\n",
       "       [ 0.00000000e+00,  8.69565217e-02,  4.86000000e+01,\n",
       "         0.00000000e+00,  0.00000000e+00,  1.61000000e+01,\n",
       "         1.01679565e+02,             nan,             nan],\n",
       "       [ 0.00000000e+00, -1.41666667e+00,  4.00000000e+01,\n",
       "         0.00000000e+00,  0.00000000e+00,  2.41000000e+01,\n",
       "         1.00328333e+02,             nan,             nan],\n",
       "       [ 0.00000000e+00, -8.69583333e+00,  7.76000000e+01,\n",
       "         0.00000000e+00,  0.00000000e+00,  2.36708333e+01,\n",
       "         1.00540417e+02,             nan, -1.31250000e+01],\n",
       "       [ 0.00000000e+00,  8.55000000e+00,  5.70000000e+01,\n",
       "         0.00000000e+00,  0.00000000e+00,  2.91416667e+01,\n",
       "         1.01318750e+02,             nan,             nan],\n",
       "       [ 0.00000000e+00,  9.51666667e+00,  6.85000000e+01,\n",
       "         0.00000000e+00,  0.00000000e+00,  2.37666667e+01,\n",
       "         1.00387500e+02,             nan,             nan],\n",
       "       [ 0.00000000e+00,  5.88333333e+00,  6.23000000e+01,\n",
       "         0.00000000e+00,  0.00000000e+00,  1.59000000e+01,\n",
       "         9.33070833e+01,  2.50000000e+01,             nan],\n",
       "       [ 0.00000000e+00,  3.87500000e+00,  4.77000000e+01,\n",
       "         0.00000000e+00,  0.00000000e+00,  3.88875000e+01,\n",
       "         1.00810833e+02,  2.57500000e+01,             nan],\n",
       "       [ 0.00000000e+00,  6.27916667e+00,  4.00000000e+01,\n",
       "         0.00000000e+00,  0.00000000e+00,  2.41000000e+01,\n",
       "         9.43275000e+01,  2.67777778e+01,             nan],\n",
       "       [ 0.00000000e+00,  6.84583333e+00,  4.87000000e+01,\n",
       "         0.00000000e+00,  0.00000000e+00,  2.39000000e+01,\n",
       "         9.52116667e+01,  2.63333333e+01,             nan],\n",
       "       [ 0.00000000e+00,  8.50000000e-01,  7.59000000e+01,\n",
       "         0.00000000e+00,  0.00000000e+00,  2.41000000e+01,\n",
       "         9.95325000e+01,             nan,             nan],\n",
       "       [ 0.00000000e+00,  2.04583333e+00,  5.20000000e+01,\n",
       "         0.00000000e+00,  0.00000000e+00,  2.95000000e+01,\n",
       "         9.91300000e+01,  2.56666667e+01,             nan],\n",
       "       [ 0.00000000e+00,  9.04583333e+00,  7.25000000e+01,\n",
       "         0.00000000e+00,  0.00000000e+00,  1.32291667e+01,\n",
       "         9.95512500e+01,             nan,             nan],\n",
       "       [ 0.00000000e+00,  1.10166667e+01,  7.65000000e+01,\n",
       "         0.00000000e+00,  0.00000000e+00,  4.42750000e+01,\n",
       "         1.01455833e+02,             nan,             nan],\n",
       "       [ 0.00000000e+00,  1.04083333e+01,  7.26000000e+01,\n",
       "         0.00000000e+00,  0.00000000e+00,  4.22625000e+01,\n",
       "         1.01265833e+02,  2.50000000e+01,             nan],\n",
       "       [ 0.00000000e+00,  5.33333333e-01,  5.71000000e+01,\n",
       "         0.00000000e+00,  0.00000000e+00,  5.76833333e+01,\n",
       "         9.22250000e+01,             nan,             nan],\n",
       "       [ 0.00000000e+00,  5.92916667e+00,  4.32000000e+01,\n",
       "         0.00000000e+00,  0.00000000e+00,  2.30333333e+01,\n",
       "         9.84812500e+01,  2.76666667e+01,             nan],\n",
       "       [ 0.00000000e+00,  3.00833333e+00,  4.50000000e+01,\n",
       "         0.00000000e+00,  0.00000000e+00,  2.41000000e+01,\n",
       "         9.80666667e+01,             nan,             nan]])"
      ]
     },
     "execution_count": 31,
     "metadata": {},
     "output_type": "execute_result"
    }
   ],
   "source": [
    "weather_mean.values"
   ]
  },
  {
   "cell_type": "markdown",
   "metadata": {
    "slideshow": {
     "slide_type": "fragment"
    }
   },
   "source": [
    "We can access the metadata with the `columns` and `index` attributes:"
   ]
  },
  {
   "cell_type": "code",
   "execution_count": 32,
   "metadata": {
    "slideshow": {
     "slide_type": "fragment"
    }
   },
   "outputs": [
    {
     "data": {
      "text/plain": [
       "Index(['Temp (deg C)', 'Dew Point Temp (deg C)', 'Rel Hum (%)',\n",
       "       'Wind Dir (deg)', 'Wind Spd (km/h)', 'Visibility (km)',\n",
       "       'Pressure (kPa)', 'Hmdx', 'Wind Chill'],\n",
       "      dtype='object')"
      ]
     },
     "execution_count": 32,
     "metadata": {},
     "output_type": "execute_result"
    }
   ],
   "source": [
    "weather_mean.columns"
   ]
  },
  {
   "cell_type": "code",
   "execution_count": 33,
   "metadata": {
    "slideshow": {
     "slide_type": "fragment"
    }
   },
   "outputs": [
    {
     "data": {
      "text/plain": [
       "Index(['CALGARY', 'CHARLOTTETOWN', 'EDMONTON', 'FREDERICTON', 'HALIFAX',\n",
       "       'IQALUIT', 'MONTREAL', 'OTTAWA', 'PRINCE GEORGE', 'QUEBEC', 'REGINA',\n",
       "       'SASKATOON', 'ST. JOHN'S', 'THUNDER BAY', 'TORONTO', 'VANCOUVER',\n",
       "       'VICTORIA', 'WHITEHORSE', 'WINNIPEG', 'YELLOWKNIFE'],\n",
       "      dtype='object', name='Station Name')"
      ]
     },
     "execution_count": 33,
     "metadata": {},
     "output_type": "execute_result"
    }
   ],
   "source": [
    "weather_mean.index"
   ]
  },
  {
   "cell_type": "markdown",
   "metadata": {
    "slideshow": {
     "slide_type": "fragment"
    }
   },
   "source": [
    "This index of station names was created auto-magically when we aggregated with `weather_mean = weather_all.groupby('Station Name').mean()`"
   ]
  },
  {
   "cell_type": "markdown",
   "metadata": {
    "slideshow": {
     "slide_type": "fragment"
    }
   },
   "source": [
    "In the original hourly data `weather_all`, which we read from a CSV file, the index is just a range of integers corresponding to the row numbers:"
   ]
  },
  {
   "cell_type": "code",
   "execution_count": 34,
   "metadata": {
    "slideshow": {
     "slide_type": "fragment"
    }
   },
   "outputs": [
    {
     "data": {
      "text/html": [
       "<div>\n",
       "<style scoped>\n",
       "    .dataframe tbody tr th:only-of-type {\n",
       "        vertical-align: middle;\n",
       "    }\n",
       "\n",
       "    .dataframe tbody tr th {\n",
       "        vertical-align: top;\n",
       "    }\n",
       "\n",
       "    .dataframe thead th {\n",
       "        text-align: right;\n",
       "    }\n",
       "</style>\n",
       "<table border=\"1\" class=\"dataframe\">\n",
       "  <thead>\n",
       "    <tr style=\"text-align: right;\">\n",
       "      <th></th>\n",
       "      <th>Datetime (Local Standard)</th>\n",
       "      <th>Station ID</th>\n",
       "      <th>Station Name</th>\n",
       "      <th>Timezone</th>\n",
       "      <th>Datetime (UTC)</th>\n",
       "      <th>Temp (deg C)</th>\n",
       "      <th>Dew Point Temp (deg C)</th>\n",
       "      <th>Rel Hum (%)</th>\n",
       "      <th>Wind Dir (deg)</th>\n",
       "      <th>Wind Spd (km/h)</th>\n",
       "      <th>Visibility (km)</th>\n",
       "      <th>Pressure (kPa)</th>\n",
       "      <th>Hmdx</th>\n",
       "      <th>Wind Chill</th>\n",
       "      <th>Conditions</th>\n",
       "    </tr>\n",
       "  </thead>\n",
       "  <tbody>\n",
       "    <tr>\n",
       "      <th>0</th>\n",
       "      <td>2018-05-21 17:00:00</td>\n",
       "      <td>YYC</td>\n",
       "      <td>CALGARY</td>\n",
       "      <td>MST</td>\n",
       "      <td>2018-05-22 00:00:00</td>\n",
       "      <td>23.0</td>\n",
       "      <td>2.3</td>\n",
       "      <td>25.0</td>\n",
       "      <td>100.0</td>\n",
       "      <td>13.0</td>\n",
       "      <td>48.3</td>\n",
       "      <td>88.74</td>\n",
       "      <td>NaN</td>\n",
       "      <td>NaN</td>\n",
       "      <td>Mainly Clear</td>\n",
       "    </tr>\n",
       "    <tr>\n",
       "      <th>1</th>\n",
       "      <td>2018-05-21 18:00:00</td>\n",
       "      <td>YYC</td>\n",
       "      <td>CALGARY</td>\n",
       "      <td>MST</td>\n",
       "      <td>2018-05-22 01:00:00</td>\n",
       "      <td>22.7</td>\n",
       "      <td>3.2</td>\n",
       "      <td>27.0</td>\n",
       "      <td>100.0</td>\n",
       "      <td>10.0</td>\n",
       "      <td>48.3</td>\n",
       "      <td>88.75</td>\n",
       "      <td>NaN</td>\n",
       "      <td>NaN</td>\n",
       "      <td>Mainly Clear</td>\n",
       "    </tr>\n",
       "    <tr>\n",
       "      <th>2</th>\n",
       "      <td>2018-05-21 19:00:00</td>\n",
       "      <td>YYC</td>\n",
       "      <td>CALGARY</td>\n",
       "      <td>MST</td>\n",
       "      <td>2018-05-22 02:00:00</td>\n",
       "      <td>19.5</td>\n",
       "      <td>5.2</td>\n",
       "      <td>39.0</td>\n",
       "      <td>80.0</td>\n",
       "      <td>10.0</td>\n",
       "      <td>64.4</td>\n",
       "      <td>88.76</td>\n",
       "      <td>NaN</td>\n",
       "      <td>NaN</td>\n",
       "      <td>Mainly Clear</td>\n",
       "    </tr>\n",
       "  </tbody>\n",
       "</table>\n",
       "</div>"
      ],
      "text/plain": [
       "  Datetime (Local Standard) Station ID Station Name Timezone  \\\n",
       "0       2018-05-21 17:00:00        YYC      CALGARY      MST   \n",
       "1       2018-05-21 18:00:00        YYC      CALGARY      MST   \n",
       "2       2018-05-21 19:00:00        YYC      CALGARY      MST   \n",
       "\n",
       "        Datetime (UTC)  Temp (deg C)  Dew Point Temp (deg C)  Rel Hum (%)  \\\n",
       "0  2018-05-22 00:00:00          23.0                     2.3         25.0   \n",
       "1  2018-05-22 01:00:00          22.7                     3.2         27.0   \n",
       "2  2018-05-22 02:00:00          19.5                     5.2         39.0   \n",
       "\n",
       "   Wind Dir (deg)  Wind Spd (km/h)  Visibility (km)  Pressure (kPa)  Hmdx  \\\n",
       "0           100.0             13.0             48.3           88.74   NaN   \n",
       "1           100.0             10.0             48.3           88.75   NaN   \n",
       "2            80.0             10.0             64.4           88.76   NaN   \n",
       "\n",
       "   Wind Chill    Conditions  \n",
       "0         NaN  Mainly Clear  \n",
       "1         NaN  Mainly Clear  \n",
       "2         NaN  Mainly Clear  "
      ]
     },
     "execution_count": 34,
     "metadata": {},
     "output_type": "execute_result"
    }
   ],
   "source": [
    "weather_all.head(3)"
   ]
  },
  {
   "cell_type": "code",
   "execution_count": 35,
   "metadata": {
    "slideshow": {
     "slide_type": "fragment"
    }
   },
   "outputs": [
    {
     "data": {
      "text/plain": [
       "RangeIndex(start=0, stop=480, step=1)"
      ]
     },
     "execution_count": 35,
     "metadata": {},
     "output_type": "execute_result"
    }
   ],
   "source": [
    "weather_all.index"
   ]
  },
  {
   "cell_type": "markdown",
   "metadata": {
    "slideshow": {
     "slide_type": "fragment"
    }
   },
   "source": [
    "If we wanted a more meaningful index for `weather_all`, we could:\n",
    "- Use the `set_index` method to transform one of the columns into the DataFrame's index, or \n",
    "- Set the index from the beginning by using the `index_col` keyword argument of `pd.read_csv` when reading from the CSV file\n",
    "- We'll see later why it can be useful to have an index that isn't just the default of row numbers"
   ]
  },
  {
   "cell_type": "markdown",
   "metadata": {
    "slideshow": {
     "slide_type": "slide"
    }
   },
   "source": [
    "# Row and Column Positions\n",
    "\n",
    "Unlike a list, which is 1-dimensional, DataFrames are 2-dimensional:\n",
    "- The rows are the first dimension\n",
    "- The columns are the second dimension"
   ]
  },
  {
   "cell_type": "markdown",
   "metadata": {
    "slideshow": {
     "slide_type": "fragment"
    }
   },
   "source": [
    "We've seen this with the `shape` attribute, which is a tuple with the number of rows first, followed by the number of columns."
   ]
  },
  {
   "cell_type": "code",
   "execution_count": 36,
   "metadata": {
    "slideshow": {
     "slide_type": "-"
    }
   },
   "outputs": [
    {
     "data": {
      "text/plain": [
       "(20, 9)"
      ]
     },
     "execution_count": 36,
     "metadata": {},
     "output_type": "execute_result"
    }
   ],
   "source": [
    "weather_mean.shape"
   ]
  },
  {
   "cell_type": "markdown",
   "metadata": {
    "slideshow": {
     "slide_type": "slide"
    }
   },
   "source": [
    "Just as the positions of items in a Python list are counted with integers starting at 0, so are the rows and columns of a DataFrame:"
   ]
  },
  {
   "cell_type": "markdown",
   "metadata": {
    "slideshow": {
     "slide_type": "-"
    }
   },
   "source": [
    "![dataframe2](img/dataframe2.png)"
   ]
  },
  {
   "cell_type": "markdown",
   "metadata": {
    "slideshow": {
     "slide_type": "fragment"
    }
   },
   "source": [
    "Note: The DataFrame's column labels (green shaded area) are not counted as a row, and the index (blue shaded area) is not counted as a column."
   ]
  },
  {
   "cell_type": "markdown",
   "metadata": {
    "slideshow": {
     "slide_type": "slide"
    }
   },
   "source": [
    "# Positions and Labels\n",
    "\n",
    "Each individual cell in a DataFrame, such as the yellow one highlighted below, is associated with:\n",
    "- A row position and column position, and\n",
    "- A row label and column label"
   ]
  },
  {
   "cell_type": "markdown",
   "metadata": {
    "slideshow": {
     "slide_type": "-"
    }
   },
   "source": [
    "![dataframe3](img/dataframe3.png)"
   ]
  },
  {
   "cell_type": "markdown",
   "metadata": {
    "slideshow": {
     "slide_type": "fragment"
    }
   },
   "source": [
    "To select data in a DataFrame with `iloc` or `loc`, we specify the **row(s) first, followed by the column(s)**"
   ]
  },
  {
   "cell_type": "markdown",
   "metadata": {
    "slideshow": {
     "slide_type": "fragment"
    }
   },
   "source": [
    "- With **positional indexing**, we use the `iloc` attribute (you can think of it as \"integer location\") followed by square brackets containing the row position(s) followed by column position(s)\n",
    "- For example, we can use the row number and column number to select the yellow cell from the above diagram:"
   ]
  },
  {
   "cell_type": "code",
   "execution_count": 39,
   "metadata": {
    "slideshow": {
     "slide_type": "fragment"
    }
   },
   "outputs": [
    {
     "data": {
      "text/plain": [
       "12.5"
      ]
     },
     "execution_count": 39,
     "metadata": {},
     "output_type": "execute_result"
    }
   ],
   "source": [
    "# Position: row 1, column 4\n",
    "weather_mean.iloc[1, 4]"
   ]
  },
  {
   "cell_type": "markdown",
   "metadata": {
    "slideshow": {
     "slide_type": "fragment"
    }
   },
   "source": [
    "- With **label-based indexing**, we use the `loc` attribute followed by square brackets containing the row label(s) followed by the column label(s)\n",
    "- For example, we use the row label and column label to select the yellow cell:"
   ]
  },
  {
   "cell_type": "code",
   "execution_count": 40,
   "metadata": {
    "slideshow": {
     "slide_type": "fragment"
    }
   },
   "outputs": [
    {
     "data": {
      "text/plain": [
       "12.5"
      ]
     },
     "execution_count": 40,
     "metadata": {},
     "output_type": "execute_result"
    }
   ],
   "source": [
    "# Labels - row: 'CHARLOTTETOWN', column: 'Wind Spd (km/h)'\n",
    "weather_mean.loc['CHARLOTTETOWN', 'Wind Spd (km/h)']"
   ]
  },
  {
   "cell_type": "markdown",
   "metadata": {
    "slideshow": {
     "slide_type": "fragment"
    }
   },
   "source": [
    "- Label-based indexing can be really handy because it allows us to use our DataFrame as a **lookup table**, as in the example above\n",
    "- If we don't know or care about the row and column number of the data of interest, we can use labels to look up the value\n",
    "  - To find out the wind speed in Charlottetown, we just specify the labels `'CHARLOTTETOWN'` and `'Wind Spd (km/h)'`"
   ]
  },
  {
   "cell_type": "markdown",
   "metadata": {
    "slideshow": {
     "slide_type": "slide"
    }
   },
   "source": [
    "# Exercise 3.1\n",
    "\n",
    "a) Select the cell in row 2, column 6 of `weather_mean` using `iloc`\n",
    "\n",
    "b) Same as a) but using `loc`\n",
    "\n",
    "c) Use `iloc` to select the cell in `weather_mean` containing the value of the relative humidity in Halifax.\n",
    "\n",
    "d) Select the same cell as in c) but using `loc`"
   ]
  },
  {
   "cell_type": "code",
   "execution_count": null,
   "metadata": {},
   "outputs": [],
   "source": []
  },
  {
   "cell_type": "code",
   "execution_count": null,
   "metadata": {},
   "outputs": [],
   "source": []
  },
  {
   "cell_type": "code",
   "execution_count": null,
   "metadata": {},
   "outputs": [],
   "source": []
  },
  {
   "cell_type": "code",
   "execution_count": null,
   "metadata": {
    "slideshow": {
     "slide_type": "-"
    }
   },
   "outputs": [],
   "source": []
  },
  {
   "cell_type": "markdown",
   "metadata": {
    "slideshow": {
     "slide_type": "slide"
    }
   },
   "source": [
    "# Positional Indexing\n",
    "\n",
    "With Python lists, we can use positional indexing to select:\n",
    "- A single item at a specified position, or\n",
    "- A slice `start:stop:step`"
   ]
  },
  {
   "cell_type": "code",
   "execution_count": 41,
   "metadata": {
    "slideshow": {
     "slide_type": "fragment"
    }
   },
   "outputs": [
    {
     "name": "stdout",
     "output_type": "stream",
     "text": [
      "cat\n",
      "['elephant', 'duck', 'hamster']\n",
      "['cat', 'elephant', 'hamster', 'parrot']\n"
     ]
    }
   ],
   "source": [
    "animals = ['cat', 'dog', 'elephant', 'duck', 'hamster', 'sheep', 'parrot']\n",
    "\n",
    "# Print item 0\n",
    "print(animals[0])\n",
    "\n",
    "# Print items in the slice 2:5 (i.e. items 2, 3, 4)\n",
    "print(animals[2:5])\n",
    "\n",
    "# Print alternating items starting from position 0\n",
    "print(animals[::2])"
   ]
  },
  {
   "cell_type": "markdown",
   "metadata": {
    "slideshow": {
     "slide_type": "fragment"
    }
   },
   "source": [
    "We can do the same for rows and columns of a DataFrame with `iloc`.\n",
    "\n",
    "- Single row and single column, as we saw earlier:"
   ]
  },
  {
   "cell_type": "code",
   "execution_count": 49,
   "metadata": {
    "slideshow": {
     "slide_type": "fragment"
    }
   },
   "outputs": [
    {
     "data": {
      "text/plain": [
       "92.95083333333334"
      ]
     },
     "execution_count": 49,
     "metadata": {},
     "output_type": "execute_result"
    }
   ],
   "source": [
    "weather_mean.iloc[2, 6]"
   ]
  },
  {
   "cell_type": "markdown",
   "metadata": {
    "slideshow": {
     "slide_type": "fragment"
    }
   },
   "source": [
    "- Slice of rows and a slice of columns:"
   ]
  },
  {
   "cell_type": "code",
   "execution_count": 44,
   "metadata": {
    "slideshow": {
     "slide_type": "fragment"
    }
   },
   "outputs": [
    {
     "data": {
      "text/html": [
       "<div>\n",
       "<style scoped>\n",
       "    .dataframe tbody tr th:only-of-type {\n",
       "        vertical-align: middle;\n",
       "    }\n",
       "\n",
       "    .dataframe tbody tr th {\n",
       "        vertical-align: top;\n",
       "    }\n",
       "\n",
       "    .dataframe thead th {\n",
       "        text-align: right;\n",
       "    }\n",
       "</style>\n",
       "<table border=\"1\" class=\"dataframe\">\n",
       "  <thead>\n",
       "    <tr style=\"text-align: right;\">\n",
       "      <th></th>\n",
       "      <th>Visibility (km)</th>\n",
       "      <th>Pressure (kPa)</th>\n",
       "      <th>Hmdx</th>\n",
       "      <th>Wind Chill</th>\n",
       "    </tr>\n",
       "    <tr>\n",
       "      <th>Station Name</th>\n",
       "      <th></th>\n",
       "      <th></th>\n",
       "      <th></th>\n",
       "      <th></th>\n",
       "    </tr>\n",
       "  </thead>\n",
       "  <tbody>\n",
       "    <tr>\n",
       "      <th>HALIFAX</th>\n",
       "      <td>24.100000</td>\n",
       "      <td>100.328333</td>\n",
       "      <td>NaN</td>\n",
       "      <td>NaN</td>\n",
       "    </tr>\n",
       "    <tr>\n",
       "      <th>IQALUIT</th>\n",
       "      <td>23.670833</td>\n",
       "      <td>100.540417</td>\n",
       "      <td>NaN</td>\n",
       "      <td>-13.125</td>\n",
       "    </tr>\n",
       "    <tr>\n",
       "      <th>MONTREAL</th>\n",
       "      <td>29.141667</td>\n",
       "      <td>101.318750</td>\n",
       "      <td>NaN</td>\n",
       "      <td>NaN</td>\n",
       "    </tr>\n",
       "    <tr>\n",
       "      <th>OTTAWA</th>\n",
       "      <td>23.766667</td>\n",
       "      <td>100.387500</td>\n",
       "      <td>NaN</td>\n",
       "      <td>NaN</td>\n",
       "    </tr>\n",
       "  </tbody>\n",
       "</table>\n",
       "</div>"
      ],
      "text/plain": [
       "              Visibility (km)  Pressure (kPa)  Hmdx  Wind Chill\n",
       "Station Name                                                   \n",
       "HALIFAX             24.100000      100.328333   NaN         NaN\n",
       "IQALUIT             23.670833      100.540417   NaN     -13.125\n",
       "MONTREAL            29.141667      101.318750   NaN         NaN\n",
       "OTTAWA              23.766667      100.387500   NaN         NaN"
      ]
     },
     "execution_count": 44,
     "metadata": {},
     "output_type": "execute_result"
    }
   ],
   "source": [
    "weather_mean.iloc[4:8, 5:]"
   ]
  },
  {
   "cell_type": "markdown",
   "metadata": {
    "slideshow": {
     "slide_type": "fragment"
    }
   },
   "source": [
    "- As with list slicing, slices with `iloc` are **inclusive** of the start bound but **exclusive** of the stop bound\n",
    "  - Row slice `4:8` is from row 4 up to, but not including row 8\n",
    "- Also as with list slicing, the start or stop bound can be omitted\n",
    "  - Column slice `5:` goes from column 5 to the end\n",
    "  - A slice `:3` would go from position 0 to position 2\n",
    "- The slice `:` (no start or stop bound) will select all rows or columns"
   ]
  },
  {
   "cell_type": "markdown",
   "metadata": {
    "slideshow": {
     "slide_type": "slide"
    }
   },
   "source": [
    "- All rows and a slice of several columns:"
   ]
  },
  {
   "cell_type": "code",
   "execution_count": 45,
   "metadata": {
    "slideshow": {
     "slide_type": "fragment"
    }
   },
   "outputs": [
    {
     "data": {
      "text/html": [
       "<div>\n",
       "<style scoped>\n",
       "    .dataframe tbody tr th:only-of-type {\n",
       "        vertical-align: middle;\n",
       "    }\n",
       "\n",
       "    .dataframe tbody tr th {\n",
       "        vertical-align: top;\n",
       "    }\n",
       "\n",
       "    .dataframe thead th {\n",
       "        text-align: right;\n",
       "    }\n",
       "</style>\n",
       "<table border=\"1\" class=\"dataframe\">\n",
       "  <thead>\n",
       "    <tr style=\"text-align: right;\">\n",
       "      <th></th>\n",
       "      <th>Rel Hum (%)</th>\n",
       "      <th>Wind Dir (deg)</th>\n",
       "      <th>Wind Spd (km/h)</th>\n",
       "    </tr>\n",
       "    <tr>\n",
       "      <th>Station Name</th>\n",
       "      <th></th>\n",
       "      <th></th>\n",
       "      <th></th>\n",
       "    </tr>\n",
       "  </thead>\n",
       "  <tbody>\n",
       "    <tr>\n",
       "      <th>CALGARY</th>\n",
       "      <td>43.875000</td>\n",
       "      <td>172.083333</td>\n",
       "      <td>10.625000</td>\n",
       "    </tr>\n",
       "    <tr>\n",
       "      <th>CHARLOTTETOWN</th>\n",
       "      <td>59.666667</td>\n",
       "      <td>212.916667</td>\n",
       "      <td>12.500000</td>\n",
       "    </tr>\n",
       "    <tr>\n",
       "      <th>EDMONTON</th>\n",
       "      <td>48.791667</td>\n",
       "      <td>208.333333</td>\n",
       "      <td>8.083333</td>\n",
       "    </tr>\n",
       "    <tr>\n",
       "      <th>FREDERICTON</th>\n",
       "      <td>48.608696</td>\n",
       "      <td>247.222222</td>\n",
       "      <td>14.043478</td>\n",
       "    </tr>\n",
       "    <tr>\n",
       "      <th>HALIFAX</th>\n",
       "      <td>40.041667</td>\n",
       "      <td>178.333333</td>\n",
       "      <td>15.500000</td>\n",
       "    </tr>\n",
       "    <tr>\n",
       "      <th>IQALUIT</th>\n",
       "      <td>77.625000</td>\n",
       "      <td>329.583333</td>\n",
       "      <td>29.625000</td>\n",
       "    </tr>\n",
       "    <tr>\n",
       "      <th>MONTREAL</th>\n",
       "      <td>56.958333</td>\n",
       "      <td>195.000000</td>\n",
       "      <td>11.791667</td>\n",
       "    </tr>\n",
       "    <tr>\n",
       "      <th>OTTAWA</th>\n",
       "      <td>68.541667</td>\n",
       "      <td>194.583333</td>\n",
       "      <td>8.500000</td>\n",
       "    </tr>\n",
       "    <tr>\n",
       "      <th>PRINCE GEORGE</th>\n",
       "      <td>62.291667</td>\n",
       "      <td>141.538462</td>\n",
       "      <td>5.791667</td>\n",
       "    </tr>\n",
       "    <tr>\n",
       "      <th>QUEBEC</th>\n",
       "      <td>47.666667</td>\n",
       "      <td>236.666667</td>\n",
       "      <td>13.291667</td>\n",
       "    </tr>\n",
       "    <tr>\n",
       "      <th>REGINA</th>\n",
       "      <td>39.958333</td>\n",
       "      <td>221.666667</td>\n",
       "      <td>8.666667</td>\n",
       "    </tr>\n",
       "    <tr>\n",
       "      <th>SASKATOON</th>\n",
       "      <td>48.708333</td>\n",
       "      <td>185.833333</td>\n",
       "      <td>12.208333</td>\n",
       "    </tr>\n",
       "    <tr>\n",
       "      <th>ST. JOHN'S</th>\n",
       "      <td>75.916667</td>\n",
       "      <td>195.000000</td>\n",
       "      <td>23.625000</td>\n",
       "    </tr>\n",
       "    <tr>\n",
       "      <th>THUNDER BAY</th>\n",
       "      <td>51.958333</td>\n",
       "      <td>212.500000</td>\n",
       "      <td>11.583333</td>\n",
       "    </tr>\n",
       "    <tr>\n",
       "      <th>TORONTO</th>\n",
       "      <td>72.458333</td>\n",
       "      <td>118.333333</td>\n",
       "      <td>6.708333</td>\n",
       "    </tr>\n",
       "    <tr>\n",
       "      <th>VANCOUVER</th>\n",
       "      <td>76.500000</td>\n",
       "      <td>234.583333</td>\n",
       "      <td>8.125000</td>\n",
       "    </tr>\n",
       "    <tr>\n",
       "      <th>VICTORIA</th>\n",
       "      <td>72.625000</td>\n",
       "      <td>192.500000</td>\n",
       "      <td>7.541667</td>\n",
       "    </tr>\n",
       "    <tr>\n",
       "      <th>WHITEHORSE</th>\n",
       "      <td>57.125000</td>\n",
       "      <td>162.916667</td>\n",
       "      <td>20.333333</td>\n",
       "    </tr>\n",
       "    <tr>\n",
       "      <th>WINNIPEG</th>\n",
       "      <td>43.208333</td>\n",
       "      <td>187.916667</td>\n",
       "      <td>16.041667</td>\n",
       "    </tr>\n",
       "    <tr>\n",
       "      <th>YELLOWKNIFE</th>\n",
       "      <td>45.041667</td>\n",
       "      <td>158.750000</td>\n",
       "      <td>20.041667</td>\n",
       "    </tr>\n",
       "  </tbody>\n",
       "</table>\n",
       "</div>"
      ],
      "text/plain": [
       "               Rel Hum (%)  Wind Dir (deg)  Wind Spd (km/h)\n",
       "Station Name                                               \n",
       "CALGARY          43.875000      172.083333        10.625000\n",
       "CHARLOTTETOWN    59.666667      212.916667        12.500000\n",
       "EDMONTON         48.791667      208.333333         8.083333\n",
       "FREDERICTON      48.608696      247.222222        14.043478\n",
       "HALIFAX          40.041667      178.333333        15.500000\n",
       "IQALUIT          77.625000      329.583333        29.625000\n",
       "MONTREAL         56.958333      195.000000        11.791667\n",
       "OTTAWA           68.541667      194.583333         8.500000\n",
       "PRINCE GEORGE    62.291667      141.538462         5.791667\n",
       "QUEBEC           47.666667      236.666667        13.291667\n",
       "REGINA           39.958333      221.666667         8.666667\n",
       "SASKATOON        48.708333      185.833333        12.208333\n",
       "ST. JOHN'S       75.916667      195.000000        23.625000\n",
       "THUNDER BAY      51.958333      212.500000        11.583333\n",
       "TORONTO          72.458333      118.333333         6.708333\n",
       "VANCOUVER        76.500000      234.583333         8.125000\n",
       "VICTORIA         72.625000      192.500000         7.541667\n",
       "WHITEHORSE       57.125000      162.916667        20.333333\n",
       "WINNIPEG         43.208333      187.916667        16.041667\n",
       "YELLOWKNIFE      45.041667      158.750000        20.041667"
      ]
     },
     "execution_count": 45,
     "metadata": {},
     "output_type": "execute_result"
    }
   ],
   "source": [
    "weather_mean.iloc[:, 2:5]"
   ]
  },
  {
   "cell_type": "markdown",
   "metadata": {
    "slideshow": {
     "slide_type": "fragment"
    }
   },
   "source": [
    "- Several rows and all columns:"
   ]
  },
  {
   "cell_type": "code",
   "execution_count": 46,
   "metadata": {
    "scrolled": false,
    "slideshow": {
     "slide_type": "fragment"
    }
   },
   "outputs": [
    {
     "data": {
      "text/html": [
       "<div>\n",
       "<style scoped>\n",
       "    .dataframe tbody tr th:only-of-type {\n",
       "        vertical-align: middle;\n",
       "    }\n",
       "\n",
       "    .dataframe tbody tr th {\n",
       "        vertical-align: top;\n",
       "    }\n",
       "\n",
       "    .dataframe thead th {\n",
       "        text-align: right;\n",
       "    }\n",
       "</style>\n",
       "<table border=\"1\" class=\"dataframe\">\n",
       "  <thead>\n",
       "    <tr style=\"text-align: right;\">\n",
       "      <th></th>\n",
       "      <th>Temp (deg C)</th>\n",
       "      <th>Dew Point Temp (deg C)</th>\n",
       "      <th>Rel Hum (%)</th>\n",
       "      <th>Wind Dir (deg)</th>\n",
       "      <th>Wind Spd (km/h)</th>\n",
       "      <th>Visibility (km)</th>\n",
       "      <th>Pressure (kPa)</th>\n",
       "      <th>Hmdx</th>\n",
       "      <th>Wind Chill</th>\n",
       "    </tr>\n",
       "    <tr>\n",
       "      <th>Station Name</th>\n",
       "      <th></th>\n",
       "      <th></th>\n",
       "      <th></th>\n",
       "      <th></th>\n",
       "      <th></th>\n",
       "      <th></th>\n",
       "      <th></th>\n",
       "      <th></th>\n",
       "      <th></th>\n",
       "    </tr>\n",
       "  </thead>\n",
       "  <tbody>\n",
       "    <tr>\n",
       "      <th>IQALUIT</th>\n",
       "      <td>-5.350000</td>\n",
       "      <td>-8.695833</td>\n",
       "      <td>77.625000</td>\n",
       "      <td>329.583333</td>\n",
       "      <td>29.625000</td>\n",
       "      <td>23.670833</td>\n",
       "      <td>100.540417</td>\n",
       "      <td>NaN</td>\n",
       "      <td>-13.125</td>\n",
       "    </tr>\n",
       "    <tr>\n",
       "      <th>PRINCE GEORGE</th>\n",
       "      <td>14.337500</td>\n",
       "      <td>5.883333</td>\n",
       "      <td>62.291667</td>\n",
       "      <td>141.538462</td>\n",
       "      <td>5.791667</td>\n",
       "      <td>15.900000</td>\n",
       "      <td>93.307083</td>\n",
       "      <td>25.000000</td>\n",
       "      <td>NaN</td>\n",
       "    </tr>\n",
       "    <tr>\n",
       "      <th>SASKATOON</th>\n",
       "      <td>19.308333</td>\n",
       "      <td>6.845833</td>\n",
       "      <td>48.708333</td>\n",
       "      <td>185.833333</td>\n",
       "      <td>12.208333</td>\n",
       "      <td>23.900000</td>\n",
       "      <td>95.211667</td>\n",
       "      <td>26.333333</td>\n",
       "      <td>NaN</td>\n",
       "    </tr>\n",
       "    <tr>\n",
       "      <th>TORONTO</th>\n",
       "      <td>14.833333</td>\n",
       "      <td>9.045833</td>\n",
       "      <td>72.458333</td>\n",
       "      <td>118.333333</td>\n",
       "      <td>6.708333</td>\n",
       "      <td>13.229167</td>\n",
       "      <td>99.551250</td>\n",
       "      <td>NaN</td>\n",
       "      <td>NaN</td>\n",
       "    </tr>\n",
       "  </tbody>\n",
       "</table>\n",
       "</div>"
      ],
      "text/plain": [
       "               Temp (deg C)  Dew Point Temp (deg C)  Rel Hum (%)  \\\n",
       "Station Name                                                       \n",
       "IQALUIT           -5.350000               -8.695833    77.625000   \n",
       "PRINCE GEORGE     14.337500                5.883333    62.291667   \n",
       "SASKATOON         19.308333                6.845833    48.708333   \n",
       "TORONTO           14.833333                9.045833    72.458333   \n",
       "\n",
       "               Wind Dir (deg)  Wind Spd (km/h)  Visibility (km)  \\\n",
       "Station Name                                                      \n",
       "IQALUIT            329.583333        29.625000        23.670833   \n",
       "PRINCE GEORGE      141.538462         5.791667        15.900000   \n",
       "SASKATOON          185.833333        12.208333        23.900000   \n",
       "TORONTO            118.333333         6.708333        13.229167   \n",
       "\n",
       "               Pressure (kPa)       Hmdx  Wind Chill  \n",
       "Station Name                                          \n",
       "IQALUIT            100.540417        NaN     -13.125  \n",
       "PRINCE GEORGE       93.307083  25.000000         NaN  \n",
       "SASKATOON           95.211667  26.333333         NaN  \n",
       "TORONTO             99.551250        NaN         NaN  "
      ]
     },
     "execution_count": 46,
     "metadata": {},
     "output_type": "execute_result"
    }
   ],
   "source": [
    "weather_mean.iloc[5:15:3, :]"
   ]
  },
  {
   "cell_type": "markdown",
   "metadata": {
    "slideshow": {
     "slide_type": "fragment"
    }
   },
   "source": [
    "- Slice of several rows and one column:"
   ]
  },
  {
   "cell_type": "code",
   "execution_count": 47,
   "metadata": {
    "scrolled": false,
    "slideshow": {
     "slide_type": "fragment"
    }
   },
   "outputs": [
    {
     "data": {
      "text/plain": [
       "Station Name\n",
       "IQALUIT          -5.350000\n",
       "PRINCE GEORGE    14.337500\n",
       "SASKATOON        19.308333\n",
       "TORONTO          14.833333\n",
       "Name: Temp (deg C), dtype: float64"
      ]
     },
     "execution_count": 47,
     "metadata": {},
     "output_type": "execute_result"
    }
   ],
   "source": [
    "weather_mean.iloc[5:15:3, 0]"
   ]
  },
  {
   "cell_type": "markdown",
   "metadata": {
    "slideshow": {
     "slide_type": "skip"
    }
   },
   "source": [
    "---\n",
    "### Interlude: Shortcut for Row Selection\n",
    "\n",
    "When selecting entire rows, we can omit the `:` comma slice\n",
    "- The following two are equivalent:\n",
    "  - `weather_mean.iloc[start:stop:step, :]`\n",
    "  - `weather_mean.iloc[start:stop:step]`"
   ]
  },
  {
   "cell_type": "code",
   "execution_count": null,
   "metadata": {
    "slideshow": {
     "slide_type": "skip"
    }
   },
   "outputs": [],
   "source": [
    "weather_mean.iloc[4:8]"
   ]
  },
  {
   "cell_type": "markdown",
   "metadata": {
    "slideshow": {
     "slide_type": "skip"
    }
   },
   "source": [
    "However, we can't omit the `:` row slice when selecting columns with `iloc`. This is because selection with `iloc` always specifies rows first, followed (optionally) by columns.\n",
    "\n",
    "---"
   ]
  },
  {
   "cell_type": "markdown",
   "metadata": {
    "slideshow": {
     "slide_type": "slide"
    }
   },
   "source": [
    "Something we can do with `iloc` that we can't do with Python lists is select multiple items in any arbitrary order.\n",
    "- We do this by using a list inside the indexing operator\n",
    "- For example, select rows 4 and 2 (in that order), and slice 3:7 of columns:"
   ]
  },
  {
   "cell_type": "code",
   "execution_count": 48,
   "metadata": {
    "slideshow": {
     "slide_type": "fragment"
    }
   },
   "outputs": [
    {
     "data": {
      "text/html": [
       "<div>\n",
       "<style scoped>\n",
       "    .dataframe tbody tr th:only-of-type {\n",
       "        vertical-align: middle;\n",
       "    }\n",
       "\n",
       "    .dataframe tbody tr th {\n",
       "        vertical-align: top;\n",
       "    }\n",
       "\n",
       "    .dataframe thead th {\n",
       "        text-align: right;\n",
       "    }\n",
       "</style>\n",
       "<table border=\"1\" class=\"dataframe\">\n",
       "  <thead>\n",
       "    <tr style=\"text-align: right;\">\n",
       "      <th></th>\n",
       "      <th>Wind Dir (deg)</th>\n",
       "      <th>Wind Spd (km/h)</th>\n",
       "      <th>Visibility (km)</th>\n",
       "      <th>Pressure (kPa)</th>\n",
       "    </tr>\n",
       "    <tr>\n",
       "      <th>Station Name</th>\n",
       "      <th></th>\n",
       "      <th></th>\n",
       "      <th></th>\n",
       "      <th></th>\n",
       "    </tr>\n",
       "  </thead>\n",
       "  <tbody>\n",
       "    <tr>\n",
       "      <th>HALIFAX</th>\n",
       "      <td>178.333333</td>\n",
       "      <td>15.500000</td>\n",
       "      <td>24.1</td>\n",
       "      <td>100.328333</td>\n",
       "    </tr>\n",
       "    <tr>\n",
       "      <th>EDMONTON</th>\n",
       "      <td>208.333333</td>\n",
       "      <td>8.083333</td>\n",
       "      <td>24.1</td>\n",
       "      <td>92.950833</td>\n",
       "    </tr>\n",
       "  </tbody>\n",
       "</table>\n",
       "</div>"
      ],
      "text/plain": [
       "              Wind Dir (deg)  Wind Spd (km/h)  Visibility (km)  Pressure (kPa)\n",
       "Station Name                                                                  \n",
       "HALIFAX           178.333333        15.500000             24.1      100.328333\n",
       "EDMONTON          208.333333         8.083333             24.1       92.950833"
      ]
     },
     "execution_count": 48,
     "metadata": {},
     "output_type": "execute_result"
    }
   ],
   "source": [
    "weather_mean.iloc[[4, 2], 3:7]"
   ]
  },
  {
   "cell_type": "markdown",
   "metadata": {
    "slideshow": {
     "slide_type": "fragment"
    }
   },
   "source": [
    "- Select rows 4 and 2, and columns 6, 4, 5:"
   ]
  },
  {
   "cell_type": "code",
   "execution_count": 50,
   "metadata": {
    "slideshow": {
     "slide_type": "fragment"
    }
   },
   "outputs": [
    {
     "data": {
      "text/html": [
       "<div>\n",
       "<style scoped>\n",
       "    .dataframe tbody tr th:only-of-type {\n",
       "        vertical-align: middle;\n",
       "    }\n",
       "\n",
       "    .dataframe tbody tr th {\n",
       "        vertical-align: top;\n",
       "    }\n",
       "\n",
       "    .dataframe thead th {\n",
       "        text-align: right;\n",
       "    }\n",
       "</style>\n",
       "<table border=\"1\" class=\"dataframe\">\n",
       "  <thead>\n",
       "    <tr style=\"text-align: right;\">\n",
       "      <th></th>\n",
       "      <th>Pressure (kPa)</th>\n",
       "      <th>Wind Spd (km/h)</th>\n",
       "      <th>Visibility (km)</th>\n",
       "    </tr>\n",
       "    <tr>\n",
       "      <th>Station Name</th>\n",
       "      <th></th>\n",
       "      <th></th>\n",
       "      <th></th>\n",
       "    </tr>\n",
       "  </thead>\n",
       "  <tbody>\n",
       "    <tr>\n",
       "      <th>HALIFAX</th>\n",
       "      <td>100.328333</td>\n",
       "      <td>15.500000</td>\n",
       "      <td>24.1</td>\n",
       "    </tr>\n",
       "    <tr>\n",
       "      <th>EDMONTON</th>\n",
       "      <td>92.950833</td>\n",
       "      <td>8.083333</td>\n",
       "      <td>24.1</td>\n",
       "    </tr>\n",
       "  </tbody>\n",
       "</table>\n",
       "</div>"
      ],
      "text/plain": [
       "              Pressure (kPa)  Wind Spd (km/h)  Visibility (km)\n",
       "Station Name                                                  \n",
       "HALIFAX           100.328333        15.500000             24.1\n",
       "EDMONTON           92.950833         8.083333             24.1"
      ]
     },
     "execution_count": 50,
     "metadata": {},
     "output_type": "execute_result"
    }
   ],
   "source": [
    "weather_mean.iloc[[4, 2], [6, 4, 5]]"
   ]
  },
  {
   "cell_type": "markdown",
   "metadata": {
    "slideshow": {
     "slide_type": "slide"
    }
   },
   "source": [
    "# Exercise 3.2\n",
    "\n",
    "a) Use `iloc` to select rows 15 to end and the first 3 columns of `weather_mean`"
   ]
  },
  {
   "cell_type": "code",
   "execution_count": null,
   "metadata": {
    "slideshow": {
     "slide_type": "-"
    }
   },
   "outputs": [],
   "source": []
  },
  {
   "cell_type": "markdown",
   "metadata": {
    "slideshow": {
     "slide_type": "-"
    }
   },
   "source": [
    "b) Use `iloc` to select the every fourth row (starting from 0) and columns 4, 3, and 0 of weather_mean"
   ]
  },
  {
   "cell_type": "code",
   "execution_count": null,
   "metadata": {
    "slideshow": {
     "slide_type": "-"
    }
   },
   "outputs": [],
   "source": []
  },
  {
   "cell_type": "markdown",
   "metadata": {
    "slideshow": {
     "slide_type": "slide"
    }
   },
   "source": [
    "# Label-Based Indexing\n",
    "\n",
    "Similar to `iloc`, label-based indexing with `loc` allows us to select:\n",
    "- A single cell\n",
    "- A single row and/or column\n",
    "- Slices of rows and/or columns\n",
    "- Multiple rows and/or columns in arbitrary order"
   ]
  },
  {
   "cell_type": "markdown",
   "metadata": {
    "slideshow": {
     "slide_type": "fragment"
    }
   },
   "source": [
    "We can also select rows or columns with a Boolean Series, and mix and match this with the above selection methods."
   ]
  },
  {
   "cell_type": "markdown",
   "metadata": {
    "slideshow": {
     "slide_type": "fragment"
    }
   },
   "source": [
    "However, `loc` has a few important caveats and differences from `iloc`, as we shall see shortly."
   ]
  },
  {
   "cell_type": "markdown",
   "metadata": {
    "slideshow": {
     "slide_type": "slide"
    }
   },
   "source": [
    "- Single row and column:"
   ]
  },
  {
   "cell_type": "code",
   "execution_count": 51,
   "metadata": {
    "slideshow": {
     "slide_type": "-"
    }
   },
   "outputs": [
    {
     "data": {
      "text/plain": [
       "40.041666666666664"
      ]
     },
     "execution_count": 51,
     "metadata": {},
     "output_type": "execute_result"
    }
   ],
   "source": [
    "weather_mean.loc['HALIFAX', 'Rel Hum (%)']"
   ]
  },
  {
   "cell_type": "markdown",
   "metadata": {
    "slideshow": {
     "slide_type": "fragment"
    }
   },
   "source": [
    "- Slice of rows and slice of columns:"
   ]
  },
  {
   "cell_type": "code",
   "execution_count": 52,
   "metadata": {
    "slideshow": {
     "slide_type": "-"
    }
   },
   "outputs": [
    {
     "data": {
      "text/html": [
       "<div>\n",
       "<style scoped>\n",
       "    .dataframe tbody tr th:only-of-type {\n",
       "        vertical-align: middle;\n",
       "    }\n",
       "\n",
       "    .dataframe tbody tr th {\n",
       "        vertical-align: top;\n",
       "    }\n",
       "\n",
       "    .dataframe thead th {\n",
       "        text-align: right;\n",
       "    }\n",
       "</style>\n",
       "<table border=\"1\" class=\"dataframe\">\n",
       "  <thead>\n",
       "    <tr style=\"text-align: right;\">\n",
       "      <th></th>\n",
       "      <th>Rel Hum (%)</th>\n",
       "      <th>Wind Dir (deg)</th>\n",
       "      <th>Wind Spd (km/h)</th>\n",
       "    </tr>\n",
       "    <tr>\n",
       "      <th>Station Name</th>\n",
       "      <th></th>\n",
       "      <th></th>\n",
       "      <th></th>\n",
       "    </tr>\n",
       "  </thead>\n",
       "  <tbody>\n",
       "    <tr>\n",
       "      <th>HALIFAX</th>\n",
       "      <td>40.041667</td>\n",
       "      <td>178.333333</td>\n",
       "      <td>15.500000</td>\n",
       "    </tr>\n",
       "    <tr>\n",
       "      <th>IQALUIT</th>\n",
       "      <td>77.625000</td>\n",
       "      <td>329.583333</td>\n",
       "      <td>29.625000</td>\n",
       "    </tr>\n",
       "    <tr>\n",
       "      <th>MONTREAL</th>\n",
       "      <td>56.958333</td>\n",
       "      <td>195.000000</td>\n",
       "      <td>11.791667</td>\n",
       "    </tr>\n",
       "    <tr>\n",
       "      <th>OTTAWA</th>\n",
       "      <td>68.541667</td>\n",
       "      <td>194.583333</td>\n",
       "      <td>8.500000</td>\n",
       "    </tr>\n",
       "  </tbody>\n",
       "</table>\n",
       "</div>"
      ],
      "text/plain": [
       "              Rel Hum (%)  Wind Dir (deg)  Wind Spd (km/h)\n",
       "Station Name                                              \n",
       "HALIFAX         40.041667      178.333333        15.500000\n",
       "IQALUIT         77.625000      329.583333        29.625000\n",
       "MONTREAL        56.958333      195.000000        11.791667\n",
       "OTTAWA          68.541667      194.583333         8.500000"
      ]
     },
     "execution_count": 52,
     "metadata": {},
     "output_type": "execute_result"
    }
   ],
   "source": [
    "weather_mean.loc['HALIFAX':'OTTAWA', 'Rel Hum (%)':'Wind Spd (km/h)']"
   ]
  },
  {
   "cell_type": "markdown",
   "metadata": {
    "slideshow": {
     "slide_type": "fragment"
    }
   },
   "source": [
    "Can you spot the difference compared to slicing with `iloc`?"
   ]
  },
  {
   "cell_type": "markdown",
   "metadata": {
    "slideshow": {
     "slide_type": "fragment"
    }
   },
   "source": [
    "- Label-based slicing with `loc` is **inclusive** of **both** the start bound **and** the stop bound!\n",
    "- There are [practical reasons](https://pandas.pydata.org/pandas-docs/stable/advanced.html#endpoints-are-inclusive) why this design decision was made, but we won't get into the details for now\n",
    "- It's important to keep this difference in mind when slicing with labels"
   ]
  },
  {
   "cell_type": "markdown",
   "metadata": {
    "slideshow": {
     "slide_type": "slide"
    }
   },
   "source": [
    "- Slice of rows from Halifax to Ottawa, with the pressure and temperature columns, in that order:"
   ]
  },
  {
   "cell_type": "code",
   "execution_count": 53,
   "metadata": {
    "slideshow": {
     "slide_type": "-"
    }
   },
   "outputs": [
    {
     "data": {
      "text/html": [
       "<div>\n",
       "<style scoped>\n",
       "    .dataframe tbody tr th:only-of-type {\n",
       "        vertical-align: middle;\n",
       "    }\n",
       "\n",
       "    .dataframe tbody tr th {\n",
       "        vertical-align: top;\n",
       "    }\n",
       "\n",
       "    .dataframe thead th {\n",
       "        text-align: right;\n",
       "    }\n",
       "</style>\n",
       "<table border=\"1\" class=\"dataframe\">\n",
       "  <thead>\n",
       "    <tr style=\"text-align: right;\">\n",
       "      <th></th>\n",
       "      <th>Pressure (kPa)</th>\n",
       "      <th>Temp (deg C)</th>\n",
       "    </tr>\n",
       "    <tr>\n",
       "      <th>Station Name</th>\n",
       "      <th></th>\n",
       "      <th></th>\n",
       "    </tr>\n",
       "  </thead>\n",
       "  <tbody>\n",
       "    <tr>\n",
       "      <th>HALIFAX</th>\n",
       "      <td>100.328333</td>\n",
       "      <td>12.237500</td>\n",
       "    </tr>\n",
       "    <tr>\n",
       "      <th>IQALUIT</th>\n",
       "      <td>100.540417</td>\n",
       "      <td>-5.350000</td>\n",
       "    </tr>\n",
       "    <tr>\n",
       "      <th>MONTREAL</th>\n",
       "      <td>101.318750</td>\n",
       "      <td>17.479167</td>\n",
       "    </tr>\n",
       "    <tr>\n",
       "      <th>OTTAWA</th>\n",
       "      <td>100.387500</td>\n",
       "      <td>15.537500</td>\n",
       "    </tr>\n",
       "  </tbody>\n",
       "</table>\n",
       "</div>"
      ],
      "text/plain": [
       "              Pressure (kPa)  Temp (deg C)\n",
       "Station Name                              \n",
       "HALIFAX           100.328333     12.237500\n",
       "IQALUIT           100.540417     -5.350000\n",
       "MONTREAL          101.318750     17.479167\n",
       "OTTAWA            100.387500     15.537500"
      ]
     },
     "execution_count": 53,
     "metadata": {},
     "output_type": "execute_result"
    }
   ],
   "source": [
    "weather_mean.loc['HALIFAX':'Ottawa', ['Pressure (kPa)', 'Temp (deg C)']]"
   ]
  },
  {
   "cell_type": "markdown",
   "metadata": {
    "slideshow": {
     "slide_type": "fragment"
    }
   },
   "source": [
    "- Select rows with a Boolean Series and columns with a list:"
   ]
  },
  {
   "cell_type": "code",
   "execution_count": 54,
   "metadata": {
    "slideshow": {
     "slide_type": "-"
    }
   },
   "outputs": [
    {
     "data": {
      "text/html": [
       "<div>\n",
       "<style scoped>\n",
       "    .dataframe tbody tr th:only-of-type {\n",
       "        vertical-align: middle;\n",
       "    }\n",
       "\n",
       "    .dataframe tbody tr th {\n",
       "        vertical-align: top;\n",
       "    }\n",
       "\n",
       "    .dataframe thead th {\n",
       "        text-align: right;\n",
       "    }\n",
       "</style>\n",
       "<table border=\"1\" class=\"dataframe\">\n",
       "  <thead>\n",
       "    <tr style=\"text-align: right;\">\n",
       "      <th></th>\n",
       "      <th>Pressure (kPa)</th>\n",
       "      <th>Temp (deg C)</th>\n",
       "    </tr>\n",
       "    <tr>\n",
       "      <th>Station Name</th>\n",
       "      <th></th>\n",
       "      <th></th>\n",
       "    </tr>\n",
       "  </thead>\n",
       "  <tbody>\n",
       "    <tr>\n",
       "      <th>CHARLOTTETOWN</th>\n",
       "      <td>101.363750</td>\n",
       "      <td>8.637500</td>\n",
       "    </tr>\n",
       "    <tr>\n",
       "      <th>IQALUIT</th>\n",
       "      <td>100.540417</td>\n",
       "      <td>-5.350000</td>\n",
       "    </tr>\n",
       "    <tr>\n",
       "      <th>ST. JOHN'S</th>\n",
       "      <td>99.532500</td>\n",
       "      <td>4.862500</td>\n",
       "    </tr>\n",
       "    <tr>\n",
       "      <th>WHITEHORSE</th>\n",
       "      <td>92.225000</td>\n",
       "      <td>9.183333</td>\n",
       "    </tr>\n",
       "  </tbody>\n",
       "</table>\n",
       "</div>"
      ],
      "text/plain": [
       "               Pressure (kPa)  Temp (deg C)\n",
       "Station Name                               \n",
       "CHARLOTTETOWN      101.363750      8.637500\n",
       "IQALUIT            100.540417     -5.350000\n",
       "ST. JOHN'S          99.532500      4.862500\n",
       "WHITEHORSE          92.225000      9.183333"
      ]
     },
     "execution_count": 54,
     "metadata": {},
     "output_type": "execute_result"
    }
   ],
   "source": [
    "chilly = weather_mean['Temp (deg C)'] < 10\n",
    "weather_mean.loc[chilly, ['Pressure (kPa)', 'Temp (deg C)']]"
   ]
  },
  {
   "cell_type": "markdown",
   "metadata": {
    "slideshow": {
     "slide_type": "slide"
    }
   },
   "source": [
    "# Exercise 3.3\n",
    "\n",
    "a) Use `loc` to select the wind speed and wind direction in Toronto, Montreal, and Ottawa"
   ]
  },
  {
   "cell_type": "code",
   "execution_count": null,
   "metadata": {},
   "outputs": [],
   "source": []
  },
  {
   "cell_type": "markdown",
   "metadata": {},
   "source": [
    "b) Use `loc` to select rows where the relative humidity is less than 50%, and a column slice from `'Temp (deg C)'` through `'Rel Hum (%)'` (inclusive)"
   ]
  },
  {
   "cell_type": "code",
   "execution_count": null,
   "metadata": {
    "slideshow": {
     "slide_type": "-"
    }
   },
   "outputs": [],
   "source": []
  },
  {
   "cell_type": "markdown",
   "metadata": {
    "slideshow": {
     "slide_type": "skip"
    }
   },
   "source": [
    "---"
   ]
  },
  {
   "cell_type": "markdown",
   "metadata": {
    "slideshow": {
     "slide_type": "slide"
    }
   },
   "source": [
    "### Interlude: Non-Unique Labels\n",
    "\n",
    "Another important difference of label-based indexing compared to positional indexing is that unlike integer positions, labels do not need to be unique.\n",
    "- A single label with `loc` can select multiple rows or columns"
   ]
  },
  {
   "cell_type": "markdown",
   "metadata": {
    "slideshow": {
     "slide_type": "fragment"
    }
   },
   "source": [
    "For example, let's revisit the girls baby names data from Exercise 2.2:"
   ]
  },
  {
   "cell_type": "code",
   "execution_count": 61,
   "metadata": {
    "slideshow": {
     "slide_type": "-"
    }
   },
   "outputs": [
    {
     "data": {
      "text/html": [
       "<div>\n",
       "<style scoped>\n",
       "    .dataframe tbody tr th:only-of-type {\n",
       "        vertical-align: middle;\n",
       "    }\n",
       "\n",
       "    .dataframe tbody tr th {\n",
       "        vertical-align: top;\n",
       "    }\n",
       "\n",
       "    .dataframe thead th {\n",
       "        text-align: right;\n",
       "    }\n",
       "</style>\n",
       "<table border=\"1\" class=\"dataframe\">\n",
       "  <thead>\n",
       "    <tr style=\"text-align: right;\">\n",
       "      <th></th>\n",
       "      <th>Name</th>\n",
       "      <th>Year</th>\n",
       "      <th>Count</th>\n",
       "      <th>Fraction</th>\n",
       "    </tr>\n",
       "  </thead>\n",
       "  <tbody>\n",
       "    <tr>\n",
       "      <th>0</th>\n",
       "      <td>AALIYAH</td>\n",
       "      <td>2000</td>\n",
       "      <td>6</td>\n",
       "      <td>0.000433</td>\n",
       "    </tr>\n",
       "    <tr>\n",
       "      <th>1</th>\n",
       "      <td>AALIYAH</td>\n",
       "      <td>2001</td>\n",
       "      <td>13</td>\n",
       "      <td>0.000948</td>\n",
       "    </tr>\n",
       "    <tr>\n",
       "      <th>2</th>\n",
       "      <td>AALIYAH</td>\n",
       "      <td>2002</td>\n",
       "      <td>17</td>\n",
       "      <td>0.001271</td>\n",
       "    </tr>\n",
       "    <tr>\n",
       "      <th>3</th>\n",
       "      <td>AALIYAH</td>\n",
       "      <td>2003</td>\n",
       "      <td>23</td>\n",
       "      <td>0.001700</td>\n",
       "    </tr>\n",
       "    <tr>\n",
       "      <th>4</th>\n",
       "      <td>AALIYAH</td>\n",
       "      <td>2004</td>\n",
       "      <td>22</td>\n",
       "      <td>0.001644</td>\n",
       "    </tr>\n",
       "  </tbody>\n",
       "</table>\n",
       "</div>"
      ],
      "text/plain": [
       "      Name  Year  Count  Fraction\n",
       "0  AALIYAH  2000      6  0.000433\n",
       "1  AALIYAH  2001     13  0.000948\n",
       "2  AALIYAH  2002     17  0.001271\n",
       "3  AALIYAH  2003     23  0.001700\n",
       "4  AALIYAH  2004     22  0.001644"
      ]
     },
     "execution_count": 61,
     "metadata": {},
     "output_type": "execute_result"
    }
   ],
   "source": [
    "girls = pd.read_csv('data/bc-popular-girls-names.csv')\n",
    "girls.head()"
   ]
  },
  {
   "cell_type": "markdown",
   "metadata": {
    "slideshow": {
     "slide_type": "fragment"
    }
   },
   "source": [
    "We could use a filter to select all the rows for a specific name:"
   ]
  },
  {
   "cell_type": "code",
   "execution_count": 62,
   "metadata": {
    "scrolled": true,
    "slideshow": {
     "slide_type": "-"
    }
   },
   "outputs": [
    {
     "data": {
      "text/html": [
       "<div>\n",
       "<style scoped>\n",
       "    .dataframe tbody tr th:only-of-type {\n",
       "        vertical-align: middle;\n",
       "    }\n",
       "\n",
       "    .dataframe tbody tr th {\n",
       "        vertical-align: top;\n",
       "    }\n",
       "\n",
       "    .dataframe thead th {\n",
       "        text-align: right;\n",
       "    }\n",
       "</style>\n",
       "<table border=\"1\" class=\"dataframe\">\n",
       "  <thead>\n",
       "    <tr style=\"text-align: right;\">\n",
       "      <th></th>\n",
       "      <th>Name</th>\n",
       "      <th>Year</th>\n",
       "      <th>Count</th>\n",
       "      <th>Fraction</th>\n",
       "    </tr>\n",
       "  </thead>\n",
       "  <tbody>\n",
       "    <tr>\n",
       "      <th>14039</th>\n",
       "      <td>FATIMA</td>\n",
       "      <td>1993</td>\n",
       "      <td>6</td>\n",
       "      <td>0.000356</td>\n",
       "    </tr>\n",
       "    <tr>\n",
       "      <th>14040</th>\n",
       "      <td>FATIMA</td>\n",
       "      <td>1995</td>\n",
       "      <td>5</td>\n",
       "      <td>0.000302</td>\n",
       "    </tr>\n",
       "    <tr>\n",
       "      <th>14041</th>\n",
       "      <td>FATIMA</td>\n",
       "      <td>1997</td>\n",
       "      <td>8</td>\n",
       "      <td>0.000510</td>\n",
       "    </tr>\n",
       "    <tr>\n",
       "      <th>14042</th>\n",
       "      <td>FATIMA</td>\n",
       "      <td>2000</td>\n",
       "      <td>10</td>\n",
       "      <td>0.000722</td>\n",
       "    </tr>\n",
       "    <tr>\n",
       "      <th>14043</th>\n",
       "      <td>FATIMA</td>\n",
       "      <td>2001</td>\n",
       "      <td>9</td>\n",
       "      <td>0.000656</td>\n",
       "    </tr>\n",
       "    <tr>\n",
       "      <th>14044</th>\n",
       "      <td>FATIMA</td>\n",
       "      <td>2002</td>\n",
       "      <td>6</td>\n",
       "      <td>0.000449</td>\n",
       "    </tr>\n",
       "    <tr>\n",
       "      <th>14045</th>\n",
       "      <td>FATIMA</td>\n",
       "      <td>2003</td>\n",
       "      <td>5</td>\n",
       "      <td>0.000369</td>\n",
       "    </tr>\n",
       "    <tr>\n",
       "      <th>14046</th>\n",
       "      <td>FATIMA</td>\n",
       "      <td>2004</td>\n",
       "      <td>5</td>\n",
       "      <td>0.000374</td>\n",
       "    </tr>\n",
       "    <tr>\n",
       "      <th>14047</th>\n",
       "      <td>FATIMA</td>\n",
       "      <td>2006</td>\n",
       "      <td>6</td>\n",
       "      <td>0.000435</td>\n",
       "    </tr>\n",
       "    <tr>\n",
       "      <th>14048</th>\n",
       "      <td>FATIMA</td>\n",
       "      <td>2007</td>\n",
       "      <td>5</td>\n",
       "      <td>0.000351</td>\n",
       "    </tr>\n",
       "    <tr>\n",
       "      <th>14049</th>\n",
       "      <td>FATIMA</td>\n",
       "      <td>2008</td>\n",
       "      <td>5</td>\n",
       "      <td>0.000344</td>\n",
       "    </tr>\n",
       "    <tr>\n",
       "      <th>14050</th>\n",
       "      <td>FATIMA</td>\n",
       "      <td>2009</td>\n",
       "      <td>11</td>\n",
       "      <td>0.000743</td>\n",
       "    </tr>\n",
       "    <tr>\n",
       "      <th>14051</th>\n",
       "      <td>FATIMA</td>\n",
       "      <td>2010</td>\n",
       "      <td>9</td>\n",
       "      <td>0.000630</td>\n",
       "    </tr>\n",
       "    <tr>\n",
       "      <th>14052</th>\n",
       "      <td>FATIMA</td>\n",
       "      <td>2011</td>\n",
       "      <td>7</td>\n",
       "      <td>0.000485</td>\n",
       "    </tr>\n",
       "    <tr>\n",
       "      <th>14053</th>\n",
       "      <td>FATIMA</td>\n",
       "      <td>2013</td>\n",
       "      <td>8</td>\n",
       "      <td>0.000553</td>\n",
       "    </tr>\n",
       "    <tr>\n",
       "      <th>14054</th>\n",
       "      <td>FATIMA</td>\n",
       "      <td>2014</td>\n",
       "      <td>12</td>\n",
       "      <td>0.000816</td>\n",
       "    </tr>\n",
       "  </tbody>\n",
       "</table>\n",
       "</div>"
      ],
      "text/plain": [
       "         Name  Year  Count  Fraction\n",
       "14039  FATIMA  1993      6  0.000356\n",
       "14040  FATIMA  1995      5  0.000302\n",
       "14041  FATIMA  1997      8  0.000510\n",
       "14042  FATIMA  2000     10  0.000722\n",
       "14043  FATIMA  2001      9  0.000656\n",
       "14044  FATIMA  2002      6  0.000449\n",
       "14045  FATIMA  2003      5  0.000369\n",
       "14046  FATIMA  2004      5  0.000374\n",
       "14047  FATIMA  2006      6  0.000435\n",
       "14048  FATIMA  2007      5  0.000351\n",
       "14049  FATIMA  2008      5  0.000344\n",
       "14050  FATIMA  2009     11  0.000743\n",
       "14051  FATIMA  2010      9  0.000630\n",
       "14052  FATIMA  2011      7  0.000485\n",
       "14053  FATIMA  2013      8  0.000553\n",
       "14054  FATIMA  2014     12  0.000816"
      ]
     },
     "execution_count": 62,
     "metadata": {},
     "output_type": "execute_result"
    }
   ],
   "source": [
    "name_filter = girls['Name'] == 'FATIMA'\n",
    "girls[name_filter]"
   ]
  },
  {
   "cell_type": "markdown",
   "metadata": {
    "slideshow": {
     "slide_type": "fragment"
    }
   },
   "source": [
    "Or we can set the `'Name'` column as the index..."
   ]
  },
  {
   "cell_type": "code",
   "execution_count": 63,
   "metadata": {
    "slideshow": {
     "slide_type": "-"
    }
   },
   "outputs": [
    {
     "data": {
      "text/html": [
       "<div>\n",
       "<style scoped>\n",
       "    .dataframe tbody tr th:only-of-type {\n",
       "        vertical-align: middle;\n",
       "    }\n",
       "\n",
       "    .dataframe tbody tr th {\n",
       "        vertical-align: top;\n",
       "    }\n",
       "\n",
       "    .dataframe thead th {\n",
       "        text-align: right;\n",
       "    }\n",
       "</style>\n",
       "<table border=\"1\" class=\"dataframe\">\n",
       "  <thead>\n",
       "    <tr style=\"text-align: right;\">\n",
       "      <th></th>\n",
       "      <th>Year</th>\n",
       "      <th>Count</th>\n",
       "      <th>Fraction</th>\n",
       "    </tr>\n",
       "    <tr>\n",
       "      <th>Name</th>\n",
       "      <th></th>\n",
       "      <th></th>\n",
       "      <th></th>\n",
       "    </tr>\n",
       "  </thead>\n",
       "  <tbody>\n",
       "    <tr>\n",
       "      <th>AALIYAH</th>\n",
       "      <td>2000</td>\n",
       "      <td>6</td>\n",
       "      <td>0.000433</td>\n",
       "    </tr>\n",
       "    <tr>\n",
       "      <th>AALIYAH</th>\n",
       "      <td>2001</td>\n",
       "      <td>13</td>\n",
       "      <td>0.000948</td>\n",
       "    </tr>\n",
       "    <tr>\n",
       "      <th>AALIYAH</th>\n",
       "      <td>2002</td>\n",
       "      <td>17</td>\n",
       "      <td>0.001271</td>\n",
       "    </tr>\n",
       "    <tr>\n",
       "      <th>AALIYAH</th>\n",
       "      <td>2003</td>\n",
       "      <td>23</td>\n",
       "      <td>0.001700</td>\n",
       "    </tr>\n",
       "    <tr>\n",
       "      <th>AALIYAH</th>\n",
       "      <td>2004</td>\n",
       "      <td>22</td>\n",
       "      <td>0.001644</td>\n",
       "    </tr>\n",
       "  </tbody>\n",
       "</table>\n",
       "</div>"
      ],
      "text/plain": [
       "         Year  Count  Fraction\n",
       "Name                          \n",
       "AALIYAH  2000      6  0.000433\n",
       "AALIYAH  2001     13  0.000948\n",
       "AALIYAH  2002     17  0.001271\n",
       "AALIYAH  2003     23  0.001700\n",
       "AALIYAH  2004     22  0.001644"
      ]
     },
     "execution_count": 63,
     "metadata": {},
     "output_type": "execute_result"
    }
   ],
   "source": [
    "girls_by_name = girls.set_index('Name')\n",
    "girls_by_name.head()"
   ]
  },
  {
   "cell_type": "markdown",
   "metadata": {
    "slideshow": {
     "slide_type": "fragment"
    }
   },
   "source": [
    "... and use label-based indexing to select all the rows for a specific name:"
   ]
  },
  {
   "cell_type": "code",
   "execution_count": 64,
   "metadata": {
    "scrolled": true,
    "slideshow": {
     "slide_type": "-"
    }
   },
   "outputs": [
    {
     "data": {
      "text/html": [
       "<div>\n",
       "<style scoped>\n",
       "    .dataframe tbody tr th:only-of-type {\n",
       "        vertical-align: middle;\n",
       "    }\n",
       "\n",
       "    .dataframe tbody tr th {\n",
       "        vertical-align: top;\n",
       "    }\n",
       "\n",
       "    .dataframe thead th {\n",
       "        text-align: right;\n",
       "    }\n",
       "</style>\n",
       "<table border=\"1\" class=\"dataframe\">\n",
       "  <thead>\n",
       "    <tr style=\"text-align: right;\">\n",
       "      <th></th>\n",
       "      <th>Year</th>\n",
       "      <th>Count</th>\n",
       "      <th>Fraction</th>\n",
       "    </tr>\n",
       "    <tr>\n",
       "      <th>Name</th>\n",
       "      <th></th>\n",
       "      <th></th>\n",
       "      <th></th>\n",
       "    </tr>\n",
       "  </thead>\n",
       "  <tbody>\n",
       "    <tr>\n",
       "      <th>FATIMA</th>\n",
       "      <td>1993</td>\n",
       "      <td>6</td>\n",
       "      <td>0.000356</td>\n",
       "    </tr>\n",
       "    <tr>\n",
       "      <th>FATIMA</th>\n",
       "      <td>1995</td>\n",
       "      <td>5</td>\n",
       "      <td>0.000302</td>\n",
       "    </tr>\n",
       "    <tr>\n",
       "      <th>FATIMA</th>\n",
       "      <td>1997</td>\n",
       "      <td>8</td>\n",
       "      <td>0.000510</td>\n",
       "    </tr>\n",
       "    <tr>\n",
       "      <th>FATIMA</th>\n",
       "      <td>2000</td>\n",
       "      <td>10</td>\n",
       "      <td>0.000722</td>\n",
       "    </tr>\n",
       "    <tr>\n",
       "      <th>FATIMA</th>\n",
       "      <td>2001</td>\n",
       "      <td>9</td>\n",
       "      <td>0.000656</td>\n",
       "    </tr>\n",
       "    <tr>\n",
       "      <th>FATIMA</th>\n",
       "      <td>2002</td>\n",
       "      <td>6</td>\n",
       "      <td>0.000449</td>\n",
       "    </tr>\n",
       "    <tr>\n",
       "      <th>FATIMA</th>\n",
       "      <td>2003</td>\n",
       "      <td>5</td>\n",
       "      <td>0.000369</td>\n",
       "    </tr>\n",
       "    <tr>\n",
       "      <th>FATIMA</th>\n",
       "      <td>2004</td>\n",
       "      <td>5</td>\n",
       "      <td>0.000374</td>\n",
       "    </tr>\n",
       "    <tr>\n",
       "      <th>FATIMA</th>\n",
       "      <td>2006</td>\n",
       "      <td>6</td>\n",
       "      <td>0.000435</td>\n",
       "    </tr>\n",
       "    <tr>\n",
       "      <th>FATIMA</th>\n",
       "      <td>2007</td>\n",
       "      <td>5</td>\n",
       "      <td>0.000351</td>\n",
       "    </tr>\n",
       "    <tr>\n",
       "      <th>FATIMA</th>\n",
       "      <td>2008</td>\n",
       "      <td>5</td>\n",
       "      <td>0.000344</td>\n",
       "    </tr>\n",
       "    <tr>\n",
       "      <th>FATIMA</th>\n",
       "      <td>2009</td>\n",
       "      <td>11</td>\n",
       "      <td>0.000743</td>\n",
       "    </tr>\n",
       "    <tr>\n",
       "      <th>FATIMA</th>\n",
       "      <td>2010</td>\n",
       "      <td>9</td>\n",
       "      <td>0.000630</td>\n",
       "    </tr>\n",
       "    <tr>\n",
       "      <th>FATIMA</th>\n",
       "      <td>2011</td>\n",
       "      <td>7</td>\n",
       "      <td>0.000485</td>\n",
       "    </tr>\n",
       "    <tr>\n",
       "      <th>FATIMA</th>\n",
       "      <td>2013</td>\n",
       "      <td>8</td>\n",
       "      <td>0.000553</td>\n",
       "    </tr>\n",
       "    <tr>\n",
       "      <th>FATIMA</th>\n",
       "      <td>2014</td>\n",
       "      <td>12</td>\n",
       "      <td>0.000816</td>\n",
       "    </tr>\n",
       "  </tbody>\n",
       "</table>\n",
       "</div>"
      ],
      "text/plain": [
       "        Year  Count  Fraction\n",
       "Name                         \n",
       "FATIMA  1993      6  0.000356\n",
       "FATIMA  1995      5  0.000302\n",
       "FATIMA  1997      8  0.000510\n",
       "FATIMA  2000     10  0.000722\n",
       "FATIMA  2001      9  0.000656\n",
       "FATIMA  2002      6  0.000449\n",
       "FATIMA  2003      5  0.000369\n",
       "FATIMA  2004      5  0.000374\n",
       "FATIMA  2006      6  0.000435\n",
       "FATIMA  2007      5  0.000351\n",
       "FATIMA  2008      5  0.000344\n",
       "FATIMA  2009     11  0.000743\n",
       "FATIMA  2010      9  0.000630\n",
       "FATIMA  2011      7  0.000485\n",
       "FATIMA  2013      8  0.000553\n",
       "FATIMA  2014     12  0.000816"
      ]
     },
     "execution_count": 64,
     "metadata": {},
     "output_type": "execute_result"
    }
   ],
   "source": [
    "girls_by_name.loc['FATIMA', :]"
   ]
  },
  {
   "cell_type": "markdown",
   "metadata": {
    "slideshow": {
     "slide_type": "fragment"
    }
   },
   "source": [
    "... or several names:"
   ]
  },
  {
   "cell_type": "code",
   "execution_count": 65,
   "metadata": {
    "slideshow": {
     "slide_type": "-"
    }
   },
   "outputs": [
    {
     "data": {
      "text/html": [
       "<div>\n",
       "<style scoped>\n",
       "    .dataframe tbody tr th:only-of-type {\n",
       "        vertical-align: middle;\n",
       "    }\n",
       "\n",
       "    .dataframe tbody tr th {\n",
       "        vertical-align: top;\n",
       "    }\n",
       "\n",
       "    .dataframe thead th {\n",
       "        text-align: right;\n",
       "    }\n",
       "</style>\n",
       "<table border=\"1\" class=\"dataframe\">\n",
       "  <thead>\n",
       "    <tr style=\"text-align: right;\">\n",
       "      <th></th>\n",
       "      <th>Year</th>\n",
       "      <th>Count</th>\n",
       "      <th>Fraction</th>\n",
       "    </tr>\n",
       "    <tr>\n",
       "      <th>Name</th>\n",
       "      <th></th>\n",
       "      <th></th>\n",
       "      <th></th>\n",
       "    </tr>\n",
       "  </thead>\n",
       "  <tbody>\n",
       "    <tr>\n",
       "      <th>PRIYANKA</th>\n",
       "      <td>1991</td>\n",
       "      <td>5</td>\n",
       "      <td>0.000294</td>\n",
       "    </tr>\n",
       "    <tr>\n",
       "      <th>PRIYANKA</th>\n",
       "      <td>1996</td>\n",
       "      <td>5</td>\n",
       "      <td>0.000308</td>\n",
       "    </tr>\n",
       "    <tr>\n",
       "      <th>PRIYANKA</th>\n",
       "      <td>1998</td>\n",
       "      <td>5</td>\n",
       "      <td>0.000332</td>\n",
       "    </tr>\n",
       "    <tr>\n",
       "      <th>PRIYANKA</th>\n",
       "      <td>2005</td>\n",
       "      <td>6</td>\n",
       "      <td>0.000439</td>\n",
       "    </tr>\n",
       "    <tr>\n",
       "      <th>HARJIT</th>\n",
       "      <td>1974</td>\n",
       "      <td>5</td>\n",
       "      <td>0.000369</td>\n",
       "    </tr>\n",
       "    <tr>\n",
       "      <th>HARJIT</th>\n",
       "      <td>1975</td>\n",
       "      <td>7</td>\n",
       "      <td>0.000502</td>\n",
       "    </tr>\n",
       "    <tr>\n",
       "      <th>HARJIT</th>\n",
       "      <td>1976</td>\n",
       "      <td>7</td>\n",
       "      <td>0.000519</td>\n",
       "    </tr>\n",
       "    <tr>\n",
       "      <th>HARJIT</th>\n",
       "      <td>1977</td>\n",
       "      <td>6</td>\n",
       "      <td>0.000436</td>\n",
       "    </tr>\n",
       "    <tr>\n",
       "      <th>HARJIT</th>\n",
       "      <td>1978</td>\n",
       "      <td>5</td>\n",
       "      <td>0.000353</td>\n",
       "    </tr>\n",
       "    <tr>\n",
       "      <th>HARJIT</th>\n",
       "      <td>1979</td>\n",
       "      <td>5</td>\n",
       "      <td>0.000337</td>\n",
       "    </tr>\n",
       "    <tr>\n",
       "      <th>HARJIT</th>\n",
       "      <td>1980</td>\n",
       "      <td>8</td>\n",
       "      <td>0.000514</td>\n",
       "    </tr>\n",
       "    <tr>\n",
       "      <th>KEIKO</th>\n",
       "      <td>1929</td>\n",
       "      <td>5</td>\n",
       "      <td>0.001193</td>\n",
       "    </tr>\n",
       "    <tr>\n",
       "      <th>KEIKO</th>\n",
       "      <td>1932</td>\n",
       "      <td>5</td>\n",
       "      <td>0.001276</td>\n",
       "    </tr>\n",
       "    <tr>\n",
       "      <th>KEIKO</th>\n",
       "      <td>1934</td>\n",
       "      <td>7</td>\n",
       "      <td>0.001896</td>\n",
       "    </tr>\n",
       "    <tr>\n",
       "      <th>KEIKO</th>\n",
       "      <td>1935</td>\n",
       "      <td>5</td>\n",
       "      <td>0.001294</td>\n",
       "    </tr>\n",
       "    <tr>\n",
       "      <th>KEIKO</th>\n",
       "      <td>1936</td>\n",
       "      <td>8</td>\n",
       "      <td>0.001979</td>\n",
       "    </tr>\n",
       "    <tr>\n",
       "      <th>KEIKO</th>\n",
       "      <td>1938</td>\n",
       "      <td>6</td>\n",
       "      <td>0.001269</td>\n",
       "    </tr>\n",
       "    <tr>\n",
       "      <th>KEIKO</th>\n",
       "      <td>1939</td>\n",
       "      <td>5</td>\n",
       "      <td>0.001051</td>\n",
       "    </tr>\n",
       "    <tr>\n",
       "      <th>KEIKO</th>\n",
       "      <td>1940</td>\n",
       "      <td>5</td>\n",
       "      <td>0.000901</td>\n",
       "    </tr>\n",
       "    <tr>\n",
       "      <th>NATALYA</th>\n",
       "      <td>2002</td>\n",
       "      <td>6</td>\n",
       "      <td>0.000449</td>\n",
       "    </tr>\n",
       "    <tr>\n",
       "      <th>NATALYA</th>\n",
       "      <td>2007</td>\n",
       "      <td>5</td>\n",
       "      <td>0.000351</td>\n",
       "    </tr>\n",
       "    <tr>\n",
       "      <th>NATALYA</th>\n",
       "      <td>2008</td>\n",
       "      <td>6</td>\n",
       "      <td>0.000413</td>\n",
       "    </tr>\n",
       "    <tr>\n",
       "      <th>NATALYA</th>\n",
       "      <td>2009</td>\n",
       "      <td>6</td>\n",
       "      <td>0.000405</td>\n",
       "    </tr>\n",
       "    <tr>\n",
       "      <th>NATALYA</th>\n",
       "      <td>2012</td>\n",
       "      <td>5</td>\n",
       "      <td>0.000348</td>\n",
       "    </tr>\n",
       "  </tbody>\n",
       "</table>\n",
       "</div>"
      ],
      "text/plain": [
       "          Year  Count  Fraction\n",
       "Name                           \n",
       "PRIYANKA  1991      5  0.000294\n",
       "PRIYANKA  1996      5  0.000308\n",
       "PRIYANKA  1998      5  0.000332\n",
       "PRIYANKA  2005      6  0.000439\n",
       "HARJIT    1974      5  0.000369\n",
       "HARJIT    1975      7  0.000502\n",
       "HARJIT    1976      7  0.000519\n",
       "HARJIT    1977      6  0.000436\n",
       "HARJIT    1978      5  0.000353\n",
       "HARJIT    1979      5  0.000337\n",
       "HARJIT    1980      8  0.000514\n",
       "KEIKO     1929      5  0.001193\n",
       "KEIKO     1932      5  0.001276\n",
       "KEIKO     1934      7  0.001896\n",
       "KEIKO     1935      5  0.001294\n",
       "KEIKO     1936      8  0.001979\n",
       "KEIKO     1938      6  0.001269\n",
       "KEIKO     1939      5  0.001051\n",
       "KEIKO     1940      5  0.000901\n",
       "NATALYA   2002      6  0.000449\n",
       "NATALYA   2007      5  0.000351\n",
       "NATALYA   2008      6  0.000413\n",
       "NATALYA   2009      6  0.000405\n",
       "NATALYA   2012      5  0.000348"
      ]
     },
     "execution_count": 65,
     "metadata": {},
     "output_type": "execute_result"
    }
   ],
   "source": [
    "girls_by_name.loc[['PRIYANKA', 'HARJIT', 'KEIKO', 'NATALYA'], :]"
   ]
  },
  {
   "cell_type": "markdown",
   "metadata": {
    "slideshow": {
     "slide_type": "skip"
    }
   },
   "source": [
    "---\n",
    "\n",
    "### Interlude: Other Details and Caveats\n",
    "\n",
    "Slicing with labels can get tricky when labels aren't unique.\n",
    "\n",
    "Sometimes it works, if labels are sorted in a way that the slice is well-defined:"
   ]
  },
  {
   "cell_type": "code",
   "execution_count": null,
   "metadata": {
    "slideshow": {
     "slide_type": "skip"
    }
   },
   "outputs": [],
   "source": [
    "girls_by_name.loc['HARJIT':'HARKIRAN']"
   ]
  },
  {
   "cell_type": "markdown",
   "metadata": {
    "slideshow": {
     "slide_type": "skip"
    }
   },
   "source": [
    "But other times, the slice is not defined an raises and error, for example if we shuffle the order of names in `girls_by_name` by sorting the DataFrame by year:"
   ]
  },
  {
   "cell_type": "code",
   "execution_count": null,
   "metadata": {
    "slideshow": {
     "slide_type": "skip"
    }
   },
   "outputs": [],
   "source": [
    "girls_shuffled = girls_by_name.sort_values('Year')\n",
    "girls_shuffled.head()"
   ]
  },
  {
   "cell_type": "markdown",
   "metadata": {
    "slideshow": {
     "slide_type": "skip"
    }
   },
   "source": [
    "Now the same slice raises an error:"
   ]
  },
  {
   "cell_type": "code",
   "execution_count": null,
   "metadata": {
    "slideshow": {
     "slide_type": "skip"
    }
   },
   "outputs": [],
   "source": [
    "%%capture\n",
    "\n",
    "girls_shuffled.loc['HARJIT':'HARKIRAN']"
   ]
  },
  {
   "cell_type": "markdown",
   "metadata": {
    "slideshow": {
     "slide_type": "skip"
    }
   },
   "source": [
    "#### Other Selection Methods\n",
    "\n",
    "We've covered most, but not all of the available methods for selecting data in `pandas`. The approaches we've covered here are (in my opinion) most important ones. Other, more obscure options, tend to be very ambiguous and confusing, and `pandas` has gradually been phasing out many of them (such as the `ix` indexing operator, now deprecated).\n",
    "\n",
    "For example, you can use square brackets without `iloc` to select a slice of DataFrame rows by position:"
   ]
  },
  {
   "cell_type": "markdown",
   "metadata": {
    "slideshow": {
     "slide_type": "skip"
    }
   },
   "source": [
    "However, this same approach does **not** work to select a single row by position:"
   ]
  },
  {
   "cell_type": "code",
   "execution_count": null,
   "metadata": {
    "slideshow": {
     "slide_type": "skip"
    }
   },
   "outputs": [],
   "source": [
    "%%capture\n",
    "\n",
    "weather_mean[10]"
   ]
  },
  {
   "cell_type": "markdown",
   "metadata": {
    "slideshow": {
     "slide_type": "skip"
    }
   },
   "source": [
    "---"
   ]
  },
  {
   "cell_type": "markdown",
   "metadata": {
    "slideshow": {
     "slide_type": "slide"
    }
   },
   "source": [
    "# Lesson 3 Recap\n",
    "\n",
    "### Anatomy of a DataFrame\n",
    "\n",
    "![dataframe3](img/dataframe3.png)\n",
    "\n",
    "- Each cell in a DataFrame is associated with:\n",
    "  - A row position and column position (integers, starting from 0), and\n",
    "  - A row label and column label\n",
    "- Row and column labels are part of the DataFrame's metadata, stored in attributes:\n",
    "  - `df.index` contains the labels for the DataFrame's rows\n",
    "  - `df.columns` contains the labels for the DataFrame's columns\n",
    "- `df.values` contains the underlying data array\n",
    "\n",
    "### Selection Methods\n",
    "\n",
    "There are three main ways of selecting subsets of a DataFrame (or Series):\n",
    "<ol>\n",
    "    <li>Using only square brackets `[]`</li>\n",
    "    <li>Positional indexing with `.iloc[]`</li>\n",
    "    <li>Label-based indexing with `.loc[]`</li>\n",
    "</ol>\n",
    "\n",
    "\n",
    "#### 1. Using only square brackets\n",
    "|||\n",
    "---|----\n",
    "Use a Boolean Series to select rows matching some criteria | `df[bool_series]`\n",
    "Use a list of column names to select several columns in a specified order | `df[['E', 'A', 'C']]`\n",
    "Select a single column (as a Series) | `series_A = df['A']`\n",
    "Select a single column (as a DataFrame) | `df_A = df[['A']]`\n",
    "\n",
    "\n",
    "#### 2. Positional indexing with `iloc`\n",
    "\n",
    "With `iloc`, we specify the row selection first, followed by column selection, separated by a comma. For example, selecting a single cell at row 10, column 3:\n",
    "```\n",
    "df.iloc[10, 3]\n",
    "```\n",
    "\n",
    "With `iloc` can select:\n",
    "- A single cell\n",
    "- A single row or column\n",
    "- Slices of rows and/or columns\n",
    "  - As with Python lists, `iloc` slices are inclusive of the start bound and exclusive of the stop bound\n",
    "- Multiple rows and/or columns in arbitrary order, using a list of positions\n",
    "\n",
    "Example&mdash;every second row from 100 up to and including 200, and columns 5, 2, 4 in that order:\n",
    "```\n",
    "df.iloc[100:201:2, [5, 2, 4]]\n",
    "```\n",
    "\n",
    "\n",
    "#### 3. Label-based indexing with `loc`\n",
    "\n",
    "As with `iloc`, we specify the row selection first, followed by column selection, separated by a comma, but using the row and column labels instead of their positions. For example, selecting a single cell at a row labelled `'HALIFAX'` and a column labelled `'Temp (deg C)'`:\n",
    "```\n",
    "weather.loc['HALIFAX', 'Temp (deg C)']\n",
    "```\n",
    "\n",
    "Similar to `iloc`, with `loc` we can select:\n",
    "- A single cell\n",
    "- A single row or column\n",
    "- Slices of rows and/or columns\n",
    "  - However, unlike `iloc` and Python list slicing, `loc` slices are inclusive of the start bound but also **inclusive** of the stop bound \n",
    "- Multiple rows and/or columns in arbitrary order, using a list of labels\n",
    "\n",
    "We can also select rows and/or columns with a Boolean Series, and mix and match these with the other selection options listed above.\n",
    "\n",
    "Example&mdash;select rows where temperature > 25 and a slice of columns from `'Rel Hum (%)'` up to and including `'Pressure (kPa)'`:\n",
    "```\n",
    "warm = weather['Temp (deg C)'] > 25\n",
    "df = weather.loc[warm, 'Rel Hum (%)':'Pressure (kPa)']\n",
    "```"
   ]
  },
  {
   "cell_type": "markdown",
   "metadata": {
    "slideshow": {
     "slide_type": "slide"
    }
   },
   "source": [
    "# Where to go from here?\n",
    "\n",
    "### Online resources and courses\n",
    "\n",
    "- Data Carpentry: http://www.datacarpentry.org/python-ecology-lesson/\n",
    "- Dataquest: https://www.dataquest.io/\n",
    "  - Excellent blog with great tutorials and articles: https://www.dataquest.io/blog/\n",
    "- Data Camp: https://www.datacamp.com/courses/intro-to-python-for-data-science\n",
    "- Kaggle: https://www.kaggle.com/learn/overview\n",
    "  - Many more example Jupyter notebooks and tutorials: https://www.kaggle.com/kernels\n",
    "  - Tons of datasets to play with: https://www.kaggle.com/datasets\n",
    "\n",
    "### The `pandas` book\n",
    "\n",
    "Python for Data Analysis, by Wes McKinney. All data and code from the book is at https://github.com/wesm/pydata-book\n",
    "\n",
    "### Data visualization resources\n",
    "\n",
    "- The Python Visualization Landscape: https://www.youtube.com/watch?v=FytuB8nFHPQ\n",
    "- Data to Viz: https://www.data-to-viz.com/\n",
    "- pandas: https://pandas.pydata.org/pandas-docs/stable/visualization.html\n",
    "- matplotlib: https://matplotlib.org/gallery/index.html\n",
    "- seaborn: https://seaborn.pydata.org/examples/index.html\n",
    "- Interactive plots:\n",
    "  - plotly:  https://plot.ly/python/\n",
    "  - bokeh:  https://bokeh.pydata.org/en/latest/docs/gallery.html\n",
    "- Maps:\n",
    "  - plotly: https://plot.ly/python/#maps\n",
    "  - cartopy:  https://scitools.org.uk/cartopy/docs/v0.15/gallery.html\n",
    "  - folium:  http://folium.readthedocs.io/en/latest/\n",
    "\n",
    "### Other inspiration and ideas\n",
    "\n",
    "- PyData 101 – Jake VanderPlas: https://www.youtube.com/watch?v=DifMYH3iuFw\n",
    "- Reproducible Data Analysis in Jupyter – Jake VanderPlas: http://jakevdp.github.io/blog/2017/03/03/reproducible-data-analysis-in-jupyter/\n",
    "- Project Jupyter: From Interactive Python to Open Science - Fernando Perez: https://www.youtube.com/watch?v=xuNj5paMuow\n",
    "- The Next Generation of Data Products – Hilary Mason: https://www.youtube.com/watch?v=OuRINNSDtlM"
   ]
  },
  {
   "cell_type": "markdown",
   "metadata": {
    "slideshow": {
     "slide_type": "slide"
    }
   },
   "source": [
    "# Thank You!"
   ]
  }
 ],
 "metadata": {
  "celltoolbar": "Slideshow",
  "kernelspec": {
   "display_name": "Python [default]",
   "language": "python",
   "name": "python3"
  },
  "language_info": {
   "codemirror_mode": {
    "name": "ipython",
    "version": 3
   },
   "file_extension": ".py",
   "mimetype": "text/x-python",
   "name": "python",
   "nbconvert_exporter": "python",
   "pygments_lexer": "ipython3",
   "version": "3.6.4"
  },
  "livereveal": {
   "scroll": true,
   "theme": "solarized",
   "transition": "none"
  }
 },
 "nbformat": 4,
 "nbformat_minor": 2
}
