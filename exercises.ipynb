{
 "cells": [
  {
   "cell_type": "markdown",
   "metadata": {
    "slideshow": {
     "slide_type": "slide"
    }
   },
   "source": [
    "# Exercise 1.1 \n",
    "\n",
    "Let's explore `'data/weather_airports_24hr_snapshot.csv'`, which contains a 24 hour snapshot of weather measurements at major airport stations around Canada.\n",
    "\n",
    "a) Read the CSV file into a new DataFrame `weather_all` and display the first 10 rows.\n",
    "\n",
    "b) How many rows and columns does `weather_all` have?\n",
    "\n",
    "c) Display the names and data types of each column."
   ]
  },
  {
   "cell_type": "markdown",
   "metadata": {
    "slideshow": {
     "slide_type": "slide"
    }
   },
   "source": [
    "# Exercise 1.2\n",
    "\n",
    "If you haven't already, read the file `'data/weather_airports_24hr_snapshot.csv'` into a new DataFrame `weather_all`.\n",
    "\n",
    "a) What are the warmest and coldest temperatures in this data?\n",
    "\n",
    "b) How many unique station names are in this data? Display a list of the unique names.\n",
    "\n",
    "c) What are the top 3 most common weather categories in the `'Conditions'` column? How many unique categories are there?\n",
    "\n",
    "d) Add a column with the wind speed in miles per hour (multiply the wind speed in km/hr by 0.62137) and plot a histogram of this column."
   ]
  },
  {
   "cell_type": "markdown",
   "metadata": {
    "slideshow": {
     "slide_type": "-"
    }
   },
   "source": [
    "##### Bonus exercises\n",
    "\n",
    "Create a variable `conditions` corresponding to the `'Conditions'` column of `weather_all`. We'll use this variable in each of the following exercises.\n",
    "\n",
    "e) What type of object is returned by `conditions.value_counts()`? Can you think of a method that could be applied to this output so that it displays only the counts for the top `n` values in the Series? How about the bottom `n` values?\n",
    "- Display only the counts for the 5 most common weather categories in `conditions`\n",
    "- Display only the counts for the 5 least common weather categories in `conditions`"
   ]
  },
  {
   "cell_type": "markdown",
   "metadata": {
    "slideshow": {
     "slide_type": "-"
    }
   },
   "source": [
    "f) Use `conditions.value_counts?` to check out the documentation for the `value_counts` method. Experiment with the `normalize`, `sort` and `dropna` keyword arguments. How does the output change when you change these arguments?"
   ]
  },
  {
   "cell_type": "markdown",
   "metadata": {},
   "source": [
    "g) Create a bar chart showing the relative frequency of each category in `conditions` (i.e. each category as a fraction of the total)."
   ]
  },
  {
   "cell_type": "markdown",
   "metadata": {
    "slideshow": {
     "slide_type": "-"
    }
   },
   "source": [
    "h) Check out the documentation `conditions.str?` and `conditions.str.upper?`. \n",
    "- Create a new Series with the weather categories converted to upper case.\n",
    "- Create a new Series with any instance of the string `'Snow'` in a weather category replaced with the string `'SNOW!!!'`.\n",
    "- For both of these new Series, use `value_counts` or `unique` methods to verify that the output is what you were expecting."
   ]
  }
 ],
 "metadata": {
  "kernelspec": {
   "display_name": "Python [default]",
   "language": "python",
   "name": "python3"
  },
  "language_info": {
   "codemirror_mode": {
    "name": "ipython",
    "version": 3
   },
   "file_extension": ".py",
   "mimetype": "text/x-python",
   "name": "python",
   "nbconvert_exporter": "python",
   "pygments_lexer": "ipython3",
   "version": "3.6.4"
  }
 },
 "nbformat": 4,
 "nbformat_minor": 2
}
