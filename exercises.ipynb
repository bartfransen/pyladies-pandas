{
 "cells": [
  {
   "cell_type": "markdown",
   "metadata": {
    "slideshow": {
     "slide_type": "slide"
    }
   },
   "source": [
    "# Exercise 1.1 \n",
    "\n",
    "Let's explore `'data/weather_airports_24hr_snapshot.csv'`, which contains a 24 hour snapshot of Environment Canada weather measurements at major airport stations around Canada.\n",
    "\n",
    "a) Read the CSV file into a new DataFrame `weather_all` and display the first 10 rows.\n",
    "\n",
    "b) How many rows and columns does `weather_all` have?\n",
    "\n",
    "c) Display the names and data types of each column."
   ]
  },
  {
   "cell_type": "markdown",
   "metadata": {
    "slideshow": {
     "slide_type": "slide"
    }
   },
   "source": [
    "# Exercise 1.2\n",
    "\n",
    "If you haven't already, read the file `'data/weather_airports_24hr_snapshot.csv'` into a new DataFrame `weather_all`.\n",
    "\n",
    "a) What are the warmest and coldest temperatures in this data?\n",
    "\n",
    "b) How many unique station names are in this data? Display a list of the unique names.\n",
    "\n",
    "c) What is the most common weather category in the `'Conditions'` column? How many unique categories are there?\n",
    "\n",
    "d) Add a column with the wind speed in miles per hour (multiply the wind speed in km/h by 0.62137). Save the data from columns `'Station Name'`, `'Datetime (Local Standard)'`, `'Wind Spd (km/h)'`, and your new column of wind speed in miles per hour, to a CSV file."
   ]
  },
  {
   "cell_type": "markdown",
   "metadata": {
    "slideshow": {
     "slide_type": "-"
    }
   },
   "source": [
    "##### Bonus exercises\n",
    "\n",
    "Create a variable `conditions` corresponding to the `'Conditions'` column of `weather_all`. We'll use this variable in each of the following exercises.\n",
    "\n",
    "e) What type of object is returned by `conditions.value_counts()`? Can you think of a method that could be applied to this output so that it returns only the counts for the top `n` values? How about the bottom `n` values?\n",
    "- Display only the counts for the 5 most common weather categories in `conditions`\n",
    "- Display only the counts for the 5 least common weather categories in `conditions`"
   ]
  },
  {
   "cell_type": "markdown",
   "metadata": {
    "slideshow": {
     "slide_type": "-"
    }
   },
   "source": [
    "f) Use `conditions.value_counts?` to check out the documentation for the `value_counts` method. Experiment with the `normalize`, `sort` and `dropna` keyword arguments. How does the output change when you change these arguments?"
   ]
  },
  {
   "cell_type": "markdown",
   "metadata": {
    "slideshow": {
     "slide_type": "-"
    }
   },
   "source": [
    "g) `pandas` Series have a few *accessors*, which are attributes that [act like an interface to additional methods](https://realpython.com/python-pandas-tricks/#3-take-advantage-of-accessor-methods). With a Series of text data, like `conditions`, the `str` accessor allows you to apply string methods such as `upper`, `lower`, `strip`, `replace`, etc. to all the items in the Series.\n",
    "\n",
    "- Check out some of the documentation with `conditions.str?` and `conditions.str.upper?`. \n",
    "- Create a new Series with the weather categories converted to upper case.\n",
    "- Create a new Series with any instance of the string `'Snow'` in a weather category replaced with the string `'SNOW!!!'`.\n",
    "- For both of these new Series, use `value_counts` or `unique` methods to verify that the output is what you were expecting."
   ]
  },
  {
   "cell_type": "markdown",
   "metadata": {
    "slideshow": {
     "slide_type": "slide"
    }
   },
   "source": [
    "---\n",
    "\n",
    "# Exercise 2.1\n",
    "\n",
    "a) Create a new DataFrame which contains only the rows of `weather_all` where the station name is `'SASKATOON'`\n",
    "\n",
    "b) Display the Saskatoon data sorted on the `'Wind Spd (km/h)'` column in descending order. What is the fastest wind speed and what are the corresponding datetime and temperature?\n",
    "\n",
    "c) Compute the mean values for the Saskatoon data."
   ]
  },
  {
   "cell_type": "markdown",
   "metadata": {
    "slideshow": {
     "slide_type": "slide"
    }
   },
   "source": [
    "# Exercise 2.2\n",
    "\n",
    "For this exercise, we'll be working with `'data/bc-popular-girls-names.csv'`:\n",
    "- 100 years of baby girl names in British Columbia (1915-2014)\n",
    "- The data includes every first name that was chosen five or more times in a given year\n",
    "- Each row corresponds to one name and one year\n",
    "  - `'Count'` column: total count for that name in that year\n",
    "  - `'Fraction'` column: this name's share of the total of all baby girls for that year\n",
    "  \n",
    "a) Read the data file into a DataFrame and display summary statistics with the `describe` method.\n",
    "\n",
    "- (i) What are the range of values (minimum and maximum) for the `'Year'`, `'Count'`, and `'Fraction'` columns? \n",
    "- (ii) The maximum value of `'Count'` represents the highest count of baby girls with the same name in a single year &mdash; what were this name and year?\n",
    "- (iii) The maximum value of `'Fraction'` represents the highest _fraction_ (out of the total births for that year) of baby girls with the same name; what were this name and year? How do the count and fraction for this name and year compare with the values for the name/year from part (ii)?\n",
    "\n",
    "b) Aggregate the data by grouping on the `'Year'` column and taking the `sum`. The `'Count'` column of the resulting DataFrame represents the total number of baby girls per year in this data&mdash;create a line plot of this column.\n",
    "\n",
    "c) Compute the grand total for each name over the whole 100 years by grouping on `'Name'` and taking the `sum`. Extract the `'Count'` column from this DataFrame (it's the only column that is meaningful in this aggregation) and use this Series to find the top 10 most common girls names and plot their grand totals in a bar chart.\n",
    "\n",
    "\n",
    "d) Create a filter to extract the data rows for the name `'MARY'`. To explore the popularity of this name over time, create a line plot of this name's share of the total in each year by plotting the `'Fraction'` column vs. the `'Year'` column, with the name `'MARY'` as title.\n",
    "- Repeat the above steps for `'JENNIFER'` and any other name(s) of interest (if they're in the data)\n",
    "- How do the trends over time for the name Mary compare with the name Jennifer?\n",
    "\n",
    "_Hint: Check out the documentation for the `plot` method of a DataFrame. You'll see a `title` keyword argument, as well as a couple of extra keyword arguments (`x` and `y`) that aren't in `plot` method for a Series._"
   ]
  },
  {
   "cell_type": "markdown",
   "metadata": {
    "slideshow": {
     "slide_type": "slide"
    }
   },
   "source": [
    "##### Bonus Exercises\n",
    "\n",
    "e) Most popular names in recent years: Compute grand totals for each name, as in part (c), but only including the years from 2000 onwards. What are the top 10 most common girls names from 2000-present?\n",
    "\n",
    "f) Trends in name diversity: Compute the number of unique names per year and plot this data as a line chart. How has name diversity evolved over time?\n",
    "\n",
    "_Hint: The data is organized such that for each year, there is exactly one row for each unique name in that year, so grouping on `'Year'` and aggregating with `count` will give the unique count we're looking for._\n",
    "\n",
    "g) Compute 100-year summary statistics grouped by name as in part (c), but with the following modifications:\n",
    "- Use the `agg` function to calculate the following statistics for each name:\n",
    "  - For the `'Year'` column: earliest year, latest year, number of years\n",
    "  - For the `'Count'` column: grand total (sum), lowest yearly count, highest yearly count, mean yearly count\n",
    "- Display a random sampling of 50 rows of the resulting DataFrame with the `sample` method.\n",
    "\n",
    "h) Repeat any or all of parts (a)-(g) to explore the boys names data in `'data/bc-popular-boys-names.csv'`."
   ]
  },
  {
   "cell_type": "markdown",
   "metadata": {
    "slideshow": {
     "slide_type": "slide"
    }
   },
   "source": [
    "---\n",
    "\n",
    "# Exercise 3.1\n",
    "\n",
    "a) Select the cell in row 2, column 6 of `weather_mean` using `iloc`\n",
    "\n",
    "b) Same as a) but using `loc`\n",
    "\n",
    "c) Use `iloc` to select the cell in `weather_mean` containing the value of the relative humidity in Halifax.\n",
    "\n",
    "d) Select the same cell as in c) but using `loc`"
   ]
  },
  {
   "cell_type": "markdown",
   "metadata": {
    "slideshow": {
     "slide_type": "slide"
    }
   },
   "source": [
    "# Exercise 3.2\n",
    "\n",
    "a) Use `iloc` to select rows 15 to end and the first 3 columns of `weather_mean`"
   ]
  },
  {
   "cell_type": "markdown",
   "metadata": {
    "slideshow": {
     "slide_type": "-"
    }
   },
   "source": [
    "b) Use `iloc` to select the every fourth row (starting from 0) and columns 4, 3, and 0 of weather_mean"
   ]
  },
  {
   "cell_type": "markdown",
   "metadata": {
    "slideshow": {
     "slide_type": "slide"
    }
   },
   "source": [
    "# Exercise 3.3\n",
    "\n",
    "a) Use `loc` to select the wind speed and wind direction in Toronto, Montreal, and Ottawa"
   ]
  },
  {
   "cell_type": "markdown",
   "metadata": {},
   "source": [
    "b) Use `loc` to select rows where the relative humidity is less than 50%, and a column slice from `'Temp (deg C)'` through `'Rel Hum (%)'` (inclusive)"
   ]
  }
 ],
 "metadata": {
  "kernelspec": {
   "display_name": "Python [default]",
   "language": "python",
   "name": "python3"
  },
  "language_info": {
   "codemirror_mode": {
    "name": "ipython",
    "version": 3
   },
   "file_extension": ".py",
   "mimetype": "text/x-python",
   "name": "python",
   "nbconvert_exporter": "python",
   "pygments_lexer": "ipython3",
   "version": "3.6.4"
  }
 },
 "nbformat": 4,
 "nbformat_minor": 2
}
